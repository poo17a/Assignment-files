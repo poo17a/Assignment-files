{
 "cells": [
  {
   "cell_type": "code",
   "execution_count": null,
   "id": "3661675a-56ed-4b7a-b779-8b33383a783f",
   "metadata": {},
   "outputs": [],
   "source": [
    "For Loop :-\n"
   ]
  },
  {
   "cell_type": "code",
   "execution_count": null,
   "id": "829e2538-50e2-4f24-9139-3acc30e90603",
   "metadata": {},
   "outputs": [],
   "source": [
    "1. Write a Python program to print numbers from 1 to 10 using a for loop."
   ]
  },
  {
   "cell_type": "code",
   "execution_count": 3,
   "id": "705239de-fb0a-42a9-868f-ca3b42119272",
   "metadata": {},
   "outputs": [
    {
     "name": "stdout",
     "output_type": "stream",
     "text": [
      "1\n",
      "2\n",
      "3\n",
      "4\n",
      "5\n",
      "6\n",
      "7\n",
      "8\n",
      "9\n",
      "10\n"
     ]
    }
   ],
   "source": [
    "for i in range(1, 11):\n",
    "    print(i)"
   ]
  },
  {
   "cell_type": "code",
   "execution_count": 4,
   "id": "bf4e4c64-f50f-4732-a1ec-3271a84e9140",
   "metadata": {},
   "outputs": [
    {
     "ename": "SyntaxError",
     "evalue": "invalid syntax (1710639786.py, line 1)",
     "output_type": "error",
     "traceback": [
      "\u001b[0;36m  Cell \u001b[0;32mIn[4], line 1\u001b[0;36m\u001b[0m\n\u001b[0;31m    2. Explain the difference between a for loop and a while loop in Python.\u001b[0m\n\u001b[0m       ^\u001b[0m\n\u001b[0;31mSyntaxError\u001b[0m\u001b[0;31m:\u001b[0m invalid syntax\n"
     ]
    }
   ],
   "source": [
    "2. Explain the difference between a for loop and a while loop in Python."
   ]
  },
  {
   "cell_type": "code",
   "execution_count": 5,
   "id": "5f6d8664-2940-4010-8388-26efff2cd902",
   "metadata": {},
   "outputs": [
    {
     "name": "stdout",
     "output_type": "stream",
     "text": [
      "0\n",
      "1\n",
      "2\n",
      "3\n",
      "4\n"
     ]
    }
   ],
   "source": [
    "#For Loop\n",
    "\n",
    "for i in range(5):\n",
    "    print(i)"
   ]
  },
  {
   "cell_type": "code",
   "execution_count": 6,
   "id": "04c352b9-2355-456c-a74c-0f0119987570",
   "metadata": {},
   "outputs": [
    {
     "name": "stdout",
     "output_type": "stream",
     "text": [
      "0\n",
      "1\n",
      "2\n",
      "3\n",
      "4\n"
     ]
    }
   ],
   "source": [
    "#While Loop\n",
    "\n",
    "i = 0\n",
    "while i < 5:\n",
    "    print(i)\n",
    "    i += 1"
   ]
  },
  {
   "cell_type": "code",
   "execution_count": 7,
   "id": "24a374c7-48bc-40a6-b3f2-6385ffec8fae",
   "metadata": {},
   "outputs": [
    {
     "ename": "SyntaxError",
     "evalue": "invalid syntax (2086100739.py, line 1)",
     "output_type": "error",
     "traceback": [
      "\u001b[0;36m  Cell \u001b[0;32mIn[7], line 1\u001b[0;36m\u001b[0m\n\u001b[0;31m    3. Write a Python program to calculate the sum of all numbers from 1 to 100 using a for loop.\u001b[0m\n\u001b[0m       ^\u001b[0m\n\u001b[0;31mSyntaxError\u001b[0m\u001b[0;31m:\u001b[0m invalid syntax\n"
     ]
    }
   ],
   "source": [
    "3. Write a Python program to calculate the sum of all numbers from 1 to 100 using a for loop."
   ]
  },
  {
   "cell_type": "code",
   "execution_count": 8,
   "id": "0198555e-6055-4989-ac27-b84e6583548e",
   "metadata": {},
   "outputs": [
    {
     "name": "stdout",
     "output_type": "stream",
     "text": [
      "The total sum of numbers from 1 to 100 is: 5050\n"
     ]
    }
   ],
   "source": [
    "# Initialize a variable to accumulate the sum\n",
    "total_sum = 0\n",
    "\n",
    "# Use a for loop to traverse through the numbers from 1 to 100\n",
    "for i in range(1, 101):\n",
    "    # Add the current number to the accumulated sum\n",
    "    total_sum += i\n",
    "\n",
    "# Display the result\n",
    "print(\"The total sum of numbers from 1 to 100 is:\", total_sum)"
   ]
  },
  {
   "cell_type": "code",
   "execution_count": 9,
   "id": "06407e29-3e7f-4ba6-bcb1-6746b1a30788",
   "metadata": {},
   "outputs": [
    {
     "name": "stdout",
     "output_type": "stream",
     "text": [
      "Object `Python` not found.\n"
     ]
    }
   ],
   "source": [
    "4. How do you iterate through a list using a for loop in Python?\n"
   ]
  },
  {
   "cell_type": "code",
   "execution_count": 10,
   "id": "f12a2798-731a-4f3c-9a9a-e7b69fbff65e",
   "metadata": {},
   "outputs": [
    {
     "name": "stdout",
     "output_type": "stream",
     "text": [
      "mango\n",
      "apple\n",
      "pineapple\n",
      "strawberry\n"
     ]
    }
   ],
   "source": [
    "# Create a list of items\n",
    "fruits = [\"mango\", \"apple\", \"pineapple\", \"strawberry\"]\n",
    "\n",
    "# Loop through the list using a for loop\n",
    "for fruit in fruits:\n",
    "    print(fruit)"
   ]
  },
  {
   "cell_type": "code",
   "execution_count": 11,
   "id": "65efeb40-60b9-4da9-9bf6-b6e7155b3a0d",
   "metadata": {},
   "outputs": [
    {
     "ename": "SyntaxError",
     "evalue": "invalid syntax (681781169.py, line 1)",
     "output_type": "error",
     "traceback": [
      "\u001b[0;36m  Cell \u001b[0;32mIn[11], line 1\u001b[0;36m\u001b[0m\n\u001b[0;31m    5. Write a Python program to find the product of all elements in a list using a for loop.\u001b[0m\n\u001b[0m       ^\u001b[0m\n\u001b[0;31mSyntaxError\u001b[0m\u001b[0;31m:\u001b[0m invalid syntax\n"
     ]
    }
   ],
   "source": [
    "5. Write a Python program to find the product of all elements in a list using a for loop.\n"
   ]
  },
  {
   "cell_type": "code",
   "execution_count": 12,
   "id": "649699f5-b461-4543-a950-60803e31b9ef",
   "metadata": {},
   "outputs": [
    {
     "name": "stdout",
     "output_type": "stream",
     "text": [
      "The product of all numbers in the list is: 1680\n"
     ]
    }
   ],
   "source": [
    "# Create a list of numbers\n",
    "numbers = [5, 6, 7, 8]\n",
    "\n",
    "# Initialize a variable to hold the product, starting at 1\n",
    "product = 1\n",
    "\n",
    "# Iterate through the list using a for loop\n",
    "for num in numbers:\n",
    "    # Multiply the current element with the product\n",
    "    product *= num\n",
    "\n",
    "# Output the final product\n",
    "print(\"The product of all numbers in the list is:\", product)"
   ]
  },
  {
   "cell_type": "code",
   "execution_count": 13,
   "id": "88dc8652-5407-4db2-bab2-017bcda69cb9",
   "metadata": {},
   "outputs": [
    {
     "ename": "SyntaxError",
     "evalue": "invalid syntax (319871631.py, line 1)",
     "output_type": "error",
     "traceback": [
      "\u001b[0;36m  Cell \u001b[0;32mIn[13], line 1\u001b[0;36m\u001b[0m\n\u001b[0;31m    6. Create a Python program that prints all even numbers from 1 to 20 using a for loop.\u001b[0m\n\u001b[0m       ^\u001b[0m\n\u001b[0;31mSyntaxError\u001b[0m\u001b[0;31m:\u001b[0m invalid syntax\n"
     ]
    }
   ],
   "source": [
    "6. Create a Python program that prints all even numbers from 1 to 20 using a for loop."
   ]
  },
  {
   "cell_type": "code",
   "execution_count": 14,
   "id": "c908e46d-144a-45cd-bd5e-7184c3a7b7ba",
   "metadata": {},
   "outputs": [
    {
     "name": "stdout",
     "output_type": "stream",
     "text": [
      "2\n",
      "4\n",
      "6\n",
      "8\n",
      "10\n",
      "12\n",
      "14\n",
      "16\n",
      "18\n",
      "20\n"
     ]
    }
   ],
   "source": [
    "# Iterate over numbers from 1 to 20 using a for loop\n",
    "for i in range(1, 21):\n",
    "    # Determine if the number is even\n",
    "    if i % 2 == 0:\n",
    "        print(i)"
   ]
  },
  {
   "cell_type": "code",
   "execution_count": 15,
   "id": "35f7282b-cb83-4b65-b9ae-01608b6e3f4b",
   "metadata": {},
   "outputs": [
    {
     "ename": "SyntaxError",
     "evalue": "invalid syntax (3578541790.py, line 1)",
     "output_type": "error",
     "traceback": [
      "\u001b[0;36m  Cell \u001b[0;32mIn[15], line 1\u001b[0;36m\u001b[0m\n\u001b[0;31m    7. Write a Python program that calculates the factorial of a number using a for loop.\u001b[0m\n\u001b[0m       ^\u001b[0m\n\u001b[0;31mSyntaxError\u001b[0m\u001b[0;31m:\u001b[0m invalid syntax\n"
     ]
    }
   ],
   "source": [
    "7. Write a Python program that calculates the factorial of a number using a for loop."
   ]
  },
  {
   "cell_type": "code",
   "execution_count": 16,
   "id": "faaa81a2-700a-45f4-b40e-e1c8a04abb42",
   "metadata": {},
   "outputs": [
    {
     "name": "stdout",
     "output_type": "stream",
     "text": [
      "The factorial of 5 is: 120\n"
     ]
    }
   ],
   "source": [
    "# Create a function to compute the factorial\n",
    "def calculate_factorial(n):\n",
    "    # Start with a result of 1, which is the multiplicative identity\n",
    "    product = 1\n",
    "    \n",
    "    # Iterate from 1 to n, inclusive\n",
    "    for i in range(1, n + 1):\n",
    "        # Update the product by multiplying with the current number\n",
    "        product *= i\n",
    "    \n",
    "    # Return the computed factorial\n",
    "    return product\n",
    "\n",
    "# Specify the number for which to find the factorial\n",
    "number = 5\n",
    "\n",
    "# Compute the factorial and display the result\n",
    "print(f\"The factorial of {number} is: {calculate_factorial(number)}\")"
   ]
  },
  {
   "cell_type": "code",
   "execution_count": 17,
   "id": "14985795-ee4d-426c-8778-1635889226f7",
   "metadata": {},
   "outputs": [
    {
     "name": "stdout",
     "output_type": "stream",
     "text": [
      "Object `Python` not found.\n"
     ]
    }
   ],
   "source": [
    "8. How can you iterate through the characters of a string using a for loop in Python?\n"
   ]
  },
  {
   "cell_type": "code",
   "execution_count": 18,
   "id": "3c900488-6465-47e8-9431-c653b71b09fd",
   "metadata": {},
   "outputs": [
    {
     "name": "stdout",
     "output_type": "stream",
     "text": [
      "s\n",
      "u\n",
      "p\n",
      "l\n",
      "a\n",
      " \n",
      "s\n",
      "h\n",
      "o\n",
      "t\n",
      "!\n",
      "!\n"
     ]
    }
   ],
   "source": [
    "# Set a string variable\n",
    "text = \"supla shot!!\"\n",
    "\n",
    "# Iterate over each character in the string using a for loop\n",
    "for char in text:\n",
    "    print(char)"
   ]
  },
  {
   "cell_type": "code",
   "execution_count": 19,
   "id": "9f143e6c-1d35-46ba-b916-5a69b21f278c",
   "metadata": {},
   "outputs": [
    {
     "ename": "SyntaxError",
     "evalue": "invalid syntax (1845410185.py, line 1)",
     "output_type": "error",
     "traceback": [
      "\u001b[0;36m  Cell \u001b[0;32mIn[19], line 1\u001b[0;36m\u001b[0m\n\u001b[0;31m    9. Write a Python program to find the largest number in a list using a for loop.\u001b[0m\n\u001b[0m       ^\u001b[0m\n\u001b[0;31mSyntaxError\u001b[0m\u001b[0;31m:\u001b[0m invalid syntax\n"
     ]
    }
   ],
   "source": [
    "9. Write a Python program to find the largest number in a list using a for loop.\n"
   ]
  },
  {
   "cell_type": "code",
   "execution_count": 20,
   "id": "7eba84fb-98eb-4cec-8502-e0271a560c35",
   "metadata": {},
   "outputs": [
    {
     "name": "stdout",
     "output_type": "stream",
     "text": [
      "The largest number in the list is: 78\n"
     ]
    }
   ],
   "source": [
    "# Create a list of numbers\n",
    "numbers = [10, 25, 4, 78, 33]\n",
    "\n",
    "# Set a variable to store the largest number, initially set to the first item in the list\n",
    "largest = numbers[0]\n",
    "\n",
    "# Loop through each number in the list\n",
    "for num in numbers:\n",
    "    # If the current number is greater than the current largest, update largest\n",
    "    if num > largest:\n",
    "        largest = num\n",
    "\n",
    "# Display the largest number found\n",
    "print(\"The largest number in the list is:\", largest)"
   ]
  },
  {
   "cell_type": "code",
   "execution_count": 21,
   "id": "8b826f08-54ea-47a9-b0c9-0c458b8413a7",
   "metadata": {},
   "outputs": [
    {
     "ename": "SyntaxError",
     "evalue": "invalid syntax (134181575.py, line 1)",
     "output_type": "error",
     "traceback": [
      "\u001b[0;36m  Cell \u001b[0;32mIn[21], line 1\u001b[0;36m\u001b[0m\n\u001b[0;31m    10. Create a Python program that prints the Fibonacci sequence up to a specified limit using a for loop.\u001b[0m\n\u001b[0m        ^\u001b[0m\n\u001b[0;31mSyntaxError\u001b[0m\u001b[0;31m:\u001b[0m invalid syntax\n"
     ]
    }
   ],
   "source": [
    "10. Create a Python program that prints the Fibonacci sequence up to a specified limit using a for loop.\n"
   ]
  },
  {
   "cell_type": "code",
   "execution_count": 22,
   "id": "48ece6ef-2620-466a-9115-545ea1967a9d",
   "metadata": {},
   "outputs": [
    {
     "name": "stdout",
     "output_type": "stream",
     "text": [
      "0 1 1 2 3 5 8 13 21 34 55 89 "
     ]
    }
   ],
   "source": [
    "# Create a function to display the Fibonacci sequence up to a specified limit\n",
    "def display_fibonacci(limit):\n",
    "    # Start with the first two numbers in the Fibonacci series\n",
    "    a, b = 0, 1\n",
    "\n",
    "    # Continue generating numbers while the current number is less than or equal to the limit\n",
    "    while a <= limit:\n",
    "        # Output the current Fibonacci number\n",
    "        print(a, end=' ')\n",
    "        # Compute the next Fibonacci numbers\n",
    "        a, b = b, a + b\n",
    "\n",
    "# Define the maximum value for the Fibonacci sequence\n",
    "limit = 100\n",
    "\n",
    "# Execute the function to show Fibonacci numbers up to the given limit\n",
    "display_fibonacci(limit)"
   ]
  },
  {
   "cell_type": "code",
   "execution_count": 23,
   "id": "e2d4d7d0-0700-416c-af84-48c9a6569b3b",
   "metadata": {},
   "outputs": [
    {
     "ename": "SyntaxError",
     "evalue": "invalid syntax (1786084270.py, line 1)",
     "output_type": "error",
     "traceback": [
      "\u001b[0;36m  Cell \u001b[0;32mIn[23], line 1\u001b[0;36m\u001b[0m\n\u001b[0;31m    11. Write a Python program to count the number of vowels in a given string using a for loop.\u001b[0m\n\u001b[0m        ^\u001b[0m\n\u001b[0;31mSyntaxError\u001b[0m\u001b[0;31m:\u001b[0m invalid syntax\n"
     ]
    }
   ],
   "source": [
    "11. Write a Python program to count the number of vowels in a given string using a for loop.\n"
   ]
  },
  {
   "cell_type": "code",
   "execution_count": 24,
   "id": "484605dd-54d5-4d6b-87e1-c087fa53db0c",
   "metadata": {},
   "outputs": [
    {
     "name": "stdout",
     "output_type": "stream",
     "text": [
      "Total number of vowels in the string: 3\n"
     ]
    }
   ],
   "source": [
    "# Create a function to count the vowels in a given string\n",
    "def count_vowels(input_string):\n",
    "    # Set of vowel characters for quick lookup\n",
    "    vowels = 'aeiouAEIOU'\n",
    "    \n",
    "    # Initialize a counter for vowels\n",
    "    vowel_count = 0\n",
    "    \n",
    "    # Iterate over each character in the input string\n",
    "    for char in input_string:\n",
    "        # Determine if the character is a vowel\n",
    "        if char in vowels:\n",
    "            # Increase the vowel count\n",
    "            vowel_count += 1\n",
    "    \n",
    "    # Return the total number of vowels\n",
    "    return vowel_count\n",
    "\n",
    "# Specify the string to analyze\n",
    "text = \"shupla shott !!\"\n",
    "\n",
    "# Invoke the function and display the number of vowels\n",
    "print(\"Total number of vowels in the string:\", count_vowels(text))"
   ]
  },
  {
   "cell_type": "code",
   "execution_count": 25,
   "id": "0953fd80-2f9e-4b40-9d7b-b5aaa9d96f2a",
   "metadata": {},
   "outputs": [
    {
     "ename": "SyntaxError",
     "evalue": "invalid syntax (4118508318.py, line 1)",
     "output_type": "error",
     "traceback": [
      "\u001b[0;36m  Cell \u001b[0;32mIn[25], line 1\u001b[0;36m\u001b[0m\n\u001b[0;31m    12. Create a Python program that generates a multiplication table for a given number using a for loop.\u001b[0m\n\u001b[0m        ^\u001b[0m\n\u001b[0;31mSyntaxError\u001b[0m\u001b[0;31m:\u001b[0m invalid syntax\n"
     ]
    }
   ],
   "source": [
    "12. Create a Python program that generates a multiplication table for a given number using a for loop.\n"
   ]
  },
  {
   "cell_type": "code",
   "execution_count": 26,
   "id": "fb4bac74-52ff-4771-8ce5-55a198bd681b",
   "metadata": {},
   "outputs": [
    {
     "name": "stdout",
     "output_type": "stream",
     "text": [
      "7 x 1 = 7\n",
      "7 x 2 = 14\n",
      "7 x 3 = 21\n",
      "7 x 4 = 28\n",
      "7 x 5 = 35\n",
      "7 x 6 = 42\n",
      "7 x 7 = 49\n",
      "7 x 8 = 56\n",
      "7 x 9 = 63\n",
      "7 x 10 = 70\n"
     ]
    }
   ],
   "source": [
    "# Create a function to display a multiplication table for a specific number\n",
    "def generate_multiplication_table(number, limit=10):\n",
    "    # Iterate through numbers from 1 to the specified limit\n",
    "    for i in range(1, limit + 1):\n",
    "        # Compute the product of the number and the current iterator value\n",
    "        result = number * i\n",
    "        # Output the result in multiplication table format\n",
    "        print(f\"{number} x {i} = {result}\")\n",
    "\n",
    "# Set the number for which to create the multiplication table\n",
    "number = 7\n",
    "\n",
    "# Execute the function to display the multiplication table for the chosen number\n",
    "generate_multiplication_table(number)"
   ]
  },
  {
   "cell_type": "code",
   "execution_count": 27,
   "id": "53777b2e-5032-47af-853f-31d48eae694f",
   "metadata": {},
   "outputs": [
    {
     "ename": "SyntaxError",
     "evalue": "invalid syntax (1963868548.py, line 1)",
     "output_type": "error",
     "traceback": [
      "\u001b[0;36m  Cell \u001b[0;32mIn[27], line 1\u001b[0;36m\u001b[0m\n\u001b[0;31m    13. Write a Python program to reverse a list using a for loop.\u001b[0m\n\u001b[0m        ^\u001b[0m\n\u001b[0;31mSyntaxError\u001b[0m\u001b[0;31m:\u001b[0m invalid syntax\n"
     ]
    }
   ],
   "source": [
    "13. Write a Python program to reverse a list using a for loop.\n"
   ]
  },
  {
   "cell_type": "code",
   "execution_count": null,
   "id": "7ce328c6-a703-4649-bce9-1e7c7a7af852",
   "metadata": {},
   "outputs": [],
   "source": [
    "# Create a function to reverse a list\n",
    "def reverse_list(input_list):\n",
    "    # Create an empty list to store the elements in reversed order\n",
    "    reversed_list = []\n",
    "    \n",
    "    # Iterate through the original list in reverse order\n",
    "    for i in range(len(input_list) - 1, -1, -1):\n",
    "        # Add each element to the new reversed list\n",
    "        reversed_list.append(input_list[i])\n",
    "    \n",
    "    # Return the list with elements reversed\n",
    "    return reversed_list\n",
    "\n",
    "# Specify the list to reverse\n",
    "my_list = [1, 2, 3, 4, 5]\n",
    "\n",
    "# Execute the function and display the reversed list\n",
    "print(\"Original list:\", my_list)\n",
    "print(\"Reversed list:\", reverse_list(my_list))"
   ]
  },
  {
   "cell_type": "code",
   "execution_count": 28,
   "id": "c8ed1ac2-077d-42c9-8fb2-663f7d6a80e2",
   "metadata": {},
   "outputs": [
    {
     "ename": "SyntaxError",
     "evalue": "invalid syntax (2312856959.py, line 1)",
     "output_type": "error",
     "traceback": [
      "\u001b[0;36m  Cell \u001b[0;32mIn[28], line 1\u001b[0;36m\u001b[0m\n\u001b[0;31m    14. Write a Python program to find the common elements between two lists using a for loop.\u001b[0m\n\u001b[0m        ^\u001b[0m\n\u001b[0;31mSyntaxError\u001b[0m\u001b[0;31m:\u001b[0m invalid syntax\n"
     ]
    }
   ],
   "source": [
    "14. Write a Python program to find the common elements between two lists using a for loop.\n"
   ]
  },
  {
   "cell_type": "code",
   "execution_count": 29,
   "id": "42560ed8-0d98-40d1-992f-e54f86844160",
   "metadata": {},
   "outputs": [
    {
     "name": "stdout",
     "output_type": "stream",
     "text": [
      "Common elements in both lists: [4, 5]\n"
     ]
    }
   ],
   "source": [
    "# Create a function to identify common elements in two lists\n",
    "def get_common_elements(list1, list2):\n",
    "    # Start with an empty list to collect common items\n",
    "    common_items = []\n",
    "    \n",
    "    # Traverse each element in the first list\n",
    "    for element in list1:\n",
    "        # Check if the element is also present in the second list\n",
    "        if element in list2:\n",
    "            # Add the element to the common items list if it hasn't been added yet\n",
    "            if element not in common_items:\n",
    "                common_items.append(element)\n",
    "    \n",
    "    # Return the list of common items\n",
    "    return common_items\n",
    "\n",
    "# Define the lists to be compared\n",
    "list1 = [1, 2, 3, 4, 5]\n",
    "list2 = [4, 5, 6, 7, 8]\n",
    "\n",
    "# Execute the function and display the common elements\n",
    "print(\"Common elements in both lists:\", get_common_elements(list1, list2))\n",
    "\n",
    "\n",
    "\n",
    "\n",
    "\n"
   ]
  },
  {
   "cell_type": "code",
   "execution_count": 30,
   "id": "58c67ddc-09dc-4699-a582-b6d7dba43f00",
   "metadata": {},
   "outputs": [
    {
     "ename": "SyntaxError",
     "evalue": "invalid syntax (3738618142.py, line 1)",
     "output_type": "error",
     "traceback": [
      "\u001b[0;36m  Cell \u001b[0;32mIn[30], line 1\u001b[0;36m\u001b[0m\n\u001b[0;31m    15. Explain how to use a for loop to iterate through the keys and values of a dictionary in Python.\u001b[0m\n\u001b[0m        ^\u001b[0m\n\u001b[0;31mSyntaxError\u001b[0m\u001b[0;31m:\u001b[0m invalid syntax\n"
     ]
    }
   ],
   "source": [
    "15. Explain how to use a for loop to iterate through the keys and values of a dictionary in Python.\n"
   ]
  },
  {
   "cell_type": "code",
   "execution_count": 31,
   "id": "87cbd468-cc75-421c-8609-95683e1e2caa",
   "metadata": {},
   "outputs": [
    {
     "name": "stdout",
     "output_type": "stream",
     "text": [
      "Key: name, Value: Pranit\n",
      "Key: age, Value: 22\n",
      "Key: city, Value: Pune\n"
     ]
    }
   ],
   "source": [
    "# Create a dictionary with key-value pairs\n",
    "my_dict = {\n",
    "    'name': 'Pranit',\n",
    "    'age': '22' ,\n",
    "    'city': 'Pune'\n",
    "}\n",
    "\n",
    "# Iterate through the key-value pairs in the dictionary\n",
    "for key, value in my_dict.items():\n",
    "    # Display each key along with its associated value\n",
    "    print(f\"Key: {key}, Value: {value}\")"
   ]
  },
  {
   "cell_type": "code",
   "execution_count": 32,
   "id": "3f93056b-f648-41d8-9513-57eb2bd945dd",
   "metadata": {},
   "outputs": [
    {
     "ename": "SyntaxError",
     "evalue": "invalid syntax (320501484.py, line 1)",
     "output_type": "error",
     "traceback": [
      "\u001b[0;36m  Cell \u001b[0;32mIn[32], line 1\u001b[0;36m\u001b[0m\n\u001b[0;31m    16. Write a Python program to find the GCD (Greatest Common Divisor) of two numbers using a for loop.\u001b[0m\n\u001b[0m        ^\u001b[0m\n\u001b[0;31mSyntaxError\u001b[0m\u001b[0;31m:\u001b[0m invalid syntax\n"
     ]
    }
   ],
   "source": [
    "16. Write a Python program to find the GCD (Greatest Common Divisor) of two numbers using a for loop."
   ]
  },
  {
   "cell_type": "code",
   "execution_count": 33,
   "id": "22580aa2-4e68-4f82-92ee-a99601ffc1f7",
   "metadata": {},
   "outputs": [
    {
     "name": "stdin",
     "output_type": "stream",
     "text": [
      "Please enter the first number:  54\n",
      "Please enter the second number:  56\n"
     ]
    },
    {
     "name": "stdout",
     "output_type": "stream",
     "text": [
      "The Greatest Common Divisor of 54 and 56 is: 2\n"
     ]
    }
   ],
   "source": [
    "def compute_gcd(a, b):\n",
    "    # Determine the smaller of the two numbers\n",
    "    smaller = min(a, b)\n",
    "    \n",
    "    # Start with a default GCD value of 1\n",
    "    gcd_result = 1\n",
    "    \n",
    "    # Check each number from 1 up to and including the smaller number\n",
    "    for i in range(1, smaller + 1):\n",
    "        # If i divides both a and b evenly, update gcd_result\n",
    "        if a % i == 0 and b % i == 0:\n",
    "            gcd_result = i\n",
    "            \n",
    "    return gcd_result\n",
    "\n",
    "# Example of how to use the function\n",
    "first_number = int(input(\"Please enter the first number: \"))\n",
    "second_number = int(input(\"Please enter the second number: \"))\n",
    "\n",
    "print(\"The Greatest Common Divisor of\", first_number, \"and\", second_number, \"is:\", compute_gcd(first_number, second_number))"
   ]
  },
  {
   "cell_type": "code",
   "execution_count": 34,
   "id": "4cd55309-25d2-47b8-9abe-b894e2e0307b",
   "metadata": {},
   "outputs": [
    {
     "ename": "SyntaxError",
     "evalue": "invalid syntax (962918028.py, line 1)",
     "output_type": "error",
     "traceback": [
      "\u001b[0;36m  Cell \u001b[0;32mIn[34], line 1\u001b[0;36m\u001b[0m\n\u001b[0;31m    17. Create a Python program that checks if a string is a palindrome using a for loop.\u001b[0m\n\u001b[0m        ^\u001b[0m\n\u001b[0;31mSyntaxError\u001b[0m\u001b[0;31m:\u001b[0m invalid syntax\n"
     ]
    }
   ],
   "source": [
    "17. Create a Python program that checks if a string is a palindrome using a for loop.\n"
   ]
  },
  {
   "cell_type": "code",
   "execution_count": 35,
   "id": "e2c0290f-c0bf-45fe-83f8-6503036d7855",
   "metadata": {},
   "outputs": [
    {
     "name": "stdin",
     "output_type": "stream",
     "text": [
      "Please enter a string to determine if it is a palindrome:  564\n"
     ]
    },
    {
     "name": "stdout",
     "output_type": "stream",
     "text": [
      "\"564\" is not a palindrome.\n"
     ]
    }
   ],
   "source": [
    "def check_palindrome(s):\n",
    "    # Remove spaces and convert the string to lowercase for a case-insensitive check\n",
    "    s = s.replace(\" \", \"\").lower()\n",
    "    \n",
    "    # Get the length of the processed string\n",
    "    length = len(s)\n",
    "    \n",
    "    # Loop from the start to the middle of the string\n",
    "    for i in range(length // 2):\n",
    "        # Compare characters from the beginning and the end\n",
    "        if s[i] != s[length - 1 - i]:\n",
    "            return False\n",
    "    \n",
    "    return True\n",
    "\n",
    "# Example usage\n",
    "user_input = input(\"Please enter a string to determine if it is a palindrome: \")\n",
    "\n",
    "if check_palindrome(user_input):\n",
    "    print(f'\"{user_input}\" is a palindrome.')\n",
    "else:\n",
    "    print(f'\"{user_input}\" is not a palindrome.')"
   ]
  },
  {
   "cell_type": "code",
   "execution_count": null,
   "id": "599f6182-a1f4-427b-b3f1-7156417cd951",
   "metadata": {},
   "outputs": [],
   "source": [
    "18. Write a Python program to remove duplicates from a list using a for loop.\n"
   ]
  },
  {
   "cell_type": "code",
   "execution_count": 36,
   "id": "1a15a949-7d2e-4523-9051-a681ced49b71",
   "metadata": {},
   "outputs": [
    {
     "name": "stdout",
     "output_type": "stream",
     "text": [
      "Initial list: [8, 2, 7, 9, 4, 5, 5, 6, 7]\n",
      "List after removing duplicates: [8, 2, 7, 9, 4, 5, 6]\n"
     ]
    }
   ],
   "source": [
    "def eliminate_duplicates(input_list):\n",
    "    # Initialize an empty list to hold unique items\n",
    "    unique_items = []\n",
    "    \n",
    "    # Loop through each element in the provided list\n",
    "    for element in input_list:\n",
    "        # Add the element to unique_items if it's not already present\n",
    "        if element not in unique_items:\n",
    "            unique_items.append(element)\n",
    "    \n",
    "    return unique_items\n",
    "\n",
    "# Example usage\n",
    "initial_list = [8, 2, 7, 9, 4, 5, 5, 6, 7]\n",
    "print(\"Initial list:\", initial_list)\n",
    "\n",
    "filtered_list = eliminate_duplicates(initial_list)\n",
    "print(\"List after removing duplicates:\", filtered_list)"
   ]
  },
  {
   "cell_type": "code",
   "execution_count": null,
   "id": "2dae0774-a7dc-47a9-ba54-c84fa1e3a379",
   "metadata": {},
   "outputs": [],
   "source": [
    "19. Create a Python program that counts the number of words in a sentence using a for loop.\n"
   ]
  },
  {
   "cell_type": "code",
   "execution_count": 37,
   "id": "4d96e053-d2d1-4db8-b0a5-f7b49c08fe5c",
   "metadata": {},
   "outputs": [
    {
     "name": "stdin",
     "output_type": "stream",
     "text": [
      "Please enter a sentence:  i l p\n"
     ]
    },
    {
     "name": "stdout",
     "output_type": "stream",
     "text": [
      "The total number of words in the sentence is: 3\n"
     ]
    }
   ],
   "source": [
    "def count_number_of_words(sentence):\n",
    "    # Break the sentence into a list of words using spaces as delimiters\n",
    "    word_list = sentence.split()\n",
    "    \n",
    "    # Initialize the word count to zero\n",
    "    total_words = 0\n",
    "    \n",
    "    # Iterate through each word in the word_list\n",
    "    for word in word_list:\n",
    "        # Increment the total word count\n",
    "        total_words += 1\n",
    "    \n",
    "    return total_words\n",
    "\n",
    "# Example usage\n",
    "user_sentence = input(\"Please enter a sentence: \")\n",
    "print(\"The total number of words in the sentence is:\", count_number_of_words(user_sentence)) "
   ]
  },
  {
   "cell_type": "code",
   "execution_count": null,
   "id": "5120f483-5e47-4231-8d4d-89a483feb0e5",
   "metadata": {},
   "outputs": [],
   "source": [
    "20. Write a Python program to find the sum of all odd numbers from 1 to 50 using a for loop."
   ]
  },
  {
   "cell_type": "code",
   "execution_count": 38,
   "id": "48a6ff5d-d506-46f1-8448-265411f0cf8f",
   "metadata": {},
   "outputs": [
    {
     "name": "stdout",
     "output_type": "stream",
     "text": [
      "The total sum of odd numbers from 1 to 50 is: 625\n"
     ]
    }
   ],
   "source": [
    "def calculate_odd_sum(start, end):\n",
    "    # Initialize the accumulator for the sum\n",
    "    odd_sum = 0\n",
    "    \n",
    "    # Iterate through each number in the range\n",
    "    for num in range(start, end + 1):\n",
    "        # Check if the number is odd\n",
    "        if num % 2 != 0:\n",
    "            odd_sum += num\n",
    "    \n",
    "    return odd_sum\n",
    "\n",
    "# Specify the range limits\n",
    "start_value = 1\n",
    "end_value = 50\n",
    "\n",
    "# Compute the sum of odd numbers within the specified range\n",
    "total_odd_sum = calculate_odd_sum(start_value, end_value)\n",
    "print(\"The total sum of odd numbers from\", start_value, \"to\", end_value, \"is:\", total_odd_sum)"
   ]
  },
  {
   "cell_type": "code",
   "execution_count": null,
   "id": "0d0dadfc-87d8-4259-a515-e6b1d2c93cd9",
   "metadata": {},
   "outputs": [],
   "source": [
    "21. Write a Python program that checks if a given year is a leap year using a for loop.\n"
   ]
  },
  {
   "cell_type": "code",
   "execution_count": 39,
   "id": "4d161920-dfeb-4c0d-b98b-747b69924c5f",
   "metadata": {},
   "outputs": [
    {
     "name": "stdin",
     "output_type": "stream",
     "text": [
      "Please enter a year to determine if it is a leap year:  2026\n"
     ]
    },
    {
     "name": "stdout",
     "output_type": "stream",
     "text": [
      "2026 is not a leap year.\n"
     ]
    }
   ],
   "source": [
    "def check_leap_year(year):\n",
    "    # To qualify as a leap year, it must be divisible by 4\n",
    "    if year % 4 == 0:\n",
    "        # Years that are divisible by 100 are not leap years unless they are also divisible by 400\n",
    "        if year % 100 == 0:\n",
    "            if year % 400 == 0:\n",
    "                return True\n",
    "            else:\n",
    "                return False\n",
    "        else:\n",
    "            return True\n",
    "    else:\n",
    "        return False\n",
    "\n",
    "# Example usage\n",
    "year_input = int(input(\"Please enter a year to determine if it is a leap year: \"))\n",
    "\n",
    "if check_leap_year(year_input):\n",
    "    print(year_input, \"is a leap year.\")\n",
    "else:\n",
    "    print(year_input, \"is not a leap year.\") "
   ]
  },
  {
   "cell_type": "code",
   "execution_count": null,
   "id": "762fbdb0-8858-421f-b139-295a1ec1a657",
   "metadata": {},
   "outputs": [],
   "source": [
    "22. Create a Python program that calculates the square root of a number using a for loop.\n",
    " "
   ]
  },
  {
   "cell_type": "code",
   "execution_count": 40,
   "id": "0bd118d6-5e8e-47d6-a3df-cbb19ad9f119",
   "metadata": {},
   "outputs": [
    {
     "name": "stdin",
     "output_type": "stream",
     "text": [
      "Enter a number to calculate its square root:  25\n"
     ]
    },
    {
     "name": "stdout",
     "output_type": "stream",
     "text": [
      "The approximated square root of 25.0 is 5.00000\n"
     ]
    }
   ],
   "source": [
    "def find_square_root(value, iterations=100):\n",
    "    # Begin with an initial approximation of the square root\n",
    "    guess = value\n",
    "    # Improve the approximation over a series of iterations\n",
    "    for _ in range(iterations):\n",
    "        guess = (guess + value / guess) / 2\n",
    "    return guess\n",
    "\n",
    "# Example usage\n",
    "num = float(input(\"Enter a number to calculate its square root: \"))\n",
    "if num < 0:\n",
    "    print(\"The square root of a negative number cannot be computed.\")\n",
    "else:\n",
    "    result = find_square_root(num)\n",
    "    print(f\"The approximated square root of {num} is {result:.5f}\")"
   ]
  },
  {
   "cell_type": "code",
   "execution_count": null,
   "id": "68ea3c71-6c00-44ea-bb00-915338413d52",
   "metadata": {},
   "outputs": [],
   "source": [
    "23. Write a Python program to find the LCM (Least Common Multiple) of two numbers using a for loop.\n"
   ]
  },
  {
   "cell_type": "code",
   "execution_count": 41,
   "id": "ccd60734-cb40-4a35-a841-ad1eb0a0503f",
   "metadata": {},
   "outputs": [
    {
     "name": "stdin",
     "output_type": "stream",
     "text": [
      "Enter the first number:  45\n",
      "Enter the second number:  65\n"
     ]
    },
    {
     "name": "stdout",
     "output_type": "stream",
     "text": [
      "The Least Common Multiple of 45 and 65 is 585.\n"
     ]
    }
   ],
   "source": [
    "def compute_lcm(x, y):\n",
    "    # Start checking from the larger of the two numbers\n",
    "    larger = max(x, y)\n",
    "    \n",
    "    # Iterate through multiples of the larger number to find the LCM\n",
    "    for candidate in range(larger, x * y + 1, larger):\n",
    "        if candidate % x == 0 and candidate % y == 0:\n",
    "            return candidate\n",
    "\n",
    "# Example usage\n",
    "first_number = int(input(\"Enter the first number: \"))\n",
    "second_number = int(input(\"Enter the second number: \"))\n",
    "\n",
    "lcm_result = compute_lcm(first_number, second_number)\n",
    "print(f\"The Least Common Multiple of {first_number} and {second_number} is {lcm_result}.\")"
   ]
  },
  {
   "cell_type": "code",
   "execution_count": null,
   "id": "838f5746-c420-4280-b8e8-d9c4d33ea3e3",
   "metadata": {},
   "outputs": [],
   "source": []
  },
  {
   "cell_type": "code",
   "execution_count": null,
   "id": "8096f443-833e-49e4-a0aa-519f7976c549",
   "metadata": {},
   "outputs": [],
   "source": [
    "If else :\n",
    " "
   ]
  },
  {
   "cell_type": "code",
   "execution_count": null,
   "id": "ba0acfb0-8592-420f-86f3-910e8078f74f",
   "metadata": {},
   "outputs": [],
   "source": [
    "1. Write a Python program to check if a number is positive, negative, or zero using an if-else "
   ]
  },
  {
   "cell_type": "code",
   "execution_count": 43,
   "id": "74faf3da-8b52-4474-84db-f74b273eee9f",
   "metadata": {},
   "outputs": [
    {
     "name": "stdin",
     "output_type": "stream",
     "text": [
      "Please enter a number:  56\n"
     ]
    },
    {
     "name": "stdout",
     "output_type": "stream",
     "text": [
      "The number is positive.\n"
     ]
    }
   ],
   "source": [
    "def evaluate_number(value):\n",
    "    if value > 0:\n",
    "        return \"The number is positive.\"\n",
    "    elif value < 0:\n",
    "        return \"The number is negative.\"\n",
    "    else:\n",
    "        return \"The number is zero.\"\n",
    "\n",
    "# Example usage\n",
    "number = float(input(\"Please enter a number: \"))\n",
    "outcome = evaluate_number(number)\n",
    "print(outcome)"
   ]
  },
  {
   "cell_type": "code",
   "execution_count": null,
   "id": "fb546e46-6829-457c-b1d9-b4f7b0b4f2d1",
   "metadata": {},
   "outputs": [],
   "source": [
    "2. Create a Python program that checks if a given number is even or odd using an if-else statement.\n"
   ]
  },
  {
   "cell_type": "code",
   "execution_count": null,
   "id": "1e1d245b-5d2f-4376-9ba0-d3f7b729786f",
   "metadata": {},
   "outputs": [],
   "source": [
    "# Function to determine if a number is even or odd\n",
    "def is_even_or_odd(number):\n",
    "    if number % 2 == 0:\n",
    "        return f\"{number} is even.\"\n",
    "    else:\n",
    "        return f\"{number} is odd.\"\n",
    "\n",
    "# Main execution block\n",
    "if __name__ == \"__main__\":\n",
    "    try:\n",
    "        num = int(input(\"Please input a number: \"))\n",
    "        result = is_even_or_odd(num)\n",
    "        print(result)\n",
    "    except ValueError:\n",
    "        print(\"Invalid input. Please enter a valid integer.\")"
   ]
  },
  {
   "cell_type": "code",
   "execution_count": null,
   "id": "5ce61bf8-8c14-4b8c-8a84-3e1f8895dfa6",
   "metadata": {},
   "outputs": [],
   "source": [
    "3. How can you use nested if-else statements in Python, and provide an example?\n"
   ]
  },
  {
   "cell_type": "code",
   "execution_count": 44,
   "id": "178bec59-ee75-435d-af39-58aa6052a2b6",
   "metadata": {},
   "outputs": [
    {
     "name": "stdout",
     "output_type": "stream",
     "text": [
      "Opt for shorts and a t-shirt.\n"
     ]
    }
   ],
   "source": [
    "#What Are Nested If-Else Statements?\n",
    "#Nested if-else statements let you evaluate multiple conditions in sequence. They help in making decisions based on a hierarchy of criteria.\n",
    "\n",
    "#Basic Structure\n",
    "#Primary Condition (Outer If-Else): This is your initial check.\n",
    "#Secondary Conditions (Inner If-Else): These are evaluated only if the primary condition is satisfied.\n",
    "#Simple Example\n",
    "#Suppose you need to choose an outfit based on both the weather and the temperature. Here’s how nested if-else statements can be used:\n",
    "\n",
    "\n",
    "def choose_outfit(weather, temperature):\n",
    "    if weather == \"sunny\":\n",
    "        if temperature > 75:\n",
    "            return \"Opt for shorts and a t-shirt.\"\n",
    "        else:\n",
    "            return \"A light jacket will be enough.\"\n",
    "    else:\n",
    "        if temperature > 50:\n",
    "            return \"A warm coat should be fine.\"\n",
    "        else:\n",
    "            return \"A heavy coat is necessary.\"\n",
    "\n",
    "# Example usage\n",
    "weather = \"sunny\"\n",
    "temperature = 80\n",
    "outfit = choose_outfit(weather, temperature)\n",
    "print(outfit)"
   ]
  },
  {
   "cell_type": "code",
   "execution_count": 45,
   "id": "b14e49f4-acd5-4a51-a9d3-343d91b36067",
   "metadata": {},
   "outputs": [
    {
     "ename": "SyntaxError",
     "evalue": "invalid syntax (285748779.py, line 1)",
     "output_type": "error",
     "traceback": [
      "\u001b[0;36m  Cell \u001b[0;32mIn[45], line 1\u001b[0;36m\u001b[0m\n\u001b[0;31m    4. Write a Python program to determine the largest of three numbers using if-else.\u001b[0m\n\u001b[0m       ^\u001b[0m\n\u001b[0;31mSyntaxError\u001b[0m\u001b[0;31m:\u001b[0m invalid syntax\n"
     ]
    }
   ],
   "source": [
    "4. Write a Python program to determine the largest of three numbers using if-else.\n"
   ]
  },
  {
   "cell_type": "code",
   "execution_count": null,
   "id": "74c07391-a69b-42f1-b486-22ec35873ad9",
   "metadata": {},
   "outputs": [],
   "source": [
    "# Function to determine the largest of three numbers\n",
    "def get_largest_number(num1, num2, num3):\n",
    "    if num1 >= num2 and num1 >= num3:\n",
    "        return f\"The largest number is {num1}.\"\n",
    "    elif num2 >= num1 and num2 >= num3:\n",
    "        return f\"The largest number is {num2}.\"\n",
    "    else:\n",
    "        return f\"The largest number is {num3}.\"\n",
    "\n",
    "# Main execution block\n",
    "if __name__ == \"__main__\":\n",
    "    try:\n",
    "        # Prompt the user to input three numbers\n",
    "        num1 = float(input(\"Please enter the first number: \"))\n",
    "        num2 = float(input(\"Please enter the second number: \"))\n",
    "        num3 = float(input(\"Please enter the third number: \"))\n",
    "        \n",
    "        # Determine and display the largest number\n",
    "        largest_number = get_largest_number(num1, num2, num3)\n",
    "        print(largest_number)\n",
    "    except ValueError:\n",
    "        print(\"Invalid input. Please enter numeric values.\")"
   ]
  },
  {
   "cell_type": "code",
   "execution_count": null,
   "id": "d50d1b03-7eb1-4774-8875-365d50baab61",
   "metadata": {},
   "outputs": [],
   "source": [
    "5. Write a Python program that calculates the absolute value of a number using if-else.\n"
   ]
  },
  {
   "cell_type": "code",
   "execution_count": null,
   "id": "33046d80-30d1-46c4-9773-8962fa1f063c",
   "metadata": {},
   "outputs": [],
   "source": [
    "# Function to compute the absolute value\n",
    "def compute_absolute_value(num):\n",
    "    if num < 0:\n",
    "        return -num\n",
    "    return num\n",
    "\n",
    "# Main execution block\n",
    "if __name__ == \"__main__\":\n",
    "    try:\n",
    "        # Prompt the user for a number\n",
    "        number = float(input(\"Please enter a number: \"))\n",
    "        \n",
    "        # Calculate and display the absolute value\n",
    "        abs_value = compute_absolute_value(number)\n",
    "        print(f\"The absolute value of {number} is {abs_value}.\")\n",
    "    except ValueError:\n",
    "        print(\"Invalid input. Please enter a numeric value.\")"
   ]
  },
  {
   "cell_type": "code",
   "execution_count": null,
   "id": "1c17cb07-0e25-4887-99c5-788f61f86e6f",
   "metadata": {},
   "outputs": [],
   "source": [
    "6. Create a Python program that checks if a given character is a vowel or consonant using if-else.\n"
   ]
  },
  {
   "cell_type": "code",
   "execution_count": null,
   "id": "6805e2e6-829b-4ac1-810c-79131de42797",
   "metadata": {},
   "outputs": [],
   "source": [
    "def check_vowel_or_consonant(char):\n",
    "    # Convert the character to lowercase to handle both uppercase and lowercase letters\n",
    "    char = char.lower()\n",
    "    \n",
    "    # Check if the character is a vowel\n",
    "    if char in 'aeiou':\n",
    "        return f\"{char} is a vowel.\"\n",
    "    # Check if the character is an alphabet letter (and not a vowel)\n",
    "    elif char.isalpha():\n",
    "        return f\"{char} is a consonant.\"\n",
    "    else:\n",
    "        return f\"{char} is not a valid alphabet letter.\"\n",
    "\n",
    "# Example usage:\n",
    "character = input(\"Enter a character: \")\n",
    "result = check_vowel_or_consonant(character)\n",
    "print(result)"
   ]
  },
  {
   "cell_type": "code",
   "execution_count": null,
   "id": "b41159e4-94ea-4047-88f6-4d743ec03d11",
   "metadata": {},
   "outputs": [],
   "source": [
    "7. Write a Python program to determine if a user is eligible to vote based on their age using if-else.\n"
   ]
  },
  {
   "cell_type": "code",
   "execution_count": null,
   "id": "0e07c484-0123-4a59-9546-5ed51f864b81",
   "metadata": {},
   "outputs": [],
   "source": [
    "def check_voting_eligibility(age):\n",
    "    if age >= 18:\n",
    "        return \"You are eligible to vote.\"\n",
    "    else:\n",
    "        return \"You are not eligible to vote yet.\"\n",
    "\n",
    "# Example usage:\n",
    "age = int(input(\"Enter your age: \"))\n",
    "result = check_voting_eligibility(age)\n",
    "print(result)"
   ]
  },
  {
   "cell_type": "code",
   "execution_count": null,
   "id": "88cb06c2-9e7f-40c5-8b55-8d30e1d231f5",
   "metadata": {},
   "outputs": [],
   "source": [
    "8. Create a Python program that calculates the discount amount based on the purchase amount using if-else."
   ]
  },
  {
   "cell_type": "code",
   "execution_count": null,
   "id": "24d15e64-67bb-4329-aaf7-f59363dd61ff",
   "metadata": {},
   "outputs": [],
   "source": [
    "def calculate_discount(purchase_amount):\n",
    "    # Apply discount based on the purchase amount\n",
    "    if purchase_amount >= 1000:\n",
    "        discount_rate = 0.20  # 20% discount\n",
    "    elif purchase_amount >= 500:\n",
    "        discount_rate = 0.10  # 10% discount\n",
    "    elif purchase_amount >= 100:\n",
    "        discount_rate = 0.05  # 5% discount\n",
    "    else:\n",
    "        discount_rate = 0.0   # No discount\n",
    "\n",
    "    discount_amount = purchase_amount * discount_rate\n",
    "    return discount_amount\n",
    "\n",
    "# Example usage:\n",
    "purchase_amount = float(input(\"Enter the purchase amount: Rs\"))\n",
    "discount = calculate_discount(purchase_amount)\n",
    "print(f\"Your discount amount is: Rs{discount:.2f}\")"
   ]
  },
  {
   "cell_type": "code",
   "execution_count": null,
   "id": "8bcdb353-0a3f-46b9-92d3-d51dded77e3f",
   "metadata": {},
   "outputs": [],
   "source": [
    "9. Write a Python program to check if a number is within a specified range using if-else.\n",
    "\n"
   ]
  },
  {
   "cell_type": "code",
   "execution_count": null,
   "id": "e6365298-b8d3-4188-8afc-8a137fcb5865",
   "metadata": {},
   "outputs": [],
   "source": [
    "def check_in_range(number, start, end):\n",
    "    # Check if the number is within the range (inclusive)\n",
    "    if start <= number <= end:\n",
    "        return f\"{number} is within the range {start} to {end}.\"\n",
    "    else:\n",
    "        return f\"{number} is not within the range {start} to {end}.\"\n",
    "\n",
    "# Example usage:\n",
    "number = int(input(\"Enter a number: \"))\n",
    "start_range = int(input(\"Enter the start of the range: \"))\n",
    "end_range = int(input(\"Enter the end of the range: \"))\n",
    "\n",
    "result = check_in_range(number, start_range, end_range)\n",
    "print(result)"
   ]
  },
  {
   "cell_type": "code",
   "execution_count": null,
   "id": "a35f8e12-6b9f-4aee-b181-615b400f2aaa",
   "metadata": {},
   "outputs": [],
   "source": [
    "10. Create a Python program that determines the grade of a student based on their score using if-else.\n"
   ]
  },
  {
   "cell_type": "code",
   "execution_count": null,
   "id": "58186506-8453-4a34-bb0b-1fc5fb670b03",
   "metadata": {},
   "outputs": [],
   "source": [
    "def determine_grade(score):\n",
    "    if score >= 90:\n",
    "        return \"A\"\n",
    "    elif score >= 80:\n",
    "        return \"B\"\n",
    "    elif score >= 70:\n",
    "        return \"C\"\n",
    "    elif score >= 60:\n",
    "        return \"D\"\n",
    "    else:\n",
    "        return \"F\"\n",
    "\n",
    "# Example usage:\n",
    "score = float(input(\"Enter the student's score: \"))\n",
    "grade = determine_grade(score)\n",
    "print(f\"The student's grade is: {grade}\")\n"
   ]
  },
  {
   "cell_type": "code",
   "execution_count": null,
   "id": "f7d158a5-5ed8-46de-bbc5-2a0f91cc10af",
   "metadata": {},
   "outputs": [],
   "source": [
    "11. Write a Python program to check if a string is empty or not using if-else.\n"
   ]
  },
  {
   "cell_type": "code",
   "execution_count": null,
   "id": "43be1fdc-0c88-49aa-bd1c-7f5922466a5c",
   "metadata": {},
   "outputs": [],
   "source": [
    "def check_empty_string(s):\n",
    "    if s:\n",
    "        return \"The string is not empty.\"\n",
    "    else:\n",
    "        return \"The string is empty.\"\n",
    "\n",
    "# Example usage:\n",
    "string_input = input(\"Enter a string: \")\n",
    "result = check_empty_string(string_input)\n",
    "print(result)"
   ]
  },
  {
   "cell_type": "code",
   "execution_count": null,
   "id": "659a90dc-4995-4777-95e0-1e11dbaab708",
   "metadata": {},
   "outputs": [],
   "source": [
    "12. Create a Python program that identifies the type of a triangle (e.g., equilateral, isosceles, or scalene) based on input values using if-else.\n"
   ]
  },
  {
   "cell_type": "code",
   "execution_count": null,
   "id": "4e657643-4a7b-4feb-a89b-471b1a9707b7",
   "metadata": {},
   "outputs": [],
   "source": [
    "def identify_triangle_type(a, b, c):\n",
    "    # Check if the sides form a valid triangle\n",
    "    if a + b > c and b + c > a and a + c > b:\n",
    "        if a == b == c:\n",
    "            return \"The triangle is equilateral.\"\n",
    "        elif a == b or b == c or a == c:\n",
    "            return \"The triangle is isosceles.\"\n",
    "        else:\n",
    "            return \"The triangle is scalene.\"\n",
    "    else:\n",
    "        return \"The given sides do not form a valid triangle.\"\n",
    "\n",
    "# Example usage:\n",
    "side1 = float(input(\"Enter the length of the first side: \"))\n",
    "side2 = float(input(\"Enter the length of the second side: \"))\n",
    "side3 = float(input(\"Enter the length of the third side: \"))\n",
    "\n",
    "result = identify_triangle_type(side1, side2, side3)\n",
    "print(result)"
   ]
  },
  {
   "cell_type": "code",
   "execution_count": null,
   "id": "46c06315-3b2f-4392-88ca-82f6c5838e0e",
   "metadata": {},
   "outputs": [],
   "source": [
    "13. Write a Python program to determine the day of the week based on a user-provided number using if-else."
   ]
  },
  {
   "cell_type": "code",
   "execution_count": null,
   "id": "20b85fc9-cb84-4cdb-b7cf-7a201302a595",
   "metadata": {},
   "outputs": [],
   "source": [
    "def determine_day_of_week(day_number):\n",
    "    if day_number == 1:\n",
    "        return \"Sunday\"\n",
    "    elif day_number == 2:\n",
    "        return \"Monday\"\n",
    "    elif day_number == 3:\n",
    "        return \"Tuesday\"\n",
    "    elif day_number == 4:\n",
    "        return \"Wednesday\"\n",
    "    elif day_number == 5:\n",
    "        return \"Thursday\"\n",
    "    elif day_number == 6:\n",
    "        return \"Friday\"\n",
    "    elif day_number == 7:\n",
    "        return \"Saturday\"\n",
    "    else:\n",
    "        return \"Invalid number. Please enter a number between 1 and 7.\"\n",
    "\n",
    "# Example usage:\n",
    "day_number = int(input(\"Enter a number (1-7) to determine the day of the week: \"))\n",
    "result = determine_day_of_week(day_number)\n",
    "print(result)"
   ]
  },
  {
   "cell_type": "code",
   "execution_count": null,
   "id": "701ca0d2-6dbc-4c02-a565-eef832c3efb6",
   "metadata": {},
   "outputs": [],
   "source": [
    "14. Create a Python program that checks if a given year is a leap year using both if-else and a function."
   ]
  },
  {
   "cell_type": "code",
   "execution_count": null,
   "id": "e93cccb3-fad5-41f1-b7a2-b0a4f4abeaff",
   "metadata": {},
   "outputs": [],
   "source": [
    "def is_leap_year(year):\n",
    "    # Check if the year is a leap year\n",
    "    if (year % 4 == 0 and year % 100 != 0) or (year % 400 == 0):\n",
    "        return True\n",
    "    else:\n",
    "        return False\n",
    "\n",
    "# Example usage:\n",
    "year = int(input(\"Enter a year: \"))\n",
    "\n",
    "if is_leap_year(year):\n",
    "    print(f\"{year} is a leap year.\")\n",
    "else:\n",
    "    print(f\"{year} is not a leap year.\")"
   ]
  },
  {
   "cell_type": "code",
   "execution_count": null,
   "id": "bd557d52-2eef-4f26-9aea-6e76a80e4ea3",
   "metadata": {},
   "outputs": [],
   "source": [
    "15. How do you use the \"assert\" statement in Python to add debugging checks within if-else blocks?"
   ]
  },
  {
   "cell_type": "code",
   "execution_count": null,
   "id": "7dc89ca2-f61f-47b0-a546-a1ec3befc9fb",
   "metadata": {},
   "outputs": [],
   "source": [
    "def check_positive_number(num):\n",
    "    if num >= 0:\n",
    "        # Assert that the number should be positive\n",
    "        assert num >= 0, \"Number must be positive\"\n",
    "        print(f\"{num} is positive.\")\n",
    "    else:\n",
    "        print(f\"{num} is negative.\")\n",
    "\n",
    "# Example usage:\n",
    "number = int(input(\"Enter a number: \"))\n",
    "check_positive_number(number)\n"
   ]
  },
  {
   "cell_type": "code",
   "execution_count": null,
   "id": "31fa79cf-46aa-4d88-ad3e-7c9b712e77a3",
   "metadata": {},
   "outputs": [],
   "source": [
    "16. Create a Python program that determines the eligibility of a person for a senior citizen discount based on age using if-else"
   ]
  },
  {
   "cell_type": "code",
   "execution_count": null,
   "id": "9c7589ae-09ea-4076-a893-e1a3c9910d75",
   "metadata": {},
   "outputs": [],
   "source": [
    "def check_senior_citizen_discount(age):\n",
    "    # Define the age threshold for senior citizen discount\n",
    "    SENIOR_CITIZEN_AGE = 65\n",
    "\n",
    "    if age >= SENIOR_CITIZEN_AGE:\n",
    "        return \"You are eligible for a senior citizen discount.\"\n",
    "    else:\n",
    "        return \"You are not eligible for a senior citizen discount.\"\n",
    "\n",
    "# Example usage:\n",
    "age = int(input(\"Enter your age: \"))\n",
    "result = check_senior_citizen_discount(age)\n",
    "print(result)\n"
   ]
  },
  {
   "cell_type": "code",
   "execution_count": null,
   "id": "a58fe77e-d2ba-44ac-b24d-0a05567acd2f",
   "metadata": {},
   "outputs": [],
   "source": [
    "17. Write a Python program to categorize a given character as uppercase, lowercase, or neither using if-else."
   ]
  },
  {
   "cell_type": "code",
   "execution_count": null,
   "id": "a2770ba9-6b1d-4aa0-89b3-090309e4cb72",
   "metadata": {},
   "outputs": [],
   "source": [
    "def categorize_character(char):\n",
    "    if char.isupper():\n",
    "        return f\"'{char}' is an uppercase letter.\"\n",
    "    elif char.islower():\n",
    "        return f\"'{char}' is a lowercase letter.\"\n",
    "    else:\n",
    "        return f\"'{char}' is neither an uppercase nor a lowercase letter.\"\n",
    "\n",
    "# Example usage:\n",
    "character = input(\"Enter a character: \")\n",
    "\n",
    "# Ensure the input is a single character\n",
    "if len(character) == 1:\n",
    "    result = categorize_character(character)\n",
    "else:\n",
    "    result = \"Please enter a single character.\"\n",
    "\n",
    "print(result)\n"
   ]
  },
  {
   "cell_type": "code",
   "execution_count": null,
   "id": "ed769150-6576-4bcc-a7fb-5a3d77ad9348",
   "metadata": {},
   "outputs": [],
   "source": [
    "18. Write a Python program to determine the roots of a quadratic equation using if-else.\n"
   ]
  },
  {
   "cell_type": "code",
   "execution_count": null,
   "id": "cf4e0ac5-2d35-403a-a9fe-81a51549942e",
   "metadata": {},
   "outputs": [],
   "source": [
    "import cmath  # Import cmath to handle complex numbers\n",
    "\n",
    "def find_roots(a, b, c):\n",
    "    # Calculate the discriminant\n",
    "    discriminant = b**2 - 4*a*c\n",
    "    \n",
    "    # Determine the nature of the roots\n",
    "    if discriminant > 0:\n",
    "        # Two distinct real roots\n",
    "        root1 = (-b + cmath.sqrt(discriminant)) / (2*a)\n",
    "        root2 = (-b - cmath.sqrt(discriminant)) / (2*a)\n",
    "        return f\"The roots are real and distinct: {root1:.2f} and {root2:.2f}\"\n",
    "    elif discriminant == 0:\n",
    "        # One real root (repeated root)\n",
    "        root = -b / (2*a)\n",
    "        return f\"The root is real and repeated: {root:.2f}\"\n",
    "    else:\n",
    "        # Complex roots\n",
    "        real_part = -b / (2*a)\n",
    "        imaginary_part = cmath.sqrt(-discriminant) / (2*a)\n",
    "        return (f\"The roots are complex: {real_part:.2f} + {imaginary_part:.2f}i and \"\n",
    "                f\"{real_part:.2f} - {imaginary_part:.2f}i\")\n",
    "\n",
    "# Example usage:\n",
    "a = float(input(\"Enter the coefficient a: \"))\n",
    "b = float(input(\"Enter the coefficient b: \"))\n",
    "c = float(input(\"Enter the coefficient c: \"))\n",
    "\n",
    "if a == 0:\n",
    "    print(\"The coefficient 'a' must be non-zero for a quadratic equation.\")\n",
    "else:\n",
    "    result = find_roots(a, b, c)\n",
    "    print(result)\n"
   ]
  },
  {
   "cell_type": "code",
   "execution_count": null,
   "id": "9acddff3-4996-470c-b52d-0301e8cfe87e",
   "metadata": {},
   "outputs": [],
   "source": [
    "19. Create a Python program that checks if a given year is a century year or not using if-else."
   ]
  },
  {
   "cell_type": "code",
   "execution_count": null,
   "id": "29db5a44-29eb-4206-9411-404f461b5c4d",
   "metadata": {},
   "outputs": [],
   "source": [
    "def check_century_year(year):\n",
    "    if year % 100 == 0:\n",
    "        return f\"{year} is a century year.\"\n",
    "    else:\n",
    "        return f\"{year} is not a century year.\"\n",
    "\n",
    "# Example usage:\n",
    "year = int(input(\"Enter a year: \"))\n",
    "result = check_century_year(year)\n",
    "print(result)\n"
   ]
  },
  {
   "cell_type": "code",
   "execution_count": null,
   "id": "61457a32-444f-407b-932f-f1cf6d074394",
   "metadata": {},
   "outputs": [],
   "source": [
    "20. Write a Python program to determine if a given number is a perfect square using if-else."
   ]
  },
  {
   "cell_type": "code",
   "execution_count": null,
   "id": "6102d42e-9b72-4d35-8318-9132f0e62516",
   "metadata": {},
   "outputs": [],
   "source": [
    "import math\n",
    "\n",
    "def is_perfect_square(num):\n",
    "    if num < 0:\n",
    "        return f\"{num} is not a perfect square (negative numbers cannot be perfect squares).\"\n",
    "    \n",
    "    # Calculate the square root of the number\n",
    "    sqrt_num = math.isqrt(num)\n",
    "    \n",
    "    # Check if the square of the integer square root equals the original number\n",
    "    if sqrt_num * sqrt_num == num:\n",
    "        return f\"{num} is a perfect square.\"\n",
    "    else:\n",
    "        return f\"{num} is not a perfect square.\"\n",
    "\n",
    "# Example usage:\n",
    "number = int(input(\"Enter a number: \"))\n",
    "result = is_perfect_square(number)\n",
    "print(result)\n"
   ]
  },
  {
   "cell_type": "code",
   "execution_count": null,
   "id": "af4492b8-2743-4fc0-9b92-f2e70db3939b",
   "metadata": {},
   "outputs": [],
   "source": [
    "21. Explain the purpose of the \"continue\" and \"break\" statements within if-else loops.\n"
   ]
  },
  {
   "cell_type": "code",
   "execution_count": null,
   "id": "8afc10ff-1cd0-4a76-b28f-81e341f592e8",
   "metadata": {},
   "outputs": [],
   "source": [
    "for i in range(10):\n",
    "    if i % 2 == 0:\n",
    "        continue  # Skip even numbers\n",
    "    print(i)  # This will only print odd numbers\n"
   ]
  },
  {
   "cell_type": "code",
   "execution_count": null,
   "id": "2d81c760-05e7-4e8e-9e58-ba5f21e961dc",
   "metadata": {},
   "outputs": [],
   "source": [
    "22. Create a Python program that calculates the BMI (Body Mass Index) of a person based on their weight and height using if-else.\n"
   ]
  },
  {
   "cell_type": "code",
   "execution_count": null,
   "id": "3c552690-7888-4e4e-8873-60ff2eb614e8",
   "metadata": {},
   "outputs": [],
   "source": [
    "def calculate_bmi(weight, height):\n",
    "    # Calculate BMI\n",
    "    bmi = weight / (height ** 2)\n",
    "    return bmi\n",
    "\n",
    "def categorize_bmi(bmi):\n",
    "    # Categorize the BMI\n",
    "    if bmi < 18.5:\n",
    "        return \"Underweight\"\n",
    "    elif 18.5 <= bmi < 24.9:\n",
    "        return \"Normal weight\"\n",
    "    elif 25 <= bmi < 29.9:\n",
    "        return \"Overweight\"\n",
    "    else:\n",
    "        return \"Obesity\"\n",
    "\n",
    "# Example usage:\n",
    "weight = float(input(\"Enter your weight in kilograms: \"))\n",
    "height = float(input(\"Enter your height in meters: \"))\n",
    "\n",
    "if height <= 0:\n",
    "    print(\"Height must be greater than zero.\")\n",
    "else:\n",
    "    bmi = calculate_bmi(weight, height)\n",
    "    category = categorize_bmi(bmi)\n",
    "    print(f\"Your BMI is: {bmi:.2f}\")\n",
    "    print(f\"Your weight category is: {category}\")\n"
   ]
  },
  {
   "cell_type": "code",
   "execution_count": null,
   "id": "7eaeb0c8-46eb-4f3a-9cf3-7dd6ab161dd5",
   "metadata": {},
   "outputs": [],
   "source": [
    "23. How can you use the \"filter()\" function with if-else statements to filter elements from a list?\n"
   ]
  },
  {
   "cell_type": "code",
   "execution_count": null,
   "id": "860b5265-e179-4141-9b88-3515ace507da",
   "metadata": {},
   "outputs": [],
   "source": [
    "numbers = [1, 2, 3, 4, 5, 6, 7, 8, 9, 10]\n",
    "\n",
    "# Use filter() with a lambda function\n",
    "even_numbers = list(filter(lambda x: x % 2 == 0, numbers))\n",
    "\n",
    "print(\"Even numbers:\", even_numbers)\n"
   ]
  },
  {
   "cell_type": "code",
   "execution_count": null,
   "id": "137d68a9-733b-4c39-88f3-9fcf954b4cbb",
   "metadata": {},
   "outputs": [],
   "source": [
    "24. Write a Python program to determine if a given number is prime or not using if-else.\n"
   ]
  },
  {
   "cell_type": "code",
   "execution_count": null,
   "id": "6cefd4c1-34a4-4f04-99fd-b711d1461339",
   "metadata": {},
   "outputs": [],
   "source": [
    "def is_prime(number):\n",
    "    # Handle edge cases\n",
    "    if number <= 1:\n",
    "        return False\n",
    "    if number <= 3:\n",
    "        return True\n",
    "    if number % 2 == 0 or number % 3 == 0:\n",
    "        return False\n",
    "\n",
    "    # Check for factors from 5 to sqrt(number)\n",
    "    i = 5\n",
    "    while i * i <= number:\n",
    "        if number % i == 0 or number % (i + 2) == 0:\n",
    "            return False\n",
    "        i += 6\n",
    "\n",
    "    return True\n",
    "\n",
    "# Example usage\n",
    "number = int(input(\"Enter a number to check if it is prime: \"))\n",
    "\n",
    "if is_prime(number):\n",
    "    print(f\"{number} is a prime number.\")\n",
    "else:\n",
    "    print(f\"{number} is not a prime number.\")"
   ]
  },
  {
   "cell_type": "code",
   "execution_count": null,
   "id": "1a61d013-3618-4c50-bfff-21626d2586b0",
   "metadata": {},
   "outputs": [],
   "source": [
    "Map :-\n"
   ]
  },
  {
   "cell_type": "code",
   "execution_count": null,
   "id": "de98054f-d663-457e-8d90-959300bedfa9",
   "metadata": {},
   "outputs": [],
   "source": [
    "1. Explain the purpose of the `map()` function in Python and provide an example of how it can be used to apply a function to each element of an iterable.\n"
   ]
  },
  {
   "cell_type": "code",
   "execution_count": null,
   "id": "46530cde-11cd-4828-8b93-564fe9fe06f1",
   "metadata": {},
   "outputs": [],
   "source": [
    "# Define a function that squares a number\n",
    "def square(x):\n",
    "    return x * x\n",
    "\n",
    "# List of numbers\n",
    "numbers = [1, 2, 3, 4, 5]\n",
    "\n",
    "# Apply the square function to each element of the list using map\n",
    "squared_numbers = map(square, numbers)\n",
    "\n",
    "# Convert the map object to a list and print it\n",
    "print(list(squared_numbers))"
   ]
  },
  {
   "cell_type": "code",
   "execution_count": null,
   "id": "d4fcc837-341d-4821-bcee-2db36c9c6112",
   "metadata": {},
   "outputs": [],
   "source": [
    "2. Write a Python program that uses the `map()` function to square each element of a list of numbers.\n"
   ]
  },
  {
   "cell_type": "code",
   "execution_count": null,
   "id": "2ef43d7f-9394-4017-b782-2e4613e6f1cd",
   "metadata": {},
   "outputs": [],
   "source": [
    "# Define a function that squares a number\n",
    "def square(x):\n",
    "    return x * x\n",
    "\n",
    "# List of numbers\n",
    "numbers = [1, 2, 3, 4, 5]\n",
    "\n",
    "# Use the map function to apply the square function to each element in the list\n",
    "squared_numbers = map(square, numbers)\n",
    "\n",
    "# Convert the map object to a list and print the result\n",
    "print(list(squared_numbers))"
   ]
  },
  {
   "cell_type": "code",
   "execution_count": null,
   "id": "1406ae41-cf63-46a8-94f8-2a6ad8e45fd9",
   "metadata": {},
   "outputs": [],
   "source": [
    "3. How does the `map()` function differ from a list comprehension in Python, and when would you choose one over the other?\n"
   ]
  },
  {
   "cell_type": "code",
   "execution_count": null,
   "id": "4cfb5866-e64e-4f7b-a949-5e780a235645",
   "metadata": {},
   "outputs": [],
   "source": [
    "# Function to square a number\n",
    "def square(x):\n",
    "    return x * x\n",
    "\n",
    "# Using map to square numbers\n",
    "numbers = [1, 2, 3, 4, 5]\n",
    "squared_numbers = list(map(square, numbers))\n",
    "print(squared_numbers)"
   ]
  },
  {
   "cell_type": "code",
   "execution_count": null,
   "id": "73eea254-09b9-4d24-9934-e1f3902d8b40",
   "metadata": {},
   "outputs": [],
   "source": [
    "numbers = [1, 2, 3, 4, 5]\n",
    "squared_numbers = [x * x for x in numbers]\n",
    "print(squared_numbers)\n"
   ]
  },
  {
   "cell_type": "code",
   "execution_count": null,
   "id": "a60d6973-8ed9-48ec-a19d-30e4da5fec56",
   "metadata": {},
   "outputs": [],
   "source": [
    "When to Choose map():\n",
    "When you have a simple transformation that involves an existing function (especially built-in functions like str(), int(), etc.).\n",
    "When you are working with large datasets and want to take advantage of map()'s iterator behavior for memory efficiency.\n",
    "When to Choose List Comprehension:\n",
    "When readability is a priority, especially for more complex transformations or when you need to embed conditions.\n",
    "When you need to write inline logic or handle more complex scenarios directly within the comprehension."
   ]
  },
  {
   "cell_type": "code",
   "execution_count": null,
   "id": "2fe1d963-4513-4f54-860f-5c13c604dbc5",
   "metadata": {},
   "outputs": [],
   "source": [
    "4. Create a Python program that uses the `map()` function to convert a list of names to uppercase.\n"
   ]
  },
  {
   "cell_type": "code",
   "execution_count": null,
   "id": "3cd38cd8-f4a1-41d2-ab7d-192114cf0ecc",
   "metadata": {},
   "outputs": [],
   "source": [
    "# List of names\n",
    "names = [\"alice\", \"bob\", \"charlie\", \"david\"]\n",
    "\n",
    "# Use the map function to apply str.upper to each name\n",
    "uppercase_names = map(str.upper, names)\n",
    "\n",
    "# Convert the map object to a list and print the result\n",
    "print(list(uppercase_names))\n"
   ]
  },
  {
   "cell_type": "code",
   "execution_count": null,
   "id": "857b1922-55df-4f14-bdec-a29b817874ff",
   "metadata": {},
   "outputs": [],
   "source": [
    "5. Write a Python program that uses the `map()` function to calculate the length of each word in a list of strings.\n"
   ]
  },
  {
   "cell_type": "code",
   "execution_count": null,
   "id": "a1b697d7-3a6c-4572-97fe-f029ca093810",
   "metadata": {},
   "outputs": [],
   "source": [
    "# List of words\n",
    "words = [\"apple\", \"banana\", \"cherry\", \"date\"]\n",
    "\n",
    "# Use the map function to apply the len() function to each word\n",
    "word_lengths = map(len, words)\n",
    "\n",
    "# Convert the map object to a list and print the result\n",
    "print(list(word_lengths))"
   ]
  },
  {
   "cell_type": "code",
   "execution_count": null,
   "id": "687b38b8-da98-4cf4-bb83-525aa2a04a59",
   "metadata": {},
   "outputs": [],
   "source": [
    "6. How can you use the `map()` function to apply a custom function to elements of multiple lists simultaneously in Python?\n"
   ]
  },
  {
   "cell_type": "code",
   "execution_count": null,
   "id": "3e96c9a1-2cb2-4b0f-90b1-28fb6e8c46e0",
   "metadata": {},
   "outputs": [],
   "source": [
    "# Define a custom function that adds two numbers\n",
    "def add_numbers(x, y):\n",
    "    return x + y\n",
    "\n",
    "# Two lists of numbers\n",
    "list1 = [1, 2, 3, 4]\n",
    "list2 = [10, 20, 30, 40]\n",
    "\n",
    "# Use map() to apply add_numbers to corresponding elements of list1 and list2\n",
    "sum_list = map(add_numbers, list1, list2)\n",
    "\n",
    "# Convert the map object to a list and print the result\n",
    "print(list(sum_list))\n"
   ]
  },
  {
   "cell_type": "code",
   "execution_count": null,
   "id": "bf87fd42-f1ad-4875-8ea1-d63c89ceeac3",
   "metadata": {},
   "outputs": [],
   "source": [
    "7. Create a Python program that uses `map()` to convert a list of temperatures from Celsius to Fahrenheit."
   ]
  },
  {
   "cell_type": "code",
   "execution_count": null,
   "id": "0f06fbdb-4f99-4e4d-95c7-54153f9792be",
   "metadata": {},
   "outputs": [],
   "source": [
    "# Define a custom function that adds two numbers\n",
    "def add_numbers(x, y):\n",
    "    return x + y\n",
    "\n",
    "# Two lists of numbers\n",
    "list1 = [1, 2, 3, 4]\n",
    "list2 = [10, 20, 30, 40]\n",
    "\n",
    "# Use map() to apply add_numbers to corresponding elements of list1 and list2\n",
    "sum_list = map(add_numbers, list1, list2)\n",
    "\n",
    "# Convert the map object to a list and print the result\n",
    "print(list(sum_list))\n"
   ]
  },
  {
   "cell_type": "code",
   "execution_count": null,
   "id": "bbe0511d-1916-408a-a626-78559f657d03",
   "metadata": {},
   "outputs": [],
   "source": [
    "8. Write a Python program that uses the `map()` function to round each element of a list of floating-point numbers to the nearest integer.\n"
   ]
  },
  {
   "cell_type": "code",
   "execution_count": null,
   "id": "62ac1823-ea57-4561-8553-25e0d803d6b1",
   "metadata": {},
   "outputs": [],
   "source": [
    "# List of floating-point numbers\n",
    "float_numbers = [3.6, 1.2, 7.9, 4.4, 8.5]\n",
    "\n",
    "# Use map() to apply the round function to each number in the list\n",
    "rounded_numbers = map(round, float_numbers)\n",
    "\n",
    "# Convert the map object to a list and print the result\n",
    "print(list(rounded_numbers))\n"
   ]
  },
  {
   "cell_type": "code",
   "execution_count": null,
   "id": "2f52b857-9708-4613-809f-640ed457acf6",
   "metadata": {},
   "outputs": [],
   "source": []
  },
  {
   "cell_type": "code",
   "execution_count": null,
   "id": "ed0e0085-ebbd-41a9-badd-6011f18a5e9c",
   "metadata": {},
   "outputs": [],
   "source": [
    "Reduce :-"
   ]
  },
  {
   "cell_type": "code",
   "execution_count": null,
   "id": "b94f1818-f2c4-4e94-ad9e-72102ff36f14",
   "metadata": {},
   "outputs": [],
   "source": [
    "1. What is the `reduce()` function in Python, and what module should you import to use it? Provide "
   ]
  },
  {
   "cell_type": "code",
   "execution_count": null,
   "id": "12495130-daf6-401f-8971-c1b3baa0273d",
   "metadata": {},
   "outputs": [],
   "source": [
    "'''The reduce() function in Python is used to apply a binary (two-argument) function cumulatively to the elements of an iterable, reducing the iterable to a single value. It processes the iterable from left to right, combining two elements at a time using the specified function until only one value remains.\n",
    "To use reduce(), you need to import it from the functools module, as it is not a built-in function in Python 3.'''\n",
    "\n",
    "# Define a binary function for multiplication\n",
    "def multiply(x, y):\n",
    "    return x * y\n",
    "\n",
    "# List of numbers\n",
    "numbers = [1, 2, 3, 4]\n",
    "\n",
    "# Use reduce to apply the multiply function cumulatively\n",
    "result = reduce(multiply, numbers)\n",
    "\n",
    "print(result) "
   ]
  },
  {
   "cell_type": "code",
   "execution_count": null,
   "id": "eba94fe2-241d-4b06-94fa-7ce46e9e1da5",
   "metadata": {},
   "outputs": [],
   "source": [
    "2. Write a Python program that uses the `reduce()` function to find the product of all elements in a list.\n"
   ]
  },
  {
   "cell_type": "code",
   "execution_count": null,
   "id": "f9884391-7793-4bed-8f62-7836fbc93fc4",
   "metadata": {},
   "outputs": [],
   "source": [
    "from functools import reduce\n",
    "\n",
    "# Function to multiply two numbers\n",
    "def multiply(x, y):\n",
    "    return x * y\n",
    "\n",
    "# List of numbers\n",
    "numbers = [2, 3, 5, 7, 11]\n",
    "\n",
    "# Use reduce to find the product of all elements in the list\n",
    "product = reduce(multiply, numbers)\n",
    "\n",
    "# Output the result\n",
    "print(\"The product of all elements in the list is:\", product)\n"
   ]
  },
  {
   "cell_type": "code",
   "execution_count": null,
   "id": "06b148e4-a8d5-475d-a177-bdb88208be04",
   "metadata": {},
   "outputs": [],
   "source": [
    "3. Create a Python program that uses `reduce()` to find the maximum element in a list of numbers.\n"
   ]
  },
  {
   "cell_type": "code",
   "execution_count": null,
   "id": "57b249e2-1227-41c7-b98e-266037c26f21",
   "metadata": {},
   "outputs": [],
   "source": [
    "from functools import reduce\n",
    "\n",
    "# Function to find the maximum of two numbers\n",
    "def maximum(x, y):\n",
    "    return x if x > y else y\n",
    "\n",
    "# List of numbers\n",
    "numbers = [3, 17, 5, 22, 1, 13]\n",
    "\n",
    "# Use reduce to find the maximum element in the list\n",
    "max_element = reduce(maximum, numbers)\n",
    "\n",
    "# Output the result\n",
    "print(\"The maximum element in the list is:\", max_element)\n"
   ]
  },
  {
   "cell_type": "code",
   "execution_count": null,
   "id": "dd9fc1e2-7838-46e7-97a5-57af3f2f8057",
   "metadata": {},
   "outputs": [],
   "source": [
    "4. How can you use the `reduce()` function to concatenate a list of strings into a single string?\n"
   ]
  },
  {
   "cell_type": "code",
   "execution_count": null,
   "id": "879acfb6-45dd-4674-a0b6-9e41983eb0b6",
   "metadata": {},
   "outputs": [],
   "source": [
    "from functools import reduce\n",
    "\n",
    "# List of strings\n",
    "words = [\"Python\", \"is\", \"awesome\"]\n",
    "\n",
    "# Use reduce to concatenate the list of strings\n",
    "concatenated_string = reduce(lambda x, y: x + \" \" + y, words)\n",
    "\n",
    "# Output the result\n",
    "print(concatenated_string)\n"
   ]
  },
  {
   "cell_type": "code",
   "execution_count": null,
   "id": "f60c2c06-da40-4607-92dc-d651f5d6dec3",
   "metadata": {},
   "outputs": [],
   "source": [
    "5. Write a Python program that calculates the factorial of a number using the `reduce()` function.\n"
   ]
  },
  {
   "cell_type": "code",
   "execution_count": null,
   "id": "9ccda9b9-f372-4642-93f0-cf1a6d0e3f6f",
   "metadata": {},
   "outputs": [],
   "source": [
    "from functools import reduce\n",
    "\n",
    "# Function to multiply two numbers\n",
    "def multiply(x, y):\n",
    "    return x * y\n",
    "\n",
    "# Function to calculate factorial using reduce\n",
    "def factorial(n):\n",
    "    if n < 0:\n",
    "        raise ValueError(\"Factorial is not defined for negative numbers\")\n",
    "    # Create a list of numbers from 1 to n\n",
    "    numbers = list(range(1, n + 1))\n",
    "    # Use reduce to compute the factorial\n",
    "    return reduce(multiply, numbers, 1)  # Initial value is 1\n",
    "\n",
    "# Example usage\n",
    "number = 5\n",
    "fact = factorial(number)\n",
    "\n",
    "print(f\"The factorial of {number} is: {fact}\")\n"
   ]
  },
  {
   "cell_type": "code",
   "execution_count": null,
   "id": "247a0f79-2266-4ef4-96ab-8bd65ff1bf8f",
   "metadata": {},
   "outputs": [],
   "source": [
    "6. Create a Python program that uses `reduce()` to find the GCD (Greatest Common Divisor) of a list of numbers.\n",
    "\n"
   ]
  },
  {
   "cell_type": "code",
   "execution_count": null,
   "id": "acf37253-6acc-48ef-87aa-a9644a867283",
   "metadata": {},
   "outputs": [],
   "source": [
    "from functools import reduce\n",
    "import math\n",
    "\n",
    "# Function to compute the GCD of two numbers\n",
    "def gcd(x, y):\n",
    "    return math.gcd(x, y)\n",
    "\n",
    "# Function to find the GCD of a list of numbers using reduce\n",
    "def find_gcd(numbers):\n",
    "    if not numbers:\n",
    "        raise ValueError(\"List is empty, cannot compute GCD\")\n",
    "    return reduce(gcd, numbers)\n",
    "\n",
    "# Example usage\n",
    "numbers = [24, 36, 60, 72]\n",
    "\n",
    "# Find the GCD of the list\n",
    "gcd_result = find_gcd(numbers)\n",
    "\n",
    "print(f\"The GCD of the list {numbers} is: {gcd_result}\")\n"
   ]
  },
  {
   "cell_type": "code",
   "execution_count": null,
   "id": "6af83c33-4eed-4f9b-b212-fa14508bb2c4",
   "metadata": {},
   "outputs": [],
   "source": [
    "7. Write a Python program that uses the `reduce()` function to find the sum of the digits of a given number.\n"
   ]
  },
  {
   "cell_type": "code",
   "execution_count": null,
   "id": "552ce47c-2259-4a6a-baf6-59cd8d5c11fe",
   "metadata": {},
   "outputs": [],
   "source": [
    "from functools import reduce\n",
    "\n",
    "# Function to add two numbers\n",
    "def add(x, y):\n",
    "    return x + y\n",
    "\n",
    "# Function to compute the sum of the digits of a number\n",
    "def sum_of_digits(number):\n",
    "    # Convert number to string to iterate over digits\n",
    "    digits = [int(digit) for digit in str(number)]\n",
    "    # Use reduce to compute the sum of the digits\n",
    "    return reduce(add, digits, 0)  # Initial value is 0\n",
    "\n",
    "# Example usage\n",
    "number = 12345\n",
    "digit_sum = sum_of_digits(number)\n",
    "\n",
    "print(f\"The sum of the digits of {number} is: {digit_sum}\")\n"
   ]
  },
  {
   "cell_type": "code",
   "execution_count": null,
   "id": "73d9227d-b49d-49dd-adfb-45cf332deb09",
   "metadata": {},
   "outputs": [],
   "source": []
  },
  {
   "cell_type": "code",
   "execution_count": null,
   "id": "0912b48a-621b-4776-9afc-5aff5892be35",
   "metadata": {},
   "outputs": [],
   "source": [
    "Filter :-"
   ]
  },
  {
   "cell_type": "code",
   "execution_count": null,
   "id": "1ee5a6cc-bd02-45b2-aa4d-3231d9dafbf4",
   "metadata": {},
   "outputs": [],
   "source": [
    "1. Explain the purpose of the `filter()` function in Python and provide an example of how it can be used to filter elements from an iterable.\n"
   ]
  },
  {
   "cell_type": "code",
   "execution_count": null,
   "id": "20272578-4e16-442a-af07-9c52bca3ed5e",
   "metadata": {},
   "outputs": [],
   "source": [
    "# Function to determine if a number is even\n",
    "def is_even(num):\n",
    "    return num % 2 == 0\n",
    "\n",
    "# List of numbers\n",
    "numbers = [1, 2, 3, 4, 5, 6, 7, 8, 9, 10]\n",
    "\n",
    "# Use filter to select only even numbers\n",
    "even_numbers = filter(is_even, numbers)\n",
    "\n",
    "# Convert filter object to list to display the results\n",
    "even_numbers_list = list(even_numbers)\n",
    "\n",
    "print(\"Even numbers:\", even_numbers_list)\n"
   ]
  },
  {
   "cell_type": "code",
   "execution_count": null,
   "id": "9671b560-68ba-4e54-82c4-b44694b442a3",
   "metadata": {},
   "outputs": [],
   "source": [
    "2. Write a Python program that uses the `filter()` function to select even numbers from a list of integers.\n"
   ]
  },
  {
   "cell_type": "code",
   "execution_count": null,
   "id": "5fbbc8f3-6037-4aa8-9067-7a73dac10c77",
   "metadata": {},
   "outputs": [],
   "source": [
    "# Function to determine if a number is even\n",
    "def is_even(num):\n",
    "    return num % 2 == 0\n",
    "\n",
    "# List of integers\n",
    "numbers = [10, 15, 23, 42, 56, 78, 99, 104]\n",
    "\n",
    "# Use filter to select only even numbers\n",
    "even_numbers = filter(is_even, numbers)\n",
    "\n",
    "# Convert filter object to a list to display the results\n",
    "even_numbers_list = list(even_numbers)\n",
    "\n",
    "print(\"Even numbers:\", even_numbers_list)\n"
   ]
  },
  {
   "cell_type": "code",
   "execution_count": null,
   "id": "d153b94e-4fe7-4368-a65b-99c6015879ac",
   "metadata": {},
   "outputs": [],
   "source": [
    "3. Create a Python program that uses the `filter()` function to select names that start with a specific letter from a list of strings.\n"
   ]
  },
  {
   "cell_type": "code",
   "execution_count": null,
   "id": "5cab2433-7002-4f33-b7fd-74d2ea0fccb8",
   "metadata": {},
   "outputs": [],
   "source": [
    "# Function to determine if a name starts with a specific letter\n",
    "def starts_with(letter, name):\n",
    "    return name.startswith(letter)\n",
    "\n",
    "# List of names\n",
    "names = [\"Alice\", \"Bob\", \"Charlie\", \"David\", \"Eve\", \"Frank\", \"Grace\"]\n",
    "\n",
    "# Specify the letter to filter by\n",
    "letter = 'A'\n",
    "\n",
    "# Use filter to select names that start with the specified letter\n",
    "filtered_names = filter(lambda name: starts_with(letter, name), names)\n",
    "\n",
    "# Convert filter object to a list to display the results\n",
    "filtered_names_list = list(filtered_names)\n",
    "\n",
    "print(f\"Names that start with '{letter}':\", filtered_names_list)\n"
   ]
  },
  {
   "cell_type": "code",
   "execution_count": null,
   "id": "b669268b-9f51-4e69-9e55-dbc3d595eca7",
   "metadata": {},
   "outputs": [],
   "source": [
    "4. Write a Python program that uses the `filter()` function to select prime numbers from a list of integers.\n"
   ]
  },
  {
   "cell_type": "code",
   "execution_count": null,
   "id": "34476505-c827-4181-8f6e-a11645888090",
   "metadata": {},
   "outputs": [],
   "source": [
    "from math import isqrt\n",
    "\n",
    "# Function to check if a number is prime\n",
    "def is_prime(num):\n",
    "    if num <= 1:\n",
    "        return False\n",
    "    if num <= 3:\n",
    "        return True\n",
    "    if num % 2 == 0 or num % 3 == 0:\n",
    "        return False\n",
    "    i = 5\n",
    "    while i * i <= num:\n",
    "        if num % i == 0 or num % (i + 2) == 0:\n",
    "            return False\n",
    "        i += 6\n",
    "    return True\n",
    "\n",
    "# List of integers\n",
    "numbers = [2, 3, 4, 5, 6, 7, 8, 9, 10, 11, 13, 17, 19, 23, 29, 31]\n",
    "\n",
    "# Use filter to select prime numbers\n",
    "prime_numbers = filter(is_prime, numbers)\n",
    "\n",
    "# Convert filter object to a list to display the results\n",
    "prime_numbers_list = list(prime_numbers)\n",
    "\n",
    "print(\"Prime numbers:\", prime_numbers_list)\n"
   ]
  },
  {
   "cell_type": "code",
   "execution_count": null,
   "id": "c58eb116-27f9-4836-9182-91940a1966a5",
   "metadata": {},
   "outputs": [],
   "source": [
    "5. How can you use the `filter()` function to remove None values from a list in Python?\n"
   ]
  },
  {
   "cell_type": "code",
   "execution_count": null,
   "id": "46f65e75-d1bd-486b-a071-a67c162d4a37",
   "metadata": {},
   "outputs": [],
   "source": [
    "# List with some None values\n",
    "data = [1, None, 2, None, 3, 4, None, 5]\n",
    "\n",
    "# Use filter to remove None values\n",
    "filtered_data = filter(lambda x: x is not None, data)\n",
    "\n",
    "# Convert filter object to a list to display the results\n",
    "filtered_data_list = list(filtered_data)\n",
    "\n",
    "print(\"Filtered data (None values removed):\", filtered_data_list)\n"
   ]
  },
  {
   "cell_type": "code",
   "execution_count": null,
   "id": "2db8ae58-f18d-4c0c-a003-48d17c53a4fd",
   "metadata": {},
   "outputs": [],
   "source": [
    "6. Create a Python program that uses `filter()` to select words longer than a certain length from a list of strings.\n"
   ]
  },
  {
   "cell_type": "code",
   "execution_count": null,
   "id": "d99da1ef-e13d-42ad-9995-37406b8e5292",
   "metadata": {},
   "outputs": [],
   "source": [
    "# Function to check if a word is longer than a given length\n",
    "def longer_than(word, length):\n",
    "    return len(word) > length\n",
    "\n",
    "# List of words\n",
    "words = [\"apple\", \"banana\", \"kiwi\", \"pineapple\", \"grape\", \"strawberry\"]\n",
    "\n",
    "# Specify the minimum length\n",
    "min_length = 5\n",
    "\n",
    "# Use filter to select words longer than min_length\n",
    "filtered_words = filter(lambda word: longer_than(word, min_length), words)\n",
    "\n",
    "# Convert filter object to a list to display the results\n",
    "filtered_words_list = list(filtered_words)\n",
    "\n",
    "print(f\"Words longer than {min_length} characters:\", filtered_words_list)\n"
   ]
  },
  {
   "cell_type": "code",
   "execution_count": null,
   "id": "b337504b-d000-4f5b-98c2-c906ab918ee4",
   "metadata": {},
   "outputs": [],
   "source": [
    "7. Write a Python program that uses the `filter()` function to select elements greater than a specified threshold from a list of values.\n"
   ]
  },
  {
   "cell_type": "code",
   "execution_count": null,
   "id": "6d4f4fd6-da10-4d7d-b8d0-64513ccff2e5",
   "metadata": {},
   "outputs": [],
   "source": [
    "# Function to check if a value is greater than a specified threshold\n",
    "def greater_than(value, threshold):\n",
    "    return value > threshold\n",
    "\n",
    "# List of values\n",
    "values = [10, 23, 5, 40, 15, 8, 30]\n",
    "\n",
    "# Specify the threshold\n",
    "threshold = 15\n",
    "\n",
    "# Use filter to select elements greater than the threshold\n",
    "filtered_values = filter(lambda x: greater_than(x, threshold), values)\n",
    "\n",
    "# Convert filter object to a list to display the results\n",
    "filtered_values_list = list(filtered_values)\n",
    "\n",
    "print(f\"Values greater than {threshold}:\", filtered_values_list)\n"
   ]
  },
  {
   "cell_type": "code",
   "execution_count": null,
   "id": "440c69e0-69ad-4b3c-ad49-abb6f659a6c3",
   "metadata": {},
   "outputs": [],
   "source": []
  },
  {
   "cell_type": "code",
   "execution_count": null,
   "id": "ba38a2a3-3b0c-42fd-a697-f01642f36bd8",
   "metadata": {},
   "outputs": [],
   "source": [
    "Recursion:-\n"
   ]
  },
  {
   "cell_type": "code",
   "execution_count": null,
   "id": "93d9e681-de18-4408-8c99-a61f88fa8580",
   "metadata": {},
   "outputs": [],
   "source": [
    "1. Explain the concept of recursion in Python. How does it differ from iteration?\n",
    "\n"
   ]
  },
  {
   "cell_type": "raw",
   "id": "47b8dab1-288c-4c57-a71a-5831b294cbc1",
   "metadata": {},
   "source": [
    "Recursion in Python is a programming technique where a function calls itself to solve a problem by breaking it into smaller, similar problems. It typically involves two key components:\n",
    "Base Case: A condition that stops the recursion, preventing infinite calls.\n",
    "Recursive Case: The part of the function where it calls itself with a modified argument, working towards the base case.\n",
    "\n",
    "Differences:\n",
    "Recursion: Function calls itself, potentially leading to more memory usage due to multiple function calls on the call stack. It's often used for problems that can be naturally divided into smaller subproblems.\n",
    "Iteration: Uses a single function instance with loops, generally more memory-efficient and preferred for problems that can be solved with repeated processing in a straightforward manner."
   ]
  },
  {
   "cell_type": "code",
   "execution_count": null,
   "id": "eb3da81a-455f-4e57-ba52-22c48d40a7ce",
   "metadata": {},
   "outputs": [],
   "source": [
    "2. Write a Python program to calculate the factorial of a number using recursion.\n"
   ]
  },
  {
   "cell_type": "code",
   "execution_count": null,
   "id": "89e1a6dd-c545-422e-8258-2ed7ea7cf470",
   "metadata": {},
   "outputs": [],
   "source": [
    "def factorial(n):\n",
    "    # Base case: factorial of 0 is 1\n",
    "    if n == 0:\n",
    "        return 1\n",
    "    # Recursive case: n! = n * (n-1)!\n",
    "    else:\n",
    "        return n * factorial(n - 1)\n",
    "\n",
    "# Example usage\n",
    "number = 5\n",
    "result = factorial(number)\n",
    "\n",
    "print(f\"The factorial of {number} is: {result}\")\n"
   ]
  },
  {
   "cell_type": "code",
   "execution_count": null,
   "id": "404043f2-0211-491a-a5b0-d836f8e9c0b6",
   "metadata": {},
   "outputs": [],
   "source": [
    "3. Create a recursive Python function to find the nth Fibonacci number.\n"
   ]
  },
  {
   "cell_type": "code",
   "execution_count": null,
   "id": "61353345-bace-4ee7-86b6-adc6e985f992",
   "metadata": {},
   "outputs": [],
   "source": [
    "def fibonacci(n):\n",
    "    # Base case: the first and second Fibonacci numbers are 0 and 1\n",
    "    if n <= 0:\n",
    "        return 0\n",
    "    elif n == 1:\n",
    "        return 1\n",
    "    # Recursive case: the nth Fibonacci number is the sum of (n-1)th and (n-2)th Fibonacci numbers\n",
    "    else:\n",
    "        return fibonacci(n - 1) + fibonacci(n - 2)\n",
    "\n",
    "# Example usage\n",
    "n = 7\n",
    "result = fibonacci(n)\n",
    "\n",
    "print(f\"The {n}th Fibonacci number is: {result}\")\n"
   ]
  },
  {
   "cell_type": "code",
   "execution_count": null,
   "id": "dcfe8508-d68e-44a5-8e92-7b2baaab670b",
   "metadata": {},
   "outputs": [],
   "source": [
    "4. Write a recursive Python function to calculate the sum of all elements in a list."
   ]
  },
  {
   "cell_type": "code",
   "execution_count": null,
   "id": "af006487-782f-46dc-8204-31b0eebf0081",
   "metadata": {},
   "outputs": [],
   "source": [
    "def sum_list(lst):\n",
    "    # Base case: if the list is empty, the sum is 0\n",
    "    if not lst:\n",
    "        return 0\n",
    "    # Recursive case: sum of the first element plus the sum of the rest of the list\n",
    "    else:\n",
    "        return lst[0] + sum_list(lst[1:])\n",
    "\n",
    "# Example usage\n",
    "numbers = [1, 2, 3, 4, 5]\n",
    "result = sum_list(numbers)\n",
    "\n",
    "print(f\"The sum of all elements in the list is: {result}\")\n"
   ]
  },
  {
   "cell_type": "code",
   "execution_count": null,
   "id": "c5465d2a-e0dd-4589-be16-2260ee5acc79",
   "metadata": {},
   "outputs": [],
   "source": [
    "5. How can you prevent a recursive function from running indefinitely, causing a stack overflow error?\n"
   ]
  },
  {
   "cell_type": "code",
   "execution_count": null,
   "id": "34b55134-969e-49f7-883d-99dbe692fc2d",
   "metadata": {},
   "outputs": [],
   "source": [
    "To prevent a recursive function from running indefinitely and causing a stack overflow error, you need to ensure that:\n",
    "Base Case: Define a clear and reachable base case that stops the recursion. This is a condition where the function does not make further recursive calls and returns a result directly.\n",
    "Progress Toward Base Case: Ensure that each recursive call progresses towards the base case. The function should move closer to meeting the base case condition with each call.\n",
    "In simple terms, always include a stopping condition (base case) and ensure that the function makes progress towards that condition to avoid infinite recursion."
   ]
  },
  {
   "cell_type": "code",
   "execution_count": null,
   "id": "a7dbd1f9-e2c4-4935-a1d8-ebacca5f3938",
   "metadata": {},
   "outputs": [],
   "source": [
    "6. Create a recursive Python function to find the greatest common divisor (GCD) of two numbers using the Euclidean algorithm.\n"
   ]
  },
  {
   "cell_type": "code",
   "execution_count": null,
   "id": "b49d3d70-e2af-4c88-b114-81e3cf680cbb",
   "metadata": {},
   "outputs": [],
   "source": [
    "def gcd(a, b):\n",
    "    # Base case: if b is 0, the GCD is a\n",
    "    if b == 0:\n",
    "        return a\n",
    "    # Recursive case: GCD of b and a % b\n",
    "    else:\n",
    "        return gcd(b, a % b)\n",
    "\n",
    "# Example usage\n",
    "num1 = 48\n",
    "num2 = 18\n",
    "result = gcd(num1, num2)\n",
    "\n",
    "print(f\"The GCD of {num1} and {num2} is: {result}\")\n"
   ]
  },
  {
   "cell_type": "code",
   "execution_count": null,
   "id": "3700d1ef-52fe-4bbc-8846-a204d6e47f46",
   "metadata": {},
   "outputs": [],
   "source": [
    "7. Write a recursive Python function to reverse a string.\n"
   ]
  },
  {
   "cell_type": "code",
   "execution_count": null,
   "id": "9a606d4d-1f30-4d94-aee8-5f62ecda3623",
   "metadata": {},
   "outputs": [],
   "source": [
    "def reverse_string(s):\n",
    "    # Base case: if the string is empty or has one character, return it as is\n",
    "    if len(s) <= 1:\n",
    "        return s\n",
    "    # Recursive case: reverse the substring and append the first character at the end\n",
    "    else:\n",
    "        return reverse_string(s[1:]) + s[0]\n",
    "\n",
    "# Example usage\n",
    "input_string = \"hello\"\n",
    "result = reverse_string(input_string)\n",
    "\n",
    "print(f\"The reverse of '{input_string}' is: '{result}'\")\n"
   ]
  },
  {
   "cell_type": "code",
   "execution_count": null,
   "id": "abbcdc5e-6063-4110-a852-e94cdf6b9fc8",
   "metadata": {},
   "outputs": [],
   "source": [
    "8. Create a recursive Python function to calculate the power of a number (x^n).\n"
   ]
  },
  {
   "cell_type": "code",
   "execution_count": null,
   "id": "06945061-da19-4a11-85de-10ab902cc507",
   "metadata": {},
   "outputs": [],
   "source": [
    "def power(x, n):\n",
    "    # Base case: x^0 is 1 (for any x), and x^1 is x\n",
    "    if n == 0:\n",
    "        return 1\n",
    "    elif n == 1:\n",
    "        return x\n",
    "    # Recursive case: x^n is x * x^(n-1)\n",
    "    else:\n",
    "        return x * power(x, n - 1)\n",
    "\n",
    "# Example usage\n",
    "base = 2\n",
    "exponent = 3\n",
    "result = power(base, exponent)\n",
    "\n",
    "print(f\"{base} raised to the power of {exponent} is: {result}\")\n"
   ]
  },
  {
   "cell_type": "code",
   "execution_count": null,
   "id": "467a6136-22c1-49be-bab0-b9f5484b37e4",
   "metadata": {},
   "outputs": [],
   "source": [
    "9. Write a recursive Python function to find all permutations of a given string.\n"
   ]
  },
  {
   "cell_type": "code",
   "execution_count": null,
   "id": "b9146c47-554a-410c-94de-bc37dfd16a2a",
   "metadata": {},
   "outputs": [],
   "source": [
    "def permutations(s):\n",
    "    # Base case: if the string is empty or has one character, return it as the only permutation\n",
    "    if len(s) <= 1:\n",
    "        return [s]\n",
    "    \n",
    "    # Recursive case: generate permutations for the substring and insert the first character in all possible positions\n",
    "    perm_list = []\n",
    "    for i, char in enumerate(s):\n",
    "        # Generate permutations for the remaining characters\n",
    "        for perm in permutations(s[:i] + s[i+1:]):\n",
    "            perm_list.append(char + perm)\n",
    "    \n",
    "    return perm_list\n",
    "\n",
    "# Example usage\n",
    "input_string = \"abc\"\n",
    "result = permutations(input_string)\n",
    "\n",
    "print(f\"All permutations of '{input_string}' are: {result}\")\n"
   ]
  },
  {
   "cell_type": "code",
   "execution_count": null,
   "id": "35f7763d-fc49-47f6-ada4-67cddcdbc530",
   "metadata": {},
   "outputs": [],
   "source": [
    "10. Write a recursive Python function to check if a string is a palindrome.\n"
   ]
  },
  {
   "cell_type": "code",
   "execution_count": null,
   "id": "848be4f0-4a71-4aa6-880b-ef0e4a6e6257",
   "metadata": {},
   "outputs": [],
   "source": [
    "def is_palindrome(s):\n",
    "    # Base case: an empty string or a single character string is a palindrome\n",
    "    if len(s) <= 1:\n",
    "        return True\n",
    "    \n",
    "    # Recursive case: check the first and last characters, then recurse with the substring\n",
    "    if s[0] == s[-1]:\n",
    "        return is_palindrome(s[1:-1])\n",
    "    else:\n",
    "        return False\n",
    "\n",
    "# Example usage\n",
    "input_string = \"racecar\"\n",
    "result = is_palindrome(input_string)\n",
    "\n",
    "print(f\"Is '{input_string}' a palindrome? {result}\")\n"
   ]
  },
  {
   "cell_type": "code",
   "execution_count": null,
   "id": "c7a1c81b-5624-47a2-a5a7-19d5f9a205da",
   "metadata": {},
   "outputs": [],
   "source": [
    "11. Create a recursive Python function to generate all possible combinations of a list of elements.\n",
    "\n"
   ]
  },
  {
   "cell_type": "code",
   "execution_count": null,
   "id": "9b12829e-8984-43f4-a642-869904514d56",
   "metadata": {},
   "outputs": [],
   "source": [
    "def combinations(elements):\n",
    "    # Base case: return an empty list containing an empty combination\n",
    "    if not elements:\n",
    "        return [[]]\n",
    "    \n",
    "    # Recursive case: get combinations without the first element\n",
    "    first = elements[0]\n",
    "    rest_combinations = combinations(elements[1:])\n",
    "    \n",
    "    # Include the first element in each combination of the rest\n",
    "    with_first = [comb + [first] for comb in rest_combinations]\n",
    "    \n",
    "    # Combine the combinations with and without the first element\n",
    "    return rest_combinations + with_first\n",
    "\n",
    "# Example usage\n",
    "elements = [1, 2, 3]\n",
    "result = combinations(elements)\n",
    "\n",
    "print(\"All possible combinations:\", result)\n"
   ]
  },
  {
   "cell_type": "code",
   "execution_count": null,
   "id": "7add9a4e-007c-48c5-8b6a-45919e5ebc90",
   "metadata": {},
   "outputs": [],
   "source": []
  },
  {
   "cell_type": "code",
   "execution_count": null,
   "id": "1d3ca2cd-d36f-4cf8-93b9-c0651a8f5f4b",
   "metadata": {},
   "outputs": [],
   "source": [
    "Basics of Functions:\n"
   ]
  },
  {
   "cell_type": "code",
   "execution_count": null,
   "id": "c4203b51-b504-4cb5-8112-079b8939c7e8",
   "metadata": {},
   "outputs": [],
   "source": [
    "1. What is a function in Python, and why is it used?\n"
   ]
  },
  {
   "cell_type": "raw",
   "id": "407f3668-a8df-41b7-beb0-c824cc63da43",
   "metadata": {},
   "source": [
    "A function in Python is a reusable block of code designed to perform a specific task. Functions are defined using the def keyword followed by the function name, a set of parentheses for parameters, and a colon. The function’s code is indented below the definition. Functions can take inputs (parameters), execute a series of statements, and optionally return a result.\n",
    "\n",
    "Why Functions Are Used:\n",
    "Code Reusability: Functions allow you to write code once and reuse it multiple times. This helps avoid redundancy and makes code more efficient.\n",
    "Modularity: Functions enable you to break down complex problems into smaller, manageable pieces. Each function can be responsible for a specific part of the task.\n",
    "Maintainability: By organizing code into functions, you can easily make changes or updates to specific parts of the code without affecting the entire program.\n",
    "Readability: Functions make code more readable and understandable by giving names to chunks of code that perform specific tasks, thus clarifying the program's structure and logic.\n",
    "Testing: Functions make it easier to test and debug smaller sections of code independently from the rest of the program."
   ]
  },
  {
   "cell_type": "code",
   "execution_count": null,
   "id": "3107de04-0e8a-42dc-bd4f-12b9f59e6fdb",
   "metadata": {},
   "outputs": [],
   "source": [
    "2. How do you define a function in Python? Provide an example.\n"
   ]
  },
  {
   "cell_type": "code",
   "execution_count": null,
   "id": "d2c336a2-6911-405e-92ff-4c7b1eb6ae08",
   "metadata": {},
   "outputs": [],
   "source": [
    "In Python, you define a function using the def keyword, followed by the function name, parentheses for parameters, \n",
    "and a colon. The function's code block is indented under the definition. You can also include a return statement to return a value from the function.\n",
    "\n",
    "def function_name(parameters):\n",
    "    # Code block\n",
    "    # Optional: return value\n"
   ]
  },
  {
   "cell_type": "code",
   "execution_count": null,
   "id": "7b98de27-4de4-449b-8db5-e6af022a8bd1",
   "metadata": {},
   "outputs": [],
   "source": [
    "#Example\n",
    "\n",
    "def add_numbers(a, b):\n",
    "    \"\"\"Return the sum of two numbers.\"\"\"\n",
    "    result = a + b\n",
    "    return result\n",
    "\n",
    "# Calling the function\n",
    "sum_result = add_numbers(5, 3)\n",
    "\n",
    "print(f\"The sum is: {sum_result}\")\n"
   ]
  },
  {
   "cell_type": "code",
   "execution_count": null,
   "id": "847c373d-089e-440a-b768-c058f7766d67",
   "metadata": {},
   "outputs": [],
   "source": [
    "3. Explain the difference between a function definition and a function call.\n"
   ]
  },
  {
   "cell_type": "raw",
   "id": "afe9e344-8253-453d-9bb5-9475ed627400",
   "metadata": {},
   "source": [
    "Function Definition\n",
    "\n",
    "1. Purpose: Defines what a function does. It includes the function's name, parameters, and the code that runs when the function is called.\n",
    "2. Syntax:\n",
    "def function_name(parameters):\n",
    "    # Code block\n",
    "    # Optional: return value\n",
    "3. Example:\n",
    "def greet(name):\n",
    "    print(f\"Hello, {name}!\")\n",
    "4. This defines a function greet that takes one parameter name and prints a greeting message."
   ]
  },
  {
   "cell_type": "code",
   "execution_count": null,
   "id": "8b0c681e-d791-4eaf-8424-390b0eec7e5d",
   "metadata": {},
   "outputs": [],
   "source": [
    "4. Write a Python program that defines a function to calculate the sum of two numbers and then calls the function.\n"
   ]
  },
  {
   "cell_type": "code",
   "execution_count": null,
   "id": "aec6e31d-9ef6-4a1f-accb-71feafddc64d",
   "metadata": {},
   "outputs": [],
   "source": [
    "def add_numbers(a, b):\n",
    "    \"\"\"Calculate the sum of two numbers.\"\"\"\n",
    "    return a + b\n",
    "\n",
    "# Call the function with specific arguments\n",
    "num1 = 10\n",
    "num2 = 5\n",
    "sum_result = add_numbers(num1, num2)\n",
    "\n",
    "# Print the result\n",
    "print(f\"The sum of {num1} and {num2} is: {sum_result}\")\n"
   ]
  },
  {
   "cell_type": "code",
   "execution_count": null,
   "id": "49a03e41-b1f8-4de2-af45-e06d468ca9a4",
   "metadata": {},
   "outputs": [],
   "source": [
    "5. What is a function signature, and what information does it typically include?\n"
   ]
  },
  {
   "cell_type": "raw",
   "id": "1d0f5af7-0bab-4852-b034-de7a9052fab9",
   "metadata": {},
   "source": [
    "A function signature in Python defines the interface of a function. It specifies how the function is called and what arguments it requires. The function signature includes:\n",
    "\n",
    "Function Name: The name of the function, which is used to call it.\n",
    "Parameters: The list of parameters (or arguments) that the function accepts. Each parameter has a name and can optionally have a default value.\n",
    "Return Type (Optional): Although not enforced in Python, a function signature may include information about what type of value the function is expected to return. This is often documented in type hints or docstrings.\n",
    "\n",
    "def calculate_area(radius: float, pi: float = 3.14) -> float:\n",
    "    \"\"\"Calculate the area of a circle given the radius and an optional value for pi.\"\"\"\n",
    "    return pi * radius ** 2\n"
   ]
  },
  {
   "cell_type": "code",
   "execution_count": null,
   "id": "e02c9cd6-1712-422c-8184-2cdab8abdd1d",
   "metadata": {},
   "outputs": [],
   "source": [
    "6. Create a Python function that takes two arguments and returns their product.\n"
   ]
  },
  {
   "cell_type": "code",
   "execution_count": null,
   "id": "0842088b-53e5-4e51-bb96-4edb5eb0c757",
   "metadata": {},
   "outputs": [],
   "source": [
    "def multiply(x, y):\n",
    "    \"\"\"Return the product of two numbers.\"\"\"\n",
    "    return x * y\n",
    "\n",
    "# Example usage\n",
    "num1 = 4\n",
    "num2 = 5\n",
    "product = multiply(num1, num2)\n",
    "\n",
    "print(f\"The product of {num1} and {num2} is: {product}\")\n"
   ]
  },
  {
   "cell_type": "code",
   "execution_count": null,
   "id": "d34f7cc6-1783-4f1f-90f7-ba0995a501e3",
   "metadata": {},
   "outputs": [],
   "source": []
  },
  {
   "cell_type": "code",
   "execution_count": null,
   "id": "0902e10e-7b4d-4d48-bb8f-187ea280f6e5",
   "metadata": {},
   "outputs": [],
   "source": [
    "Function Parameters and Arguments:\n"
   ]
  },
  {
   "cell_type": "code",
   "execution_count": null,
   "id": "f41277e5-7d58-4a13-8c14-89db3dfda6ac",
   "metadata": {},
   "outputs": [],
   "source": [
    "1. Explain the concepts of formal parameters and actual arguments in Python functions.\n"
   ]
  },
  {
   "cell_type": "raw",
   "id": "0c48f657-be0c-4b18-9f91-b8d7b954fa99",
   "metadata": {},
   "source": [
    "Formal Parameters: These are the variables listed in the function definition. They act as placeholders for the values the function will use. Example: def add(a, b):.\n",
    "\n",
    "Actual Arguments: These are the real values or expressions passed to the function when it is called. They replace the formal parameters with concrete data. Example: add(5, 3)."
   ]
  },
  {
   "cell_type": "code",
   "execution_count": null,
   "id": "e3ce984b-1236-4a60-999f-77fe1d4cfede",
   "metadata": {},
   "outputs": [],
   "source": [
    "2. Write a Python program that defines a function with default argument values.\n"
   ]
  },
  {
   "cell_type": "code",
   "execution_count": null,
   "id": "c500b915-4af8-40fb-84f2-60eeedb92eb0",
   "metadata": {},
   "outputs": [],
   "source": [
    "def greet(name=\"Guest\", greeting=\"Hello\"):\n",
    "    \"\"\"Print a greeting message with a default name and greeting.\"\"\"\n",
    "    print(f\"{greeting}, {name}!\")\n",
    "\n",
    "# Calling the function with both arguments\n",
    "greet(\"Alice\", \"Hi\")\n",
    "\n",
    "# Calling the function with one argument (uses default for the other)\n",
    "greet(\"Bob\")\n",
    "\n",
    "# Calling the function with no arguments (uses both defaults)\n",
    "greet()\n"
   ]
  },
  {
   "cell_type": "code",
   "execution_count": null,
   "id": "a48c82ab-7000-417f-82f0-29f7c1562fc6",
   "metadata": {},
   "outputs": [],
   "source": [
    "3. How do you use keyword arguments in Python function calls? Provide an example.\n"
   ]
  },
  {
   "cell_type": "code",
   "execution_count": null,
   "id": "2b93be32-474e-4ff8-8fd3-ee6ab6d587c8",
   "metadata": {},
   "outputs": [],
   "source": [
    "keyword arguments are used to specify the arguments of a function by name rather than position. This enhances code readability and flexibility, as arguments can be provided in any order. Here's how to use keyword arguments in Python function calls:\n",
    "\n",
    "Syntax for Keyword Arguments:\n",
    "function_name(param1=value1, param2=value2, ...)\n",
    "\n",
    "\n",
    "Examples:\n",
    "def register_user(username, email, age=18, country=\"Unknown\"):\n",
    "    \"\"\"Register a user with the provided details.\"\"\"\n",
    "    print(f\"Username: {username}\")\n",
    "    print(f\"Email: {email}\")\n",
    "    print(f\"Age: {age}\")\n",
    "    print(f\"Country: {country}\")\n",
    "\n",
    "# Using keyword arguments to specify arguments by name\n",
    "register_user(username=\"alice_smith\", email=\"alice@example.com\", age=30, country=\"USA\")\n",
    "\n",
    "# Mixing positional and keyword arguments\n",
    "register_user(\"bob_jones\", \"bob@example.com\", country=\"Canada\", age=25)\n",
    "\n",
    "# Using default values for some arguments\n",
    "register_user(username=\"charlie_brown\", email=\"charlie@example.com\")\n"
   ]
  },
  {
   "cell_type": "code",
   "execution_count": null,
   "id": "0d9731da-71bb-47f0-a98c-9205c59c46a4",
   "metadata": {},
   "outputs": [],
   "source": [
    "4. Create a Python function that accepts a variable number of arguments and calculates their sum.\n"
   ]
  },
  {
   "cell_type": "code",
   "execution_count": null,
   "id": "3a02bb69-a06d-4c9f-88f6-f24a510cca15",
   "metadata": {},
   "outputs": [],
   "source": [
    "def sum_all(*args):\n",
    "    \"\"\"Calculate the sum of all provided arguments.\"\"\"\n",
    "    total = sum(args)\n",
    "    return total\n",
    "\n",
    "# Example usage\n",
    "print(sum_all(1, 2, 3))         # Output: 6\n",
    "print(sum_all(10, 20, 30, 40))  # Output: 100\n",
    "print(sum_all())                # Output: 0 (no arguments)\n"
   ]
  },
  {
   "cell_type": "code",
   "execution_count": null,
   "id": "e5e29da5-54d2-49a8-932b-4700e7a5dad6",
   "metadata": {},
   "outputs": [],
   "source": [
    "5. What is the purpose of the `*args` and `**kwargs` syntax in function parameter lists?\n"
   ]
  },
  {
   "cell_type": "raw",
   "id": "f0531dde-18d3-4690-93c9-342fb78a23a2",
   "metadata": {},
   "source": [
    "args\n",
    "Purpose: Allows a function to accept any number of positional arguments. It collects these arguments into a tuple.\n",
    "Usage: When defining a function, you use *args in the parameter list to indicate that the function can take a variable number of positional arguments.\n",
    "Example:\n",
    "def print_numbers(*args):\n",
    "    for number in args:\n",
    "        print(number)\n",
    "\n",
    "print_numbers(1, 2, 3, 4)  # Output: 1 2 3 4\n",
    "\n",
    "\n",
    "kwargs\n",
    "Purpose: Allows a function to accept any number of keyword arguments (arguments specified by name). It collects these arguments into a dictionary.\n",
    "Usage: When defining a function, you use **kwargs in the parameter list to indicate that the function can take a variable number of keyword arguments.\n",
    "Example:\n",
    "def print_info(**kwargs):\n",
    "    for key, value in kwargs.items():\n",
    "        print(f\"{key}: {value}\")\n",
    "\n",
    "print_info(name=\"Alice\", age=30, city=\"New York\")\n",
    "# Output:\n",
    "# name: Alice\n",
    "# age: 30\n",
    "# city: New York"
   ]
  },
  {
   "cell_type": "code",
   "execution_count": null,
   "id": "01c294be-ce90-4644-9955-b168b0239e0b",
   "metadata": {},
   "outputs": [],
   "source": []
  },
  {
   "cell_type": "code",
   "execution_count": null,
   "id": "93df5257-bfbc-42b8-9aec-aaf17830d443",
   "metadata": {},
   "outputs": [],
   "source": [
    "Return Values and Scoping:"
   ]
  },
  {
   "cell_type": "code",
   "execution_count": null,
   "id": "45353c01-bdae-4c81-bb4d-2511a3e21010",
   "metadata": {},
   "outputs": [],
   "source": [
    "1. Describe the role of the `return` statement in Python functions and provide examples.\n"
   ]
  },
  {
   "cell_type": "raw",
   "id": "d374e7c5-0866-4630-8384-e7d84e88ae28",
   "metadata": {},
   "source": [
    "Roles of the return Statement:\n",
    "Return a Value: The primary role of return is to provide a result from a function. This result can be used in expressions or stored in variables.\n",
    "End Function Execution: When a return statement is executed, it terminates the function and returns the specified value. Code after the return statement is not executed.\n",
    "Control Flow: Using return, you can control the flow of the program by returning different values based on conditions.\n",
    "\n",
    "Example :-\n",
    "def add(a, b):\n",
    "    \"\"\"Return the sum of two numbers.\"\"\"\n",
    "    return a + b\n",
    "\n",
    "# Call the function and store the result\n",
    "result = add(5, 3)\n",
    "print(result)  # Output: 8\n"
   ]
  },
  {
   "cell_type": "code",
   "execution_count": null,
   "id": "6169476a-fb21-49eb-a1a2-db090c328eb3",
   "metadata": {},
   "outputs": [],
   "source": [
    "2. Explain the concept of variable scope in Python, including local and global variables.\n"
   ]
  },
  {
   "cell_type": "raw",
   "id": "6103198c-8290-49c7-b6db-75894a75217c",
   "metadata": {},
   "source": [
    "variable scope refers to the context within which a variable is accessible and can be used. The scope of a variable determines where it can be referenced in the code. Python has two main types of variable scope: local and global.\n",
    "\n",
    "Local Variables\n",
    "Definition: Local variables are defined within a function and can only be used inside that function. They are created when the function is called and destroyed when the function exits.\n",
    "Scope: Restricted to the function or block where they are defined.\n",
    "Example:\n",
    "def my_function():\n",
    "    local_var = 10  # local variable\n",
    "    print(local_var)  # Accessible here\n",
    "\n",
    "my_function()\n",
    "print(local_var)  # Error: local_var is not accessible outside the function\n",
    "\n",
    "Global Variables\n",
    "Definition: Global variables are defined outside any function or block and can be accessed from any function within the same module. They persist throughout the program's lifetime.\n",
    "Scope: Accessible from any function or block in the module where they are defined.\n",
    "Example:\n",
    "global_var = 20  # global variable\n",
    "def my_function():\n",
    "    print(global_var)  # Accessible here\n",
    "\n",
    "my_function()\n",
    "print(global_var)  # Accessible here too"
   ]
  },
  {
   "cell_type": "code",
   "execution_count": null,
   "id": "df7f3959-0669-45fe-8444-090abc8f9a93",
   "metadata": {},
   "outputs": [],
   "source": [
    "3. Write a Python program that demonstrates the use of global variables within functions.\n"
   ]
  },
  {
   "cell_type": "code",
   "execution_count": null,
   "id": "2c9f7e4f-4dc0-4e7e-b39a-0ee05fbc1921",
   "metadata": {},
   "outputs": [],
   "source": [
    "# Define a global variable\n",
    "global_var = 10\n",
    "\n",
    "def print_global():\n",
    "    \"\"\"Print the value of the global variable.\"\"\"\n",
    "    print(f\"Value of global_var inside print_global: {global_var}\")\n",
    "\n",
    "def modify_global():\n",
    "    \"\"\"Modify the global variable.\"\"\"\n",
    "    global global_var  # Declare that we are using the global variable\n",
    "    global_var = 20    # Modify the global variable\n",
    "\n",
    "def main():\n",
    "    \"\"\"Main function to demonstrate global variable usage.\"\"\"\n",
    "    print_global()  # Print the initial value of global_var\n",
    "    modify_global() # Modify the global variable\n",
    "    print_global()  # Print the modified value of global_var\n",
    "\n",
    "# Execute the main function\n",
    "main()\n"
   ]
  },
  {
   "cell_type": "code",
   "execution_count": null,
   "id": "34064cb2-fc0d-4bdd-9398-2e35222dbe82",
   "metadata": {},
   "outputs": [],
   "source": [
    "4. Create a Python function that calculates the factorial of a number and returns it."
   ]
  },
  {
   "cell_type": "code",
   "execution_count": null,
   "id": "94d84615-1f90-4089-b06b-c0a789d07bf3",
   "metadata": {},
   "outputs": [],
   "source": [
    "def factorial(n):\n",
    "    \"\"\"Calculate the factorial of a non-negative integer n.\"\"\"\n",
    "    if n < 0:\n",
    "        raise ValueError(\"Factorial is not defined for negative numbers\")\n",
    "    elif n == 0 or n == 1:\n",
    "        return 1\n",
    "    else:\n",
    "        return n * factorial(n - 1)\n",
    "\n",
    "# Example usage\n",
    "number = 5\n",
    "result = factorial(number)\n",
    "print(f\"The factorial of {number} is {result}\")\n"
   ]
  },
  {
   "cell_type": "code",
   "execution_count": null,
   "id": "28cece7c-5fad-43ad-9b5a-b27bbf9a618f",
   "metadata": {},
   "outputs": [],
   "source": [
    "5. How can you access variables defined outside a function from within the function?\n"
   ]
  },
  {
   "cell_type": "code",
   "execution_count": null,
   "id": "5c1f8018-9e07-4fe6-bf71-afc812a6e6d1",
   "metadata": {},
   "outputs": [],
   "source": [
    "Accessing Global Variables\n",
    "Reading Global Variables:\n",
    "\n",
    "You can directly access global variables from within a function without any special keyword.\n",
    "Modifying Global Variables:\n",
    "\n",
    "To modify a global variable inside a function, you need to use the global keyword to declare that you’re referring to the global variable, not a local one."
   ]
  },
  {
   "cell_type": "code",
   "execution_count": null,
   "id": "0a430e55-0bfd-410d-b035-699cb7620286",
   "metadata": {},
   "outputs": [],
   "source": []
  },
  {
   "cell_type": "code",
   "execution_count": null,
   "id": "cc1660bf-df73-4f72-93c4-a84c920c287f",
   "metadata": {},
   "outputs": [],
   "source": [
    "Lambda Functions and Higher-Order Functions:\n"
   ]
  },
  {
   "cell_type": "code",
   "execution_count": null,
   "id": "cb72786f-16e5-470e-b0c9-ef37186b14a9",
   "metadata": {},
   "outputs": [],
   "source": [
    "1. What are lambda functions in Python, and when are they typically used?\n"
   ]
  },
  {
   "cell_type": "code",
   "execution_count": null,
   "id": "c48d4cc7-81ae-4fe2-a0f8-e8b5709341ae",
   "metadata": {},
   "outputs": [],
   "source": [
    "Lambda functions in Python are small, anonymous functions defined with the lambda keyword. They are also known as lambda expressions. Unlike regular functions defined with the def keyword,\n",
    "lambda functions are limited to a single expression and do not require a name.\n",
    "\n",
    "example:-\n",
    "# Lambda function to add two numbers\n",
    "add = lambda x, y: x + y\n",
    "\n",
    "# Using the lambda function\n",
    "result = add(5, 3)\n",
    "print(result)  # Output: 8\n",
    "\n",
    "Typical Uses\n",
    "Inline Functions: Useful for short functions that are used temporarily and do not require a name.\n",
    "\n",
    "# Sorting a list of tuples by the second element using lambda\n",
    "pairs = [(1, 'one'), (2, 'two'), (3, 'three')]\n",
    "sorted_pairs = sorted(pairs, key=lambda pair: pair[1])\n",
    "print(sorted_pairs)  # Output: [(1, 'one'), (3, 'three'), (2, 'two')]\n",
    "Functional Programming: Often used with functions like map(), filter(), and reduce() for concise operations.\n",
    "\n",
    "map(): Applies a function to all items in an iterable.\n",
    "\n",
    "numbers = [1, 2, 3, 4]\n",
    "squares = map(lambda x: x ** 2, numbers)\n",
    "print(list(squares))  # Output: [1, 4, 9, 16]\n",
    "filter(): Filters elements from an iterable based on a function.\n",
    "\n",
    "numbers = [1, 2, 3, 4, 5]\n",
    "even_numbers = filter(lambda x: x % 2 == 0, numbers)\n",
    "print(list(even_numbers))  # Output: [2, 4]"
   ]
  },
  {
   "cell_type": "code",
   "execution_count": null,
   "id": "56d2ec37-7c2d-42e3-b1d0-5b68d812d97a",
   "metadata": {},
   "outputs": [],
   "source": [
    "2. Write a Python program that uses lambda functions to sort a list of tuples based on the second element.\n"
   ]
  },
  {
   "cell_type": "code",
   "execution_count": null,
   "id": "ce0d5fed-34f8-4b8f-8e90-45299156fc5a",
   "metadata": {},
   "outputs": [],
   "source": [
    "# Define a list of tuples\n",
    "tuples_list = [(1, 'apple'), (3, 'banana'), (2, 'cherry'), (4, 'date')]\n",
    "\n",
    "# Sort the list of tuples by the second element using a lambda function\n",
    "sorted_list = sorted(tuples_list, key=lambda x: x[1])\n",
    "\n",
    "# Print the sorted list\n",
    "print(\"Sorted list based on the second element:\")\n",
    "print(sorted_list)\n"
   ]
  },
  {
   "cell_type": "code",
   "execution_count": null,
   "id": "13133e74-37bb-4c8a-9c86-64823b07cd95",
   "metadata": {},
   "outputs": [],
   "source": [
    "3. Explain the concept of higher-order functions in Python, and provide an example.\n"
   ]
  },
  {
   "cell_type": "code",
   "execution_count": null,
   "id": "49bf6481-513c-4ba6-8274-50817d641d86",
   "metadata": {},
   "outputs": [],
   "source": [
    "Higher-order functions in Python are functions that operate on other functions. Specifically, they can:\n",
    "\n",
    "Take one or more functions as arguments.\n",
    "Return a function as their result.\n",
    "This concept allows for a more functional programming style, where functions can be passed around and manipulated just like other data types.\n",
    "\n",
    "Key Characteristics\n",
    "Functions as Arguments: Higher-order functions can accept functions as inputs. This allows you to customize the behavior of the higher-order function based on the provided function.\n",
    "\n",
    "Functions as Return Values: Higher-order functions can return other functions. This is useful for creating function factories or closures.\n",
    "\n",
    "Examples\n",
    "Example 1: Using a Function as an Argument\n",
    "A common example of a higher-order function is map(), which takes a function and an iterable as arguments and applies the function to each item in the iterable.\n",
    "\n",
    "\n",
    "def square(x):\n",
    "    \"\"\"Return the square of x.\"\"\"\n",
    "    return x * x\n",
    "\n",
    "numbers = [1, 2, 3, 4, 5]\n",
    "\n",
    "# Use map to apply the square function to each element in numbers\n",
    "squared_numbers = map(square, numbers)\n",
    "\n",
    "# Convert the result to a list and print it\n",
    "print(list(squared_numbers))  # Output: [1, 4, 9, 16, 25]"
   ]
  },
  {
   "cell_type": "code",
   "execution_count": null,
   "id": "0e809ff4-8497-4c5f-8473-8a2e4faa7f7b",
   "metadata": {},
   "outputs": [],
   "source": [
    "4. Create a Python function that takes a list of numbers and a function as arguments, applying the function to each element in the list.\n"
   ]
  },
  {
   "cell_type": "code",
   "execution_count": null,
   "id": "9a1a0852-ca40-4a1c-aca7-c134268cac8e",
   "metadata": {},
   "outputs": [],
   "source": [
    "def apply_function_to_list(numbers, func):\n",
    "    \"\"\"\n",
    "    Apply a given function to each element in a list of numbers.\n",
    "\n",
    "    Parameters:\n",
    "    - numbers: A list of numbers.\n",
    "    - func: A function to apply to each number in the list.\n",
    "\n",
    "    Returns:\n",
    "    - A list of results after applying the function to each number.\n",
    "    \"\"\"\n",
    "    return [func(number) for number in numbers]\n",
    "\n",
    "# Example functions to use\n",
    "def square(x):\n",
    "    \"\"\"Return the square of x.\"\"\"\n",
    "    return x * x\n",
    "\n",
    "def double(x):\n",
    "    \"\"\"Return double the value of x.\"\"\"\n",
    "    return x * 2\n",
    "\n",
    "# Example usage\n",
    "numbers = [1, 2, 3, 4, 5]\n",
    "\n",
    "# Apply the square function\n",
    "squared_numbers = apply_function_to_list(numbers, square)\n",
    "print(\"Squared numbers:\", squared_numbers)  # Output: Squared numbers: [1, 4, 9, 16, 25]\n",
    "\n",
    "# Apply the double function\n",
    "doubled_numbers = apply_function_to_list(numbers, double)\n",
    "print(\"Doubled numbers:\", doubled_numbers)  # Output: Doubled numbers: [2, 4, 6, 8, 10]\n"
   ]
  },
  {
   "cell_type": "code",
   "execution_count": null,
   "id": "ac78f83c-b8d2-4c93-bd5e-47db657a5ff2",
   "metadata": {},
   "outputs": [],
   "source": [
    "Built-in Functions:\n"
   ]
  },
  {
   "cell_type": "code",
   "execution_count": null,
   "id": "d59a2039-a27a-4355-867f-7cc3819162ab",
   "metadata": {},
   "outputs": [],
   "source": [
    "1. Describe the role of built-in functions like `len()`, `max()`, and `min()` in Python.\n"
   ]
  },
  {
   "cell_type": "code",
   "execution_count": null,
   "id": "0410ae27-064d-46e2-8f1c-bfa43e6f40b1",
   "metadata": {},
   "outputs": [],
   "source": [
    "Built-in functions in Python like len(), max(), and min() are used for basic operations on data:\n",
    "\n",
    "len(): Returns the number of items in an object (e.g., elements in a list, characters in a string).\n",
    "\n",
    "max(): Finds and returns the largest item from an iterable or among multiple arguments.\n",
    "\n",
    "min(): Finds and returns the smallest item from an iterable or among multiple arguments."
   ]
  },
  {
   "cell_type": "code",
   "execution_count": null,
   "id": "b831e1b1-d14e-4d05-8d46-1e671843aed4",
   "metadata": {},
   "outputs": [],
   "source": [
    "2. Write a Python program that uses the `map()` function to apply a function to each element of a list.\n"
   ]
  },
  {
   "cell_type": "code",
   "execution_count": null,
   "id": "d5791f3d-e26b-42d1-a60c-fcf4e1e0f65b",
   "metadata": {},
   "outputs": [],
   "source": [
    "def double(x):\n",
    "    \"\"\"Return the double of x.\"\"\"\n",
    "    return x * 2\n",
    "\n",
    "# List of numbers\n",
    "numbers = [1, 2, 3, 4, 5]\n",
    "\n",
    "# Use map to apply the double function to each element in numbers\n",
    "doubled_numbers = map(double, numbers)\n",
    "\n",
    "# Convert the map object to a list and print it\n",
    "print(\"Doubled numbers:\", list(doubled_numbers))\n"
   ]
  },
  {
   "cell_type": "code",
   "execution_count": null,
   "id": "8814b6e8-3735-4a6f-ab24-9dbbff559b6a",
   "metadata": {},
   "outputs": [],
   "source": [
    "3. How does the `filter()` function work in Python, and when would you use it?\n"
   ]
  },
  {
   "cell_type": "raw",
   "id": "6c5e578a-ffa8-4db6-bd55-f26650b27aa7",
   "metadata": {},
   "source": [
    "The filter() function in Python filters elements from an iterable based on a function that returns True or False.\n",
    "\n",
    "Syntax: filter(function, iterable)\n",
    "Returns: An iterator containing elements for which the function returns True.\n",
    "When to Use: Use filter() to selectively extract elements that meet certain criteria, such as finding all even numbers in a list or removing empty strings from a collection."
   ]
  },
  {
   "cell_type": "code",
   "execution_count": null,
   "id": "6963075b-4973-4b7e-afc6-856d974612da",
   "metadata": {},
   "outputs": [],
   "source": [
    "4. Create a Python program that uses the `reduce()` function to find the product of all elements in a list."
   ]
  },
  {
   "cell_type": "code",
   "execution_count": null,
   "id": "60cf385f-49ea-4966-86e8-e1b202c6b105",
   "metadata": {},
   "outputs": [],
   "source": [
    "from functools import reduce\n",
    "\n",
    "def product(x, y):\n",
    "    \"\"\"Return the product of x and y.\"\"\"\n",
    "    return x * y\n",
    "\n",
    "# List of numbers\n",
    "numbers = [1, 2, 3, 4, 5]\n",
    "\n",
    "# Use reduce to apply the product function cumulatively to the list\n",
    "product_of_numbers = reduce(product, numbers)\n",
    "\n",
    "# Print the result\n",
    "print(\"Product of all elements:\", product_of_numbers)\n"
   ]
  },
  {
   "cell_type": "code",
   "execution_count": null,
   "id": "9b806cf3-def4-47d1-b84c-d27cb41fbac8",
   "metadata": {},
   "outputs": [],
   "source": []
  },
  {
   "cell_type": "code",
   "execution_count": null,
   "id": "1895d6dd-71b7-4693-9d58-f355d36b45b8",
   "metadata": {},
   "outputs": [],
   "source": [
    "Function Documentation and Best Practices:\n"
   ]
  },
  {
   "cell_type": "code",
   "execution_count": null,
   "id": "f2977c85-28ea-40c2-83d3-86fcb7e3a3c0",
   "metadata": {},
   "outputs": [],
   "source": [
    "1. Explain the purpose of docstrings in Python functions and how to write them.\n"
   ]
  },
  {
   "cell_type": "raw",
   "id": "f40142bf-f429-4acc-8b38-b551b91b2e33",
   "metadata": {},
   "source": [
    "Docstrings in Python are string literals that appear right after the definition of a function, method, class, or module. They are used to document what the function, method, or class does, providing a convenient way to understand and use the code. Docstrings are also accessible via the __doc__ attribute and can be used by documentation tools and IDEs.\n",
    "\n",
    "Purpose of Docstrings\n",
    "Documentation: They provide an explanation of what the function or class does, including details on parameters, return values, and any exceptions raised.\n",
    "Readability: Helps others (and yourself) understand the code better without having to dive into the implementation details.\n",
    "Tooling: Used by documentation generation tools to create user-friendly documentation. IDEs and interactive environments often display docstrings as tooltips.\n",
    "How to Write Docstrings\n",
    "Format: A docstring is enclosed in triple quotes (\"\"\" or '''). It should be the first statement in the function, method, class, or module.\n",
    "Content: Typically includes a brief description of the function's purpose, its parameters, and its return values."
   ]
  },
  {
   "cell_type": "code",
   "execution_count": null,
   "id": "171e46e2-748a-4532-a04f-8e4e253688c7",
   "metadata": {},
   "outputs": [],
   "source": [
    "2. Describe some best practices for naming functions and variables in Python, including naming conventions and guidelines.\n"
   ]
  },
  {
   "cell_type": "raw",
   "id": "81d45408-61ea-43a9-9d0a-46410f347826",
   "metadata": {},
   "source": [
    "Best Practices for Naming Functions and Variables in Python:\n",
    "\n",
    "Use snake_case: For functions and variables (e.g., calculate_total, user_age).\n",
    "Use CamelCase: For class names (e.g., ShoppingCart).\n",
    "Use UPPER_SNAKE_CASE: For constants (e.g., MAX_ITEMS).\n",
    "Be Descriptive: Choose names that clearly indicate the purpose (e.g., total_price instead of temp).\n",
    "Avoid Abbreviations: Use full words when possible (e.g., get_user_name instead of get_usr_nm).\n",
    "Avoid Reserved Words: Don’t use Python keywords or built-in function names.\n",
    "Be Consistent: Stick to the conventions throughout your code for readability and maintainability."
   ]
  },
  {
   "cell_type": "code",
   "execution_count": null,
   "id": "e8425336-634b-4739-8c21-41beae2cb10c",
   "metadata": {},
   "outputs": [],
   "source": [
    "2+2"
   ]
  },
  {
   "cell_type": "code",
   "execution_count": null,
   "id": "f187607f-0390-4ffa-935b-f68b3a4573d5",
   "metadata": {},
   "outputs": [],
   "source": []
  },
  {
   "cell_type": "code",
   "execution_count": null,
   "id": "5fbdc046-3554-4162-b83a-a74e1737b199",
   "metadata": {},
   "outputs": [],
   "source": []
  },
  {
   "cell_type": "code",
   "execution_count": null,
   "id": "2f0d4b75-56ba-4b45-8aa6-31fc5af59110",
   "metadata": {},
   "outputs": [],
   "source": []
  },
  {
   "cell_type": "code",
   "execution_count": null,
   "id": "e4b5993a-1a6d-47ad-9e30-e3ece5776a69",
   "metadata": {},
   "outputs": [],
   "source": []
  },
  {
   "cell_type": "code",
   "execution_count": null,
   "id": "f9c08b14-c05f-411d-8a9e-517cec3539f3",
   "metadata": {},
   "outputs": [],
   "source": []
  },
  {
   "cell_type": "code",
   "execution_count": null,
   "id": "7039dc7d-62d3-45c8-9b0b-c86ca45fbce8",
   "metadata": {},
   "outputs": [],
   "source": []
  },
  {
   "cell_type": "code",
   "execution_count": null,
   "id": "822552d6-46c2-4dc3-a81f-43235f25d129",
   "metadata": {},
   "outputs": [],
   "source": []
  },
  {
   "cell_type": "code",
   "execution_count": null,
   "id": "78858896-72ae-409c-9e6d-ba3955671294",
   "metadata": {},
   "outputs": [],
   "source": []
  },
  {
   "cell_type": "code",
   "execution_count": null,
   "id": "754e6276-eb46-40a6-90a1-080590ddd2e2",
   "metadata": {},
   "outputs": [],
   "source": []
  },
  {
   "cell_type": "code",
   "execution_count": null,
   "id": "f37b3f1a-902a-41e2-a422-88d3c075167b",
   "metadata": {},
   "outputs": [],
   "source": []
  },
  {
   "cell_type": "code",
   "execution_count": null,
   "id": "865c17b2-6d6b-40a9-a9ed-09adc80bb3c3",
   "metadata": {},
   "outputs": [],
   "source": []
  },
  {
   "cell_type": "code",
   "execution_count": null,
   "id": "37c6f027-d1f4-474b-9d7f-2a518c71ea34",
   "metadata": {},
   "outputs": [],
   "source": []
  },
  {
   "cell_type": "code",
   "execution_count": null,
   "id": "a9d826c6-eebb-4172-b913-c1e07e65ac44",
   "metadata": {},
   "outputs": [],
   "source": []
  },
  {
   "cell_type": "code",
   "execution_count": null,
   "id": "a1b979e9-ff92-4949-ab1b-7ef814aa8e24",
   "metadata": {},
   "outputs": [],
   "source": []
  },
  {
   "cell_type": "code",
   "execution_count": null,
   "id": "f37a6988-deae-47ed-9cd6-15fc58831401",
   "metadata": {},
   "outputs": [],
   "source": []
  },
  {
   "cell_type": "code",
   "execution_count": null,
   "id": "52cf9499-81a6-4e28-8f52-056649f40e6c",
   "metadata": {},
   "outputs": [],
   "source": []
  }
 ],
 "metadata": {
  "kernelspec": {
   "display_name": "Python 3 (ipykernel)",
   "language": "python",
   "name": "python3"
  },
  "language_info": {
   "codemirror_mode": {
    "name": "ipython",
    "version": 3
   },
   "file_extension": ".py",
   "mimetype": "text/x-python",
   "name": "python",
   "nbconvert_exporter": "python",
   "pygments_lexer": "ipython3",
   "version": "3.10.8"
  }
 },
 "nbformat": 4,
 "nbformat_minor": 5
}
