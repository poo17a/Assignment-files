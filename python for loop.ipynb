{
 "cells": [
  {
   "cell_type": "code",
   "execution_count": null,
   "id": "0cdc0e5a-8106-49d4-8356-0f3a8ff8b154",
   "metadata": {},
   "outputs": [],
   "source": [
    "\n",
    "#1. Write a Python program to print the numbers from 1 to 10 using a `for` loop\n",
    "\n",
    "\n"
   ]
  },
  {
   "cell_type": "code",
   "execution_count": 11,
   "id": "8215d80c-5943-4dc8-bf6e-8b7512400efb",
   "metadata": {},
   "outputs": [
    {
     "name": "stdout",
     "output_type": "stream",
     "text": [
      "1\n",
      "2\n",
      "3\n",
      "4\n",
      "5\n",
      "6\n",
      "7\n",
      "8\n",
      "9\n",
      "10\n"
     ]
    }
   ],
   "source": [
    "for i in range(1,11):\n",
    "    print(i)"
   ]
  },
  {
   "cell_type": "code",
   "execution_count": 43,
   "id": "f35707a4-a50c-443f-88e4-7d69b8efecae",
   "metadata": {},
   "outputs": [
    {
     "name": "stdout",
     "output_type": "stream",
     "text": [
      "The sum of all numbers in the list is: 26\n"
     ]
    }
   ],
   "source": [
    "#2. Create a program that calculates the sum of all numbers in a list using a `for` loop.\n",
    "# Sample list of numbers\n",
    "numbers = [4, 7, 1, 3, 9, 2]\n",
    "\n",
    "# Initialize the sum to 0\n",
    "total_sum = 0\n",
    "\n",
    "# Iterate through each number in the list\n",
    "for num in numbers:\n",
    "    total_sum += num  # Add each number to the total sum\n",
    "\n",
    "# Print the total sum\n",
    "print(\"The sum of all numbers in the list is:\", total_sum)\n",
    "\n",
    "\n"
   ]
  },
  {
   "cell_type": "code",
   "execution_count": 13,
   "id": "4b0556dd-5526-4bac-9ea7-c04e2622eeda",
   "metadata": {},
   "outputs": [
    {
     "name": "stdout",
     "output_type": "stream",
     "text": [
      "string:  pranit\n",
      "reverse string tinarp\n"
     ]
    }
   ],
   "source": [
    "#3. Write a program to print the characters of a string in reverse order using a `for` loop.\n",
    "\n",
    "def reverse_string(str):  \n",
    "    str1 = \"\"   # Declaring empty string \n",
    "    for i in str:  \n",
    "        str1 = i + str1  \n",
    "    return str1    # It will return the reverse string to the call function  \n",
    "     \n",
    "str = \"pranit\"    # given String       \n",
    "print(\"string: \",str)  \n",
    "print(\"reverse string\",reverse_string(str)) # Function calling  "
   ]
  },
  {
   "cell_type": "code",
   "execution_count": 14,
   "id": "2e10799d-b490-4833-bfe8-ff1d2b9d3e90",
   "metadata": {},
   "outputs": [
    {
     "name": "stdin",
     "output_type": "stream",
     "text": [
      "Enter number:  45\n"
     ]
    },
    {
     "name": "stdout",
     "output_type": "stream",
     "text": [
      "Factorial of the given number is:  119622220865480194561963161495657715064383733760000000000\n"
     ]
    }
   ],
   "source": [
    "#4. Develop a program that finds the factorial of a given number using a `for` loop.\n",
    "\n",
    "n = int (input (\"Enter number: \"))\n",
    "factorial = 1\n",
    "if n >= 1:\n",
    "    for i in range (1, n+1):\n",
    "        factorial=factorial *i\n",
    "print(\"Factorial of the given number is: \", factorial)"
   ]
  },
  {
   "cell_type": "code",
   "execution_count": 15,
   "id": "5633b06d-44bb-417c-b49b-ade15bf5ee92",
   "metadata": {},
   "outputs": [
    {
     "name": "stdin",
     "output_type": "stream",
     "text": [
      "Enter the number:  5\n"
     ]
    },
    {
     "name": "stdout",
     "output_type": "stream",
     "text": [
      "5\n",
      "10\n",
      "15\n",
      "20\n",
      "25\n",
      "30\n",
      "35\n",
      "40\n",
      "45\n",
      "50\n"
     ]
    }
   ],
   "source": [
    "#5. Create a program to print the multiplication table of a given number using a `for` loop.\n",
    "\n",
    "n = int (input (\"Enter the number: \"))\n",
    "\n",
    "if n >= 0:\n",
    "    for i in range (1, 11):\n",
    "        a = i * n\n",
    "        print(a)\n",
    "        "
   ]
  },
  {
   "cell_type": "code",
   "execution_count": 16,
   "id": "ec23965b-e417-480a-8d03-741edd3a7888",
   "metadata": {},
   "outputs": [
    {
     "name": "stdout",
     "output_type": "stream",
     "text": [
      "number is even:  3\n",
      "number is odd:  5\n"
     ]
    }
   ],
   "source": [
    "#6. Write a program that counts the number of even and odd numbers in a list using a `for` loop.\n",
    "a = [1,2,3,4,5,7,8,9]\n",
    "evens, odds = 0, 0\n",
    "for num in a:\n",
    "    if num % 2 == 0:\n",
    "        evens += 1\n",
    "    else:\n",
    "        odds += 1\n",
    "print(\"number is even: \", evens)\n",
    "print(\"number is odd: \", odds)"
   ]
  },
  {
   "cell_type": "code",
   "execution_count": 17,
   "id": "f4d818a9-f81f-4454-9012-17d40bcb508c",
   "metadata": {},
   "outputs": [
    {
     "name": "stdout",
     "output_type": "stream",
     "text": [
      "1\n",
      "4\n",
      "9\n",
      "16\n",
      "25\n"
     ]
    }
   ],
   "source": [
    "#7. Develop a program that prints the squares of numbers from 1 to 5 using a `for` loop.\n",
    "\n",
    "for i in range (1, 6):\n",
    "    print(i*i)\n",
    "    "
   ]
  },
  {
   "cell_type": "code",
   "execution_count": 18,
   "id": "c8a238ca-bdbc-4a43-84cd-c6500da9e289",
   "metadata": {},
   "outputs": [
    {
     "name": "stdout",
     "output_type": "stream",
     "text": [
      "6\n"
     ]
    }
   ],
   "source": [
    "#8. Create a program to find the length of a string without using the `len()` function.\n",
    "\n",
    "s = \"pranit\"\n",
    "\n",
    "count = 0\n",
    "\n",
    "for i in s:\n",
    " \n",
    "    count+=1\n",
    "print(count)\n"
   ]
  },
  {
   "cell_type": "code",
   "execution_count": 20,
   "id": "1293f709-66ab-453a-a306-a1b14e4e85d9",
   "metadata": {},
   "outputs": [
    {
     "name": "stdin",
     "output_type": "stream",
     "text": [
      "Enter the number of elements to be inserted:  5\n",
      "Enter element:  6\n",
      "Enter element:  1\n",
      "Enter element:  2\n",
      "Enter element:  5\n",
      "Enter element:  2\n"
     ]
    },
    {
     "name": "stdout",
     "output_type": "stream",
     "text": [
      "Average of elements in the list 3.2\n"
     ]
    }
   ],
   "source": [
    "#9. Write a program that calculates the average of a list of numbers using a `for` loop.\n",
    "\n",
    "n=int(input(\"Enter the number of elements to be inserted: \"))\n",
    "a=[]\n",
    "for i in range(0,n):\n",
    "    elem=int(input(\"Enter element: \"))\n",
    "    a.append(elem)\n",
    "avg=sum(a)/n\n",
    "print(\"Average of elements in the list\",round(avg,2))"
   ]
  },
  {
   "cell_type": "code",
   "execution_count": 21,
   "id": "70bdda1d-aeff-4267-a666-03088b3b1854",
   "metadata": {},
   "outputs": [
    {
     "name": "stdin",
     "output_type": "stream",
     "text": [
      "enter the list Fibonacci numbers:  45\n"
     ]
    },
    {
     "name": "stdout",
     "output_type": "stream",
     "text": [
      "0\n",
      "1\n",
      "1\n",
      "2\n",
      "3\n",
      "5\n",
      "8\n",
      "13\n",
      "21\n",
      "34\n",
      "55\n",
      "89\n",
      "144\n",
      "233\n",
      "377\n",
      "610\n",
      "987\n",
      "1597\n",
      "2584\n",
      "4181\n",
      "6765\n",
      "10946\n",
      "17711\n",
      "28657\n",
      "46368\n",
      "75025\n",
      "121393\n",
      "196418\n",
      "317811\n",
      "514229\n",
      "832040\n",
      "1346269\n",
      "2178309\n",
      "3524578\n",
      "5702887\n",
      "9227465\n",
      "14930352\n",
      "24157817\n",
      "39088169\n",
      "63245986\n",
      "102334155\n",
      "165580141\n",
      "267914296\n",
      "433494437\n",
      "701408733\n",
      "1134903170\n"
     ]
    }
   ],
   "source": [
    "#10. Develop a program that prints the first `n` Fibonacci numbers using a `for` loop.\n",
    "\n",
    "n1 = 0\n",
    "n2 = 1\n",
    "n = int(input(\"enter the list Fibonacci numbers: \"))\n",
    "print(n1)\n",
    "print(n2)\n",
    "for x in range(1,n):\n",
    "    n3 = n1 + n2\n",
    "    print(n3)\n",
    "    n1,n2=n2,n3\n"
   ]
  },
  {
   "cell_type": "code",
   "execution_count": 22,
   "id": "b4cc0909-c3c2-48f2-a786-3776b9d7fbcb",
   "metadata": {},
   "outputs": [
    {
     "name": "stdout",
     "output_type": "stream",
     "text": [
      "2 1 "
     ]
    }
   ],
   "source": [
    "#11. Write a program to check if a given list contains any duplicates using a `for` loop.\n",
    "\n",
    "l = [1,2,3,6,5,2,1]\n",
    "l1=[]\n",
    "for i in l:\n",
    "    if i not in l1:\n",
    "        l1.append(i)\n",
    "    else:\n",
    "        print(i,end=' ')\n",
    "        \n",
    "        ###Explanation\n",
    "#The list (l) with duplicate elements is taken to find the duplicates.\n",
    "\n",
    "#An empty list (l1) is taken to store the values of non-duplicate elements from the given list.\n",
    "\n",
    "#The for loop is used to access the values in the list (l), and the if condition is used to check if the elements in the given list (l) are present in the empty list (l1).\n",
    "\n",
    "#If the elements are not present, those values are appended to the list (l1); else, they are printed.\n",
    "\n",
    "#Here, the list (l1) has no duplicates. The values printed are the duplicates from list (l).\n",
    "\n",
    "\n"
   ]
  },
  {
   "cell_type": "code",
   "execution_count": 23,
   "id": "67103eb8-3e21-4f24-b106-c609c306165b",
   "metadata": {},
   "outputs": [
    {
     "name": "stdin",
     "output_type": "stream",
     "text": [
      "enter the lowest range value:  5\n",
      "enter the upper range value:  2\n"
     ]
    },
    {
     "name": "stdout",
     "output_type": "stream",
     "text": [
      "The prime Numbers in the range: \n"
     ]
    }
   ],
   "source": [
    "#12. Create a program that prints the prime numbers in a given range using a `for` loop\n",
    "a = int(input (\"enter the lowest range value: \"))  \n",
    "b = int(input (\"enter the upper range value: \"))  \n",
    "  \n",
    "print (\"The prime Numbers in the range: \")  \n",
    "for number in range (a, b + 1):  \n",
    "    if number > 1:  \n",
    "        for i in range (2, number):  \n",
    "            if (number % i) == 0:  \n",
    "                break  \n",
    "        else:  \n",
    "            print (number)  "
   ]
  },
  {
   "cell_type": "code",
   "execution_count": 44,
   "id": "fa9b8dc5-7730-47ac-8fc3-d0ecd47f0cd0",
   "metadata": {},
   "outputs": [
    {
     "name": "stdout",
     "output_type": "stream",
     "text": [
      "The number of vowels in the string is: 7\n"
     ]
    }
   ],
   "source": [
    "#13. Develop a program that counts the number of vowels in a string using a `for` loop.\n",
    "\n",
    "# Input string\n",
    "input_string = \"Hello, how are you?\"\n",
    "\n",
    "# Initialize a counter for vowels\n",
    "vowel_count = 0\n",
    "\n",
    "# Define a set of vowels\n",
    "vowels = \"aeiouAEIOU\"\n",
    "\n",
    "# Iterate through each character in the string\n",
    "for char in input_string:\n",
    "    # Check if the character is a vowel\n",
    "    if char in vowels:\n",
    "        vowel_count += 1\n",
    "\n",
    "# Print the total number of vowels\n",
    "print(\"The number of vowels in the string is:\", vowel_count)\n"
   ]
  },
  {
   "cell_type": "code",
   "execution_count": 25,
   "id": "6c6e92b8-c2d5-434c-9d7a-65db9db2c032",
   "metadata": {},
   "outputs": [
    {
     "name": "stdout",
     "output_type": "stream",
     "text": [
      "The maximum element in the 2D list is: 9\n"
     ]
    }
   ],
   "source": [
    "#14. Write a program to find the maximum element in a 2D list using a nested `for` loop\n",
    "# Sample 2D list\n",
    "matrix = [\n",
    "    [3, 8, 1],\n",
    "    [9, 2, 5],\n",
    "    [6, 7, 4]\n",
    "]\n",
    "\n",
    "# Initialize max_element with the first element of the 2D list\n",
    "max_element = matrix[0][0]\n",
    "\n",
    "# Iterate through each row and column in the 2D list\n",
    "for row in matrix:\n",
    "    for element in row:\n",
    "        # Update max_element if a larger element is found\n",
    "        if element > max_element:\n",
    "            max_element = element\n",
    "\n",
    "# Print the maximum element\n",
    "print(\"The maximum element in the 2D list is:\", max_element)\n"
   ]
  },
  {
   "cell_type": "code",
   "execution_count": 26,
   "id": "08143793-6a9b-4f38-a78d-0677645a3368",
   "metadata": {},
   "outputs": [
    {
     "name": "stdout",
     "output_type": "stream",
     "text": [
      "original list\n",
      "[10, 20, 40, 10, 80, 110, 10, 150]\n",
      "list after removing elements\n",
      "[20, 40, 80, 110, 150]\n"
     ]
    }
   ],
   "source": [
    "#15. Create a program that removes all occurrences of a specific element from a list using a `for` loop.\n",
    "\n",
    "# list with integer elements\n",
    "l = [10, 20, 40, 10, 80, 110, 10, 150]\n",
    "# number to be removed (n)\n",
    "n = 10\n",
    "\n",
    "# print original list \n",
    "print (\"original list\")\n",
    "print (l)\n",
    "\n",
    "# loop to traverse each element in list\n",
    "# and, remove elements \n",
    "# which are equals to n\n",
    "for x in l:\n",
    "    if x == n:\n",
    "        l.remove(x)\n",
    "\n",
    "# print list after removing given element\n",
    "print (\"list after removing elements\")\n",
    "print (l)"
   ]
  },
  {
   "cell_type": "code",
   "execution_count": 27,
   "id": "bb7bb955-af36-42e4-861d-9446dcf317fa",
   "metadata": {},
   "outputs": [
    {
     "name": "stdout",
     "output_type": "stream",
     "text": [
      "Multiplication table from 1 to 5\n",
      "1\n",
      "2\n",
      "3\n",
      "4\n",
      "5\n",
      "6\n",
      "7\n",
      "8\n",
      "9\n",
      "10\n",
      "2\n",
      "4\n",
      "6\n",
      "8\n",
      "10\n",
      "12\n",
      "14\n",
      "16\n",
      "18\n",
      "20\n",
      "3\n",
      "6\n",
      "9\n",
      "12\n",
      "15\n",
      "18\n",
      "21\n",
      "24\n",
      "27\n",
      "30\n",
      "4\n",
      "8\n",
      "12\n",
      "16\n",
      "20\n",
      "24\n",
      "28\n",
      "32\n",
      "36\n",
      "40\n",
      "5\n",
      "10\n",
      "15\n",
      "20\n",
      "25\n",
      "30\n",
      "35\n",
      "40\n",
      "45\n",
      "50\n"
     ]
    }
   ],
   "source": [
    "#16. Develop a program that generates a multiplication table for numbers from 1 to 5 using a nested `for` loop\n",
    "print(\"Multiplication table from 1 to 5\")\n",
    "for i in range (1, 6):\n",
    "    for j in range (1, 11):\n",
    "        a = i*j\n",
    "        print(a)"
   ]
  },
  {
   "cell_type": "code",
   "execution_count": 45,
   "id": "14040c6e-1a96-4a1f-9b2c-3a3c599361de",
   "metadata": {},
   "outputs": [
    {
     "name": "stdout",
     "output_type": "stream",
     "text": [
      "Celsius temperatures: [0.0, 20.0, 25.0, 40.0, 15.0]\n"
     ]
    }
   ],
   "source": [
    "#17. Write a program that converts a list of Fahrenheit temperatures to Celsius using a `for` loop.\n",
    "# Sample list of Fahrenheit temperatures\n",
    "fahrenheit_temps = [32, 68, 77, 104, 59]\n",
    "\n",
    "# Create an empty list to store Celsius temperatures\n",
    "celsius_temps = []\n",
    "\n",
    "# Iterate through each temperature in the Fahrenheit list\n",
    "for temp in fahrenheit_temps:\n",
    "    # Convert Fahrenheit to Celsius using the formula: (F - 32) * 5/9\n",
    "    celsius = (temp - 32) * 5/9\n",
    "    # Append the Celsius temperature to the list\n",
    "    celsius_temps.append(celsius)\n",
    "\n",
    "# Print the converted Celsius temperatures\n",
    "print(\"Celsius temperatures:\", celsius_temps)\n"
   ]
  },
  {
   "cell_type": "code",
   "execution_count": 29,
   "id": "9bc4a08a-62b6-411d-b092-400927509456",
   "metadata": {},
   "outputs": [],
   "source": [
    "#18. Create a program to print the common elements from two lists using a `for` loop.\n",
    "l1 = ['q','a','s','d']\n",
    "l2 = ['w','s','l','a']\n",
    "for l1 in l2:\n",
    "   if l1 == l2:\n",
    "    print(l1+1)\n"
   ]
  },
  {
   "cell_type": "code",
   "execution_count": 30,
   "id": "c7957b0c-1c59-4ecc-bf0d-814e7b99394d",
   "metadata": {},
   "outputs": [
    {
     "name": "stdout",
     "output_type": "stream",
     "text": [
      "* \n",
      "* * \n",
      "* * * \n",
      "* * * * \n",
      "* * * * * \n",
      "* * * * * * \n",
      "* * * * * * * \n"
     ]
    }
   ],
   "source": [
    "#19. Develop a program that prints the pattern of right-angled triangles using a `for` loop. Use ‘*’ to draw the pattern\n",
    "\n",
    "for i in range (7):\n",
    "    for a in range (i+1):\n",
    "       print(\"*\", end= ' ')\n",
    "    print()"
   ]
  },
  {
   "cell_type": "code",
   "execution_count": 31,
   "id": "23b316c3-b2f8-4288-9c0c-f943b4a30428",
   "metadata": {},
   "outputs": [
    {
     "name": "stdout",
     "output_type": "stream",
     "text": [
      "GCD of 75 and 100 is: 25\n"
     ]
    }
   ],
   "source": [
    "#20. Write a program to find the greatest common divisor (GCD) of two numbers using a `for` loop\n",
    "\n",
    "x = 75\n",
    "y = 100\n",
    "if x > y:\n",
    "  x, y = y, x\n",
    "for i in range(1,x+1):\n",
    "  if x%i == 0 and y%i == 0:\n",
    "    gcd = i\n",
    "\n",
    "print(\"GCD of\", x, \"and\", y, \"is:\", gcd)"
   ]
  },
  {
   "cell_type": "code",
   "execution_count": 50,
   "id": "23669e22-e72d-4125-8482-40ca119d6d9e",
   "metadata": {},
   "outputs": [
    {
     "ename": "TypeError",
     "evalue": "'str' object is not callable",
     "output_type": "error",
     "traceback": [
      "\u001b[0;31m---------------------------------------------------------------------------\u001b[0m",
      "\u001b[0;31mTypeError\u001b[0m                                 Traceback (most recent call last)",
      "Cell \u001b[0;32mIn[50], line 6\u001b[0m\n\u001b[1;32m      3\u001b[0m numbers \u001b[38;5;241m=\u001b[39m [\u001b[38;5;241m123\u001b[39m, \u001b[38;5;241m456\u001b[39m, \u001b[38;5;241m789\u001b[39m]\n\u001b[1;32m      5\u001b[0m \u001b[38;5;66;03m# Calculate the sum of the digits of all numbers in the list\u001b[39;00m\n\u001b[0;32m----> 6\u001b[0m digit_sum \u001b[38;5;241m=\u001b[39m \u001b[38;5;28;43msum\u001b[39;49m\u001b[43m(\u001b[49m\u001b[38;5;28;43msum\u001b[39;49m\u001b[43m(\u001b[49m\u001b[38;5;28;43mint\u001b[39;49m\u001b[43m(\u001b[49m\u001b[43mdigit\u001b[49m\u001b[43m)\u001b[49m\u001b[43m \u001b[49m\u001b[38;5;28;43;01mfor\u001b[39;49;00m\u001b[43m \u001b[49m\u001b[43mdigit\u001b[49m\u001b[43m \u001b[49m\u001b[38;5;129;43;01min\u001b[39;49;00m\u001b[43m \u001b[49m\u001b[38;5;28;43mstr\u001b[39;49m\u001b[43m(\u001b[49m\u001b[43mnumber\u001b[49m\u001b[43m)\u001b[49m\u001b[43m)\u001b[49m\u001b[43m \u001b[49m\u001b[38;5;28;43;01mfor\u001b[39;49;00m\u001b[43m \u001b[49m\u001b[43mnumber\u001b[49m\u001b[43m \u001b[49m\u001b[38;5;129;43;01min\u001b[39;49;00m\u001b[43m \u001b[49m\u001b[43mnumbers\u001b[49m\u001b[43m)\u001b[49m\n\u001b[1;32m      8\u001b[0m \u001b[38;5;66;03m# Print the total sum of all digits\u001b[39;00m\n\u001b[1;32m      9\u001b[0m \u001b[38;5;28mprint\u001b[39m(\u001b[38;5;124m\"\u001b[39m\u001b[38;5;124mThe total sum of all digits in the list is:\u001b[39m\u001b[38;5;124m\"\u001b[39m, digit_sum)\n",
      "Cell \u001b[0;32mIn[50], line 6\u001b[0m, in \u001b[0;36m<genexpr>\u001b[0;34m(.0)\u001b[0m\n\u001b[1;32m      3\u001b[0m numbers \u001b[38;5;241m=\u001b[39m [\u001b[38;5;241m123\u001b[39m, \u001b[38;5;241m456\u001b[39m, \u001b[38;5;241m789\u001b[39m]\n\u001b[1;32m      5\u001b[0m \u001b[38;5;66;03m# Calculate the sum of the digits of all numbers in the list\u001b[39;00m\n\u001b[0;32m----> 6\u001b[0m digit_sum \u001b[38;5;241m=\u001b[39m \u001b[38;5;28msum\u001b[39m(\u001b[38;5;28msum\u001b[39m(\u001b[38;5;28mint\u001b[39m(digit) \u001b[38;5;28;01mfor\u001b[39;00m digit \u001b[38;5;129;01min\u001b[39;00m \u001b[38;5;28;43mstr\u001b[39;49m\u001b[43m(\u001b[49m\u001b[43mnumber\u001b[49m\u001b[43m)\u001b[49m) \u001b[38;5;28;01mfor\u001b[39;00m number \u001b[38;5;129;01min\u001b[39;00m numbers)\n\u001b[1;32m      8\u001b[0m \u001b[38;5;66;03m# Print the total sum of all digits\u001b[39;00m\n\u001b[1;32m      9\u001b[0m \u001b[38;5;28mprint\u001b[39m(\u001b[38;5;124m\"\u001b[39m\u001b[38;5;124mThe total sum of all digits in the list is:\u001b[39m\u001b[38;5;124m\"\u001b[39m, digit_sum)\n",
      "\u001b[0;31mTypeError\u001b[0m: 'str' object is not callable"
     ]
    }
   ],
   "source": [
    "#21. Create a program that calculates the sum of the digits of numbers in a list using a list comprehension.\n",
    "# Sample list of numbers\n",
    "numbers = [123, 456, 789]\n",
    "\n",
    "# Calculate the sum of the digits of all numbers in the list\n",
    "digit_sum = sum(sum(int(digit) for digit in str(number)) for number in numbers)\n",
    "\n",
    "# Print the total sum of all digits\n",
    "print(\"The total sum of all digits in the list is:\", digit_sum)\n"
   ]
  },
  {
   "cell_type": "code",
   "execution_count": 39,
   "id": "b68f6d82-b7fa-4fbe-aa13-73c489b6694e",
   "metadata": {},
   "outputs": [
    {
     "name": "stdin",
     "output_type": "stream",
     "text": [
      "enter a number to find its prime factors:  56\n"
     ]
    },
    {
     "name": "stdout",
     "output_type": "stream",
     "text": [
      "prime factors of 56: [2, 2, 2, 7]\n"
     ]
    }
   ],
   "source": [
    "#22. Write a program to find the prime factors of a given number using a `for` loop and list comprehension.\n",
    "\n",
    "def prime_factors(n):\n",
    "    factors= []\n",
    "    divisor = 2\n",
    "    \n",
    "    while n > 1:\n",
    "        for i in range(divisor, n+1):\n",
    "            if n % i == 0:\n",
    "                factors.append(i)\n",
    "                n //= i\n",
    "                break\n",
    "                \n",
    "    return factors\n",
    "if __name__ == \"__main__\":\n",
    "    num = int(input(\"enter a number to find its prime factors: \"))\n",
    "    print(f\"prime factors of {num}: {prime_factors(num)}\")\n"
   ]
  },
  {
   "cell_type": "code",
   "execution_count": 38,
   "id": "99377797-28f0-4ec3-a9ef-310417cb8226",
   "metadata": {},
   "outputs": [
    {
     "name": "stdin",
     "output_type": "stream",
     "text": [
      "enter number 5\n"
     ]
    },
    {
     "data": {
      "text/plain": [
       "[5]"
      ]
     },
     "execution_count": 38,
     "metadata": {},
     "output_type": "execute_result"
    }
   ],
   "source": [
    "n = int(input(\"enter number\"))\n",
    "[i for i in range(2, n + 1) if n % i == 0]  \n",
    "\n",
    "    "
   ]
  },
  {
   "cell_type": "code",
   "execution_count": 37,
   "id": "79a648b5-bbe0-4525-8137-131c796f9e06",
   "metadata": {},
   "outputs": [
    {
     "name": "stdout",
     "output_type": "stream",
     "text": [
      "[1, 2, 3, 4, 6, 8, 9]\n"
     ]
    }
   ],
   "source": [
    "#23. Develop a program that extracts unique elements from a list and stores them in a new list using a list comprehension.\n",
    "\n",
    "a = [1,2,1,3,4,1,4,6,8,9] \n",
    "d = list(set([i for i in a]))\n",
    "print(d)"
   ]
  },
  {
   "cell_type": "code",
   "execution_count": 51,
   "id": "04d629aa-2aa9-4015-b392-146522b8f759",
   "metadata": {},
   "outputs": [
    {
     "ename": "TypeError",
     "evalue": "'str' object is not callable",
     "output_type": "error",
     "traceback": [
      "\u001b[0;31m---------------------------------------------------------------------------\u001b[0m",
      "\u001b[0;31mTypeError\u001b[0m                                 Traceback (most recent call last)",
      "Cell \u001b[0;32mIn[51], line 7\u001b[0m\n\u001b[1;32m      4\u001b[0m limit \u001b[38;5;241m=\u001b[39m \u001b[38;5;241m1000\u001b[39m\n\u001b[1;32m      6\u001b[0m \u001b[38;5;66;03m# Generate a list of all palindromic numbers up to the specified limit\u001b[39;00m\n\u001b[0;32m----> 7\u001b[0m palindromic_numbers \u001b[38;5;241m=\u001b[39m [num \u001b[38;5;28;01mfor\u001b[39;00m num \u001b[38;5;129;01min\u001b[39;00m \u001b[38;5;28mrange\u001b[39m(limit) \u001b[38;5;28;01mif\u001b[39;00m \u001b[38;5;28mstr\u001b[39m(num) \u001b[38;5;241m==\u001b[39m \u001b[38;5;28mstr\u001b[39m(num)[::\u001b[38;5;241m-\u001b[39m\u001b[38;5;241m1\u001b[39m]]\n\u001b[1;32m      9\u001b[0m \u001b[38;5;66;03m# Print the list of palindromic numbers\u001b[39;00m\n\u001b[1;32m     10\u001b[0m \u001b[38;5;28mprint\u001b[39m(\u001b[38;5;124m\"\u001b[39m\u001b[38;5;124mPalindromic numbers up to\u001b[39m\u001b[38;5;124m\"\u001b[39m, limit, \u001b[38;5;124m\"\u001b[39m\u001b[38;5;124mare:\u001b[39m\u001b[38;5;124m\"\u001b[39m, palindromic_numbers)\n",
      "Cell \u001b[0;32mIn[51], line 7\u001b[0m, in \u001b[0;36m<listcomp>\u001b[0;34m(.0)\u001b[0m\n\u001b[1;32m      4\u001b[0m limit \u001b[38;5;241m=\u001b[39m \u001b[38;5;241m1000\u001b[39m\n\u001b[1;32m      6\u001b[0m \u001b[38;5;66;03m# Generate a list of all palindromic numbers up to the specified limit\u001b[39;00m\n\u001b[0;32m----> 7\u001b[0m palindromic_numbers \u001b[38;5;241m=\u001b[39m [num \u001b[38;5;28;01mfor\u001b[39;00m num \u001b[38;5;129;01min\u001b[39;00m \u001b[38;5;28mrange\u001b[39m(limit) \u001b[38;5;28;01mif\u001b[39;00m \u001b[38;5;28;43mstr\u001b[39;49m\u001b[43m(\u001b[49m\u001b[43mnum\u001b[49m\u001b[43m)\u001b[49m \u001b[38;5;241m==\u001b[39m \u001b[38;5;28mstr\u001b[39m(num)[::\u001b[38;5;241m-\u001b[39m\u001b[38;5;241m1\u001b[39m]]\n\u001b[1;32m      9\u001b[0m \u001b[38;5;66;03m# Print the list of palindromic numbers\u001b[39;00m\n\u001b[1;32m     10\u001b[0m \u001b[38;5;28mprint\u001b[39m(\u001b[38;5;124m\"\u001b[39m\u001b[38;5;124mPalindromic numbers up to\u001b[39m\u001b[38;5;124m\"\u001b[39m, limit, \u001b[38;5;124m\"\u001b[39m\u001b[38;5;124mare:\u001b[39m\u001b[38;5;124m\"\u001b[39m, palindromic_numbers)\n",
      "\u001b[0;31mTypeError\u001b[0m: 'str' object is not callable"
     ]
    }
   ],
   "source": [
    "#24. Create a program that generates a list of all palindromic numbers up to a specified limit using a list comprehension.\n",
    "\n",
    "# Define the limit\n",
    "limit = 1000\n",
    "\n",
    "# Generate a list of all palindromic numbers up to the specified limit\n",
    "palindromic_numbers = [num for num in range(limit) if str(num) == str(num)[::-1]]\n",
    "\n",
    "# Print the list of palindromic numbers\n",
    "print(\"Palindromic numbers up to\", limit, \"are:\", palindromic_numbers)\n"
   ]
  },
  {
   "cell_type": "code",
   "execution_count": null,
   "id": "780775dd-5ad7-4c60-898b-665309617635",
   "metadata": {},
   "outputs": [],
   "source": [
    "#25. Write a program to flatten a nested list using list comprehension."
   ]
  },
  {
   "cell_type": "code",
   "execution_count": 34,
   "id": "1d153157-e615-4bfc-9697-6a8c2849429b",
   "metadata": {},
   "outputs": [
    {
     "name": "stdout",
     "output_type": "stream",
     "text": [
      "[1, 2, 3, 4, 5, 6, 7, 8]\n"
     ]
    }
   ],
   "source": [
    "def flatten(nested_list):\n",
    "    # List comprehension to handle the flattening\n",
    "    return [item for sublist in nested_list\n",
    "            for item in (flatten(sublist) if isinstance(sublist, list) else [sublist])]\n",
    "\n",
    "# Example usage\n",
    "nested_list = [1, [2, [3, 4], 5], [6, 7], 8]\n",
    "flattened_list = flatten(nested_list)\n",
    "print(flattened_list)\n"
   ]
  },
  {
   "cell_type": "code",
   "execution_count": null,
   "id": "28826fba-cb24-4f23-aa6b-695d7db3bd1f",
   "metadata": {},
   "outputs": [],
   "source": [
    "25. Write a program to flatten a nested list using list comprehension."
   ]
  },
  {
   "cell_type": "code",
   "execution_count": 1,
   "id": "1df77895-71a5-445c-94c5-6af19dac81bd",
   "metadata": {},
   "outputs": [
    {
     "name": "stdout",
     "output_type": "stream",
     "text": [
      "[1, 2, 3, 4, 5, 6, 7, 8]\n"
     ]
    }
   ],
   "source": [
    "def flatten(nested_list):\n",
    "    # List comprehension to handle the flattening\n",
    "    return [item for sublist in nested_list\n",
    "            for item in (flatten(sublist) if isinstance(sublist, list) else [sublist])]\n",
    "\n",
    "# Example usage\n",
    "nested_list = [1, [2, [3, 4], 5], [6, 7], 8]\n",
    "flattened_list = flatten(nested_list)\n",
    "print(flattened_list)"
   ]
  },
  {
   "cell_type": "code",
   "execution_count": null,
   "id": "6d595026-ed0e-4454-bdc2-64676eb46472",
   "metadata": {},
   "outputs": [],
   "source": [
    "26. Develop a program that computes the sum of even and odd numbers in a list separately using list\n",
    "comprehension."
   ]
  },
  {
   "cell_type": "code",
   "execution_count": 2,
   "id": "7f84cb6d-8744-4fc3-923e-24b16722eb43",
   "metadata": {},
   "outputs": [
    {
     "name": "stdout",
     "output_type": "stream",
     "text": [
      "Sum of even numbers: 20\n",
      "Sum of odd numbers: 25\n"
     ]
    }
   ],
   "source": [
    "def sum_even_odd(numbers):\n",
    "    # List comprehensions to get even and odd numbers\n",
    "    even_sum = sum([num for num in numbers if num % 2 == 0])\n",
    "    odd_sum = sum([num for num in numbers if num % 2 != 0])\n",
    "    return even_sum, odd_sum\n",
    "\n",
    "# Example usage\n",
    "numbers = [1, 2, 3, 4, 5, 6, 7, 8, 9]\n",
    "even_sum, odd_sum = sum_even_odd(numbers)\n",
    "print(f\"Sum of even numbers: {even_sum}\")\n",
    "print(f\"Sum of odd numbers: {odd_sum}\")\n"
   ]
  },
  {
   "cell_type": "code",
   "execution_count": 3,
   "id": "d85096af-7b32-40f0-a73d-36839596b413",
   "metadata": {},
   "outputs": [
    {
     "ename": "SyntaxError",
     "evalue": "invalid syntax (2772195805.py, line 1)",
     "output_type": "error",
     "traceback": [
      "\u001b[0;36m  Cell \u001b[0;32mIn[3], line 1\u001b[0;36m\u001b[0m\n\u001b[0;31m    27. Create a program that generates a list of squares of odd numbers between 1 and 10 using list\u001b[0m\n\u001b[0m        ^\u001b[0m\n\u001b[0;31mSyntaxError\u001b[0m\u001b[0;31m:\u001b[0m invalid syntax\n"
     ]
    }
   ],
   "source": [
    "27. Create a program that generates a list of squares of odd numbers between 1 and 10 using list\n",
    "comprehension."
   ]
  },
  {
   "cell_type": "code",
   "execution_count": 4,
   "id": "3ceeaa1f-5b27-47e2-9c2c-9a1b860bb20c",
   "metadata": {},
   "outputs": [
    {
     "name": "stdout",
     "output_type": "stream",
     "text": [
      "[1, 9, 25, 49, 81]\n"
     ]
    }
   ],
   "source": [
    "# List comprehension to generate squares of odd numbers between 1 and 10\n",
    "squares_of_odds = [x**2 for x in range(1, 11) if x % 2 != 0]\n",
    "\n",
    "# Output the result\n",
    "print(squares_of_odds)\n"
   ]
  },
  {
   "cell_type": "code",
   "execution_count": null,
   "id": "382e881b-be43-4496-ae38-a456c170e868",
   "metadata": {},
   "outputs": [],
   "source": [
    "28. Write a program that combines two lists into a dictionary using list comprehension."
   ]
  },
  {
   "cell_type": "code",
   "execution_count": 5,
   "id": "c6b64bb2-4639-42ab-9e9d-ca3421f2057c",
   "metadata": {},
   "outputs": [
    {
     "name": "stdout",
     "output_type": "stream",
     "text": [
      "{'a': 1, 'b': 2, 'c': 3}\n"
     ]
    }
   ],
   "source": [
    "# Two lists\n",
    "keys = ['a', 'b', 'c']\n",
    "values = [1, 2, 3]\n",
    "\n",
    "# Combine lists into a dictionary using dictionary comprehension\n",
    "combined_dict = {key: value for key, value in zip(keys, values)}\n",
    "\n",
    "# Output the result\n",
    "print(combined_dict)\n"
   ]
  },
  {
   "cell_type": "code",
   "execution_count": 6,
   "id": "0b3113a2-6748-4e30-8b3b-0ba537302671",
   "metadata": {},
   "outputs": [
    {
     "ename": "SyntaxError",
     "evalue": "invalid syntax (2964868500.py, line 1)",
     "output_type": "error",
     "traceback": [
      "\u001b[0;36m  Cell \u001b[0;32mIn[6], line 1\u001b[0;36m\u001b[0m\n\u001b[0;31m    29. 29. Develop a program that extracts the vowels from a string and stores them in a list using list comprehension.\u001b[0m\n\u001b[0m        ^\u001b[0m\n\u001b[0;31mSyntaxError\u001b[0m\u001b[0;31m:\u001b[0m invalid syntax\n"
     ]
    }
   ],
   "source": [
    "29. Develop a program that extracts the vowels from a string and stores them in a list using list comprehension."
   ]
  },
  {
   "cell_type": "code",
   "execution_count": 7,
   "id": "0320660e-2489-432a-a30d-3a0e29e63ed2",
   "metadata": {},
   "outputs": [
    {
     "name": "stdout",
     "output_type": "stream",
     "text": [
      "['e', 'o', 'o']\n"
     ]
    }
   ],
   "source": [
    "def extract_vowels(input_string):\n",
    "    # List comprehension to extract vowels\n",
    "    vowels = [char for char in input_string if char.lower() in 'aeiou']\n",
    "    return vowels\n",
    "\n",
    "# Example usage\n",
    "input_string = \"Hello World\"\n",
    "vowel_list = extract_vowels(input_string)\n",
    "print(vowel_list)\n"
   ]
  },
  {
   "cell_type": "code",
   "execution_count": null,
   "id": "6769957d-8100-4cd8-b18e-5b2e9b13d8bd",
   "metadata": {},
   "outputs": [],
   "source": [
    "30. Create a program that removes all non-numeric characters from a list of strings using list comprehension."
   ]
  },
  {
   "cell_type": "code",
   "execution_count": 8,
   "id": "f2b94dd3-7e11-4dd9-b248-112884198d08",
   "metadata": {},
   "outputs": [
    {
     "name": "stdout",
     "output_type": "stream",
     "text": [
      "['123', '45', '123', '456']\n"
     ]
    }
   ],
   "source": [
    "def remove_non_numeric(strings):\n",
    "    # List comprehension to remove non-numeric characters from each string\n",
    "    cleaned_strings = [''.join([char for char in s if char.isdigit()]) for s in strings]\n",
    "    return cleaned_strings\n",
    "\n",
    "# Example usage\n",
    "strings = [\"a1b2c3\", \"hello4world5\", \"123abc\", \"abc456def\"]\n",
    "cleaned_list = remove_non_numeric(strings)\n",
    "print(cleaned_list)\n"
   ]
  },
  {
   "cell_type": "code",
   "execution_count": null,
   "id": "56a19974-c625-47bf-80be-fd5539bb9588",
   "metadata": {},
   "outputs": [],
   "source": [
    "31. Write a program to generate a list of prime numbers using the Sieve of Eratosthenes algorithm and list\n",
    "comprehension."
   ]
  },
  {
   "cell_type": "code",
   "execution_count": 9,
   "id": "259576a0-3b40-4a4c-b904-db431c9e125c",
   "metadata": {},
   "outputs": [
    {
     "name": "stdout",
     "output_type": "stream",
     "text": [
      "[2, 3, 5, 7, 11, 13, 17, 19, 23, 29]\n"
     ]
    }
   ],
   "source": [
    "def sieve_of_eratosthenes(limit):\n",
    "    # Initialize a boolean list where index represents the number\n",
    "    sieve = [True] * (limit + 1)\n",
    "    sieve[0] = sieve[1] = False  # 0 and 1 are not prime numbers\n",
    "    \n",
    "    # Apply the Sieve of Eratosthenes algorithm\n",
    "    for start in range(2, int(limit**0.5) + 1):\n",
    "        if sieve[start]:\n",
    "            # Mark multiples of start as False\n",
    "            for multiple in range(start*start, limit + 1, start):\n",
    "                sieve[multiple] = False\n",
    "    \n",
    "    # List comprehension to extract prime numbers\n",
    "    primes = [num for num, is_prime in enumerate(sieve) if is_prime]\n",
    "    return primes\n",
    "\n",
    "# Example usage\n",
    "limit = 30\n",
    "prime_numbers = sieve_of_eratosthenes(limit)\n",
    "print(prime_numbers)\n"
   ]
  },
  {
   "cell_type": "code",
   "execution_count": null,
   "id": "16e81e0f-d1ec-437a-94b6-65975b8760c7",
   "metadata": {},
   "outputs": [],
   "source": [
    "32. Create a program that generates a list of all Pythagorean triplets up to a specified limit using list\n",
    "comprehension."
   ]
  },
  {
   "cell_type": "code",
   "execution_count": null,
   "id": "0fe0c586-e371-4c2b-8880-3fac2a5aed3c",
   "metadata": {},
   "outputs": [],
   "source": [
    "def pythagorean_triplets(limit):\n",
    "    # List comprehension to generate all Pythagorean triplets\n",
    "    triplets = [(a, b, c) \n",
    "                for a in range(1, limit + 1) \n",
    "                for b in range(a, limit + 1)  # Ensure a <= b\n",
    "                for c in range(b, limit + 1)  # Ensure b <= c\n",
    "                if a**2 + b**2 == c**2]\n",
    "    return triplets\n",
    "\n",
    "# Example usage\n",
    "limit = 20\n",
    "triplets = pythagorean_triplets(limit)\n",
    "print(triplets)\n"
   ]
  },
  {
   "cell_type": "code",
   "execution_count": null,
   "id": "11d5e361-0b67-441d-89c2-94f24a3a7712",
   "metadata": {},
   "outputs": [],
   "source": [
    "33. Develop a program that generates a list of all possible combinations of two lists using list comprehension."
   ]
  },
  {
   "cell_type": "code",
   "execution_count": 10,
   "id": "47df8113-56a1-429c-97cf-e338c28f1646",
   "metadata": {},
   "outputs": [
    {
     "name": "stdout",
     "output_type": "stream",
     "text": [
      "[(1, 'a'), (1, 'b'), (1, 'c'), (2, 'a'), (2, 'b'), (2, 'c'), (3, 'a'), (3, 'b'), (3, 'c')]\n"
     ]
    }
   ],
   "source": [
    "def generate_combinations(list1, list2):\n",
    "    # List comprehension to generate all combinations of elements from list1 and list2\n",
    "    combinations = [(x, y) for x in list1 for y in list2]\n",
    "    return combinations\n",
    "\n",
    "# Example usage\n",
    "list1 = [1, 2, 3]\n",
    "list2 = ['a', 'b', 'c']\n",
    "combinations = generate_combinations(list1, list2)\n",
    "print(combinations)\n"
   ]
  },
  {
   "cell_type": "code",
   "execution_count": null,
   "id": "3a71c165-2f44-4ab9-8f72-083d7afcb43b",
   "metadata": {},
   "outputs": [],
   "source": [
    "34. Write a program that calculates the mean, median, and mode of a list of numbers using list\n",
    "comprehension."
   ]
  },
  {
   "cell_type": "code",
   "execution_count": null,
   "id": "fbd738cf-631c-40d7-87f0-5b8796fb980f",
   "metadata": {},
   "outputs": [],
   "source": [
    "from collections import Counter\n",
    "\n",
    "def calculate_statistics(numbers):\n",
    "    # Calculate mean\n",
    "    mean = sum(numbers) / len(numbers) if numbers else 0\n",
    "    \n",
    "    # Calculate median\n",
    "    sorted_numbers = sorted(numbers)\n",
    "    n = len(sorted_numbers)\n",
    "    median = (sorted_numbers[n // 2] if n % 2 != 0 \n",
    "              else (sorted_numbers[n // 2 - 1] + sorted_numbers[n // 2]) / 2) if numbers else 0\n",
    "    \n",
    "    # Calculate mode\n",
    "    count = Counter(numbers)\n",
    "    max_frequency = max(count.values(), default=0)\n",
    "    mode = [num for num, freq in count.items() if freq == max_frequency]\n",
    "    \n",
    "    return mean, median, mode\n",
    "\n",
    "# Example usage\n",
    "numbers = [1, 2, 3, 4, 4, 5, 5, 5]\n",
    "mean, median, mode = calculate_statistics(numbers)\n",
    "print(f\"Mean: {mean}\")\n",
    "print(f\"Median: {median}\")\n",
    "print(f\"Mode: {mode}\")\n"
   ]
  },
  {
   "cell_type": "code",
   "execution_count": null,
   "id": "2823efb7-868a-46b5-ba39-ea11ef15331d",
   "metadata": {},
   "outputs": [],
   "source": [
    "35. Create a program that generates Pascal's triangle up to a specified number of rows using list\n",
    "comprehension."
   ]
  },
  {
   "cell_type": "code",
   "execution_count": 11,
   "id": "2bd2b9ee-3936-4abf-a1e7-db637f8be00f",
   "metadata": {},
   "outputs": [
    {
     "name": "stdout",
     "output_type": "stream",
     "text": [
      "[1]\n",
      "[1, 1]\n",
      "[1, 2, 1]\n",
      "[1, 2, 2, 1]\n",
      "[1, 2, 2, 2, 1]\n"
     ]
    }
   ],
   "source": [
    "def generate_pascals_triangle(rows):\n",
    "    # List comprehension to generate Pascal's Triangle\n",
    "    triangle = [[1] * (i + 1) for i in range(rows)]\n",
    "    for i in range(2, rows):\n",
    "        triangle[i] = [triangle[i][j] + triangle[i][j - 1] for j in range(1, i)]\n",
    "        triangle[i].insert(0, 1)\n",
    "        triangle[i].append(1)\n",
    "    return triangle\n",
    "\n",
    "# Example usage\n",
    "num_rows = 5\n",
    "pascals_triangle = generate_pascals_triangle(num_rows)\n",
    "for row in pascals_triangle:\n",
    "    print(row)\n"
   ]
  },
  {
   "cell_type": "code",
   "execution_count": null,
   "id": "ed1a5290-b9ac-459f-8397-613096997724",
   "metadata": {},
   "outputs": [],
   "source": [
    "36.Develop a program that calculates the sum of the digits of a factorial of numbers from 1 to 5 using list\n",
    "comprehension."
   ]
  },
  {
   "cell_type": "code",
   "execution_count": 12,
   "id": "2acd020e-0c26-400b-917a-97507214e5b4",
   "metadata": {},
   "outputs": [
    {
     "name": "stdout",
     "output_type": "stream",
     "text": [
      "[1, 2, 6, 6, 3]\n"
     ]
    }
   ],
   "source": [
    "import math\n",
    "\n",
    "def sum_of_digits(n):\n",
    "    # Calculate the sum of the digits of the number n\n",
    "    return sum(int(digit) for digit in str(n))\n",
    "\n",
    "def factorial_digit_sums(range_end):\n",
    "    # List comprehension to calculate the sum of digits of the factorials\n",
    "    return [sum_of_digits(math.factorial(i)) for i in range(1, range_end + 1)]\n",
    "\n",
    "# Example usage\n",
    "range_end = 5\n",
    "digit_sums = factorial_digit_sums(range_end)\n",
    "print(digit_sums)\n"
   ]
  },
  {
   "cell_type": "code",
   "execution_count": null,
   "id": "19e00d9e-5b8e-4dea-aacc-f56d450c35aa",
   "metadata": {},
   "outputs": [],
   "source": [
    "37. Write a program that finds the longest word in a sentence using list comprehension."
   ]
  },
  {
   "cell_type": "code",
   "execution_count": 13,
   "id": "fc41e95f-63a8-48da-bca6-c34b52058153",
   "metadata": {},
   "outputs": [
    {
     "name": "stdout",
     "output_type": "stream",
     "text": [
      "The longest word is: quick\n"
     ]
    }
   ],
   "source": [
    "def longest_word(sentence):\n",
    "    # Split the sentence into words and find the longest one\n",
    "    words = sentence.split()\n",
    "    longest = max(words, key=len) if words else ''\n",
    "    return longest\n",
    "\n",
    "# Example usage\n",
    "sentence = \"The quick brown fox jumps over the lazy dog\"\n",
    "longest = longest_word(sentence)\n",
    "print(f\"The longest word is: {longest}\")\n"
   ]
  },
  {
   "cell_type": "code",
   "execution_count": null,
   "id": "f3e4bf48-536a-4eb3-a7c2-3775848ab59e",
   "metadata": {},
   "outputs": [],
   "source": [
    "38.Create a program that filters a list of strings to include only those with more than three vowels using list\n",
    "comprehension."
   ]
  },
  {
   "cell_type": "code",
   "execution_count": 14,
   "id": "2bd4cdea-c1ce-4f59-b155-6a32466ac6df",
   "metadata": {},
   "outputs": [
    {
     "name": "stdout",
     "output_type": "stream",
     "text": [
      "['beautiful', 'extraordinary']\n"
     ]
    }
   ],
   "source": [
    "def count_vowels(s):\n",
    "    # Define the set of vowels\n",
    "    vowels = set('aeiouAEIOU')\n",
    "    # Count the number of vowels in the string\n",
    "    return sum(1 for char in s if char in vowels)\n",
    "\n",
    "def filter_strings(strings):\n",
    "    # List comprehension to filter strings with more than three vowels\n",
    "    return [s for s in strings if count_vowels(s) > 3]\n",
    "\n",
    "# Example usage\n",
    "strings = [\"hello\", \"beautiful\", \"world\", \"extraordinary\", \"example\"]\n",
    "filtered_strings = filter_strings(strings)\n",
    "print(filtered_strings)\n"
   ]
  },
  {
   "cell_type": "code",
   "execution_count": null,
   "id": "d2285fee-f7de-4087-92d4-a68308f1b1aa",
   "metadata": {},
   "outputs": [],
   "source": [
    "39.Develop a program that calculates the sum of the digits of numbers from 1 to 1000 using list\n",
    "comprehension."
   ]
  },
  {
   "cell_type": "code",
   "execution_count": 15,
   "id": "45b55c42-4131-4896-a189-c60c34e9425c",
   "metadata": {},
   "outputs": [
    {
     "name": "stdout",
     "output_type": "stream",
     "text": [
      "[1, 2, 3, 4, 5, 6, 7, 8, 9, 1, 2, 3, 4, 5, 6, 7, 8, 9, 10, 2, 3, 4, 5, 6, 7, 8, 9, 10, 11, 3, 4, 5, 6, 7, 8, 9, 10, 11, 12, 4, 5, 6, 7, 8, 9, 10, 11, 12, 13, 5, 6, 7, 8, 9, 10, 11, 12, 13, 14, 6, 7, 8, 9, 10, 11, 12, 13, 14, 15, 7, 8, 9, 10, 11, 12, 13, 14, 15, 16, 8, 9, 10, 11, 12, 13, 14, 15, 16, 17, 9, 10, 11, 12, 13, 14, 15, 16, 17, 18, 1, 2, 3, 4, 5, 6, 7, 8, 9, 10, 2, 3, 4, 5, 6, 7, 8, 9, 10, 11, 3, 4, 5, 6, 7, 8, 9, 10, 11, 12, 4, 5, 6, 7, 8, 9, 10, 11, 12, 13, 5, 6, 7, 8, 9, 10, 11, 12, 13, 14, 6, 7, 8, 9, 10, 11, 12, 13, 14, 15, 7, 8, 9, 10, 11, 12, 13, 14, 15, 16, 8, 9, 10, 11, 12, 13, 14, 15, 16, 17, 9, 10, 11, 12, 13, 14, 15, 16, 17, 18, 10, 11, 12, 13, 14, 15, 16, 17, 18, 19, 2, 3, 4, 5, 6, 7, 8, 9, 10, 11, 3, 4, 5, 6, 7, 8, 9, 10, 11, 12, 4, 5, 6, 7, 8, 9, 10, 11, 12, 13, 5, 6, 7, 8, 9, 10, 11, 12, 13, 14, 6, 7, 8, 9, 10, 11, 12, 13, 14, 15, 7, 8, 9, 10, 11, 12, 13, 14, 15, 16, 8, 9, 10, 11, 12, 13, 14, 15, 16, 17, 9, 10, 11, 12, 13, 14, 15, 16, 17, 18, 10, 11, 12, 13, 14, 15, 16, 17, 18, 19, 11, 12, 13, 14, 15, 16, 17, 18, 19, 20, 3, 4, 5, 6, 7, 8, 9, 10, 11, 12, 4, 5, 6, 7, 8, 9, 10, 11, 12, 13, 5, 6, 7, 8, 9, 10, 11, 12, 13, 14, 6, 7, 8, 9, 10, 11, 12, 13, 14, 15, 7, 8, 9, 10, 11, 12, 13, 14, 15, 16, 8, 9, 10, 11, 12, 13, 14, 15, 16, 17, 9, 10, 11, 12, 13, 14, 15, 16, 17, 18, 10, 11, 12, 13, 14, 15, 16, 17, 18, 19, 11, 12, 13, 14, 15, 16, 17, 18, 19, 20, 12, 13, 14, 15, 16, 17, 18, 19, 20, 21, 4, 5, 6, 7, 8, 9, 10, 11, 12, 13, 5, 6, 7, 8, 9, 10, 11, 12, 13, 14, 6, 7, 8, 9, 10, 11, 12, 13, 14, 15, 7, 8, 9, 10, 11, 12, 13, 14, 15, 16, 8, 9, 10, 11, 12, 13, 14, 15, 16, 17, 9, 10, 11, 12, 13, 14, 15, 16, 17, 18, 10, 11, 12, 13, 14, 15, 16, 17, 18, 19, 11, 12, 13, 14, 15, 16, 17, 18, 19, 20, 12, 13, 14, 15, 16, 17, 18, 19, 20, 21, 13, 14, 15, 16, 17, 18, 19, 20, 21, 22, 5, 6, 7, 8, 9, 10, 11, 12, 13, 14, 6, 7, 8, 9, 10, 11, 12, 13, 14, 15, 7, 8, 9, 10, 11, 12, 13, 14, 15, 16, 8, 9, 10, 11, 12, 13, 14, 15, 16, 17, 9, 10, 11, 12, 13, 14, 15, 16, 17, 18, 10, 11, 12, 13, 14, 15, 16, 17, 18, 19, 11, 12, 13, 14, 15, 16, 17, 18, 19, 20, 12, 13, 14, 15, 16, 17, 18, 19, 20, 21, 13, 14, 15, 16, 17, 18, 19, 20, 21, 22, 14, 15, 16, 17, 18, 19, 20, 21, 22, 23, 6, 7, 8, 9, 10, 11, 12, 13, 14, 15, 7, 8, 9, 10, 11, 12, 13, 14, 15, 16, 8, 9, 10, 11, 12, 13, 14, 15, 16, 17, 9, 10, 11, 12, 13, 14, 15, 16, 17, 18, 10, 11, 12, 13, 14, 15, 16, 17, 18, 19, 11, 12, 13, 14, 15, 16, 17, 18, 19, 20, 12, 13, 14, 15, 16, 17, 18, 19, 20, 21, 13, 14, 15, 16, 17, 18, 19, 20, 21, 22, 14, 15, 16, 17, 18, 19, 20, 21, 22, 23, 15, 16, 17, 18, 19, 20, 21, 22, 23, 24, 7, 8, 9, 10, 11, 12, 13, 14, 15, 16, 8, 9, 10, 11, 12, 13, 14, 15, 16, 17, 9, 10, 11, 12, 13, 14, 15, 16, 17, 18, 10, 11, 12, 13, 14, 15, 16, 17, 18, 19, 11, 12, 13, 14, 15, 16, 17, 18, 19, 20, 12, 13, 14, 15, 16, 17, 18, 19, 20, 21, 13, 14, 15, 16, 17, 18, 19, 20, 21, 22, 14, 15, 16, 17, 18, 19, 20, 21, 22, 23, 15, 16, 17, 18, 19, 20, 21, 22, 23, 24, 16, 17, 18, 19, 20, 21, 22, 23, 24, 25, 8, 9, 10, 11, 12, 13, 14, 15, 16, 17, 9, 10, 11, 12, 13, 14, 15, 16, 17, 18, 10, 11, 12, 13, 14, 15, 16, 17, 18, 19, 11, 12, 13, 14, 15, 16, 17, 18, 19, 20, 12, 13, 14, 15, 16, 17, 18, 19, 20, 21, 13, 14, 15, 16, 17, 18, 19, 20, 21, 22, 14, 15, 16, 17, 18, 19, 20, 21, 22, 23, 15, 16, 17, 18, 19, 20, 21, 22, 23, 24, 16, 17, 18, 19, 20, 21, 22, 23, 24, 25, 17, 18, 19, 20, 21, 22, 23, 24, 25, 26, 9, 10, 11, 12, 13, 14, 15, 16, 17, 18, 10, 11, 12, 13, 14, 15, 16, 17, 18, 19, 11, 12, 13, 14, 15, 16, 17, 18, 19, 20, 12, 13, 14, 15, 16, 17, 18, 19, 20, 21, 13, 14, 15, 16, 17, 18, 19, 20, 21, 22, 14, 15, 16, 17, 18, 19, 20, 21, 22, 23, 15, 16, 17, 18, 19, 20, 21, 22, 23, 24, 16, 17, 18, 19, 20, 21, 22, 23, 24, 25, 17, 18, 19, 20, 21, 22, 23, 24, 25, 26, 18, 19, 20, 21, 22, 23, 24, 25, 26, 27, 1]\n"
     ]
    }
   ],
   "source": [
    "def sum_of_digits(n):\n",
    "    # Calculate the sum of the digits of the number n\n",
    "    return sum(int(digit) for digit in str(n))\n",
    "\n",
    "def sum_of_digits_from_1_to_1000():\n",
    "    # List comprehension to calculate the sum of digits of numbers from 1 to 1000\n",
    "    return [sum_of_digits(i) for i in range(1, 1001)]\n",
    "\n",
    "# Example usage\n",
    "digit_sums = sum_of_digits_from_1_to_1000()\n",
    "print(digit_sums)\n"
   ]
  },
  {
   "cell_type": "code",
   "execution_count": null,
   "id": "0211e272-e23b-46ee-a05e-89b027ec09e9",
   "metadata": {},
   "outputs": [],
   "source": [
    "40. Write a program that generates a list of prime palindromic numbers using list comprehension."
   ]
  },
  {
   "cell_type": "code",
   "execution_count": 16,
   "id": "1e1e4079-9c48-4022-aab1-cd85fa0b1986",
   "metadata": {},
   "outputs": [
    {
     "name": "stdout",
     "output_type": "stream",
     "text": [
      "[2, 3, 5, 7, 11, 101, 131, 151, 181, 191, 313, 353, 373, 383, 727, 757, 787, 797, 919, 929]\n"
     ]
    }
   ],
   "source": [
    "def is_prime(n):\n",
    "    if n <= 1:\n",
    "        return False\n",
    "    if n <= 3:\n",
    "        return True\n",
    "    if n % 2 == 0 or n % 3 == 0:\n",
    "        return False\n",
    "    i = 5\n",
    "    while i * i <= n:\n",
    "        if n % i == 0 or n % (i + 2) == 0:\n",
    "            return False\n",
    "        i += 6\n",
    "    return True\n",
    "\n",
    "def is_palindrome(n):\n",
    "    s = str(n)\n",
    "    return s == s[::-1]\n",
    "\n",
    "def prime_palindromic_numbers(limit):\n",
    "    # List comprehension to generate prime palindromic numbers\n",
    "    return [num for num in range(2, limit + 1) if is_prime(num) and is_palindrome(num)]\n",
    "\n",
    "# Example usage\n",
    "limit = 1000\n",
    "prime_palindromes = prime_palindromic_numbers(limit)\n",
    "print(prime_palindromes)\n"
   ]
  },
  {
   "cell_type": "code",
   "execution_count": null,
   "id": "5ef1a586-51e6-4cea-8ded-ea178e2f45ed",
   "metadata": {},
   "outputs": [],
   "source": []
  }
 ],
 "metadata": {
  "kernelspec": {
   "display_name": "Python 3 (ipykernel)",
   "language": "python",
   "name": "python3"
  },
  "language_info": {
   "codemirror_mode": {
    "name": "ipython",
    "version": 3
   },
   "file_extension": ".py",
   "mimetype": "text/x-python",
   "name": "python",
   "nbconvert_exporter": "python",
   "pygments_lexer": "ipython3",
   "version": "3.10.8"
  }
 },
 "nbformat": 4,
 "nbformat_minor": 5
}
