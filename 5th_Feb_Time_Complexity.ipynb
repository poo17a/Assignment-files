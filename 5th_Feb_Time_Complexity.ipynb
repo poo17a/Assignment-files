{
  "nbformat": 4,
  "nbformat_minor": 0,
  "metadata": {
    "colab": {
      "provenance": []
    },
    "kernelspec": {
      "name": "python3",
      "display_name": "Python 3"
    },
    "language_info": {
      "name": "python"
    }
  },
  "cells": [
    {
      "cell_type": "markdown",
      "source": [
        "# Find time complexity of below code blocks :"
      ],
      "metadata": {
        "id": "M9NOqUUToi3n"
      }
    },
    {
      "cell_type": "markdown",
      "source": [
        "Problem 1 :\n",
        "\n",
        "def quicksort(arr):\n",
        "\n",
        "if len(arr) <= 1:\n",
        "\n",
        "return arr\n",
        "\n",
        "pivot = arr[len(arr) // 2]\n",
        "\n",
        "left = [x for x in arr if x < pivot]\n",
        "\n",
        "middle = [x for x in arr if x == pivot]\n",
        "\n",
        "right = [x for x in arr if x > pivot]\n",
        "\n",
        "return quicksort(left) + middle + quicksort(right)"
      ],
      "metadata": {
        "id": "0YJnzBqHoO44"
      }
    },
    {
      "cell_type": "markdown",
      "source": [
        "Ans: Worst Case: TC = O(n^2)\n",
        "Average Case: TC = nlogn"
      ],
      "metadata": {
        "id": "V_XymZ8OodP3"
      }
    },
    {
      "cell_type": "markdown",
      "source": [
        "Problem 2 :\n",
        "\n",
        "def nested_loop_example(matrix):\n",
        "\n",
        "rows, cols = len(matrix), len(matrix[0])\n",
        "\n",
        "total = 0\n",
        "\n",
        "for i in range(rows):\n",
        "\n",
        "for j in range(cols):\n",
        "\n",
        "total += matrix[i][j]\n",
        "\n",
        "return total"
      ],
      "metadata": {
        "id": "xmZKJbGlo5jc"
      }
    },
    {
      "cell_type": "markdown",
      "source": [
        "Ans: TC = O(rows*cols)"
      ],
      "metadata": {
        "id": "22nsc48ist56"
      }
    },
    {
      "cell_type": "markdown",
      "source": [
        "Problem 3 :\n",
        "\n",
        "def example_function(arr):\n",
        "\n",
        "result = 0\n",
        "\n",
        "for element in arr:\n",
        "\n",
        "result += element\n",
        "\n",
        "return result"
      ],
      "metadata": {
        "id": "CBjTo9FOtEVt"
      }
    },
    {
      "cell_type": "markdown",
      "source": [
        "Ans: TC = O(n)"
      ],
      "metadata": {
        "id": "-ZhbwlhWtLpy"
      }
    },
    {
      "cell_type": "markdown",
      "source": [
        "Problem 4 :\n",
        "\n",
        "def longest_increasing_subsequence(nums):\n",
        "\n",
        "n = len(nums)\n",
        "\n",
        "lis = [1] * n\n",
        "\n",
        "for i in range(1, n):\n",
        "\n",
        "for j in range(0, i):\n",
        "\n",
        "if nums[i] > nums[j] and lis[i] < lis[j] + 1:\n",
        "\n",
        "lis[i] = lis[j] + 1\n",
        "\n",
        "return max(lis)"
      ],
      "metadata": {
        "id": "OvHmVBSxtbUi"
      }
    },
    {
      "cell_type": "markdown",
      "source": [
        "Ans: TC = O(n^2)"
      ],
      "metadata": {
        "id": "zD8kS8Nxt5Ra"
      }
    },
    {
      "cell_type": "markdown",
      "source": [
        "Problem 5 :\n",
        "\n",
        "def mysterious_function(arr):\n",
        "\n",
        "n = len(arr)\n",
        "\n",
        "result = 0\n",
        "\n",
        "for i in range(n):\n",
        "\n",
        "for j in range(i, n):\n",
        "\n",
        "result += arr[i] * arr[j]\n",
        "\n",
        "return result"
      ],
      "metadata": {
        "id": "O2gUfhD_uKGH"
      }
    },
    {
      "cell_type": "markdown",
      "source": [
        "Ans: TC = O(n^2)"
      ],
      "metadata": {
        "id": "ckdpLA6buVWW"
      }
    },
    {
      "cell_type": "markdown",
      "source": [
        "# Solve the following problems on recursion"
      ],
      "metadata": {
        "id": "Mce2lA2Mue20"
      }
    },
    {
      "cell_type": "markdown",
      "source": [
        "**Problem 6 : Sum of Digits**\n",
        "\n",
        "Write a recursive function to calculate the sum of digits of a given positive integer.\n",
        "\n",
        "sum_of_digits(123) -> 6\n",
        "\n",
        "Modulus is for remainder and floor is for quotient"
      ],
      "metadata": {
        "id": "hS3a2X6aumWC"
      }
    },
    {
      "cell_type": "code",
      "source": [
        "def sum_of_digits(n):\n",
        "    # Base case: If the number is a single digit, return the number\n",
        "    if n < 10:\n",
        "        return n\n",
        "    else:\n",
        "        # Recursive case: Add the last digit to the sum of digits of the remaining part\n",
        "        return n % 10 + sum_of_digits(n // 10)\n",
        "\n",
        "# Driver Code\n",
        "result = sum_of_digits(123)\n",
        "print(result)"
      ],
      "metadata": {
        "colab": {
          "base_uri": "https://localhost:8080/"
        },
        "id": "vbo6hYlxuecd",
        "outputId": "8e5a66b3-e326-442a-b6df-4db40347ee16"
      },
      "execution_count": null,
      "outputs": [
        {
          "output_type": "stream",
          "name": "stdout",
          "text": [
            "6\n"
          ]
        }
      ]
    },
    {
      "cell_type": "markdown",
      "source": [
        "**Problem 7: Fibonacci Series**\n",
        "\n",
        "Write a recursive function to generate the first n numbers of the Fibonacci series.\n",
        "\n",
        "fibonacci_series(6) -> [0, 1, 1, 2, 3, 5]\n"
      ],
      "metadata": {
        "id": "PZ3AuHxkSyj3"
      }
    },
    {
      "cell_type": "code",
      "execution_count": null,
      "metadata": {
        "colab": {
          "base_uri": "https://localhost:8080/"
        },
        "id": "_3tWpnOwoEjP",
        "outputId": "a642a5dd-165c-4fad-bffc-d4f50ef543a0"
      },
      "outputs": [
        {
          "output_type": "stream",
          "name": "stdout",
          "text": [
            "[0, 1, 1, 2, 3, 5]\n"
          ]
        }
      ],
      "source": [
        "def fibonacci_series(n):\n",
        "    if n <= 0:\n",
        "        return []\n",
        "    elif n == 1:\n",
        "        return [0]\n",
        "    elif n == 2:\n",
        "        return [0, 1]\n",
        "    else:\n",
        "        fib_series = fibonacci_series(n - 1)\n",
        "        fib_series.append(fib_series[-1] + fib_series[-2])\n",
        "        return fib_series\n",
        "\n",
        "# Driver Code:\n",
        "result = fibonacci_series(6)\n",
        "print(result)\n"
      ]
    },
    {
      "cell_type": "markdown",
      "source": [
        "**Problem 8 : Subset Sum**\n",
        "\n",
        "Given a set of positive integers and a target sum, write a recursive function to determine if there exists a subset of the integers that adds up to the target sum.\n",
        "\n",
        "subset_sum([3, 34, 4, 12, 5, 2], 9) -> True"
      ],
      "metadata": {
        "id": "QxFL269NrGQ8"
      }
    },
    {
      "cell_type": "code",
      "source": [
        "def subset_sum(nums, target):\n",
        "    # Base cases\n",
        "    if target == 0:\n",
        "        return True\n",
        "    if not nums or target < 0:\n",
        "        return False\n",
        "\n",
        "    # Recursive cases\n",
        "    # Check if the subset sum can be achieved by including or excluding the current element\n",
        "    return subset_sum(nums[:-1], target - nums[-1]) or subset_sum(nums[:-1], target)\n",
        "\n",
        "# Example usage:\n",
        "nums = [3, 34, 4, 12, 5, 2]\n",
        "target_sum = 9\n",
        "result = subset_sum(nums, target_sum)\n",
        "print(result)"
      ],
      "metadata": {
        "colab": {
          "base_uri": "https://localhost:8080/"
        },
        "id": "-VKtB3U9Xv6s",
        "outputId": "1d8d796d-9f38-4b75-d65e-5e1a37c5f459"
      },
      "execution_count": 4,
      "outputs": [
        {
          "output_type": "stream",
          "name": "stdout",
          "text": [
            "True\n"
          ]
        }
      ]
    },
    {
      "cell_type": "markdown",
      "source": [
        "**Problem 9: Word Break**\n",
        "\n",
        "Given a non-empty string and a dictionary of words, write a recursive function to determine if the string can be segmented into a space-separated sequence of dictionary words.\n",
        "\n",
        "word_break( leetcode , [ leet , code ]) -> True"
      ],
      "metadata": {
        "id": "XPCM5PkTsu5g"
      }
    },
    {
      "cell_type": "code",
      "source": [
        "def wordBreak(wordList , word):\n",
        "  if word == \"\":\n",
        "    return True\n",
        "  else :\n",
        "    wordLen = len(word)\n",
        "    for i in range(1, wordLen+1):\n",
        "      if word[:i] in wordList and wordBreak(wordList, word[i:]):\n",
        "        return True\n",
        "    return False\n",
        "\n",
        "print(wordBreak([\"leet\",\"code\"], \"leetcodes\"))\n",
        "print(wordBreak([\"I\",\"am\", \"sam\", \"sung\", \"love\", \"vishwa\"], \"Vishwalovesamsung\"))"
      ],
      "metadata": {
        "colab": {
          "base_uri": "https://localhost:8080/"
        },
        "id": "isnfB0SCtUQG",
        "outputId": "f4434477-d90b-486c-ce42-55767acc9de1"
      },
      "execution_count": 1,
      "outputs": [
        {
          "output_type": "stream",
          "name": "stdout",
          "text": [
            "False\n",
            "False\n"
          ]
        }
      ]
    },
    {
      "cell_type": "markdown",
      "source": [
        "**Problem 10 : N-Queens**\n",
        "\n",
        "Implement a recursive function to solve the N Queens problem, where you have to place N queens on an N×N chessboard in such a way that no two queens threaten each other.\n",
        "\n",
        "n_queens(4)\n",
        "[\n",
        "\n",
        "[\".Q..\",\n",
        "\n",
        "\"...Q\",\n",
        "\n",
        "\"Q...\",\n",
        "\n",
        "\"..Q.\"],\n",
        "\n",
        "[\"..Q.\",\n",
        "\n",
        "\"Q...\",\n",
        "\n",
        "\"...Q\",\n",
        "\n",
        "\".Q..\"]\n",
        "]"
      ],
      "metadata": {
        "id": "vrA6REs8sHus"
      }
    },
    {
      "cell_type": "code",
      "source": [
        "# N Queen Problem\n",
        "# Return True if it's safe to place queen on the board\n",
        "def isSafeToPlaceQueen(board , row , col , n):\n",
        "\n",
        "  # Check in the left side\n",
        "  for i in range(col):\n",
        "    if board[row][i]==1 :\n",
        "      return False\n",
        "\n",
        "  #Check in the upper left diagonal\n",
        "  for i, j in zip(range(row,-1,-1),range(col,-1,-1)):\n",
        "    if board[i][j] ==1:\n",
        "      return False\n",
        "\n",
        "  #Check in the lower left diagonal\n",
        "  for i,j in zip(range(row,n,1 ), range(col, -1,-1)):\n",
        "    if board[i][j]==1:\n",
        "      return False\n",
        "\n",
        "  return True\n",
        "\n",
        "\n",
        "def solveNQ(board,n):\n",
        "\n",
        "  if not solveNQUtil(board,0,n):\n",
        "    print(\"Solution doesn't exist\")\n",
        "    return\n",
        "\n",
        "  printBoard(board,n)\n",
        "\n",
        "# Should return True if we are able to place all the queens\n",
        "def solveNQUtil(board , col , n):\n",
        "  if(col >=n): #Base condition\n",
        "    return True  # Means we have bee able to put queens in all the columns\n",
        "\n",
        "  # Check for all the rows\n",
        "  for row in range(n) :\n",
        "    if isSafeToPlaceQueen(board,row,col, n) :\n",
        "      board[row][col]= 1 #Set the queen\n",
        "\n",
        "      #Recursively try for the next columns\n",
        "      if solveNQUtil(board,col+1,n):\n",
        "        return True\n",
        "      #Back Tracking\n",
        "      board[row][col]= 0 # Queen can't be set here\n",
        "\n",
        "  return False #Won't be able to place the queen\n",
        "\n",
        "\n",
        "def printBoard(board,n):\n",
        "  for i in range(n):\n",
        "    for j in range(n):\n",
        "      if board[i][j]==1 :\n",
        "        print(\"Q\",end=\" \")\n",
        "      else :\n",
        "        print(\".\",end=\" \")\n",
        "    print()"
      ],
      "metadata": {
        "id": "fZAcIwoh_jn-"
      },
      "execution_count": 1,
      "outputs": []
    },
    {
      "cell_type": "code",
      "source": [
        "board = [[0,0,0,0],\n",
        "         [0,0,0,0],\n",
        "         [0,0,0,0],\n",
        "         [0,0,0,0]\n",
        "         ]\n",
        "\n",
        "\n",
        "\n",
        "board8 = [[0,0,0,0,0,0,0,0],\n",
        "          [0,0,0,0,0,0,0,0],\n",
        "          [0,0,0,0,0,0,0,0],\n",
        "          [0,0,0,0,0,0,0,0],\n",
        "          [0,0,0,0,0,0,0,0],\n",
        "          [0,0,0,0,0,0,0,0],\n",
        "          [0,0,0,0,0,0,0,0],\n",
        "          [0,0,0,0,0,0,0,0]\n",
        "          ]\n",
        "\n",
        "solveNQ(board8,8)"
      ],
      "metadata": {
        "colab": {
          "base_uri": "https://localhost:8080/"
        },
        "id": "_8cu6iPRrmXA",
        "outputId": "76de8a43-2680-4acc-95f7-b47b8a2acfe6"
      },
      "execution_count": 5,
      "outputs": [
        {
          "output_type": "stream",
          "name": "stdout",
          "text": [
            "Q . . . . . . . \n",
            ". . . . . . Q . \n",
            ". . . . Q . . . \n",
            ". . . . . . . Q \n",
            ". Q . . . . . . \n",
            ". . . Q . . . . \n",
            ". . . . . Q . . \n",
            ". . Q . . . . . \n"
          ]
        }
      ]
    },
    {
      "cell_type": "code",
      "source": [
        "def is_safe(board, row, col, n):\n",
        "    # Check if there is a queen in the same column\n",
        "    for i in range(row):\n",
        "        if board[i][col] == 'Q':\n",
        "            return False\n",
        "\n",
        "    # Check if there is a queen in the left diagonal\n",
        "    for i, j in zip(range(row, -1, -1), range(col, -1, -1)):\n",
        "        if board[i][j] == 'Q':\n",
        "            return False\n",
        "\n",
        "    # Check if there is a queen in the right diagonal\n",
        "    for i, j in zip(range(row, -1, -1), range(col, n)):\n",
        "        if board[i][j] == 'Q':\n",
        "            return False\n",
        "\n",
        "    return True\n",
        "\n",
        "def solve_n_queens(n):\n",
        "    def solve(row):\n",
        "        if row == n:\n",
        "            result.append([\"\".join(row) for row in board])\n",
        "            return\n",
        "\n",
        "        for col in range(n):\n",
        "            if is_safe(board, row, col, n):\n",
        "                board[row][col] = 'Q'\n",
        "                solve(row + 1)\n",
        "                board[row][col] = '.'\n",
        "\n",
        "    result = []\n",
        "    board = [['.' for _ in range(n)] for _ in range(n)]\n",
        "    solve(0)\n",
        "    return result\n",
        "\n",
        "# Example usage:\n",
        "result = solve_n_queens(4)\n",
        "for solution in result:\n",
        "    print(solution)\n"
      ],
      "metadata": {
        "colab": {
          "base_uri": "https://localhost:8080/"
        },
        "id": "_BlhJzAzGKoP",
        "outputId": "41d96911-6fe9-4630-f85e-da9362f02131"
      },
      "execution_count": 1,
      "outputs": [
        {
          "output_type": "stream",
          "name": "stdout",
          "text": [
            "['.Q..', '...Q', 'Q...', '..Q.']\n",
            "['..Q.', 'Q...', '...Q', '.Q..']\n"
          ]
        }
      ]
    }
  ]
}