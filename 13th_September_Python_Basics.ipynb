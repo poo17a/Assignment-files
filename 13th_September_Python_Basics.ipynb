{
 "cells": [
  {
   "cell_type": "code",
   "execution_count": 1,
   "id": "1ea2a44e-ee15-48f4-8da4-b35178e8a4e2",
   "metadata": {},
   "outputs": [
    {
     "name": "stdout",
     "output_type": "stream",
     "text": [
      "Before swapping, x = 2 and y = 3\n",
      "After swapping, x = 3 and y = 2\n"
     ]
    }
   ],
   "source": [
    "# Python Basic variables question 1 solution\n",
    "# Assumption\n",
    "# Input: x = 2, y = 3\n",
    "# Output: x = 3, y = 2\n",
    "\n",
    "x = 2\n",
    "y = 3\n",
    "print(\"Before swapping, x =\",x, \"and y =\", y)\n",
    "\n",
    "#code to swap 'x' and 'y'\n",
    "x, y = y, x\n",
    "\n",
    "print(\"After swapping, x =\", x, \"and y =\", y)"
   ]
  },
  {
   "cell_type": "code",
   "execution_count": 2,
   "id": "b1f873be-9ec8-4101-9bee-1415320d89e7",
   "metadata": {},
   "outputs": [
    {
     "name": "stdin",
     "output_type": "stream",
     "text": [
      "Enter the value of length: 10\n",
      "Enter the value of Width: 8\n"
     ]
    },
    {
     "name": "stdout",
     "output_type": "stream",
     "text": [
      "Area of Rectangle: 80.0\n"
     ]
    }
   ],
   "source": [
    "# Python Basic variables question 2 solution\n",
    "# Area of rectangle = l * w\n",
    "\n",
    "l = float(input(\"Enter the value of length:\"))\n",
    "w = float(input(\"Enter the value of Width:\"))\n",
    "Area = l * w\n",
    "print(\"Area of Rectangle:\", Area)"
   ]
  },
  {
   "cell_type": "code",
   "execution_count": 3,
   "id": "cffb8e5b-bd9c-4c9e-9170-8b4a3be2b274",
   "metadata": {},
   "outputs": [
    {
     "name": "stdin",
     "output_type": "stream",
     "text": [
      "Temperature in degree Celcius: 27\n"
     ]
    },
    {
     "name": "stdout",
     "output_type": "stream",
     "text": [
      "Temperature in degree farenheit: 80.6\n"
     ]
    }
   ],
   "source": [
    "# Python Basic variables question 3 solution\n",
    "# T = Temperature in degree Celcius; F = Temperature in degree farenheit\n",
    "T = float(input(\"Temperature in degree Celcius:\"))\n",
    "F = (T * 9/5) + 32\n",
    "print(\"Temperature in degree farenheit:\", F)"
   ]
  },
  {
   "cell_type": "code",
   "execution_count": 4,
   "id": "7c9571e3-a031-4c0a-bd09-d04b959c31c6",
   "metadata": {},
   "outputs": [
    {
     "name": "stdin",
     "output_type": "stream",
     "text": [
      " Greek\n"
     ]
    },
    {
     "name": "stdout",
     "output_type": "stream",
     "text": [
      "Length of string: 5\n"
     ]
    }
   ],
   "source": [
    "# Question 1 solution of string based questions\n",
    "str = input() \n",
    "l = len(str)\n",
    "print(\"Length of string:\",l)"
   ]
  },
  {
   "cell_type": "code",
   "execution_count": 5,
   "id": "b38a37fd-9633-4e13-861e-321abfdb70a9",
   "metadata": {},
   "outputs": [
    {
     "name": "stdin",
     "output_type": "stream",
     "text": [
      "Enter the text: I love writing\n"
     ]
    },
    {
     "name": "stdout",
     "output_type": "stream",
     "text": [
      "5\n"
     ]
    }
   ],
   "source": [
    "# Question 2 solution of string based questions\n",
    "str2 = input(\"Enter the text:\")\n",
    "vowels = \"aeiouAEIOU\"\n",
    "count = sum(str2.count(vowel) for vowel in vowels)\n",
    "print(count)"
   ]
  },
  {
   "cell_type": "code",
   "execution_count": 6,
   "id": "7c775f0d-40e8-401f-9f4a-cb9826d69cfc",
   "metadata": {},
   "outputs": [
    {
     "name": "stdout",
     "output_type": "stream",
     "text": [
      "tnegilletnI\n"
     ]
    }
   ],
   "source": [
    "# Question 3 solution of string based questions\n",
    "str = \"Intelligent\"\n",
    "print(str[::-1])"
   ]
  },
  {
   "cell_type": "code",
   "execution_count": 7,
   "id": "26a8dc14-52ac-405f-b4a6-f7c7cdb8495c",
   "metadata": {},
   "outputs": [
    {
     "name": "stdin",
     "output_type": "stream",
     "text": [
      "Enter the text: mom\n"
     ]
    },
    {
     "name": "stdout",
     "output_type": "stream",
     "text": [
      "The entered text is a palindrome string\n"
     ]
    }
   ],
   "source": [
    "# Question 4 solution of string based questions\n",
    "str = input(\"Enter the text:\")\n",
    "if(str == str[::-1]):\n",
    "    print(\"The entered text is a palindrome string\")\n",
    "else:\n",
    "    print(\"The entered text is not a palindrome string\")"
   ]
  },
  {
   "cell_type": "code",
   "execution_count": 8,
   "id": "5d868565-5b14-4eaa-9eba-0a59636cf69b",
   "metadata": {},
   "outputs": [
    {
     "name": "stdin",
     "output_type": "stream",
     "text": [
      " My first assignment is completed\n"
     ]
    },
    {
     "name": "stdout",
     "output_type": "stream",
     "text": [
      "Modified string without spaces: Myfirstassignmentiscompleted\n"
     ]
    }
   ],
   "source": [
    "# Question 5 solution of string based questions\n",
    "str = input()\n",
    "str = str.replace(\" \", \"\")\n",
    "print(\"Modified string without spaces:\", str)"
   ]
  },
  {
   "cell_type": "code",
   "execution_count": null,
   "id": "97825166-f9e4-4e25-bba3-e98cd6038937",
   "metadata": {},
   "outputs": [],
   "source": []
  }
 ],
 "metadata": {
  "kernelspec": {
   "display_name": "Python 3 (ipykernel)",
   "language": "python",
   "name": "python3"
  },
  "language_info": {
   "codemirror_mode": {
    "name": "ipython",
    "version": 3
   },
   "file_extension": ".py",
   "mimetype": "text/x-python",
   "name": "python",
   "nbconvert_exporter": "python",
   "pygments_lexer": "ipython3",
   "version": "3.10.8"
  }
 },
 "nbformat": 4,
 "nbformat_minor": 5
}
