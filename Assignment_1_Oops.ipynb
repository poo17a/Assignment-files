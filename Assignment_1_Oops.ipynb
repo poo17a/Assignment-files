{
  "nbformat": 4,
  "nbformat_minor": 0,
  "metadata": {
    "colab": {
      "provenance": []
    },
    "kernelspec": {
      "name": "python3",
      "display_name": "Python 3"
    },
    "language_info": {
      "name": "python"
    }
  },
  "cells": [
    {
      "cell_type": "markdown",
      "source": [
        "Problem 1: Bank Account Create a class representing a bank account with attributes like account number, account holder name, and balance. Implement methods to deposit and withdraw money from the account."
      ],
      "metadata": {
        "id": "oKRx4DWGM9k9"
      }
    },
    {
      "cell_type": "code",
      "execution_count": 1,
      "metadata": {
        "colab": {
          "base_uri": "https://localhost:8080/"
        },
        "id": "LNvrMVkhMTOC",
        "outputId": "6176c22e-e91d-4bc2-a983-96a17758d664"
      },
      "outputs": [
        {
          "output_type": "stream",
          "name": "stdout",
          "text": [
            "Deposit successful! New balance: 1500\n",
            "Withdrawal successful! New balance: 1300\n",
            "Final balance: 1300\n"
          ]
        }
      ],
      "source": [
        "class BankAccount:\n",
        "    def __init__(self, account_number, account_holder, balance=0):\n",
        "        \"\"\"Initializes a new bank account with account number, holder, and balance.\"\"\"\n",
        "        self.account_number = account_number\n",
        "        self.account_holder = account_holder\n",
        "        self.balance = balance\n",
        "\n",
        "    def deposit(self, amount):\n",
        "        \"\"\"Deposits the specified amount into the bank account.\"\"\"\n",
        "        if amount > 0:\n",
        "            self.balance += amount\n",
        "            print(f\"Deposit successful! New balance: {self.balance}\")\n",
        "        else:\n",
        "            print(\"Deposit amount must be positive.\")\n",
        "\n",
        "    def withdraw(self, amount):\n",
        "        \"\"\"Withdraws the specified amount from the bank account if sufficient balance exists.\"\"\"\n",
        "        if amount > self.balance:\n",
        "            print(f\"Insufficient funds! Your current balance is {self.balance}.\")\n",
        "        elif amount <= 0:\n",
        "            print(\"Withdrawal amount must be positive.\")\n",
        "        else:\n",
        "            self.balance -= amount\n",
        "            print(f\"Withdrawal successful! New balance: {self.balance}\")\n",
        "\n",
        "    def get_balance(self):\n",
        "        \"\"\"Returns the current balance of the account.\"\"\"\n",
        "        return self.balance\n",
        "\n",
        "# Example usage:\n",
        "account = BankAccount(\"123456789\", \"John Doe\", 1000)\n",
        "account.deposit(500)  # Deposits 500\n",
        "account.withdraw(200)  # Withdraws 200\n",
        "print(f\"Final balance: {account.get_balance()}\")  # Prints the final balance\n"
      ]
    },
    {
      "cell_type": "markdown",
      "source": [
        "Problem 2: Employee Management Create a class representing an employee with attributes like employee ID, name, and salary. Implement methods to calculate the yearly bonus and display employee details."
      ],
      "metadata": {
        "id": "K8tpj04zNA1l"
      }
    },
    {
      "cell_type": "code",
      "source": [
        "class Employee:\n",
        "    def __init__(self, employee_id, name, salary):\n",
        "        \"\"\"Initializes a new employee with ID, name, and salary.\"\"\"\n",
        "        self.employee_id = employee_id\n",
        "        self.name = name\n",
        "        self.salary = salary\n",
        "\n",
        "    def calculate_yearly_bonus(self, bonus_percentage):\n",
        "        \"\"\"Calculates the yearly bonus based on the salary and bonus percentage.\"\"\"\n",
        "        if bonus_percentage < 0:\n",
        "            print(\"Bonus percentage must be positive.\")\n",
        "            return 0\n",
        "        bonus = self.salary * (bonus_percentage / 100)\n",
        "        return bonus\n",
        "\n",
        "    def display_details(self):\n",
        "        \"\"\"Displays the employee's details (ID, name, and salary).\"\"\"\n",
        "        print(f\"Employee ID: {self.employee_id}\")\n",
        "        print(f\"Name: {self.name}\")\n",
        "        print(f\"Salary: {self.salary}\")\n",
        "\n",
        "# Example usage:\n",
        "employee = Employee(\"E001\", \"Alice Johnson\", 50000)\n",
        "employee.display_details()  # Displays employee details\n",
        "bonus = employee.calculate_yearly_bonus(10)  # Calculates a 10% yearly bonus\n",
        "print(f\"Yearly Bonus: {bonus}\")  # Prints the bonus\n"
      ],
      "metadata": {
        "colab": {
          "base_uri": "https://localhost:8080/"
        },
        "id": "lu3l73v8ND0v",
        "outputId": "ad6e2813-db79-4b22-894a-e2d97af53044"
      },
      "execution_count": 2,
      "outputs": [
        {
          "output_type": "stream",
          "name": "stdout",
          "text": [
            "Employee ID: E001\n",
            "Name: Alice Johnson\n",
            "Salary: 50000\n",
            "Yearly Bonus: 5000.0\n"
          ]
        }
      ]
    },
    {
      "cell_type": "markdown",
      "source": [
        "Problem 3: Vehicle Rental Create a class representing a vehicle rental system. Implement methods to rent a vehicle, return a vehicle, and display available vehicles."
      ],
      "metadata": {
        "id": "r7WwaoOONfJ-"
      }
    },
    {
      "cell_type": "code",
      "source": [
        "class VehicleRental:\n",
        "    def __init__(self, available_vehicles):\n",
        "        \"\"\"Initializes the rental system with a list of available vehicles.\"\"\"\n",
        "        self.available_vehicles = available_vehicles\n",
        "        self.rented_vehicles = []\n",
        "\n",
        "    def display_available_vehicles(self):\n",
        "        \"\"\"Displays the vehicles currently available for rent.\"\"\"\n",
        "        if not self.available_vehicles:\n",
        "            print(\"No vehicles available for rent.\")\n",
        "        else:\n",
        "            print(\"Available vehicles:\")\n",
        "            for vehicle in self.available_vehicles:\n",
        "                print(f\"- {vehicle}\")\n",
        "\n",
        "    def rent_vehicle(self, vehicle):\n",
        "        \"\"\"Rents a vehicle if it's available.\"\"\"\n",
        "        if vehicle in self.available_vehicles:\n",
        "            self.available_vehicles.remove(vehicle)\n",
        "            self.rented_vehicles.append(vehicle)\n",
        "            print(f\"{vehicle} has been rented out.\")\n",
        "        else:\n",
        "            print(f\"Sorry, {vehicle} is not available for rent.\")\n",
        "\n",
        "    def return_vehicle(self, vehicle):\n",
        "        \"\"\"Returns a rented vehicle to the available vehicles list.\"\"\"\n",
        "        if vehicle in self.rented_vehicles:\n",
        "            self.rented_vehicles.remove(vehicle)\n",
        "            self.available_vehicles.append(vehicle)\n",
        "            print(f\"{vehicle} has been returned.\")\n",
        "        else:\n",
        "            print(f\"{vehicle} was not rented from here.\")\n",
        "\n",
        "# Example usage:\n",
        "rental_system = VehicleRental([\"Car\", \"Bike\", \"Scooter\", \"Truck\"])\n",
        "\n",
        "# Display available vehicles\n",
        "rental_system.display_available_vehicles()\n",
        "\n",
        "# Rent a vehicle\n",
        "rental_system.rent_vehicle(\"Bike\")\n",
        "\n",
        "# Display available vehicles after renting\n",
        "rental_system.display_available_vehicles()\n",
        "\n",
        "# Return the rented vehicle\n",
        "rental_system.return_vehicle(\"Bike\")\n",
        "\n",
        "# Display available vehicles after returning\n",
        "rental_system.display_available_vehicles()\n"
      ],
      "metadata": {
        "colab": {
          "base_uri": "https://localhost:8080/"
        },
        "id": "aapm2raaNEq1",
        "outputId": "850af188-32c2-4a36-c224-32c72270690b"
      },
      "execution_count": 3,
      "outputs": [
        {
          "output_type": "stream",
          "name": "stdout",
          "text": [
            "Available vehicles:\n",
            "- Car\n",
            "- Bike\n",
            "- Scooter\n",
            "- Truck\n",
            "Bike has been rented out.\n",
            "Available vehicles:\n",
            "- Car\n",
            "- Scooter\n",
            "- Truck\n",
            "Bike has been returned.\n",
            "Available vehicles:\n",
            "- Car\n",
            "- Scooter\n",
            "- Truck\n",
            "- Bike\n"
          ]
        }
      ]
    },
    {
      "cell_type": "markdown",
      "source": [
        "Problem 4: Library Catalog Create classes representing a library and a book. Implement methods to add books to the library, borrow books, and display available books."
      ],
      "metadata": {
        "id": "M76aoAcnPfHQ"
      }
    },
    {
      "cell_type": "code",
      "source": [
        "class Book:\n",
        "    def __init__(self, title, author):\n",
        "        \"\"\"Initializes a new book with a title and an author.\"\"\"\n",
        "        self.title = title\n",
        "        self.author = author\n",
        "        self.is_borrowed = False\n",
        "\n",
        "    def __str__(self):\n",
        "        \"\"\"Returns a string representation of the book.\"\"\"\n",
        "        return f\"'{self.title}' by {self.author}\"\n",
        "\n",
        "\n",
        "class Library:\n",
        "    def __init__(self):\n",
        "        \"\"\"Initializes the library with an empty list of books.\"\"\"\n",
        "        self.books = []\n",
        "\n",
        "    def add_book(self, book):\n",
        "        \"\"\"Adds a new book to the library's collection.\"\"\"\n",
        "        self.books.append(book)\n",
        "        print(f\"{book} has been added to the library.\")\n",
        "\n",
        "    def display_available_books(self):\n",
        "        \"\"\"Displays all books that are available to borrow.\"\"\"\n",
        "        available_books = [book for book in self.books if not book.is_borrowed]\n",
        "        if available_books:\n",
        "            print(\"Available books in the library:\")\n",
        "            for book in available_books:\n",
        "                print(f\"- {book}\")\n",
        "        else:\n",
        "            print(\"No books are available to borrow.\")\n",
        "\n",
        "    def borrow_book(self, title):\n",
        "        \"\"\"Allows a user to borrow a book if it is available.\"\"\"\n",
        "        for book in self.books:\n",
        "            if book.title == title and not book.is_borrowed:\n",
        "                book.is_borrowed = True\n",
        "                print(f\"You have borrowed {book}.\")\n",
        "                return\n",
        "        print(f\"Sorry, the book '{title}' is either not available or already borrowed.\")\n",
        "\n",
        "    def return_book(self, title):\n",
        "        \"\"\"Allows a user to return a borrowed book to the library.\"\"\"\n",
        "        for book in self.books:\n",
        "            if book.title == title and book.is_borrowed:\n",
        "                book.is_borrowed = False\n",
        "                print(f\"You have returned {book}.\")\n",
        "                return\n",
        "        print(f\"Sorry, the book '{title}' was not borrowed from this library.\")\n",
        "\n",
        "\n",
        "# Example usage:\n",
        "library = Library()\n",
        "\n",
        "# Create some books\n",
        "book1 = Book(\"The Great Gatsby\", \"F. Scott Fitzgerald\")\n",
        "book2 = Book(\"1984\", \"George Orwell\")\n",
        "book3 = Book(\"To Kill a Mockingbird\", \"Harper Lee\")\n",
        "\n",
        "# Add books to the library\n",
        "library.add_book(book1)\n",
        "library.add_book(book2)\n",
        "library.add_book(book3)\n",
        "\n",
        "# Display available books\n",
        "library.display_available_books()\n",
        "\n",
        "# Borrow a book\n",
        "library.borrow_book(\"1984\")\n",
        "\n",
        "# Display available books after borrowing\n",
        "library.display_available_books()\n",
        "\n",
        "# Return the borrowed book\n",
        "library.return_book(\"1984\")\n",
        "\n",
        "# Display available books after returning\n",
        "library.display_available_books()\n"
      ],
      "metadata": {
        "colab": {
          "base_uri": "https://localhost:8080/"
        },
        "id": "cDlXZ7B9NEoD",
        "outputId": "b553435b-9834-4176-a47d-444fcf9aa601"
      },
      "execution_count": 4,
      "outputs": [
        {
          "output_type": "stream",
          "name": "stdout",
          "text": [
            "'The Great Gatsby' by F. Scott Fitzgerald has been added to the library.\n",
            "'1984' by George Orwell has been added to the library.\n",
            "'To Kill a Mockingbird' by Harper Lee has been added to the library.\n",
            "Available books in the library:\n",
            "- 'The Great Gatsby' by F. Scott Fitzgerald\n",
            "- '1984' by George Orwell\n",
            "- 'To Kill a Mockingbird' by Harper Lee\n",
            "You have borrowed '1984' by George Orwell.\n",
            "Available books in the library:\n",
            "- 'The Great Gatsby' by F. Scott Fitzgerald\n",
            "- 'To Kill a Mockingbird' by Harper Lee\n",
            "You have returned '1984' by George Orwell.\n",
            "Available books in the library:\n",
            "- 'The Great Gatsby' by F. Scott Fitzgerald\n",
            "- '1984' by George Orwell\n",
            "- 'To Kill a Mockingbird' by Harper Lee\n"
          ]
        }
      ]
    },
    {
      "cell_type": "markdown",
      "source": [
        "Problem 5: Product Inventory Create classes representing a product and an inventory system. Implement methods to add products to the inventory, update product quantity, and display available products."
      ],
      "metadata": {
        "id": "NuabJuAmRWIF"
      }
    },
    {
      "cell_type": "code",
      "source": [
        "# Product class to represent a single product\n",
        "class Product:\n",
        "    def __init__(self, name, price, quantity):\n",
        "        self.name = name\n",
        "        self.price = price\n",
        "        self.quantity = quantity\n",
        "\n",
        "    def update_quantity(self, quantity):\n",
        "        self.quantity = quantity\n",
        "\n",
        "    def __str__(self):\n",
        "        return f\"Product: {self.name}, Price: ${self.price:.2f}, Quantity: {self.quantity}\"\n",
        "\n",
        "\n",
        "# Inventory class to manage multiple products\n",
        "class Inventory:\n",
        "    def __init__(self):\n",
        "        self.products = {}\n",
        "\n",
        "    def add_product(self, name, price, quantity):\n",
        "        if name in self.products:\n",
        "            print(f\"{name} is already in the inventory. Updating the quantity.\")\n",
        "            self.update_product_quantity(name, self.products[name].quantity + quantity)\n",
        "        else:\n",
        "            product = Product(name, price, quantity)\n",
        "            self.products[name] = product\n",
        "            print(f\"Added {name} to inventory with quantity {quantity}.\")\n",
        "\n",
        "    def update_product_quantity(self, name, quantity):\n",
        "        if name in self.products:\n",
        "            self.products[name].update_quantity(quantity)\n",
        "            print(f\"Updated {name}'s quantity to {quantity}.\")\n",
        "        else:\n",
        "            print(f\"Product {name} not found in inventory.\")\n",
        "\n",
        "    def display_products(self):\n",
        "        if not self.products:\n",
        "            print(\"No products in the inventory.\")\n",
        "        else:\n",
        "            print(\"Available products in the inventory:\")\n",
        "            for product in self.products.values():\n",
        "                print(product)\n",
        "\n",
        "# Example usage\n",
        "if __name__ == \"__main__\":\n",
        "    inventory = Inventory()\n",
        "\n",
        "    # Adding new products\n",
        "    inventory.add_product(\"Laptop\", 1200.00, 10)\n",
        "    inventory.add_product(\"Phone\", 800.00, 25)\n",
        "\n",
        "    # Displaying available products\n",
        "    inventory.display_products()\n",
        "\n",
        "    # Updating the quantity of a product\n",
        "    inventory.update_product_quantity(\"Laptop\", 15)\n",
        "\n",
        "    # Displaying products after updating\n",
        "    inventory.display_products()\n"
      ],
      "metadata": {
        "colab": {
          "base_uri": "https://localhost:8080/"
        },
        "id": "lWAxPw-7NEls",
        "outputId": "af92da3d-d766-4061-a6e3-fe3cc0474793"
      },
      "execution_count": 5,
      "outputs": [
        {
          "output_type": "stream",
          "name": "stdout",
          "text": [
            "Added Laptop to inventory with quantity 10.\n",
            "Added Phone to inventory with quantity 25.\n",
            "Available products in the inventory:\n",
            "Product: Laptop, Price: $1200.00, Quantity: 10\n",
            "Product: Phone, Price: $800.00, Quantity: 25\n",
            "Updated Laptop's quantity to 15.\n",
            "Available products in the inventory:\n",
            "Product: Laptop, Price: $1200.00, Quantity: 15\n",
            "Product: Phone, Price: $800.00, Quantity: 25\n"
          ]
        }
      ]
    },
    {
      "cell_type": "markdown",
      "source": [
        "Problem 6: Shape Calculation Create a class representing a shape with attributes like length, width, and height. Implement methods to calculate the area and perimeter of the shape."
      ],
      "metadata": {
        "id": "XZti6yOPRoCy"
      }
    },
    {
      "cell_type": "code",
      "source": [
        "# Base Shape class\n",
        "class Shape:\n",
        "    def __init__(self, length, width=None):\n",
        "        self.length = length\n",
        "        self.width = width if width is not None else length  # If width is None, it's a square\n",
        "\n",
        "    def area(self):\n",
        "        return self.length * self.width\n",
        "\n",
        "    def perimeter(self):\n",
        "        return 2 * (self.length + self.width)\n",
        "\n",
        "    def __str__(self):\n",
        "        return f\"Shape with length {self.length} and width {self.width}\"\n",
        "\n",
        "# Example usage\n",
        "if __name__ == \"__main__\":\n",
        "    # Rectangle\n",
        "    rectangle = Shape(10, 5)\n",
        "    print(rectangle)\n",
        "    print(f\"Area of the rectangle: {rectangle.area()}\")\n",
        "    print(f\"Perimeter of the rectangle: {rectangle.perimeter()}\")\n",
        "\n",
        "    # Square (same length and width)\n",
        "    square = Shape(7)\n",
        "    print(square)\n",
        "    print(f\"Area of the square: {square.area()}\")\n",
        "    print(f\"Perimeter of the square: {square.perimeter()}\")\n"
      ],
      "metadata": {
        "colab": {
          "base_uri": "https://localhost:8080/"
        },
        "id": "6l2OIbPINEjF",
        "outputId": "487af747-effd-458f-b1eb-be79d5190ae1"
      },
      "execution_count": 6,
      "outputs": [
        {
          "output_type": "stream",
          "name": "stdout",
          "text": [
            "Shape with length 10 and width 5\n",
            "Area of the rectangle: 50\n",
            "Perimeter of the rectangle: 30\n",
            "Shape with length 7 and width 7\n",
            "Area of the square: 49\n",
            "Perimeter of the square: 28\n"
          ]
        }
      ]
    },
    {
      "cell_type": "markdown",
      "source": [
        "Problem 7: Student Management Create a class representing a student with attributes like student ID, name, and grades. Implement methods to calculate the average grade and display student details."
      ],
      "metadata": {
        "id": "r4ZAcidVR_7B"
      }
    },
    {
      "cell_type": "code",
      "source": [
        "# Student class representing an individual student\n",
        "class Student:\n",
        "    def __init__(self, student_id, name, grades=None):\n",
        "        self.student_id = student_id\n",
        "        self.name = name\n",
        "        self.grades = grades if grades is not None else []\n",
        "\n",
        "    def add_grade(self, grade):\n",
        "        self.grades.append(grade)\n",
        "\n",
        "    def calculate_average(self):\n",
        "        if not self.grades:\n",
        "            return 0\n",
        "        return sum(self.grades) / len(self.grades)\n",
        "\n",
        "    def display_details(self):\n",
        "        average_grade = self.calculate_average()\n",
        "        print(f\"Student ID: {self.student_id}\")\n",
        "        print(f\"Name: {self.name}\")\n",
        "        print(f\"Grades: {self.grades}\")\n",
        "        print(f\"Average Grade: {average_grade:.2f}\")\n",
        "\n",
        "# Example usage\n",
        "if __name__ == \"__main__\":\n",
        "    # Creating a student object\n",
        "    student1 = Student(\"S101\", \"Alice\", [85, 90, 78])\n",
        "\n",
        "    # Display student details\n",
        "    student1.display_details()\n",
        "\n",
        "    # Adding another grade and displaying the updated details\n",
        "    student1.add_grade(88)\n",
        "    print(\"\\nAfter adding a new grade:\")\n",
        "    student1.display_details()\n",
        "\n",
        "    # Creating another student with no initial grades\n",
        "    student2 = Student(\"S102\", \"Bob\")\n",
        "\n",
        "    # Adding grades to the second student and displaying details\n",
        "    student2.add_grade(75)\n",
        "    student2.add_grade(80)\n",
        "    student2.display_details()\n"
      ],
      "metadata": {
        "colab": {
          "base_uri": "https://localhost:8080/"
        },
        "id": "batGv89HNEg3",
        "outputId": "21799c13-ceed-4025-990f-fb0fd102fa34"
      },
      "execution_count": 7,
      "outputs": [
        {
          "output_type": "stream",
          "name": "stdout",
          "text": [
            "Student ID: S101\n",
            "Name: Alice\n",
            "Grades: [85, 90, 78]\n",
            "Average Grade: 84.33\n",
            "\n",
            "After adding a new grade:\n",
            "Student ID: S101\n",
            "Name: Alice\n",
            "Grades: [85, 90, 78, 88]\n",
            "Average Grade: 85.25\n",
            "Student ID: S102\n",
            "Name: Bob\n",
            "Grades: [75, 80]\n",
            "Average Grade: 77.50\n"
          ]
        }
      ]
    },
    {
      "cell_type": "markdown",
      "source": [
        "Problem 8: Email Management Create a class representing an email with attributes like sender, recipient, and subject. Implement methods to send an email and display email details."
      ],
      "metadata": {
        "id": "dkUJxoPtSrjm"
      }
    },
    {
      "cell_type": "code",
      "source": [
        "# Email class representing an individual email\n",
        "class Email:\n",
        "    def __init__(self, sender, recipient, subject, body):\n",
        "        self.sender = sender\n",
        "        self.recipient = recipient\n",
        "        self.subject = subject\n",
        "        self.body = body\n",
        "        self.is_sent = False  # Initially, the email is not sent\n",
        "\n",
        "    def send_email(self):\n",
        "        if not self.is_sent:\n",
        "            self.is_sent = True\n",
        "            print(f\"Sending email to {self.recipient}...\\nEmail sent successfully!\")\n",
        "        else:\n",
        "            print(f\"Email to {self.recipient} has already been sent.\")\n",
        "\n",
        "    def display_details(self):\n",
        "        print(f\"Sender: {self.sender}\")\n",
        "        print(f\"Recipient: {self.recipient}\")\n",
        "        print(f\"Subject: {self.subject}\")\n",
        "        print(f\"Body:\\n{self.body}\")\n",
        "        print(f\"Email Status: {'Sent' if self.is_sent else 'Not Sent'}\")\n",
        "\n",
        "# Example usage\n",
        "if __name__ == \"__main__\":\n",
        "    # Creating an email object\n",
        "    email1 = Email(\"alice@example.com\", \"bob@example.com\", \"Meeting Schedule\", \"Hi Bob,\\nLet's meet at 10 AM tomorrow.\")\n",
        "\n",
        "    # Displaying email details\n",
        "    email1.display_details()\n",
        "\n",
        "    # Sending the email\n",
        "    print(\"\\nSending email...\")\n",
        "    email1.send_email()\n",
        "\n",
        "    # Display email details after sending\n",
        "    print(\"\\nEmail details after sending:\")\n",
        "    email1.display_details()\n",
        "\n",
        "    # Trying to send the email again\n",
        "    print(\"\\nTrying to send the email again:\")\n",
        "    email1.send_email()\n"
      ],
      "metadata": {
        "colab": {
          "base_uri": "https://localhost:8080/"
        },
        "id": "iHIAn15yNEdK",
        "outputId": "eac2c1dd-a975-494b-c7f4-335a87ba07b6"
      },
      "execution_count": 8,
      "outputs": [
        {
          "output_type": "stream",
          "name": "stdout",
          "text": [
            "Sender: alice@example.com\n",
            "Recipient: bob@example.com\n",
            "Subject: Meeting Schedule\n",
            "Body:\n",
            "Hi Bob,\n",
            "Let's meet at 10 AM tomorrow.\n",
            "Email Status: Not Sent\n",
            "\n",
            "Sending email...\n",
            "Sending email to bob@example.com...\n",
            "Email sent successfully!\n",
            "\n",
            "Email details after sending:\n",
            "Sender: alice@example.com\n",
            "Recipient: bob@example.com\n",
            "Subject: Meeting Schedule\n",
            "Body:\n",
            "Hi Bob,\n",
            "Let's meet at 10 AM tomorrow.\n",
            "Email Status: Sent\n",
            "\n",
            "Trying to send the email again:\n",
            "Email to bob@example.com has already been sent.\n"
          ]
        }
      ]
    },
    {
      "cell_type": "markdown",
      "source": [
        "Problem 9: Social Media Profile Create a class representing a social media profile with attributes like username and posts. Implement methods to add posts, display posts, and search for posts by keyword."
      ],
      "metadata": {
        "id": "aKNUGehHTJHs"
      }
    },
    {
      "cell_type": "code",
      "source": [
        "# SocialMediaProfile class representing a user's profile\n",
        "class SocialMediaProfile:\n",
        "    def __init__(self, username):\n",
        "        self.username = username\n",
        "        self.posts = []  # A list to store posts\n",
        "\n",
        "    def add_post(self, post):\n",
        "        self.posts.append(post)\n",
        "        print(f\"Post added: {post}\")\n",
        "\n",
        "    def display_posts(self):\n",
        "        if not self.posts:\n",
        "            print(f\"{self.username} has no posts.\")\n",
        "        else:\n",
        "            print(f\"Posts by {self.username}:\")\n",
        "            for idx, post in enumerate(self.posts, start=1):\n",
        "                print(f\"{idx}. {post}\")\n",
        "\n",
        "    def search_posts(self, keyword):\n",
        "        results = [post for post in self.posts if keyword.lower() in post.lower()]\n",
        "        if not results:\n",
        "            print(f\"No posts found containing '{keyword}'.\")\n",
        "        else:\n",
        "            print(f\"Posts containing '{keyword}':\")\n",
        "            for idx, post in enumerate(results, start=1):\n",
        "                print(f\"{idx}. {post}\")\n",
        "\n",
        "# Example usage\n",
        "if __name__ == \"__main__\":\n",
        "    # Create a social media profile\n",
        "    profile = SocialMediaProfile(\"alice123\")\n",
        "\n",
        "    # Add posts to the profile\n",
        "    profile.add_post(\"Loving the sunny weather!\")\n",
        "    profile.add_post(\"Just finished a great workout.\")\n",
        "    profile.add_post(\"Looking forward to the weekend getaway.\")\n",
        "\n",
        "    # Display all posts\n",
        "    print(\"\\nAll posts:\")\n",
        "    profile.display_posts()\n",
        "\n",
        "    # Search for posts containing a keyword\n",
        "    print(\"\\nSearch for 'weekend':\")\n",
        "    profile.search_posts(\"weekend\")\n",
        "\n",
        "    # Search for a keyword not present in any posts\n",
        "    print(\"\\nSearch for 'vacation':\")\n",
        "    profile.search_posts(\"vacation\")\n"
      ],
      "metadata": {
        "colab": {
          "base_uri": "https://localhost:8080/"
        },
        "id": "DHRL_gzxTIw9",
        "outputId": "e0ae8075-fca3-48c0-a555-21ac04a7d241"
      },
      "execution_count": 9,
      "outputs": [
        {
          "output_type": "stream",
          "name": "stdout",
          "text": [
            "Post added: Loving the sunny weather!\n",
            "Post added: Just finished a great workout.\n",
            "Post added: Looking forward to the weekend getaway.\n",
            "\n",
            "All posts:\n",
            "Posts by alice123:\n",
            "1. Loving the sunny weather!\n",
            "2. Just finished a great workout.\n",
            "3. Looking forward to the weekend getaway.\n",
            "\n",
            "Search for 'weekend':\n",
            "Posts containing 'weekend':\n",
            "1. Looking forward to the weekend getaway.\n",
            "\n",
            "Search for 'vacation':\n",
            "No posts found containing 'vacation'.\n"
          ]
        }
      ]
    },
    {
      "cell_type": "markdown",
      "source": [
        "Problem 10: ToDo List Create a class representing a ToDo list with attributes like tasks and due dates. Implement methods to add tasks, mark tasks as completed, and display pending tasks."
      ],
      "metadata": {
        "id": "i8eX7PSPTlsw"
      }
    },
    {
      "cell_type": "code",
      "source": [
        "from datetime import datetime\n",
        "\n",
        "# Task class to represent an individual task\n",
        "class Task:\n",
        "    def __init__(self, description, due_date):\n",
        "        self.description = description\n",
        "        self.due_date = due_date\n",
        "        self.is_completed = False\n",
        "\n",
        "    def mark_completed(self):\n",
        "        self.is_completed = True\n",
        "\n",
        "    def __str__(self):\n",
        "        status = \"Completed\" if self.is_completed else \"Pending\"\n",
        "        return f\"Task: {self.description}, Due Date: {self.due_date}, Status: {status}\"\n",
        "\n",
        "# ToDoList class to manage tasks\n",
        "class ToDoList:\n",
        "    def __init__(self):\n",
        "        self.tasks = []\n",
        "\n",
        "    def add_task(self, description, due_date):\n",
        "        task = Task(description, due_date)\n",
        "        self.tasks.append(task)\n",
        "        print(f\"Task '{description}' added with due date {due_date}.\")\n",
        "\n",
        "    def mark_task_completed(self, task_index):\n",
        "        if 0 <= task_index < len(self.tasks):\n",
        "            self.tasks[task_index].mark_completed()\n",
        "            print(f\"Task '{self.tasks[task_index].description}' marked as completed.\")\n",
        "        else:\n",
        "            print(\"Invalid task index.\")\n",
        "\n",
        "    def display_pending_tasks(self):\n",
        "        pending_tasks = [task for task in self.tasks if not task.is_completed]\n",
        "        if not pending_tasks:\n",
        "            print(\"No pending tasks!\")\n",
        "        else:\n",
        "            print(\"Pending tasks:\")\n",
        "            for idx, task in enumerate(pending_tasks, start=1):\n",
        "                print(f\"{idx}. {task}\")\n",
        "\n",
        "# Example usage\n",
        "if __name__ == \"__main__\":\n",
        "    todo_list = ToDoList()\n",
        "\n",
        "    # Add tasks to the ToDo list\n",
        "    todo_list.add_task(\"Complete Python project\", \"2024-09-10\")\n",
        "    todo_list.add_task(\"Buy groceries\", \"2024-09-07\")\n",
        "    todo_list.add_task(\"Call the dentist\", \"2024-09-08\")\n",
        "\n",
        "    # Display pending tasks\n",
        "    print(\"\\nPending tasks:\")\n",
        "    todo_list.display_pending_tasks()\n",
        "\n",
        "    # Mark the first task as completed\n",
        "    print(\"\\nMarking first task as completed:\")\n",
        "    todo_list.mark_task_completed(0)\n",
        "\n",
        "    # Display pending tasks after marking one as completed\n",
        "    print(\"\\nPending tasks after marking one as completed:\")\n",
        "    todo_list.display_pending_tasks()\n"
      ],
      "metadata": {
        "colab": {
          "base_uri": "https://localhost:8080/"
        },
        "id": "7Klxt7JGTIuD",
        "outputId": "5a30b9bd-78c4-422e-fd8f-16de6a8d3a8a"
      },
      "execution_count": 10,
      "outputs": [
        {
          "output_type": "stream",
          "name": "stdout",
          "text": [
            "Task 'Complete Python project' added with due date 2024-09-10.\n",
            "Task 'Buy groceries' added with due date 2024-09-07.\n",
            "Task 'Call the dentist' added with due date 2024-09-08.\n",
            "\n",
            "Pending tasks:\n",
            "Pending tasks:\n",
            "1. Task: Complete Python project, Due Date: 2024-09-10, Status: Pending\n",
            "2. Task: Buy groceries, Due Date: 2024-09-07, Status: Pending\n",
            "3. Task: Call the dentist, Due Date: 2024-09-08, Status: Pending\n",
            "\n",
            "Marking first task as completed:\n",
            "Task 'Complete Python project' marked as completed.\n",
            "\n",
            "Pending tasks after marking one as completed:\n",
            "Pending tasks:\n",
            "1. Task: Buy groceries, Due Date: 2024-09-07, Status: Pending\n",
            "2. Task: Call the dentist, Due Date: 2024-09-08, Status: Pending\n"
          ]
        }
      ]
    }
  ]
}