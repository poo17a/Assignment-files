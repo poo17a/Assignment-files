{
 "cells": [
  {
   "cell_type": "code",
   "execution_count": null,
   "id": "6d45e64c-8b4a-4cbe-9e57-96fb0261e12d",
   "metadata": {},
   "outputs": [],
   "source": [
    "Basic If-Else Statements:"
   ]
  },
  {
   "cell_type": "code",
   "execution_count": null,
   "id": "d592befc-b8fa-4283-963b-9d08375ad49f",
   "metadata": {},
   "outputs": [],
   "source": [
    "1. Write a Python program to check if a given number is positive or negative."
   ]
  },
  {
   "cell_type": "code",
   "execution_count": null,
   "id": "cc8a6829-8001-438b-aa8d-a900004e7795",
   "metadata": {},
   "outputs": [],
   "source": [
    "def check_number(num):\n",
    "    if num > 0:\n",
    "        return \"The number is positive.\"\n",
    "    elif num < 0:\n",
    "        return \"The number is negative.\"\n",
    "    else:\n",
    "        return \"The number is zero.\"\n",
    "\n",
    "# Get user input\n",
    "try:\n",
    "    number = float(input(\"Enter a number: \"))\n",
    "    result = check_number(number)\n",
    "    print(result)\n",
    "except ValueError:\n",
    "    print(\"Invalid input. Please enter a numeric value.\")\n"
   ]
  },
  {
   "cell_type": "code",
   "execution_count": null,
   "id": "8c4584a4-f362-4011-b42b-a5adc6d95c0f",
   "metadata": {},
   "outputs": [],
   "source": [
    "2. Create a program that determines if a person is eligible to vote based on their age."
   ]
  },
  {
   "cell_type": "code",
   "execution_count": 1,
   "id": "30e79e33-95e8-46dc-8e1c-cec1d908d3af",
   "metadata": {},
   "outputs": [
    {
     "name": "stdin",
     "output_type": "stream",
     "text": [
      "Enter your age:  58\n"
     ]
    },
    {
     "name": "stdout",
     "output_type": "stream",
     "text": [
      "You are eligible to vote.\n"
     ]
    }
   ],
   "source": [
    "def check_voting_eligibility(age):\n",
    "    if age >= 18:\n",
    "        return \"You are eligible to vote.\"\n",
    "    else:\n",
    "        return \"You are not eligible to vote yet.\"\n",
    "\n",
    "# Get user input\n",
    "try:\n",
    "    age = int(input(\"Enter your age: \"))\n",
    "    result = check_voting_eligibility(age)\n",
    "    print(result)\n",
    "except ValueError:\n",
    "    print(\"Invalid input. Please enter a numeric value.\")\n"
   ]
  },
  {
   "cell_type": "code",
   "execution_count": null,
   "id": "6ea4d4e9-d620-41b4-af53-701565f11503",
   "metadata": {},
   "outputs": [],
   "source": [
    "3. Develop a program to find the maximum of two numbers using if-else statements."
   ]
  },
  {
   "cell_type": "code",
   "execution_count": 2,
   "id": "694f1486-e1b3-4d82-8c1e-c4ad85ca831f",
   "metadata": {},
   "outputs": [
    {
     "name": "stdin",
     "output_type": "stream",
     "text": [
      "Enter the first number:  5\n",
      "Enter the second number:  8\n"
     ]
    },
    {
     "name": "stdout",
     "output_type": "stream",
     "text": [
      "The maximum of 5.0 and 8.0 is 8.0.\n"
     ]
    }
   ],
   "source": [
    "def find_max(num1, num2):\n",
    "    if num1 > num2:\n",
    "        return num1\n",
    "    else:\n",
    "        return num2\n",
    "\n",
    "# Get user input\n",
    "try:\n",
    "    number1 = float(input(\"Enter the first number: \"))\n",
    "    number2 = float(input(\"Enter the second number: \"))\n",
    "    maximum = find_max(number1, number2)\n",
    "    print(f\"The maximum of {number1} and {number2} is {maximum}.\")\n",
    "except ValueError:\n",
    "    print(\"Invalid input. Please enter numeric values.\")\n"
   ]
  },
  {
   "cell_type": "code",
   "execution_count": null,
   "id": "69f01580-08fc-4e57-beb8-4d19bc5a8ab6",
   "metadata": {},
   "outputs": [],
   "source": [
    "4. Write a Python script to classify a given year as a leap year or not."
   ]
  },
  {
   "cell_type": "code",
   "execution_count": 3,
   "id": "9be574e6-1edc-4da7-b5ec-d05068b2815d",
   "metadata": {},
   "outputs": [
    {
     "name": "stdin",
     "output_type": "stream",
     "text": [
      "Enter a year:  2035\n"
     ]
    },
    {
     "name": "stdout",
     "output_type": "stream",
     "text": [
      "2035 is not a leap year.\n"
     ]
    }
   ],
   "source": [
    "def is_leap_year(year):\n",
    "    # Check if the year is divisible by 4\n",
    "    if (year % 4 == 0):\n",
    "        # Check if the year is a century year\n",
    "        if (year % 100 == 0):\n",
    "            # If it's a century year, check if it's divisible by 400\n",
    "            if (year % 400 == 0):\n",
    "                return True\n",
    "            else:\n",
    "                return False\n",
    "        else:\n",
    "            return True\n",
    "    else:\n",
    "        return False\n",
    "\n",
    "# Get user input\n",
    "try:\n",
    "    year = int(input(\"Enter a year: \"))\n",
    "    if is_leap_year(year):\n",
    "        print(f\"{year} is a leap year.\")\n",
    "    else:\n",
    "        print(f\"{year} is not a leap year.\")\n",
    "except ValueError:\n",
    "    print(\"Invalid input. Please enter a numeric value.\")\n"
   ]
  },
  {
   "cell_type": "code",
   "execution_count": null,
   "id": "c835c853-da84-4c98-b6b0-f7c5733a04d3",
   "metadata": {},
   "outputs": [],
   "source": [
    "5. Create a program that checks whether a character is a vowel or a consonant."
   ]
  },
  {
   "cell_type": "code",
   "execution_count": 4,
   "id": "a1bf012e-80ac-4b5f-9775-d91f241f3557",
   "metadata": {},
   "outputs": [
    {
     "name": "stdin",
     "output_type": "stream",
     "text": [
      "Enter a single character:  l\n"
     ]
    },
    {
     "name": "stdout",
     "output_type": "stream",
     "text": [
      "The character is a consonant.\n"
     ]
    }
   ],
   "source": [
    "def check_character(character):\n",
    "    vowels = 'aeiouAEIOU'\n",
    "    if character in vowels:\n",
    "        return \"The character is a vowel.\"\n",
    "    elif character.isalpha() and len(character) == 1:\n",
    "        return \"The character is a consonant.\"\n",
    "    else:\n",
    "        return \"The input is not a single alphabetic character.\"\n",
    "\n",
    "# Get user input\n",
    "char = input(\"Enter a single character: \")\n",
    "\n",
    "# Check and print the result\n",
    "print(check_character(char))\n"
   ]
  },
  {
   "cell_type": "code",
   "execution_count": null,
   "id": "f3e089fa-8ae9-4720-8489-8d716dab418f",
   "metadata": {},
   "outputs": [],
   "source": [
    "6. Implement a program to determine whether a given number is even or odd."
   ]
  },
  {
   "cell_type": "code",
   "execution_count": 5,
   "id": "11431c67-ff35-4e37-9bf1-a3b8957709a0",
   "metadata": {},
   "outputs": [
    {
     "name": "stdin",
     "output_type": "stream",
     "text": [
      "Enter a number:  5\n"
     ]
    },
    {
     "name": "stdout",
     "output_type": "stream",
     "text": [
      "The number is odd.\n"
     ]
    }
   ],
   "source": [
    "def check_even_odd(number):\n",
    "    if number % 2 == 0:\n",
    "        return \"The number is even.\"\n",
    "    else:\n",
    "        return \"The number is odd.\"\n",
    "\n",
    "# Get user input\n",
    "try:\n",
    "    num = int(input(\"Enter a number: \"))\n",
    "    result = check_even_odd(num)\n",
    "    print(result)\n",
    "except ValueError:\n",
    "    print(\"Invalid input. Please enter a numeric value.\")\n"
   ]
  },
  {
   "cell_type": "code",
   "execution_count": 6,
   "id": "7f4f0250-a66f-4bc3-a991-2c02953b3235",
   "metadata": {},
   "outputs": [
    {
     "ename": "SyntaxError",
     "evalue": "invalid syntax (1717381976.py, line 1)",
     "output_type": "error",
     "traceback": [
      "\u001b[0;36m  Cell \u001b[0;32mIn[6], line 1\u001b[0;36m\u001b[0m\n\u001b[0;31m    7. Write a Python function to calculate the absolute value of a number without using the `abs()` function.\u001b[0m\n\u001b[0m       ^\u001b[0m\n\u001b[0;31mSyntaxError\u001b[0m\u001b[0;31m:\u001b[0m invalid syntax\n"
     ]
    }
   ],
   "source": [
    "7. Write a Python function to calculate the absolute value of a number without using the `abs()` function."
   ]
  },
  {
   "cell_type": "code",
   "execution_count": 7,
   "id": "2fe191b8-6b06-4a9c-bb71-ce8e93bdf3f0",
   "metadata": {},
   "outputs": [
    {
     "name": "stdin",
     "output_type": "stream",
     "text": [
      "Enter a number:  7\n"
     ]
    },
    {
     "name": "stdout",
     "output_type": "stream",
     "text": [
      "The absolute value of 7.0 is 7.0.\n"
     ]
    }
   ],
   "source": [
    "def absolute_value(number):\n",
    "    if number < 0:\n",
    "        return -number\n",
    "    else:\n",
    "        return number\n",
    "\n",
    "# Example usage\n",
    "try:\n",
    "    num = float(input(\"Enter a number: \"))\n",
    "    result = absolute_value(num)\n",
    "    print(f\"The absolute value of {num} is {result}.\")\n",
    "except ValueError:\n",
    "    print(\"Invalid input. Please enter a numeric value.\")\n"
   ]
  },
  {
   "cell_type": "code",
   "execution_count": null,
   "id": "98b92d69-e6e6-450c-b70f-4249d0c94da7",
   "metadata": {},
   "outputs": [],
   "source": [
    "8. Develop a program that determines the largest of three given numbers using if-else statements."
   ]
  },
  {
   "cell_type": "code",
   "execution_count": 8,
   "id": "55fbf1e8-3581-40e6-8259-f3d198b3b985",
   "metadata": {},
   "outputs": [
    {
     "name": "stdin",
     "output_type": "stream",
     "text": [
      "Enter the first number:  8\n",
      "Enter the second number:  6\n",
      "Enter the third number:  4\n"
     ]
    },
    {
     "name": "stdout",
     "output_type": "stream",
     "text": [
      "The largest of the three numbers is 8.0.\n"
     ]
    }
   ],
   "source": [
    "def find_largest(num1, num2, num3):\n",
    "    if (num1 >= num2) and (num1 >= num3):\n",
    "        return num1\n",
    "    elif (num2 >= num1) and (num2 >= num3):\n",
    "        return num2\n",
    "    else:\n",
    "        return num3\n",
    "\n",
    "# Get user input\n",
    "try:\n",
    "    number1 = float(input(\"Enter the first number: \"))\n",
    "    number2 = float(input(\"Enter the second number: \"))\n",
    "    number3 = float(input(\"Enter the third number: \"))\n",
    "    largest = find_largest(number1, number2, number3)\n",
    "    print(f\"The largest of the three numbers is {largest}.\")\n",
    "except ValueError:\n",
    "    print(\"Invalid input. Please enter numeric values.\")\n"
   ]
  },
  {
   "cell_type": "code",
   "execution_count": null,
   "id": "98966e13-795b-45e7-8a90-049e1adfdd60",
   "metadata": {},
   "outputs": [],
   "source": [
    "9. Create a program that checks if a given string is a palindrome."
   ]
  },
  {
   "cell_type": "code",
   "execution_count": 9,
   "id": "3eeb22b6-69c0-4119-b0b5-2cc36808b90e",
   "metadata": {},
   "outputs": [
    {
     "name": "stdin",
     "output_type": "stream",
     "text": [
      "Enter a string:  prainuuuuu\n"
     ]
    },
    {
     "name": "stdout",
     "output_type": "stream",
     "text": [
      "'prainuuuuu' is not a palindrome.\n"
     ]
    }
   ],
   "source": [
    "def is_palindrome(s):\n",
    "    # Remove spaces and convert to lowercase for uniform comparison\n",
    "    cleaned_string = ''.join(s.split()).lower()\n",
    "    # Check if the cleaned string is equal to its reverse\n",
    "    return cleaned_string == cleaned_string[::-1]\n",
    "\n",
    "# Get user input\n",
    "user_input = input(\"Enter a string: \")\n",
    "\n",
    "# Check if the input string is a palindrome\n",
    "if is_palindrome(user_input):\n",
    "    print(f\"'{user_input}' is a palindrome.\")\n",
    "else:\n",
    "    print(f\"'{user_input}' is not a palindrome.\")\n"
   ]
  },
  {
   "cell_type": "code",
   "execution_count": null,
   "id": "9d363069-2827-4398-83a6-11a301a4621e",
   "metadata": {},
   "outputs": [],
   "source": [
    "10. Write a Python program to calculate the grade based on a student's score."
   ]
  },
  {
   "cell_type": "code",
   "execution_count": 10,
   "id": "00a53abc-6327-49ec-b414-0522b13920a9",
   "metadata": {},
   "outputs": [
    {
     "name": "stdin",
     "output_type": "stream",
     "text": [
      "Enter the student's score (0-100):  78\n"
     ]
    },
    {
     "name": "stdout",
     "output_type": "stream",
     "text": [
      "The grade for a score of 78.0 is C.\n"
     ]
    }
   ],
   "source": [
    "def calculate_grade(score):\n",
    "    if score >= 90:\n",
    "        return \"A\"\n",
    "    elif score >= 80:\n",
    "        return \"B\"\n",
    "    elif score >= 70:\n",
    "        return \"C\"\n",
    "    elif score >= 60:\n",
    "        return \"D\"\n",
    "    else:\n",
    "        return \"F\"\n",
    "\n",
    "# Get user input\n",
    "try:\n",
    "    score = float(input(\"Enter the student's score (0-100): \"))\n",
    "    if 0 <= score <= 100:\n",
    "        grade = calculate_grade(score)\n",
    "        print(f\"The grade for a score of {score} is {grade}.\")\n",
    "    else:\n",
    "        print(\"Invalid score. Please enter a value between 0 and 100.\")\n",
    "except ValueError:\n",
    "    print(\"Invalid input. Please enter a numeric value.\")\n"
   ]
  },
  {
   "cell_type": "code",
   "execution_count": null,
   "id": "f6850046-e65d-45a5-88bf-f2c970e66c7b",
   "metadata": {},
   "outputs": [],
   "source": []
  },
  {
   "cell_type": "code",
   "execution_count": null,
   "id": "27b15545-565a-4374-86d0-ebb6ab969c85",
   "metadata": {},
   "outputs": [],
   "source": [
    "Nested If-Else Statements:"
   ]
  },
  {
   "cell_type": "code",
   "execution_count": null,
   "id": "99a3dfa6-e2fc-4c81-8a55-4c4024a63c2d",
   "metadata": {},
   "outputs": [],
   "source": [
    "11. Write a program to find the largest among three numbers using nested if-else statements."
   ]
  },
  {
   "cell_type": "code",
   "execution_count": 11,
   "id": "31232cff-afa4-4eb4-af91-8758a05ed3ff",
   "metadata": {},
   "outputs": [
    {
     "name": "stdin",
     "output_type": "stream",
     "text": [
      "Enter the first number:  8\n",
      "Enter the second number:  7\n",
      "Enter the third number:  9\n"
     ]
    },
    {
     "name": "stdout",
     "output_type": "stream",
     "text": [
      "The largest of the three numbers is 9.0.\n"
     ]
    }
   ],
   "source": [
    "def find_largest(num1, num2, num3):\n",
    "    if num1 >= num2:\n",
    "        if num1 >= num3:\n",
    "            return num1\n",
    "        else:\n",
    "            return num3\n",
    "    else:\n",
    "        if num2 >= num3:\n",
    "            return num2\n",
    "        else:\n",
    "            return num3\n",
    "\n",
    "# Get user input\n",
    "try:\n",
    "    number1 = float(input(\"Enter the first number: \"))\n",
    "    number2 = float(input(\"Enter the second number: \"))\n",
    "    number3 = float(input(\"Enter the third number: \"))\n",
    "    largest = find_largest(number1, number2, number3)\n",
    "    print(f\"The largest of the three numbers is {largest}.\")\n",
    "except ValueError:\n",
    "    print(\"Invalid input. Please enter numeric values.\")\n"
   ]
  },
  {
   "cell_type": "code",
   "execution_count": null,
   "id": "d7dc107e-7df9-4085-ba24-8c788ed01433",
   "metadata": {},
   "outputs": [],
   "source": [
    "12. Implement a program to determine if a triangle is equilateral, isosceles, or scalene."
   ]
  },
  {
   "cell_type": "code",
   "execution_count": 12,
   "id": "fe2d8075-d1cf-4c51-8d2e-35d22c064f93",
   "metadata": {},
   "outputs": [
    {
     "name": "stdin",
     "output_type": "stream",
     "text": [
      "Enter the length of the first side:  89\n",
      "Enter the length of the second side:  47\n",
      "Enter the length of the third side:  56\n"
     ]
    },
    {
     "name": "stdout",
     "output_type": "stream",
     "text": [
      "The triangle is Scalene.\n"
     ]
    }
   ],
   "source": [
    "def triangle_type(a, b, c):\n",
    "    # Check if the sides form a valid triangle\n",
    "    if (a + b > c) and (a + c > b) and (b + c > a):\n",
    "        if a == b == c:\n",
    "            return \"Equilateral\"\n",
    "        elif a == b or b == c or a == c:\n",
    "            return \"Isosceles\"\n",
    "        else:\n",
    "            return \"Scalene\"\n",
    "    else:\n",
    "        return \"Not a valid triangle\"\n",
    "\n",
    "# Get user input\n",
    "try:\n",
    "    side1 = float(input(\"Enter the length of the first side: \"))\n",
    "    side2 = float(input(\"Enter the length of the second side: \"))\n",
    "    side3 = float(input(\"Enter the length of the third side: \"))\n",
    "    \n",
    "    result = triangle_type(side1, side2, side3)\n",
    "    print(f\"The triangle is {result}.\")\n",
    "except ValueError:\n",
    "    print(\"Invalid input. Please enter numeric values.\")\n"
   ]
  },
  {
   "cell_type": "code",
   "execution_count": null,
   "id": "b6cf0f2f-473a-4895-be77-c78be2f9efc1",
   "metadata": {},
   "outputs": [],
   "source": [
    "13. Develop a program that checks if a year is a leap year and also if it is a century year."
   ]
  },
  {
   "cell_type": "code",
   "execution_count": 13,
   "id": "e2c59e3d-c674-4fb0-834a-dde93f2fa351",
   "metadata": {},
   "outputs": [
    {
     "name": "stdin",
     "output_type": "stream",
     "text": [
      "Enter a year:  2011\n"
     ]
    },
    {
     "name": "stdout",
     "output_type": "stream",
     "text": [
      "The year is neither a leap year nor a century year.\n"
     ]
    }
   ],
   "source": [
    "def check_year(year):\n",
    "    # Check if it's a century year\n",
    "    if year % 100 == 0:\n",
    "        # Check if it's a leap year\n",
    "        if year % 400 == 0:\n",
    "            return \"The year is a leap year and a century year.\"\n",
    "        else:\n",
    "            return \"The year is a century year but not a leap year.\"\n",
    "    else:\n",
    "        # Check if it's a leap year (not a century year)\n",
    "        if year % 4 == 0:\n",
    "            return \"The year is a leap year but not a century year.\"\n",
    "        else:\n",
    "            return \"The year is neither a leap year nor a century year.\"\n",
    "\n",
    "# Get user input\n",
    "try:\n",
    "    year = int(input(\"Enter a year: \"))\n",
    "    result = check_year(year)\n",
    "    print(result)\n",
    "except ValueError:\n",
    "    print(\"Invalid input. Please enter a numeric value.\")\n"
   ]
  },
  {
   "cell_type": "code",
   "execution_count": null,
   "id": "4df7273e-52e6-49b9-ac76-9c110c8fe29a",
   "metadata": {},
   "outputs": [],
   "source": [
    "14. Write a Python script to determine if a number is positive, negative, or zero."
   ]
  },
  {
   "cell_type": "code",
   "execution_count": 14,
   "id": "ecb14c29-cabd-41a2-b6d3-8ae9cee6a971",
   "metadata": {},
   "outputs": [
    {
     "name": "stdin",
     "output_type": "stream",
     "text": [
      "Enter a number:  7\n"
     ]
    },
    {
     "name": "stdout",
     "output_type": "stream",
     "text": [
      "The number is positive.\n"
     ]
    }
   ],
   "source": [
    "def classify_number(number):\n",
    "    if number > 0:\n",
    "        return \"The number is positive.\"\n",
    "    elif number < 0:\n",
    "        return \"The number is negative.\"\n",
    "    else:\n",
    "        return \"The number is zero.\"\n",
    "\n",
    "# Get user input\n",
    "try:\n",
    "    num = float(input(\"Enter a number: \"))\n",
    "    result = classify_number(num)\n",
    "    print(result)\n",
    "except ValueError:\n",
    "    print(\"Invalid input. Please enter a numeric value.\")\n"
   ]
  },
  {
   "cell_type": "code",
   "execution_count": null,
   "id": "769dda16-aa83-4a5c-97a9-a473aa9b8828",
   "metadata": {},
   "outputs": [],
   "source": [
    "15. Create a program to check if a person is a teenager (between 13 and 19 years old)."
   ]
  },
  {
   "cell_type": "code",
   "execution_count": 15,
   "id": "1cc57faf-cf26-46be-bebe-c773b842e985",
   "metadata": {},
   "outputs": [
    {
     "name": "stdin",
     "output_type": "stream",
     "text": [
      "Enter the person's age:  7\n"
     ]
    },
    {
     "name": "stdout",
     "output_type": "stream",
     "text": [
      "The person is not a teenager.\n"
     ]
    }
   ],
   "source": [
    "def is_teenager(age):\n",
    "    if 13 <= age <= 19:\n",
    "        return \"The person is a teenager.\"\n",
    "    else:\n",
    "        return \"The person is not a teenager.\"\n",
    "\n",
    "# Get user input\n",
    "try:\n",
    "    age = int(input(\"Enter the person's age: \"))\n",
    "    result = is_teenager(age)\n",
    "    print(result)\n",
    "except ValueError:\n",
    "    print(\"Invalid input. Please enter a numeric value.\")\n"
   ]
  },
  {
   "cell_type": "code",
   "execution_count": null,
   "id": "f4b76915-ae11-4cb0-a2de-e2ce2401fa5f",
   "metadata": {},
   "outputs": [],
   "source": [
    "16. Develop a program that determines the type of angle based on its measure (acute, obtuse, or right)."
   ]
  },
  {
   "cell_type": "code",
   "execution_count": 16,
   "id": "c30b304b-3603-4f66-8b87-894350f70598",
   "metadata": {},
   "outputs": [
    {
     "name": "stdin",
     "output_type": "stream",
     "text": [
      "Enter the angle in degrees:  78\n"
     ]
    },
    {
     "name": "stdout",
     "output_type": "stream",
     "text": [
      "The angle is acute.\n"
     ]
    }
   ],
   "source": [
    "def classify_angle(angle):\n",
    "    if angle < 0 or angle > 180:\n",
    "        return \"Invalid angle. Please enter an angle between 0 and 180 degrees.\"\n",
    "    elif angle < 90:\n",
    "        return \"The angle is acute.\"\n",
    "    elif angle == 90:\n",
    "        return \"The angle is right.\"\n",
    "    else:\n",
    "        return \"The angle is obtuse.\"\n",
    "\n",
    "# Get user input\n",
    "try:\n",
    "    angle = float(input(\"Enter the angle in degrees: \"))\n",
    "    result = classify_angle(angle)\n",
    "    print(result)\n",
    "except ValueError:\n",
    "    print(\"Invalid input. Please enter a numeric value.\")\n"
   ]
  },
  {
   "cell_type": "code",
   "execution_count": null,
   "id": "523f049b-8505-4a6a-b4b2-dc6fe60873f0",
   "metadata": {},
   "outputs": [],
   "source": [
    "17. Write a Python program to calculate the roots of a quadratic equation."
   ]
  },
  {
   "cell_type": "code",
   "execution_count": 17,
   "id": "38a7e73b-cd0c-4443-882d-c087269e6d2e",
   "metadata": {},
   "outputs": [
    {
     "name": "stdin",
     "output_type": "stream",
     "text": [
      "Enter the coefficient a:  78\n",
      "Enter the coefficient b:  89\n",
      "Enter the coefficient c:  85\n"
     ]
    },
    {
     "name": "stdout",
     "output_type": "stream",
     "text": [
      "The roots of the quadratic equation are (-0.5705128205128205+0.8742189150173405j) and (-0.5705128205128205-0.8742189150173405j).\n"
     ]
    }
   ],
   "source": [
    "import cmath\n",
    "\n",
    "def calculate_roots(a, b, c):\n",
    "    # Calculate the discriminant\n",
    "    discriminant = b**2 - 4*a*c\n",
    "    \n",
    "    # Calculate the two roots using the quadratic formula\n",
    "    root1 = (-b + cmath.sqrt(discriminant)) / (2 * a)\n",
    "    root2 = (-b - cmath.sqrt(discriminant)) / (2 * a)\n",
    "    \n",
    "    return root1, root2\n",
    "\n",
    "# Get user input\n",
    "try:\n",
    "    a = float(input(\"Enter the coefficient a: \"))\n",
    "    b = float(input(\"Enter the coefficient b: \"))\n",
    "    c = float(input(\"Enter the coefficient c: \"))\n",
    "    \n",
    "    # Check if a is zero to avoid division by zero in quadratic formula\n",
    "    if a == 0:\n",
    "        print(\"The value of 'a' cannot be zero for a quadratic equation.\")\n",
    "    else:\n",
    "        root1, root2 = calculate_roots(a, b, c)\n",
    "        print(f\"The roots of the quadratic equation are {root1} and {root2}.\")\n",
    "except ValueError:\n",
    "    print(\"Invalid input. Please enter numeric values.\")\n"
   ]
  },
  {
   "cell_type": "code",
   "execution_count": null,
   "id": "0245ead0-ce56-49ac-bef6-49ebd71d0e41",
   "metadata": {},
   "outputs": [],
   "source": [
    "18. Implement a program to determine the day of the week based on a user-provided number (1 for Monday, 2\n",
    "for Tuesday, etc.)."
   ]
  },
  {
   "cell_type": "code",
   "execution_count": 18,
   "id": "a7d91ef6-fde7-440f-8825-1321ff607c6f",
   "metadata": {},
   "outputs": [
    {
     "name": "stdin",
     "output_type": "stream",
     "text": [
      "Enter a number (1-7) to get the day of the week:  5\n"
     ]
    },
    {
     "name": "stdout",
     "output_type": "stream",
     "text": [
      "Friday\n"
     ]
    }
   ],
   "source": [
    "def day_of_week(number):\n",
    "    days = {\n",
    "        1: \"Monday\",\n",
    "        2: \"Tuesday\",\n",
    "        3: \"Wednesday\",\n",
    "        4: \"Thursday\",\n",
    "        5: \"Friday\",\n",
    "        6: \"Saturday\",\n",
    "        7: \"Sunday\"\n",
    "    }\n",
    "    \n",
    "    return days.get(number, \"Invalid number. Please enter a number between 1 and 7.\")\n",
    "\n",
    "# Get user input\n",
    "try:\n",
    "    num = int(input(\"Enter a number (1-7) to get the day of the week: \"))\n",
    "    result = day_of_week(num)\n",
    "    print(result)\n",
    "except ValueError:\n",
    "    print(\"Invalid input. Please enter a numeric value.\")\n"
   ]
  },
  {
   "cell_type": "code",
   "execution_count": null,
   "id": "af49c06e-0a0e-427c-a9b7-d0eb6e861666",
   "metadata": {},
   "outputs": [],
   "source": [
    "19. Create a program that determines if a year is a leap year and also if it is evenly divisible by 400."
   ]
  },
  {
   "cell_type": "code",
   "execution_count": 19,
   "id": "03aee303-c4ec-40e8-9c65-2753bf34e853",
   "metadata": {},
   "outputs": [
    {
     "name": "stdin",
     "output_type": "stream",
     "text": [
      "Enter a year:  2012\n"
     ]
    },
    {
     "name": "stdout",
     "output_type": "stream",
     "text": [
      "The year is a leap year but not a century year.\n"
     ]
    }
   ],
   "source": [
    "def check_year(year):\n",
    "    # Check if it's a leap year\n",
    "    if year % 4 == 0:\n",
    "        if year % 100 == 0:\n",
    "            if year % 400 == 0:\n",
    "                return \"The year is a leap year and is evenly divisible by 400.\"\n",
    "            else:\n",
    "                return \"The year is a leap year but not evenly divisible by 400.\"\n",
    "        else:\n",
    "            return \"The year is a leap year but not a century year.\"\n",
    "    else:\n",
    "        return \"The year is not a leap year.\"\n",
    "\n",
    "# Get user input\n",
    "try:\n",
    "    year = int(input(\"Enter a year: \"))\n",
    "    result = check_year(year)\n",
    "    print(result)\n",
    "except ValueError:\n",
    "    print(\"Invalid input. Please enter a numeric value.\")\n"
   ]
  },
  {
   "cell_type": "code",
   "execution_count": null,
   "id": "01d1f420-b7ab-4b1e-9e8c-20ad20992b62",
   "metadata": {},
   "outputs": [],
   "source": [
    "20. Develop a program that checks if a given number is prime or not using nested if-else statements."
   ]
  },
  {
   "cell_type": "code",
   "execution_count": 20,
   "id": "84e7bb26-1a51-4eec-9bfc-a8bd641ca19f",
   "metadata": {},
   "outputs": [
    {
     "name": "stdin",
     "output_type": "stream",
     "text": [
      "Enter a number:  7\n"
     ]
    },
    {
     "name": "stdout",
     "output_type": "stream",
     "text": [
      "The number is prime.\n"
     ]
    }
   ],
   "source": [
    "def is_prime(number):\n",
    "    if number <= 1:\n",
    "        return \"The number is not prime.\"\n",
    "    elif number == 2:\n",
    "        return \"The number is prime.\"\n",
    "    else:\n",
    "        if number % 2 == 0:\n",
    "            return \"The number is not prime.\"\n",
    "        else:\n",
    "            # Check for factors from 3 to sqrt(number)\n",
    "            for i in range(3, int(number**0.5) + 1, 2):\n",
    "                if number % i == 0:\n",
    "                    return \"The number is not prime.\"\n",
    "            return \"The number is prime.\"\n",
    "\n",
    "# Get user input\n",
    "try:\n",
    "    num = int(input(\"Enter a number: \"))\n",
    "    result = is_prime(num)\n",
    "    print(result)\n",
    "except ValueError:\n",
    "    print(\"Invalid input. Please enter a numeric value.\")\n"
   ]
  },
  {
   "cell_type": "code",
   "execution_count": null,
   "id": "d34680f1-ce9f-45a3-a035-6bfc7cb22f07",
   "metadata": {},
   "outputs": [],
   "source": [
    "Elif Statements:"
   ]
  },
  {
   "cell_type": "code",
   "execution_count": null,
   "id": "b2769628-7c66-40a2-ab7d-7dfd84fbe665",
   "metadata": {},
   "outputs": [],
   "source": [
    "21. Write a Python program to assign grades based on different ranges of scores using elif statements."
   ]
  },
  {
   "cell_type": "code",
   "execution_count": 21,
   "id": "374469f6-4aa7-48cc-b063-4da28c9046b2",
   "metadata": {},
   "outputs": [
    {
     "name": "stdin",
     "output_type": "stream",
     "text": [
      "Enter the score (0-100):  92\n"
     ]
    },
    {
     "name": "stdout",
     "output_type": "stream",
     "text": [
      "The grade for a score of 92.0 is A.\n"
     ]
    }
   ],
   "source": [
    "def assign_grade(score):\n",
    "    if score >= 90:\n",
    "        return \"A\"\n",
    "    elif score >= 80:\n",
    "        return \"B\"\n",
    "    elif score >= 70:\n",
    "        return \"C\"\n",
    "    elif score >= 60:\n",
    "        return \"D\"\n",
    "    else:\n",
    "        return \"F\"\n",
    "\n",
    "# Get user input\n",
    "try:\n",
    "    score = float(input(\"Enter the score (0-100): \"))\n",
    "    if 0 <= score <= 100:\n",
    "        grade = assign_grade(score)\n",
    "        print(f\"The grade for a score of {score} is {grade}.\")\n",
    "    else:\n",
    "        print(\"Invalid score. Please enter a value between 0 and 100.\")\n",
    "except ValueError:\n",
    "    print(\"Invalid input. Please enter a numeric value.\")\n"
   ]
  },
  {
   "cell_type": "code",
   "execution_count": null,
   "id": "a25e143d-960d-40c2-95b7-afffe94c4772",
   "metadata": {},
   "outputs": [],
   "source": [
    "22. Implement a program to determine the type of a triangle based on its angles."
   ]
  },
  {
   "cell_type": "code",
   "execution_count": 25,
   "id": "4dde8c52-b78c-4bdc-8676-e171301118ad",
   "metadata": {},
   "outputs": [
    {
     "name": "stdin",
     "output_type": "stream",
     "text": [
      "Enter the first angle in degrees:  60\n",
      "Enter the second angle in degrees:  60\n",
      "Enter the third angle in degrees:  60\n"
     ]
    },
    {
     "name": "stdout",
     "output_type": "stream",
     "text": [
      "The triangle is acute.\n"
     ]
    }
   ],
   "source": [
    "def triangle_type(angle1, angle2, angle3):\n",
    "    # Check if the angles form a valid triangle\n",
    "    if (angle1 + angle2 + angle3) != 180:\n",
    "        return \"The angles do not form a valid triangle.\"\n",
    "    \n",
    "    if angle1 < 90 and angle2 < 90 and angle3 < 90:\n",
    "        return \"The triangle is acute.\"\n",
    "    elif angle1 == 90 or angle2 == 90 or angle3 == 90:\n",
    "        return \"The triangle is right-angled.\"\n",
    "    else:\n",
    "        return \"The triangle is obtuse.\"\n",
    "\n",
    "# Get user input\n",
    "try:\n",
    "    angle1 = float(input(\"Enter the first angle in degrees: \"))\n",
    "    angle2 = float(input(\"Enter the second angle in degrees: \"))\n",
    "    angle3 = float(input(\"Enter the third angle in degrees: \"))\n",
    "    \n",
    "    result = triangle_type(angle1, angle2, angle3)\n",
    "    print(result)\n",
    "except ValueError:\n",
    "    print(\"Invalid input. Please enter numeric values.\")\n"
   ]
  },
  {
   "cell_type": "code",
   "execution_count": null,
   "id": "f8caef03-8b4f-4430-ae7b-15a84b313eca",
   "metadata": {},
   "outputs": [],
   "source": [
    "23. Develop a program to categorize a given person's BMI into underweight, normal, overweight, or obese using\n",
    "elif statements."
   ]
  },
  {
   "cell_type": "code",
   "execution_count": 26,
   "id": "9b6b7230-d9aa-4040-b0dd-e22ea4c06b4b",
   "metadata": {},
   "outputs": [
    {
     "name": "stdin",
     "output_type": "stream",
     "text": [
      "Enter your weight in kilograms:  89\n",
      "Enter your height in meters:  74\n"
     ]
    },
    {
     "name": "stdout",
     "output_type": "stream",
     "text": [
      "Your BMI is 0.02. You are classified as Underweight.\n"
     ]
    }
   ],
   "source": [
    "def categorize_bmi(bmi):\n",
    "    if bmi < 18.5:\n",
    "        return \"Underweight\"\n",
    "    elif 18.5 <= bmi < 24.9:\n",
    "        return \"Normal weight\"\n",
    "    elif 25 <= bmi < 29.9:\n",
    "        return \"Overweight\"\n",
    "    else:\n",
    "        return \"Obese\"\n",
    "\n",
    "# Get user input\n",
    "try:\n",
    "    weight = float(input(\"Enter your weight in kilograms: \"))\n",
    "    height = float(input(\"Enter your height in meters: \"))\n",
    "    \n",
    "    if weight > 0 and height > 0:\n",
    "        # Calculate BMI\n",
    "        bmi = weight / (height ** 2)\n",
    "        category = categorize_bmi(bmi)\n",
    "        print(f\"Your BMI is {bmi:.2f}. You are classified as {category}.\")\n",
    "    else:\n",
    "        print(\"Weight and height must be positive values.\")\n",
    "except ValueError:\n",
    "    print(\"Invalid input. Please enter numeric values.\")\n"
   ]
  },
  {
   "cell_type": "code",
   "execution_count": null,
   "id": "c2791960-2db5-47c3-aa3b-42de7e8f684a",
   "metadata": {},
   "outputs": [],
   "source": [
    "24. Create a program that determines whether a given number is positive, negative, or zero using elif\n",
    "statements."
   ]
  },
  {
   "cell_type": "code",
   "execution_count": 27,
   "id": "98c2b59b-5487-4ef6-8aa4-c7af5135805e",
   "metadata": {},
   "outputs": [
    {
     "name": "stdin",
     "output_type": "stream",
     "text": [
      "Enter a number:  7\n"
     ]
    },
    {
     "name": "stdout",
     "output_type": "stream",
     "text": [
      "The number is positive.\n"
     ]
    }
   ],
   "source": [
    "def classify_number(number):\n",
    "    if number > 0:\n",
    "        return \"The number is positive.\"\n",
    "    elif number < 0:\n",
    "        return \"The number is negative.\"\n",
    "    else:\n",
    "        return \"The number is zero.\"\n",
    "\n",
    "# Get user input\n",
    "try:\n",
    "    num = float(input(\"Enter a number: \"))\n",
    "    result = classify_number(num)\n",
    "    print(result)\n",
    "except ValueError:\n",
    "    print(\"Invalid input. Please enter a numeric value.\")\n"
   ]
  },
  {
   "cell_type": "code",
   "execution_count": null,
   "id": "e7d00112-19b5-4dc0-bc88-bba25a17986d",
   "metadata": {},
   "outputs": [],
   "source": [
    "25. Write a Python script to determine the type of a character (uppercase, lowercase, or special) using elif\n",
    "statements."
   ]
  },
  {
   "cell_type": "code",
   "execution_count": 28,
   "id": "610c8cda-19b6-405b-878b-916ad197201d",
   "metadata": {},
   "outputs": [
    {
     "name": "stdin",
     "output_type": "stream",
     "text": [
      "Enter a single character:  8\n"
     ]
    },
    {
     "name": "stdout",
     "output_type": "stream",
     "text": [
      "The character is special.\n"
     ]
    }
   ],
   "source": [
    "def classify_character(char):\n",
    "    if char.isupper():\n",
    "        return \"The character is uppercase.\"\n",
    "    elif char.islower():\n",
    "        return \"The character is lowercase.\"\n",
    "    elif char.isalpha():\n",
    "        return \"The character is a letter but not a letter.\"\n",
    "    else:\n",
    "        return \"The character is special.\"\n",
    "\n",
    "# Get user input\n",
    "try:\n",
    "    char = input(\"Enter a single character: \")\n",
    "    \n",
    "    if len(char) == 1:\n",
    "        result = classify_character(char)\n",
    "        print(result)\n",
    "    else:\n",
    "        print(\"Please enter only one character.\")\n",
    "except Exception as e:\n",
    "    print(f\"An error occurred: {e}\")\n"
   ]
  },
  {
   "cell_type": "code",
   "execution_count": null,
   "id": "220d1e63-acfd-43c8-aea2-64b2dfec9c0a",
   "metadata": {},
   "outputs": [],
   "source": [
    "26. Implement a program to calculate the discounted price based on different purchase amounts using elif\n",
    "statements."
   ]
  },
  {
   "cell_type": "code",
   "execution_count": 30,
   "id": "1ae3d102-ed60-4eb3-9e2c-1695f2433319",
   "metadata": {},
   "outputs": [
    {
     "name": "stdin",
     "output_type": "stream",
     "text": [
      "Enter the purchase amount:  52\n"
     ]
    },
    {
     "name": "stdout",
     "output_type": "stream",
     "text": [
      "Original amount: Rs52.00\n",
      "Discount: 5.0%\n",
      "Discounted price: Rs49.40\n"
     ]
    }
   ],
   "source": [
    "def calculate_discounted_price(amount):\n",
    "    if amount >= 1000:\n",
    "        discount = 0.20  # 20% discount\n",
    "    elif amount >= 500:\n",
    "        discount = 0.15  # 15% discount\n",
    "    elif amount >= 200:\n",
    "        discount = 0.10  # 10% discount\n",
    "    else:\n",
    "        discount = 0.05  # 5% discount\n",
    "    \n",
    "    discounted_price = amount * (1 - discount)\n",
    "    return discounted_price, discount\n",
    "\n",
    "# Get user input\n",
    "try:\n",
    "    purchase_amount = float(input(\"Enter the purchase amount: \"))\n",
    "    \n",
    "    if purchase_amount < 0:\n",
    "        print(\"Amount cannot be negative.\")\n",
    "    else:\n",
    "        discounted_price, discount = calculate_discounted_price(purchase_amount)\n",
    "        print(f\"Original amount: Rs{purchase_amount:.2f}\")\n",
    "        print(f\"Discount: {discount * 100}%\")\n",
    "        print(f\"Discounted price: Rs{discounted_price:.2f}\")\n",
    "except ValueError:\n",
    "    print(\"Invalid input. Please enter a numeric value.\")\n"
   ]
  },
  {
   "cell_type": "code",
   "execution_count": null,
   "id": "f329a8d0-75e5-43cd-b3a7-d37e6fc45940",
   "metadata": {},
   "outputs": [],
   "source": [
    "27. Develop a program to calculate the electricity bill based on different consumption slabs using elif\n",
    "statements."
   ]
  },
  {
   "cell_type": "code",
   "execution_count": 32,
   "id": "c3aa640c-00cd-4f82-be39-0f8b8e831fad",
   "metadata": {},
   "outputs": [
    {
     "name": "stdin",
     "output_type": "stream",
     "text": [
      "Enter the number of units consumed:  54\n"
     ]
    },
    {
     "name": "stdout",
     "output_type": "stream",
     "text": [
      "Total bill amount: Rs27.00\n"
     ]
    }
   ],
   "source": [
    "def calculate_electricity_bill(units):\n",
    "    if units <= 100:\n",
    "        bill = units * 0.50  # Rate for up to 100 units\n",
    "    elif units <= 300:\n",
    "        bill = 100 * 0.50 + (units - 100) * 0.75  # Rate for 101 to 300 units\n",
    "    elif units <= 500:\n",
    "        bill = 100 * 0.50 + 200 * 0.75 + (units - 300) * 1.20  # Rate for 301 to 500 units\n",
    "    else:\n",
    "        bill = 100 * 0.50 + 200 * 0.75 + 200 * 1.20 + (units - 500) * 1.50  # Rate for above 500 units\n",
    "    \n",
    "    return bill\n",
    "\n",
    "# Get user input\n",
    "try:\n",
    "    units_consumed = float(input(\"Enter the number of units consumed: \"))\n",
    "    \n",
    "    if units_consumed < 0:\n",
    "        print(\"Units consumed cannot be negative.\")\n",
    "    else:\n",
    "        bill_amount = calculate_electricity_bill(units_consumed)\n",
    "        print(f\"Total bill amount: Rs{bill_amount:.2f}\")\n",
    "except ValueError:\n",
    "    print(\"Invalid input. Please enter a numeric value.\")\n"
   ]
  },
  {
   "cell_type": "code",
   "execution_count": 33,
   "id": "a2b56587-b0a0-4709-8deb-e2dad2c680f1",
   "metadata": {},
   "outputs": [
    {
     "ename": "SyntaxError",
     "evalue": "invalid syntax (142165737.py, line 1)",
     "output_type": "error",
     "traceback": [
      "\u001b[0;36m  Cell \u001b[0;32mIn[33], line 1\u001b[0;36m\u001b[0m\n\u001b[0;31m    28. Create a program to determine the type of quadrilateral based on its angles and sides using elif\u001b[0m\n\u001b[0m        ^\u001b[0m\n\u001b[0;31mSyntaxError\u001b[0m\u001b[0;31m:\u001b[0m invalid syntax\n"
     ]
    }
   ],
   "source": [
    "28. Create a program to determine the type of quadrilateral based on its angles and sides using elif\n",
    "statements."
   ]
  },
  {
   "cell_type": "code",
   "execution_count": 34,
   "id": "ed7fe25a-0a89-491c-80ec-4ebd0675d816",
   "metadata": {},
   "outputs": [
    {
     "name": "stdin",
     "output_type": "stream",
     "text": [
      "Enter the length of side 1:  48\n",
      "Enter the length of side 2:  56\n",
      "Enter the length of side 3:  41\n",
      "Enter the length of side 4:  52\n",
      "Enter the measure of angle 1 in degrees:  70\n",
      "Enter the measure of angle 2 in degrees:  50\n",
      "Enter the measure of angle 3 in degrees:  60\n",
      "Enter the measure of angle 4 in degrees:  70\n"
     ]
    },
    {
     "name": "stdout",
     "output_type": "stream",
     "text": [
      "The angles do not form a valid quadrilateral.\n"
     ]
    }
   ],
   "source": [
    "def classify_quadrilateral(sides, angles):\n",
    "    if len(sides) != 4 or len(angles) != 4:\n",
    "        return \"Invalid input. A quadrilateral must have exactly 4 sides and 4 angles.\"\n",
    "    \n",
    "    # Check if the sum of angles is 360 degrees\n",
    "    if sum(angles) != 360:\n",
    "        return \"The angles do not form a valid quadrilateral.\"\n",
    "    \n",
    "    # Check if all sides are equal and all angles are 90 degrees (Square)\n",
    "    if sides[0] == sides[1] == sides[2] == sides[3] and angles[0] == angles[1] == angles[2] == angles[3] == 90:\n",
    "        return \"Square\"\n",
    "    \n",
    "    # Check if opposite sides are equal and all angles are 90 degrees (Rectangle)\n",
    "    elif sides[0] == sides[2] and sides[1] == sides[3] and angles[0] == angles[1] == angles[2] == angles[3] == 90:\n",
    "        return \"Rectangle\"\n",
    "    \n",
    "    # Check if all sides are equal but angles are not necessarily 90 degrees (Rhombus)\n",
    "    elif sides[0] == sides[1] == sides[2] == sides[3]:\n",
    "        return \"Rhombus\"\n",
    "    \n",
    "    # Check if opposite sides are equal and opposite angles are equal (Parallelogram)\n",
    "    elif sides[0] == sides[2] and sides[1] == sides[3] and angles[0] == angles[2] and angles[1] == angles[3]:\n",
    "        return \"Parallelogram\"\n",
    "    \n",
    "    # Check if one pair of sides are parallel (Trapezium)\n",
    "    elif (sides[0] == sides[1] and sides[2] == sides[3]) or (sides[0] == sides[2] and sides[1] == sides[3]):\n",
    "        return \"Trapezium\"\n",
    "    \n",
    "    # General Quadrilateral\n",
    "    else:\n",
    "        return \"General Quadrilateral\"\n",
    "\n",
    "# Get user input\n",
    "try:\n",
    "    sides = []\n",
    "    angles = []\n",
    "    \n",
    "    for i in range(4):\n",
    "        side = float(input(f\"Enter the length of side {i+1}: \"))\n",
    "        sides.append(side)\n",
    "    \n",
    "    for i in range(4):\n",
    "        angle = float(input(f\"Enter the measure of angle {i+1} in degrees: \"))\n",
    "        angles.append(angle)\n",
    "    \n",
    "    result = classify_quadrilateral(sides, angles)\n",
    "    print(result)\n",
    "except ValueError:\n",
    "    print(\"Invalid input. Please enter numeric values.\")\n"
   ]
  },
  {
   "cell_type": "code",
   "execution_count": 35,
   "id": "a0cbc15b-2c5d-49c0-b7ea-90f06832566a",
   "metadata": {},
   "outputs": [
    {
     "ename": "SyntaxError",
     "evalue": "invalid syntax (3285077068.py, line 1)",
     "output_type": "error",
     "traceback": [
      "\u001b[0;36m  Cell \u001b[0;32mIn[35], line 1\u001b[0;36m\u001b[0m\n\u001b[0;31m    29. Write a Python script to determine the season based on a user-provided month using elif statements.\u001b[0m\n\u001b[0m        ^\u001b[0m\n\u001b[0;31mSyntaxError\u001b[0m\u001b[0;31m:\u001b[0m invalid syntax\n"
     ]
    }
   ],
   "source": [
    "29. Write a Python script to determine the season based on a user-provided month using elif statements."
   ]
  },
  {
   "cell_type": "code",
   "execution_count": 37,
   "id": "01dd050f-88b1-497a-a9db-555d30f6511e",
   "metadata": {},
   "outputs": [
    {
     "name": "stdin",
     "output_type": "stream",
     "text": [
      "Enter the month:  may\n"
     ]
    },
    {
     "name": "stdout",
     "output_type": "stream",
     "text": [
      "The season for May is Spring.\n"
     ]
    }
   ],
   "source": [
    "def determine_season(month):\n",
    "    month = month.lower()  # Convert month to lowercase for case-insensitivity\n",
    "    \n",
    "    if month in [\"december\", \"january\", \"february\"]:\n",
    "        return \"Winter\"\n",
    "    elif month in [\"march\", \"april\", \"may\"]:\n",
    "        return \"Spring\"\n",
    "    elif month in [\"june\", \"july\", \"august\"]:\n",
    "        return \"Summer\"\n",
    "    elif month in [\"september\", \"october\", \"november\"]:\n",
    "        return \"Fall\"\n",
    "    else:\n",
    "        return \"Invalid month. Please enter a valid month name.\"\n",
    "\n",
    "# Get user input\n",
    "try:\n",
    "    month_input = input(\"Enter the month: \")\n",
    "    season = determine_season(month_input)\n",
    "    print(f\"The season for {month_input.capitalize()} is {season}.\")\n",
    "except Exception as e:\n",
    "    print(f\"An error occurred: {e}\")\n"
   ]
  },
  {
   "cell_type": "code",
   "execution_count": null,
   "id": "77c9d03b-14de-4047-abcf-696d9e6e4198",
   "metadata": {},
   "outputs": [],
   "source": [
    "30. Implement a program to determine the type of a year (leap or common) and month (30 or 31 days) using\n",
    "elif statements."
   ]
  },
  {
   "cell_type": "code",
   "execution_count": 39,
   "id": "428827dd-98cd-4fff-b7d3-44ec112fc33b",
   "metadata": {},
   "outputs": [
    {
     "name": "stdin",
     "output_type": "stream",
     "text": [
      "Enter the year:  2002\n",
      "Enter the month:  may\n"
     ]
    },
    {
     "name": "stdout",
     "output_type": "stream",
     "text": [
      "2002 is a common year.\n",
      "The month of May in 2002 has 31 days.\n"
     ]
    }
   ],
   "source": [
    "def is_leap_year(year):\n",
    "    if (year % 4 == 0 and year % 100 != 0) or (year % 400 == 0):\n",
    "        return True\n",
    "    else:\n",
    "        return False\n",
    "\n",
    "def days_in_month(month, year):\n",
    "    month = month.lower()  # Convert month to lowercase for case-insensitivity\n",
    "\n",
    "    if month in [\"january\", \"march\", \"may\", \"july\", \"august\", \"october\", \"december\"]:\n",
    "        return 31\n",
    "    elif month in [\"april\", \"june\", \"september\", \"november\"]:\n",
    "        return 30\n",
    "    elif month == \"february\":\n",
    "        if is_leap_year(year):\n",
    "            return 29\n",
    "        else:\n",
    "            return 28\n",
    "    else:\n",
    "        return \"Invalid month. Please enter a valid month name.\"\n",
    "\n",
    "# Get user input\n",
    "try:\n",
    "    year = int(input(\"Enter the year: \"))\n",
    "    month = input(\"Enter the month: \")\n",
    "    \n",
    "    # Determine if the year is leap or common\n",
    "    if is_leap_year(year):\n",
    "        print(f\"{year} is a leap year.\")\n",
    "    else:\n",
    "        print(f\"{year} is a common year.\")\n",
    "    \n",
    "    # Determine the number of days in the month\n",
    "    days = days_in_month(month, year)\n",
    "    if isinstance(days, int):\n",
    "        print(f\"The month of {month.capitalize()} in {year} has {days} days.\")\n",
    "    else:\n",
    "        print(days)\n",
    "except ValueError:\n",
    "    print(\"Invalid input. Please enter numeric values for the year and a valid month name.\")\n"
   ]
  },
  {
   "cell_type": "code",
   "execution_count": null,
   "id": "da39944b-003d-4773-a69f-dc4df512bb2a",
   "metadata": {},
   "outputs": [],
   "source": []
  },
  {
   "cell_type": "code",
   "execution_count": null,
   "id": "8ad79811-cd54-4072-b1c2-b7b70fe15f21",
   "metadata": {},
   "outputs": [],
   "source": [
    "Assignment Questions"
   ]
  },
  {
   "cell_type": "code",
   "execution_count": null,
   "id": "0bc1c624-35f3-4c3b-9b07-1671494f430f",
   "metadata": {},
   "outputs": [],
   "source": [
    "1. Write a Python program that checks if a given number is positive, negative, or zero."
   ]
  },
  {
   "cell_type": "code",
   "execution_count": 40,
   "id": "abde0778-4513-40df-94e2-c60bf7b8c3ed",
   "metadata": {},
   "outputs": [
    {
     "name": "stdin",
     "output_type": "stream",
     "text": [
      "Enter a number:  8\n"
     ]
    },
    {
     "name": "stdout",
     "output_type": "stream",
     "text": [
      "The number is positive.\n"
     ]
    }
   ],
   "source": [
    "# Function to check if the number is positive, negative, or zero\n",
    "def check_number(number):\n",
    "    if number > 0:\n",
    "        return \"The number is positive.\"\n",
    "    elif number < 0:\n",
    "        return \"The number is negative.\"\n",
    "    else:\n",
    "        return \"The number is zero.\"\n",
    "\n",
    "# Main function\n",
    "def main():\n",
    "    # Input from the user\n",
    "    try:\n",
    "        num = float(input(\"Enter a number: \"))\n",
    "        result = check_number(num)\n",
    "        print(result)\n",
    "    except ValueError:\n",
    "        print(\"Invalid input. Please enter a numerical value.\")\n",
    "\n",
    "# Run the main function\n",
    "if __name__ == \"__main__\":\n",
    "    main()\n"
   ]
  },
  {
   "cell_type": "code",
   "execution_count": null,
   "id": "3a44a44d-6a80-4a1e-9fcb-a530ea48e388",
   "metadata": {},
   "outputs": [],
   "source": [
    "2. Create a program to determine if a person is eligible to vote based on their age."
   ]
  },
  {
   "cell_type": "code",
   "execution_count": 41,
   "id": "731efa57-2698-448c-a06e-02eddc515b05",
   "metadata": {},
   "outputs": [
    {
     "name": "stdin",
     "output_type": "stream",
     "text": [
      "Enter your age:  5\n"
     ]
    },
    {
     "name": "stdout",
     "output_type": "stream",
     "text": [
      "You are not eligible to vote.\n"
     ]
    }
   ],
   "source": [
    "# Function to check if a person is eligible to vote\n",
    "def check_voting_eligibility(age):\n",
    "    # Assuming the legal voting age is 18\n",
    "    if age >= 18:\n",
    "        return \"You are eligible to vote.\"\n",
    "    else:\n",
    "        return \"You are not eligible to vote.\"\n",
    "\n",
    "# Main function\n",
    "def main():\n",
    "    # Input from the user\n",
    "    try:\n",
    "        age = int(input(\"Enter your age: \"))\n",
    "        result = check_voting_eligibility(age)\n",
    "        print(result)\n",
    "    except ValueError:\n",
    "        print(\"Invalid input. Please enter a valid age.\")\n",
    "\n",
    "# Run the main function\n",
    "if __name__ == \"__main__\":\n",
    "    main()\n"
   ]
  },
  {
   "cell_type": "code",
   "execution_count": null,
   "id": "e0cff0b5-8082-4687-9f97-d7970d31b0da",
   "metadata": {},
   "outputs": [],
   "source": [
    "3. Write a program to find the maximum of two given numbers using conditional statements."
   ]
  },
  {
   "cell_type": "code",
   "execution_count": 42,
   "id": "43151496-42e6-44ef-9431-386f2debbd90",
   "metadata": {},
   "outputs": [
    {
     "name": "stdin",
     "output_type": "stream",
     "text": [
      "Enter the first number:  32\n",
      "Enter the second number:  25\n"
     ]
    },
    {
     "name": "stdout",
     "output_type": "stream",
     "text": [
      "The maximum number is: 32.0\n"
     ]
    }
   ],
   "source": [
    "# Function to find the maximum of two numbers\n",
    "def find_max(num1, num2):\n",
    "    if num1 > num2:\n",
    "        return num1\n",
    "    elif num2 > num1:\n",
    "        return num2\n",
    "    else:\n",
    "        return \"Both numbers are equal.\"\n",
    "\n",
    "# Main function\n",
    "def main():\n",
    "    # Input from the user\n",
    "    try:\n",
    "        num1 = float(input(\"Enter the first number: \"))\n",
    "        num2 = float(input(\"Enter the second number: \"))\n",
    "        max_number = find_max(num1, num2)\n",
    "        print(f\"The maximum number is: {max_number}\")\n",
    "    except ValueError:\n",
    "        print(\"Invalid input. Please enter numerical values.\")\n",
    "\n",
    "# Run the main function\n",
    "if __name__ == \"__main__\":\n",
    "    main()\n"
   ]
  },
  {
   "cell_type": "code",
   "execution_count": null,
   "id": "decd7856-6ccc-4e33-8439-cb53f01ce288",
   "metadata": {},
   "outputs": [],
   "source": [
    "4. Develop a program that calculates the grade of a student based on their exam score."
   ]
  },
  {
   "cell_type": "code",
   "execution_count": 43,
   "id": "5de9e5dd-7112-4157-92bb-00e0aff91643",
   "metadata": {},
   "outputs": [
    {
     "name": "stdin",
     "output_type": "stream",
     "text": [
      "Enter the exam score (0-100):  80\n"
     ]
    },
    {
     "name": "stdout",
     "output_type": "stream",
     "text": [
      "The grade is: B\n"
     ]
    }
   ],
   "source": [
    "# Function to determine the grade based on the score\n",
    "def calculate_grade(score):\n",
    "    if score >= 90:\n",
    "        return \"A\"\n",
    "    elif score >= 80:\n",
    "        return \"B\"\n",
    "    elif score >= 70:\n",
    "        return \"C\"\n",
    "    elif score >= 60:\n",
    "        return \"D\"\n",
    "    elif score >= 0:\n",
    "        return \"F\"\n",
    "    else:\n",
    "        return \"Invalid score. Score should be between 0 and 100.\"\n",
    "\n",
    "# Main function\n",
    "def main():\n",
    "    # Input from the user\n",
    "    try:\n",
    "        score = float(input(\"Enter the exam score (0-100): \"))\n",
    "        grade = calculate_grade(score)\n",
    "        print(f\"The grade is: {grade}\")\n",
    "    except ValueError:\n",
    "        print(\"Invalid input. Please enter a numerical score.\")\n",
    "\n",
    "# Run the main function\n",
    "if __name__ == \"__main__\":\n",
    "    main()\n"
   ]
  },
  {
   "cell_type": "code",
   "execution_count": null,
   "id": "014390a2-ed3f-45f6-9d0c-86a0485e6478",
   "metadata": {},
   "outputs": [],
   "source": [
    "5. Create a program that checks if a year is a leap year or not."
   ]
  },
  {
   "cell_type": "code",
   "execution_count": 44,
   "id": "85a1bc36-2ff6-4705-ab42-148094f6fd8d",
   "metadata": {},
   "outputs": [
    {
     "name": "stdin",
     "output_type": "stream",
     "text": [
      "Enter a year:  2024\n"
     ]
    },
    {
     "name": "stdout",
     "output_type": "stream",
     "text": [
      "2024 is a leap year.\n"
     ]
    }
   ],
   "source": [
    "# Function to check if a year is a leap year\n",
    "def is_leap_year(year):\n",
    "    if (year % 4 == 0 and year % 100 != 0) or (year % 400 == 0):\n",
    "        return True\n",
    "    else:\n",
    "        return False\n",
    "\n",
    "# Main function\n",
    "def main():\n",
    "    # Input from the user\n",
    "    try:\n",
    "        year = int(input(\"Enter a year: \"))\n",
    "        if is_leap_year(year):\n",
    "            print(f\"{year} is a leap year.\")\n",
    "        else:\n",
    "            print(f\"{year} is not a leap year.\")\n",
    "    except ValueError:\n",
    "        print(\"Invalid input. Please enter a valid year.\")\n",
    "\n",
    "# Run the main function\n",
    "if __name__ == \"__main__\":\n",
    "    main()\n"
   ]
  },
  {
   "cell_type": "code",
   "execution_count": null,
   "id": "7171cdf9-85da-4941-9603-9a55609ecb0f",
   "metadata": {},
   "outputs": [],
   "source": [
    "6. Write a program to classify a triangle based on its sides' lengths."
   ]
  },
  {
   "cell_type": "code",
   "execution_count": 47,
   "id": "10ab8c07-0d02-484d-8e4d-f111d1d8e799",
   "metadata": {},
   "outputs": [
    {
     "name": "stdin",
     "output_type": "stream",
     "text": [
      "Enter the length of the first side:  50\n",
      "Enter the length of the second side:  50\n",
      "Enter the length of the third side:  50\n"
     ]
    },
    {
     "name": "stdout",
     "output_type": "stream",
     "text": [
      "The triangle is: Equilateral triangle\n"
     ]
    }
   ],
   "source": [
    "# Function to classify a triangle based on its sides\n",
    "def classify_triangle(a, b, c):\n",
    "    # Check if the given sides form a valid triangle\n",
    "    if a + b > c and a + c > b and b + c > a:\n",
    "        if a == b == c:\n",
    "            return \"Equilateral triangle\"\n",
    "        elif a == b or b == c or a == c:\n",
    "            return \"Isosceles triangle\"\n",
    "        else:\n",
    "            return \"Scalene triangle\"\n",
    "    else:\n",
    "        return \"The given sides do not form a valid triangle\"\n",
    "\n",
    "# Main function\n",
    "def main():\n",
    "    # Input from the user\n",
    "    try:\n",
    "        a = float(input(\"Enter the length of the first side: \"))\n",
    "        b = float(input(\"Enter the length of the second side: \"))\n",
    "        c = float(input(\"Enter the length of the third side: \"))\n",
    "        \n",
    "        triangle_type = classify_triangle(a, b, c)\n",
    "        print(f\"The triangle is: {triangle_type}\")\n",
    "    except ValueError:\n",
    "        print(\"Invalid input. Please enter valid numerical values for the side lengths.\")\n",
    "\n",
    "# Run the main function\n",
    "if __name__ == \"__main__\":\n",
    "    main()\n"
   ]
  },
  {
   "cell_type": "code",
   "execution_count": null,
   "id": "b1634912-d631-41b2-8b9c-e71ab12019c9",
   "metadata": {},
   "outputs": [],
   "source": [
    "7. Build a program that determines the largest of three given numbers."
   ]
  },
  {
   "cell_type": "code",
   "execution_count": 48,
   "id": "11a929b0-0210-46cb-95ed-474cd2004d1a",
   "metadata": {},
   "outputs": [
    {
     "name": "stdin",
     "output_type": "stream",
     "text": [
      "Enter the first number:  7\n",
      "Enter the second number:  8\n",
      "Enter the third number:  5\n"
     ]
    },
    {
     "name": "stdout",
     "output_type": "stream",
     "text": [
      "The largest number is: 8.0\n"
     ]
    }
   ],
   "source": [
    "# Function to find the largest of three numbers\n",
    "def find_largest(num1, num2, num3):\n",
    "    if num1 >= num2 and num1 >= num3:\n",
    "        return num1\n",
    "    elif num2 >= num1 and num2 >= num3:\n",
    "        return num2\n",
    "    else:\n",
    "        return num3\n",
    "\n",
    "# Main function\n",
    "def main():\n",
    "    # Input from the user\n",
    "    try:\n",
    "        num1 = float(input(\"Enter the first number: \"))\n",
    "        num2 = float(input(\"Enter the second number: \"))\n",
    "        num3 = float(input(\"Enter the third number: \"))\n",
    "        \n",
    "        largest_number = find_largest(num1, num2, num3)\n",
    "        print(f\"The largest number is: {largest_number}\")\n",
    "    except ValueError:\n",
    "        print(\"Invalid input. Please enter numerical values.\")\n",
    "\n",
    "# Run the main function\n",
    "if __name__ == \"__main__\":\n",
    "    main()\n"
   ]
  },
  {
   "cell_type": "code",
   "execution_count": null,
   "id": "efe93e44-baeb-4b02-9596-ee1dfd5840fe",
   "metadata": {},
   "outputs": [],
   "source": [
    "8. Develop a program that checks whether a character is a vowel or a consonant."
   ]
  },
  {
   "cell_type": "code",
   "execution_count": 49,
   "id": "317c8b3a-da3e-46ca-bc68-999f44faae8f",
   "metadata": {},
   "outputs": [
    {
     "name": "stdin",
     "output_type": "stream",
     "text": [
      "Enter a single character:  o\n"
     ]
    },
    {
     "name": "stdout",
     "output_type": "stream",
     "text": [
      "The character is a vowel.\n"
     ]
    }
   ],
   "source": [
    "# Function to check if a character is a vowel or a consonant\n",
    "def check_character(char):\n",
    "    # Define vowels\n",
    "    vowels = 'aeiouAEIOU'\n",
    "    \n",
    "    # Check if the character is a letter\n",
    "    if char.isalpha() and len(char) == 1:\n",
    "        if char in vowels:\n",
    "            return \"The character is a vowel.\"\n",
    "        else:\n",
    "            return \"The character is a consonant.\"\n",
    "    else:\n",
    "        return \"Invalid input. Please enter a single alphabetic character.\"\n",
    "\n",
    "# Main function\n",
    "def main():\n",
    "    # Input from the user\n",
    "    char = input(\"Enter a single character: \")\n",
    "    \n",
    "    # Check and print the result\n",
    "    result = check_character(char)\n",
    "    print(result)\n",
    "\n",
    "# Run the main function\n",
    "if __name__ == \"__main__\":\n",
    "    main()\n"
   ]
  },
  {
   "cell_type": "code",
   "execution_count": null,
   "id": "7bf229df-03ff-441c-9901-1e4d38a517ee",
   "metadata": {},
   "outputs": [],
   "source": [
    "9. Create a program to calculate the total cost of a shopping cart based on discounts."
   ]
  },
  {
   "cell_type": "code",
   "execution_count": 51,
   "id": "0f082172-6bfe-40a9-99ea-0c62e4bff555",
   "metadata": {},
   "outputs": [
    {
     "name": "stdin",
     "output_type": "stream",
     "text": [
      "Enter the number of items in the shopping cart:  5\n",
      "Enter the price of item 1:  4\n",
      "Enter the price of item 2:  5\n",
      "Enter the price of item 3:  6\n",
      "Enter the price of item 4:  68\n",
      "Enter the price of item 5:  24\n",
      "Enter the discount rate (as a percentage):  15\n"
     ]
    },
    {
     "name": "stdout",
     "output_type": "stream",
     "text": [
      "The total cost after applying the discount is: Rs90.95\n"
     ]
    }
   ],
   "source": [
    "# Function to calculate the total cost after applying discounts\n",
    "def calculate_total_cost(prices, discount_rate):\n",
    "    # Calculate the total cost before discount\n",
    "    total_cost = sum(prices)\n",
    "    \n",
    "    # Calculate the discount amount\n",
    "    discount_amount = total_cost * (discount_rate / 100)\n",
    "    \n",
    "    # Calculate the final cost after discount\n",
    "    final_cost = total_cost - discount_amount\n",
    "    \n",
    "    return final_cost\n",
    "\n",
    "# Main function\n",
    "def main():\n",
    "    # Input the number of items\n",
    "    try:\n",
    "        num_items = int(input(\"Enter the number of items in the shopping cart: \"))\n",
    "        if num_items <= 0:\n",
    "            print(\"The number of items should be greater than zero.\")\n",
    "            return\n",
    "        \n",
    "        # Input the prices of the items\n",
    "        prices = []\n",
    "        for i in range(num_items):\n",
    "            price = float(input(f\"Enter the price of item {i+1}: \"))\n",
    "            prices.append(price)\n",
    "        \n",
    "        # Input the discount rate\n",
    "        discount_rate = float(input(\"Enter the discount rate (as a percentage): \"))\n",
    "        \n",
    "        # Calculate and print the total cost\n",
    "        total_cost = calculate_total_cost(prices, discount_rate)\n",
    "        print(f\"The total cost after applying the discount is: Rs{total_cost:.2f}\")\n",
    "    \n",
    "    except ValueError:\n",
    "        print(\"Invalid input. Please enter valid numerical values.\")\n",
    "\n",
    "# Run the main function\n",
    "if __name__ == \"__main__\":\n",
    "    main()\n"
   ]
  },
  {
   "cell_type": "code",
   "execution_count": null,
   "id": "54c174eb-fd97-4e10-be1c-3441c73ffa44",
   "metadata": {},
   "outputs": [],
   "source": [
    "10. Write a program that checks if a given number is even or odd."
   ]
  },
  {
   "cell_type": "code",
   "execution_count": 52,
   "id": "5f87456f-0759-4809-9c72-6cb0799d6806",
   "metadata": {},
   "outputs": [
    {
     "name": "stdin",
     "output_type": "stream",
     "text": [
      "Enter a number:  8\n"
     ]
    },
    {
     "name": "stdout",
     "output_type": "stream",
     "text": [
      "The number is even.\n"
     ]
    }
   ],
   "source": [
    "# Function to check if a number is even or odd\n",
    "def check_even_odd(number):\n",
    "    if number % 2 == 0:\n",
    "        return \"The number is even.\"\n",
    "    else:\n",
    "        return \"The number is odd.\"\n",
    "\n",
    "# Main function\n",
    "def main():\n",
    "    # Input from the user\n",
    "    try:\n",
    "        number = int(input(\"Enter a number: \"))\n",
    "        result = check_even_odd(number)\n",
    "        print(result)\n",
    "    except ValueError:\n",
    "        print(\"Invalid input. Please enter a valid integer.\")\n",
    "\n",
    "# Run the main function\n",
    "if __name__ == \"__main__\":\n",
    "    main()\n"
   ]
  },
  {
   "cell_type": "code",
   "execution_count": null,
   "id": "f53a7c87-0b7c-496c-a681-56c32a1063a8",
   "metadata": {},
   "outputs": [],
   "source": [
    "11. Write a program that calculates the roots of a quadratic equation"
   ]
  },
  {
   "cell_type": "code",
   "execution_count": 53,
   "id": "f227e7c1-171c-4531-87f7-3988715c01bb",
   "metadata": {},
   "outputs": [
    {
     "name": "stdin",
     "output_type": "stream",
     "text": [
      "Enter the coefficient a:  5\n",
      "Enter the coefficient b:  65\n",
      "Enter the coefficient c:  75\n"
     ]
    },
    {
     "name": "stdout",
     "output_type": "stream",
     "text": [
      "The roots of the quadratic equation are: (-1.279846745544725+0j) and (-11.720153254455274+0j)\n"
     ]
    }
   ],
   "source": [
    "import cmath\n",
    "\n",
    "# Function to calculate the roots of a quadratic equation\n",
    "def calculate_roots(a, b, c):\n",
    "    # Calculate the discriminant\n",
    "    discriminant = b**2 - 4*a*c\n",
    "    \n",
    "    # Calculate the two roots using the quadratic formula\n",
    "    root1 = (-b + cmath.sqrt(discriminant)) / (2 * a)\n",
    "    root2 = (-b - cmath.sqrt(discriminant)) / (2 * a)\n",
    "    \n",
    "    return root1, root2\n",
    "\n",
    "# Main function\n",
    "def main():\n",
    "    # Input from the user\n",
    "    try:\n",
    "        a = float(input(\"Enter the coefficient a: \"))\n",
    "        b = float(input(\"Enter the coefficient b: \"))\n",
    "        c = float(input(\"Enter the coefficient c: \"))\n",
    "        \n",
    "        if a == 0:\n",
    "            print(\"Coefficient 'a' cannot be zero for a quadratic equation.\")\n",
    "            return\n",
    "        \n",
    "        # Calculate and print the roots\n",
    "        root1, root2 = calculate_roots(a, b, c)\n",
    "        print(f\"The roots of the quadratic equation are: {root1} and {root2}\")\n",
    "    \n",
    "    except ValueError:\n",
    "        print(\"Invalid input. Please enter valid numerical values for the coefficients.\")\n",
    "\n",
    "# Run the main function\n",
    "if __name__ == \"__main__\":\n",
    "    main()\n"
   ]
  },
  {
   "cell_type": "code",
   "execution_count": null,
   "id": "8c0ff293-03e6-48be-93c7-e3c0ee00f79f",
   "metadata": {},
   "outputs": [],
   "source": [
    "12. Create a program that determines the day of the week based on the day number (1-7)."
   ]
  },
  {
   "cell_type": "code",
   "execution_count": 54,
   "id": "1cdee489-2a62-4c3c-a677-588cc798828e",
   "metadata": {},
   "outputs": [
    {
     "name": "stdin",
     "output_type": "stream",
     "text": [
      "Enter the day number (1-7):  5\n"
     ]
    },
    {
     "name": "stdout",
     "output_type": "stream",
     "text": [
      "The day of the week is: Friday\n"
     ]
    }
   ],
   "source": [
    "# Function to get the day of the week based on the day number\n",
    "def get_day_of_week(day_number):\n",
    "    # Define the days of the week\n",
    "    days_of_week = {\n",
    "        1: \"Monday\",\n",
    "        2: \"Tuesday\",\n",
    "        3: \"Wednesday\",\n",
    "        4: \"Thursday\",\n",
    "        5: \"Friday\",\n",
    "        6: \"Saturday\",\n",
    "        7: \"Sunday\"\n",
    "    }\n",
    "    \n",
    "    # Return the day of the week or an error message if the number is invalid\n",
    "    return days_of_week.get(day_number, \"Invalid day number. Please enter a number between 1 and 7.\")\n",
    "\n",
    "# Main function\n",
    "def main():\n",
    "    # Input from the user\n",
    "    try:\n",
    "        day_number = int(input(\"Enter the day number (1-7): \"))\n",
    "        day_name = get_day_of_week(day_number)\n",
    "        print(f\"The day of the week is: {day_name}\")\n",
    "    except ValueError:\n",
    "        print(\"Invalid input. Please enter a valid integer between 1 and 7.\")\n",
    "\n",
    "# Run the main function\n",
    "if __name__ == \"__main__\":\n",
    "    main()\n"
   ]
  },
  {
   "cell_type": "code",
   "execution_count": 55,
   "id": "985a7e67-99e7-4668-bff7-8c6dd70d4c01",
   "metadata": {},
   "outputs": [
    {
     "ename": "SyntaxError",
     "evalue": "invalid syntax (1790931070.py, line 1)",
     "output_type": "error",
     "traceback": [
      "\u001b[0;36m  Cell \u001b[0;32mIn[55], line 1\u001b[0;36m\u001b[0m\n\u001b[0;31m    13. Develop a program that calculates the factorial of a given number using recursion.\u001b[0m\n\u001b[0m        ^\u001b[0m\n\u001b[0;31mSyntaxError\u001b[0m\u001b[0;31m:\u001b[0m invalid syntax\n"
     ]
    }
   ],
   "source": [
    "13. Develop a program that calculates the factorial of a given number using recursion."
   ]
  },
  {
   "cell_type": "code",
   "execution_count": 56,
   "id": "376dd5f0-2cd9-4cd4-b888-a0963c50fb3c",
   "metadata": {},
   "outputs": [
    {
     "name": "stdin",
     "output_type": "stream",
     "text": [
      "Enter a non-negative integer:  52\n"
     ]
    },
    {
     "name": "stdout",
     "output_type": "stream",
     "text": [
      "The factorial of 52 is: 80658175170943878571660636856403766975289505440883277824000000000000\n"
     ]
    }
   ],
   "source": [
    "# Function to calculate factorial using recursion\n",
    "def factorial(n):\n",
    "    # Base case: factorial of 0 or 1 is 1\n",
    "    if n == 0 or n == 1:\n",
    "        return 1\n",
    "    # Recursive case: n * factorial of (n-1)\n",
    "    else:\n",
    "        return n * factorial(n - 1)\n",
    "\n",
    "# Main function\n",
    "def main():\n",
    "    # Input from the user\n",
    "    try:\n",
    "        number = int(input(\"Enter a non-negative integer: \"))\n",
    "        if number < 0:\n",
    "            print(\"Factorial is not defined for negative numbers.\")\n",
    "        else:\n",
    "            result = factorial(number)\n",
    "            print(f\"The factorial of {number} is: {result}\")\n",
    "    except ValueError:\n",
    "        print(\"Invalid input. Please enter a valid integer.\")\n",
    "\n",
    "# Run the main function\n",
    "if __name__ == \"__main__\":\n",
    "    main()\n"
   ]
  },
  {
   "cell_type": "code",
   "execution_count": null,
   "id": "d6fa756d-746b-4b87-ac47-b01c4ff716fa",
   "metadata": {},
   "outputs": [],
   "source": [
    "14. Write a program to find the largest among three numbers without using the `max()` function."
   ]
  },
  {
   "cell_type": "code",
   "execution_count": 57,
   "id": "0b53da88-08b9-4d7a-b508-893ac35a1045",
   "metadata": {},
   "outputs": [
    {
     "name": "stdin",
     "output_type": "stream",
     "text": [
      "Enter the first number:  8\n",
      "Enter the second number:  7\n",
      "Enter the third number:  9\n"
     ]
    },
    {
     "name": "stdout",
     "output_type": "stream",
     "text": [
      "The largest number is: 9.0\n"
     ]
    }
   ],
   "source": [
    "# Function to find the largest of three numbers\n",
    "def find_largest(num1, num2, num3):\n",
    "    # Compare num1 and num2\n",
    "    if num1 > num2:\n",
    "        largest = num1\n",
    "    else:\n",
    "        largest = num2\n",
    "    \n",
    "    # Compare the current largest with num3\n",
    "    if num3 > largest:\n",
    "        largest = num3\n",
    "    \n",
    "    return largest\n",
    "\n",
    "# Main function\n",
    "def main():\n",
    "    # Input from the user\n",
    "    try:\n",
    "        num1 = float(input(\"Enter the first number: \"))\n",
    "        num2 = float(input(\"Enter the second number: \"))\n",
    "        num3 = float(input(\"Enter the third number: \"))\n",
    "        \n",
    "        largest_number = find_largest(num1, num2, num3)\n",
    "        print(f\"The largest number is: {largest_number}\")\n",
    "    except ValueError:\n",
    "        print(\"Invalid input. Please enter numerical values.\")\n",
    "\n",
    "# Run the main function\n",
    "if __name__ == \"__main__\":\n",
    "    main()\n"
   ]
  },
  {
   "cell_type": "code",
   "execution_count": null,
   "id": "00d3c7ec-c786-456f-8111-3e403019122a",
   "metadata": {},
   "outputs": [],
   "source": [
    "15. Create a program that simulates a basic ATM transaction menu."
   ]
  },
  {
   "cell_type": "code",
   "execution_count": 60,
   "id": "cde466d8-dd76-4c9b-b7cc-4f35de527f1c",
   "metadata": {},
   "outputs": [
    {
     "name": "stdout",
     "output_type": "stream",
     "text": [
      "\n",
      "--- ATM Menu ---\n",
      "1. Check Balance\n",
      "2. Deposit Money\n",
      "3. Withdraw Money\n",
      "4. Exit\n"
     ]
    },
    {
     "name": "stdin",
     "output_type": "stream",
     "text": [
      "Enter your choice (1-4):  4\n"
     ]
    },
    {
     "name": "stdout",
     "output_type": "stream",
     "text": [
      "Thank you for using the ATM. See you again!\n"
     ]
    }
   ],
   "source": [
    "# Function to display the ATM menu and handle transactions\n",
    "def atm_menu():\n",
    "    balance = 1000  # Initial balance\n",
    "    \n",
    "    while True:\n",
    "        print(\"\\n--- ATM Menu ---\")\n",
    "        print(\"1. Check Balance\")\n",
    "        print(\"2. Deposit Money\")\n",
    "        print(\"3. Withdraw Money\")\n",
    "        print(\"4. Exit\")\n",
    "        \n",
    "        try:\n",
    "            choice = int(input(\"Enter your choice (1-4): \"))\n",
    "            \n",
    "            if choice == 1:\n",
    "                # Check Balance\n",
    "                print(f\"Your current balance is: Rs{balance:.2f}\")\n",
    "            \n",
    "            elif choice == 2:\n",
    "                # Deposit Money\n",
    "                amount = float(input(\"Enter the amount to deposit: Rs\"))\n",
    "                if amount > 0:\n",
    "                    balance += amount\n",
    "                    print(f\"You have deposited Rs{amount:.2f}. New balance is Rs{balance:.2f}.\")\n",
    "                else:\n",
    "                    print(\"Invalid amount. Deposit amount must be positive.\") \n",
    "            \n",
    "            elif choice == 3:\n",
    "                # Withdraw Money\n",
    "                amount = float(input(\"Enter the amount to withdraw: Rs\"))\n",
    "                if amount > 0:\n",
    "                    if amount <= balance:\n",
    "                        balance -= amount\n",
    "                        print(f\"You have withdrawn Rs{amount:.2f}. New balance is Rs{balance:.2f}.\")\n",
    "                    else:\n",
    "                        print(\"Insufficient funds.\")\n",
    "                else:\n",
    "                    print(\"Invalid amount. Withdrawal amount must be positive.\")\n",
    "            \n",
    "            elif choice == 4:\n",
    "                # Exit\n",
    "                print(\"Thank you for using the ATM. See you again!\")\n",
    "                break\n",
    "            \n",
    "            else:\n",
    "                print(\"Invalid choice. Please enter a number between 1 and 4.\")\n",
    "        \n",
    "        except ValueError:\n",
    "            print(\"Invalid input. Please enter a valid number.\")\n",
    "\n",
    "# Run the ATM menu\n",
    "if __name__ == \"__main__\":\n",
    "    atm_menu()\n"
   ]
  },
  {
   "cell_type": "code",
   "execution_count": null,
   "id": "d92cc5a9-c678-4829-9803-a30036302918",
   "metadata": {},
   "outputs": [],
   "source": [
    "16. Build a program that checks if a given string is a palindrome or not."
   ]
  },
  {
   "cell_type": "code",
   "execution_count": 61,
   "id": "f580aba2-025c-4839-ae3c-4ab44132167d",
   "metadata": {},
   "outputs": [
    {
     "name": "stdin",
     "output_type": "stream",
     "text": [
      "Enter a string to check if it is a palindrome:  889\n"
     ]
    },
    {
     "name": "stdout",
     "output_type": "stream",
     "text": [
      "\"889\" is not a palindrome.\n"
     ]
    }
   ],
   "source": [
    "# Function to check if a string is a palindrome\n",
    "def is_palindrome(string):\n",
    "    # Remove any spaces and convert the string to lowercase\n",
    "    cleaned_string = string.replace(\" \", \"\").lower()\n",
    "    \n",
    "    # Check if the string is equal to its reverse\n",
    "    if cleaned_string == cleaned_string[::-1]:\n",
    "        return True\n",
    "    else:\n",
    "        return False\n",
    "\n",
    "# Main function\n",
    "def main():\n",
    "    # Input from the user\n",
    "    string = input(\"Enter a string to check if it is a palindrome: \")\n",
    "    \n",
    "    # Check and print the result\n",
    "    if is_palindrome(string):\n",
    "        print(f'\"{string}\" is a palindrome.')\n",
    "    else:\n",
    "        print(f'\"{string}\" is not a palindrome.')\n",
    "\n",
    "# Run the main function\n",
    "if __name__ == \"__main__\":\n",
    "    main()\n"
   ]
  },
  {
   "cell_type": "code",
   "execution_count": null,
   "id": "7bdf8322-b448-469a-9aa2-43ed307e2a2d",
   "metadata": {},
   "outputs": [],
   "source": [
    "17. Write a program that calculates the average of a list of numbers, excluding the smallest and largest values."
   ]
  },
  {
   "cell_type": "code",
   "execution_count": 65,
   "id": "60a4e1e6-d5da-46ae-b967-ab822661b90b",
   "metadata": {},
   "outputs": [
    {
     "name": "stdin",
     "output_type": "stream",
     "text": [
      "Enter a list of numbers separated by spaces:  4 6 8 9 45\n"
     ]
    },
    {
     "name": "stdout",
     "output_type": "stream",
     "text": [
      "The average excluding the smallest and largest values is: 7.67\n"
     ]
    }
   ],
   "source": [
    "# Function to calculate the average excluding the smallest and largest values\n",
    "def average_excluding_min_max(numbers):\n",
    "    if len(numbers) <= 2:\n",
    "        return \"The list must contain more than two numbers.\"\n",
    "    \n",
    "    # Sort the list to easily exclude the smallest and largest values\n",
    "    sorted_numbers = sorted(numbers)\n",
    "    \n",
    "    # Exclude the smallest and largest values by slicing the sorted list\n",
    "    trimmed_numbers = sorted_numbers[1:-1]\n",
    "    \n",
    "    # Calculate the average of the remaining numbers\n",
    "    average = sum(trimmed_numbers) / len(trimmed_numbers)\n",
    "    \n",
    "    return average\n",
    "\n",
    "# Main function\n",
    "def main():\n",
    "    try:\n",
    "        # Input a list of numbers from the user\n",
    "        numbers = list(map(float, input(\"Enter a list of numbers separated by spaces: \").split()))\n",
    "        \n",
    "        # Check if the list contains more than two numbers\n",
    "        if len(numbers) <= 2:\n",
    "            print(\"The list must contain more than two numbers to exclude the smallest and largest.\")\n",
    "        else:\n",
    "            # Calculate and print the average excluding the smallest and largest numbers\n",
    "            avg = average_excluding_min_max(numbers)\n",
    "            print(f\"The average excluding the smallest and largest values is: {avg:.2f}\")\n",
    "    \n",
    "    except ValueError:\n",
    "        print(\"Invalid input. Please enter valid numbers.\")\n",
    "\n",
    "# Run the main function\n",
    "if __name__ == \"__main__\":\n",
    "    main()\n"
   ]
  },
  {
   "cell_type": "code",
   "execution_count": null,
   "id": "e6631134-f451-4e16-8c2c-594d2202ff51",
   "metadata": {},
   "outputs": [],
   "source": [
    "18. Develop a program that converts a given temperature from Celsius to Fahrenheit."
   ]
  },
  {
   "cell_type": "code",
   "execution_count": 66,
   "id": "85bbff90-e7fb-4eaf-a2d6-4a4d8743e452",
   "metadata": {},
   "outputs": [
    {
     "name": "stdin",
     "output_type": "stream",
     "text": [
      "Enter temperature in Celsius:  56\n"
     ]
    },
    {
     "name": "stdout",
     "output_type": "stream",
     "text": [
      "56.00°C is equal to 132.80°F.\n"
     ]
    }
   ],
   "source": [
    "# Function to convert Celsius to Fahrenheit\n",
    "def celsius_to_fahrenheit(celsius):\n",
    "    fahrenheit = (celsius * 9/5) + 32\n",
    "    return fahrenheit\n",
    "\n",
    "# Main function\n",
    "def main():\n",
    "    try:\n",
    "        # Input temperature in Celsius from the user\n",
    "        celsius = float(input(\"Enter temperature in Celsius: \"))\n",
    "        \n",
    "        # Convert to Fahrenheit and print the result\n",
    "        fahrenheit = celsius_to_fahrenheit(celsius)\n",
    "        print(f\"{celsius:.2f}°C is equal to {fahrenheit:.2f}°F.\")\n",
    "    \n",
    "    except ValueError:\n",
    "        print(\"Invalid input. Please enter a valid numerical value for temperature.\")\n",
    "\n",
    "# Run the main function\n",
    "if __name__ == \"__main__\":\n",
    "    main()\n"
   ]
  },
  {
   "cell_type": "code",
   "execution_count": null,
   "id": "f8449b00-7189-41fa-9481-4052b9ee3886",
   "metadata": {},
   "outputs": [],
   "source": [
    "19. Create a program that simulates a basic calculator for addition, subtraction, multiplication, and division."
   ]
  },
  {
   "cell_type": "code",
   "execution_count": 67,
   "id": "5b9fae47-6711-4c41-a69a-360c764779a6",
   "metadata": {},
   "outputs": [
    {
     "name": "stdin",
     "output_type": "stream",
     "text": [
      "Enter the first number:  8\n",
      "Enter the second number:  6\n",
      "Enter the operation (+, -, *, /):  /\n"
     ]
    },
    {
     "name": "stdout",
     "output_type": "stream",
     "text": [
      "The result of 8.0 / 6.0 is: 1.3333333333333333\n"
     ]
    }
   ],
   "source": [
    "# Function to perform the chosen operation\n",
    "def calculator(num1, num2, operation):\n",
    "    if operation == '+':\n",
    "        return num1 + num2\n",
    "    elif operation == '-':\n",
    "        return num1 - num2\n",
    "    elif operation == '*':\n",
    "        return num1 * num2\n",
    "    elif operation == '/':\n",
    "        if num2 != 0:\n",
    "            return num1 / num2\n",
    "        else:\n",
    "            return \"Error: Division by zero is not allowed.\"\n",
    "    else:\n",
    "        return \"Invalid operation.\"\n",
    "\n",
    "# Main function\n",
    "def main():\n",
    "    try:\n",
    "        # Input numbers and operation from the user\n",
    "        num1 = float(input(\"Enter the first number: \"))\n",
    "        num2 = float(input(\"Enter the second number: \"))\n",
    "        operation = input(\"Enter the operation (+, -, *, /): \")\n",
    "        \n",
    "        # Perform the calculation\n",
    "        result = calculator(num1, num2, operation)\n",
    "        \n",
    "        # Print the result\n",
    "        print(f\"The result of {num1} {operation} {num2} is: {result}\")\n",
    "    \n",
    "    except ValueError:\n",
    "        print(\"Invalid input. Please enter valid numerical values.\")\n",
    "\n",
    "# Run the main function\n",
    "if __name__ == \"__main__\":\n",
    "    main()\n"
   ]
  },
  {
   "cell_type": "code",
   "execution_count": null,
   "id": "af9edeca-dade-41a6-bf7a-3fb2ce13ffd9",
   "metadata": {},
   "outputs": [],
   "source": [
    "20. Write a program that determines the roots of a cubic equation using the Cardano formula."
   ]
  },
  {
   "cell_type": "code",
   "execution_count": null,
   "id": "c7d9afe0-e581-4406-98b4-6ff9ac53324a",
   "metadata": {},
   "outputs": [
    {
     "name": "stdin",
     "output_type": "stream",
     "text": [
      "Enter coefficient a (non-zero):  5\n",
      "Enter coefficient b:  5\n",
      "Enter coefficient c:  5\n",
      "Enter coefficient d:  5\n"
     ]
    },
    {
     "name": "stdout",
     "output_type": "stream",
     "text": [
      "The roots of the cubic equation are: ((0.36602540378443865+0.7886751345948129j), -0.577350269189626j, (-1.3660254037844386-0.21132486540518694j))\n"
     ]
    }
   ],
   "source": [
    "import cmath\n",
    "\n",
    "# Function to calculate the roots of a cubic equation using Cardano's method\n",
    "def solve_cubic(a, b, c, d):\n",
    "    # If a is zero, it's not a cubic equation\n",
    "    if a == 0:\n",
    "        return \"This is not a cubic equation.\"\n",
    "    \n",
    "    # Normalize the coefficients (Cardano's method works best with the reduced form)\n",
    "    p = (3*a*c - b**2) / (3*a**2)\n",
    "    q = (2*b**3 - 9*a*b*c + 27*a**2*d) / (27*a**3)\n",
    "    \n",
    "    # Calculate the discriminant\n",
    "    discriminant = (q / 2)**2 + (p / 3)**3\n",
    "    \n",
    "    # Cubic root helper function that returns correct roots for real and complex numbers\n",
    "    def cubic_root(x):\n",
    "        # Handle complex numbers properly using cmath\n",
    "        return x**(1/3) if x.imag == 0 else cmath.exp(cmath.log(x) / 3)\n",
    "    \n",
    "    if discriminant > 0:  # One real root and two complex roots\n",
    "        u = cubic_root(-q / 2 + cmath.sqrt(discriminant))\n",
    "        v = cubic_root(-q / 2 - cmath.sqrt(discriminant))\n",
    "        root1 = u + v - b / (3 * a)\n",
    "        root2 = -(u + v) / 2 - b / (3 * a) + 1j * cmath.sqrt(3) * (u - v) / 2\n",
    "        root3 = -(u + v) / 2 - b / (3 * a) - 1j * cmath.sqrt(3) * (u - v) / 2\n",
    "        return root1, root2, root3\n",
    "    \n",
    "    elif discriminant == 0:  # Triple root or one real double root and one simple real root\n",
    "        u = cubic_root(-q / 2)\n",
    "        root1 = 2 * u - b / (3 * a)\n",
    "        root2 = -u - b / (3 * a)\n",
    "        root3 = root2\n",
    "        return root1, root2, root3\n",
    "    \n",
    "    else:  # Three real roots (discriminant < 0)\n",
    "        r = cmath.sqrt(-p / 3)\n",
    "        theta = cmath.acos(-q / (2 * r**3))\n",
    "        root1 = 2 * r * cmath.cos(theta / 3) - b / (3 * a)\n",
    "        root2 = 2 * r * cmath.cos((theta + 2 * cmath.pi) / 3) - b / (3 * a)\n",
    "        root3 = 2 * r * cmath.cos((theta + 4 * cmath.pi) / 3) - b / (3 * a)\n",
    "        return root1.real, root2.real, root3.real\n",
    "\n",
    "# Main function\n",
    "def main():\n",
    "    try:\n",
    "        # Input the coefficients of the cubic equation from the user\n",
    "        a = float(input(\"Enter coefficient a (non-zero): \"))\n",
    "        b = float(input(\"Enter coefficient b: \"))\n",
    "        c = float(input(\"Enter coefficient c: \"))\n",
    "        d = float(input(\"Enter coefficient d: \"))\n",
    "        \n",
    "        # Solve the cubic equation\n",
    "        roots = solve_cubic(a, b, c, d)\n",
    "        \n",
    "        # Print the roots\n",
    "        print(f\"The roots of the cubic equation are: {roots}\")\n",
    "    \n",
    "    except ValueError:\n",
    "        print(\"Invalid input. Please enter valid numerical coefficients.\")\n",
    "\n",
    "# Run the main function\n",
    "if __name__ == \"__main__\":\n",
    "    main()\n"
   ]
  },
  {
   "cell_type": "code",
   "execution_count": null,
   "id": "82ced73b-5250-4aae-999f-1bf70287a9ea",
   "metadata": {},
   "outputs": [],
   "source": [
    "21. Create a program that calculates the income tax based on the user's income and tax brackets."
   ]
  },
  {
   "cell_type": "code",
   "execution_count": 73,
   "id": "3c74bb53-dd34-4f86-b415-f27ace6a87e8",
   "metadata": {},
   "outputs": [
    {
     "name": "stdin",
     "output_type": "stream",
     "text": [
      "Enter your annual income:  400000\n"
     ]
    },
    {
     "name": "stdout",
     "output_type": "stream",
     "text": [
      "Your income tax is: Rs106500.00\n"
     ]
    }
   ],
   "source": [
    "def calculate_tax(income):\n",
    "    tax = 0\n",
    "\n",
    "    if income <= 10000:\n",
    "        tax = 0\n",
    "    elif income <= 40000:\n",
    "        tax = 0 + 0.10 * (income - 10000)\n",
    "    elif income <= 85000:\n",
    "        tax = 0 + 0.10 * (40000 - 10000) + 0.20 * (income - 40000)\n",
    "    else:\n",
    "        tax = 0 + 0.10 * (40000 - 10000) + 0.20 * (85000 - 40000) + 0.30 * (income - 85000)\n",
    "\n",
    "    return tax\n",
    "\n",
    "def main():\n",
    "    try:\n",
    "        # Input income from the user\n",
    "        income = float(input(\"Enter your annual income: \"))\n",
    "        \n",
    "        if income < 0:\n",
    "            print(\"Income cannot be negative.\")\n",
    "        else:\n",
    "            # Calculate the tax\n",
    "            tax = calculate_tax(income)\n",
    "            \n",
    "            # Print the calculated tax\n",
    "            print(f\"Your income tax is: Rs{tax:.2f}\")\n",
    "    \n",
    "    except ValueError:\n",
    "        print(\"Invalid input. Please enter a valid number for income.\")\n",
    "\n",
    "# Run the main function\n",
    "if __name__ == \"__main__\":\n",
    "    main()\n"
   ]
  },
  {
   "cell_type": "code",
   "execution_count": null,
   "id": "e1bb013f-a5af-461f-835b-467ed72ab7e2",
   "metadata": {},
   "outputs": [],
   "source": [
    "22. Write a program that simulates a rock-paper-scissors game against the computer."
   ]
  },
  {
   "cell_type": "code",
   "execution_count": 81,
   "id": "ea0fdb45-c31a-4793-b25e-cbba23e14788",
   "metadata": {},
   "outputs": [
    {
     "name": "stdout",
     "output_type": "stream",
     "text": [
      "Welcome to Rock, Paper, Scissors!\n"
     ]
    },
    {
     "name": "stdin",
     "output_type": "stream",
     "text": [
      "Enter rock, paper, or scissors:  scissor\n"
     ]
    },
    {
     "name": "stdout",
     "output_type": "stream",
     "text": [
      "Invalid choice! Please choose rock, paper, or scissors.\n"
     ]
    },
    {
     "name": "stdin",
     "output_type": "stream",
     "text": [
      "Enter rock, paper, or scissors:  scissors\n"
     ]
    },
    {
     "name": "stdout",
     "output_type": "stream",
     "text": [
      "\n",
      "You chose: scissors\n",
      "Computer chose: rock\n",
      "Computer wins!\n"
     ]
    }
   ],
   "source": [
    "import random\n",
    "\n",
    "def get_computer_choice():\n",
    "    options = ['rock', 'paper', 'scissors']\n",
    "    return random.choice(options)\n",
    "\n",
    "def get_user_choice():\n",
    "    user_choice = input(\"Enter rock, paper, or scissors: \").lower()\n",
    "    while user_choice not in ['rock', 'paper', 'scissors']:\n",
    "        print(\"Invalid choice! Please choose rock, paper, or scissors.\")\n",
    "        user_choice = input(\"Enter rock, paper, or scissors: \").lower()\n",
    "    return user_choice\n",
    "\n",
    "def determine_winner(user_choice, computer_choice):\n",
    "    if user_choice == computer_choice:\n",
    "        return \"It's a tie!\"\n",
    "    elif (user_choice == 'rock' and computer_choice == 'scissors') or \\\n",
    "         (user_choice == 'scissors' and computer_choice == 'paper') or \\\n",
    "         (user_choice == 'paper' and computer_choice == 'rock'):\n",
    "        return \"You win!\"\n",
    "    else:\n",
    "        return \"Computer wins!\"\n",
    "\n",
    "def main():\n",
    "    print(\"Welcome to Rock, Paper, Scissors!\")\n",
    "    \n",
    "    # Get choices\n",
    "    user_choice = get_user_choice()\n",
    "    computer_choice = get_computer_choice()\n",
    "    \n",
    "    print(f\"\\nYou chose: {user_choice}\")\n",
    "    print(f\"Computer chose: {computer_choice}\")\n",
    "    \n",
    "    # Determine and display the winner\n",
    "    result = determine_winner(user_choice, computer_choice)\n",
    "    print(result)\n",
    "\n",
    "if __name__ == \"__main__\":\n",
    "    main()\n"
   ]
  },
  {
   "cell_type": "code",
   "execution_count": null,
   "id": "94e2e3f4-8e23-4505-a951-6803c32d7a85",
   "metadata": {},
   "outputs": [],
   "source": [
    "23. Develop a program that generates a random password based on user preferences (length, complexity)."
   ]
  },
  {
   "cell_type": "code",
   "execution_count": 82,
   "id": "1b933269-0394-449c-9d2a-ee855a9717cb",
   "metadata": {},
   "outputs": [
    {
     "name": "stdout",
     "output_type": "stream",
     "text": [
      "Password Generator\n"
     ]
    },
    {
     "name": "stdin",
     "output_type": "stream",
     "text": [
      "Enter the desired password length:  7\n",
      "Include uppercase letters? (yes/no):  5\n",
      "Include numbers? (yes/no):  4\n",
      "Include symbols? (yes/no):  5\n"
     ]
    },
    {
     "name": "stdout",
     "output_type": "stream",
     "text": [
      "Your generated password is: bjdqefs\n"
     ]
    }
   ],
   "source": [
    "import random\n",
    "import string\n",
    "\n",
    "def generate_password(length, include_uppercase, include_numbers, include_symbols):\n",
    "    # Base characters (lowercase letters)\n",
    "    characters = string.ascii_lowercase\n",
    "    \n",
    "    # Add uppercase letters if required\n",
    "    if include_uppercase:\n",
    "        characters += string.ascii_uppercase\n",
    "    \n",
    "    # Add numbers if required\n",
    "    if include_numbers:\n",
    "        characters += string.digits\n",
    "    \n",
    "    # Add symbols if required\n",
    "    if include_symbols:\n",
    "        characters += string.punctuation\n",
    "    \n",
    "    # Ensure that we have characters to choose from\n",
    "    if not characters:\n",
    "        raise ValueError(\"No character sets selected. Cannot generate password.\")\n",
    "    \n",
    "    # Generate password by randomly selecting characters\n",
    "    password = ''.join(random.choice(characters) for _ in range(length))\n",
    "    return password\n",
    "\n",
    "def main():\n",
    "    print(\"Password Generator\")\n",
    "    \n",
    "    try:\n",
    "        # Ask the user for password preferences\n",
    "        length = int(input(\"Enter the desired password length: \"))\n",
    "        if length <= 0:\n",
    "            raise ValueError(\"Password length must be greater than zero.\")\n",
    "        \n",
    "        include_uppercase = input(\"Include uppercase letters? (yes/no): \").strip().lower() == 'yes'\n",
    "        include_numbers = input(\"Include numbers? (yes/no): \").strip().lower() == 'yes'\n",
    "        include_symbols = input(\"Include symbols? (yes/no): \").strip().lower() == 'yes'\n",
    "        \n",
    "        # Generate the password\n",
    "        password = generate_password(length, include_uppercase, include_numbers, include_symbols)\n",
    "        \n",
    "        # Display the generated password\n",
    "        print(f\"Your generated password is: {password}\")\n",
    "    \n",
    "    except ValueError as e:\n",
    "        print(f\"Error: {e}\")\n",
    "\n",
    "if __name__ == \"__main__\":\n",
    "    main()\n"
   ]
  },
  {
   "cell_type": "code",
   "execution_count": null,
   "id": "32182a6d-02c9-4268-a085-c623baef734f",
   "metadata": {},
   "outputs": [],
   "source": [
    "24. Create a program that implements a simple text-based adventure game with branching scenarios."
   ]
  },
  {
   "cell_type": "code",
   "execution_count": 83,
   "id": "49cadafb-9ca4-48f2-8dcf-01ad8ace5b2a",
   "metadata": {},
   "outputs": [
    {
     "name": "stdout",
     "output_type": "stream",
     "text": [
      "Welcome to the Adventure Game!\n",
      "You find yourself standing at the entrance of a dark forest.\n",
      "Rumors say there's treasure hidden deep inside, but danger lurks within.\n",
      "Do you dare to enter?\n"
     ]
    },
    {
     "name": "stdin",
     "output_type": "stream",
     "text": [
      "Do you want to enter the forest? (yes/no):  yes\n"
     ]
    },
    {
     "name": "stdout",
     "output_type": "stream",
     "text": [
      "\n",
      "You take your first steps into the forest. The trees are dense, and you can barely see the sky.\n",
      "After walking for a while, you come to a fork in the path.\n"
     ]
    },
    {
     "name": "stdin",
     "output_type": "stream",
     "text": [
      "Do you want to go left or right? (left/right):  left\n"
     ]
    },
    {
     "name": "stdout",
     "output_type": "stream",
     "text": [
      "\n",
      "You walk down the left path and come across a dark cave.\n",
      "You can hear strange noises coming from inside.\n"
     ]
    },
    {
     "name": "stdin",
     "output_type": "stream",
     "text": [
      "Do you want to enter the cave or continue walking? (enter/continue):  enter\n"
     ]
    },
    {
     "name": "stdout",
     "output_type": "stream",
     "text": [
      "\n",
      "You cautiously step into the cave. Suddenly, you see a glowing chest!\n"
     ]
    },
    {
     "name": "stdin",
     "output_type": "stream",
     "text": [
      "Do you want to open the chest or leave the cave? (open/leave):  open\n"
     ]
    },
    {
     "name": "stdout",
     "output_type": "stream",
     "text": [
      "\n",
      "You open the chest and find a pile of gold! You've found the treasure!\n",
      "Congratulations, you've won the game!\n"
     ]
    }
   ],
   "source": [
    "def intro():\n",
    "    print(\"Welcome to the Adventure Game!\")\n",
    "    print(\"You find yourself standing at the entrance of a dark forest.\")\n",
    "    print(\"Rumors say there's treasure hidden deep inside, but danger lurks within.\")\n",
    "    print(\"Do you dare to enter?\")\n",
    "\n",
    "def forest_path():\n",
    "    print(\"\\nYou take your first steps into the forest. The trees are dense, and you can barely see the sky.\")\n",
    "    print(\"After walking for a while, you come to a fork in the path.\")\n",
    "    choice = input(\"Do you want to go left or right? (left/right): \").lower()\n",
    "    \n",
    "    if choice == 'left':\n",
    "        cave_scene()\n",
    "    elif choice == 'right':\n",
    "        river_scene()\n",
    "    else:\n",
    "        print(\"Invalid choice. Try again.\")\n",
    "        forest_path()\n",
    "\n",
    "def cave_scene():\n",
    "    print(\"\\nYou walk down the left path and come across a dark cave.\")\n",
    "    print(\"You can hear strange noises coming from inside.\")\n",
    "    choice = input(\"Do you want to enter the cave or continue walking? (enter/continue): \").lower()\n",
    "    \n",
    "    if choice == 'enter':\n",
    "        print(\"\\nYou cautiously step into the cave. Suddenly, you see a glowing chest!\")\n",
    "        choice = input(\"Do you want to open the chest or leave the cave? (open/leave): \").lower()\n",
    "        \n",
    "        if choice == 'open':\n",
    "            print(\"\\nYou open the chest and find a pile of gold! You've found the treasure!\")\n",
    "            print(\"Congratulations, you've won the game!\")\n",
    "        elif choice == 'leave':\n",
    "            print(\"\\nYou decide it's safer to leave the cave. Unfortunately, you missed the treasure.\")\n",
    "            print(\"You head back home, but you feel a little disappointed.\")\n",
    "            print(\"Game over.\")\n",
    "        else:\n",
    "            print(\"Invalid choice. Try again.\")\n",
    "            cave_scene()\n",
    "    \n",
    "    elif choice == 'continue':\n",
    "        print(\"\\nYou continue walking and eventually find yourself back at the entrance of the forest.\")\n",
    "        print(\"You decide to head home, empty-handed but safe.\")\n",
    "        print(\"Game over.\")\n",
    "    else:\n",
    "        print(\"Invalid choice. Try again.\")\n",
    "        cave_scene()\n",
    "\n",
    "def river_scene():\n",
    "    print(\"\\nYou walk down the right path and hear the sound of rushing water.\")\n",
    "    print(\"You come to a wide river with a fast current.\")\n",
    "    choice = input(\"Do you want to swim across or build a raft? (swim/raft): \").lower()\n",
    "    \n",
    "    if choice == 'swim':\n",
    "        print(\"\\nYou bravely dive into the water and start swimming.\")\n",
    "        print(\"The current is stronger than you expected. You struggle to keep up, and eventually, you're swept away.\")\n",
    "        print(\"Unfortunately, you didn't make it. Game over.\")\n",
    "    \n",
    "    elif choice == 'raft':\n",
    "        print(\"\\nYou gather some logs and vines to build a sturdy raft.\")\n",
    "        print(\"You manage to cross the river safely and continue your journey.\")\n",
    "        print(\"On the other side, you find a small hut with an old man inside. He tells you where the treasure is hidden!\")\n",
    "        print(\"Congratulations, you've found the treasure with the old man's help!\")\n",
    "        print(\"You've won the game!\")\n",
    "    \n",
    "    else:\n",
    "        print(\"Invalid choice. Try again.\")\n",
    "        river_scene()\n",
    "\n",
    "def main():\n",
    "    intro()\n",
    "    choice = input(\"Do you want to enter the forest? (yes/no): \").lower()\n",
    "    \n",
    "    if choice == 'yes':\n",
    "        forest_path()\n",
    "    elif choice == 'no':\n",
    "        print(\"\\nYou decide it's too risky and head back home. Maybe next time!\")\n",
    "        print(\"Game over.\")\n",
    "    else:\n",
    "        print(\"Invalid choice. Try again.\")\n",
    "        main()\n",
    "\n",
    "if __name__ == \"__main__\":\n",
    "    main()\n"
   ]
  },
  {
   "cell_type": "code",
   "execution_count": null,
   "id": "d7a409b9-2e5d-4c2a-9d66-c6bb75365060",
   "metadata": {},
   "outputs": [],
   "source": [
    "25. Build a program that solves a linear equation for x, considering different cases."
   ]
  },
  {
   "cell_type": "code",
   "execution_count": 84,
   "id": "b259b24c-53be-4193-8fdd-0fd60a8d06ff",
   "metadata": {},
   "outputs": [
    {
     "name": "stdout",
     "output_type": "stream",
     "text": [
      "Linear Equation Solver\n",
      "Solve the equation of the form: ax + b = c\n"
     ]
    },
    {
     "name": "stdin",
     "output_type": "stream",
     "text": [
      "Enter coefficient a:  4\n",
      "Enter coefficient b:  5\n",
      "Enter constant c:  6\n"
     ]
    },
    {
     "name": "stdout",
     "output_type": "stream",
     "text": [
      "The solution is x = 0.25\n"
     ]
    }
   ],
   "source": [
    "def solve_linear_equation(a, b, c):\n",
    "    if a == 0:\n",
    "        if b == c:\n",
    "            return \"The equation has infinitely many solutions.\"\n",
    "        else:\n",
    "            return \"The equation has no solution.\"\n",
    "    else:\n",
    "        # Solve for x\n",
    "        x = (c - b) / a\n",
    "        return f\"The solution is x = {x:.2f}\"\n",
    "\n",
    "def main():\n",
    "    print(\"Linear Equation Solver\")\n",
    "    print(\"Solve the equation of the form: ax + b = c\")\n",
    "    \n",
    "    try:\n",
    "        # Input coefficients a, b, and c from the user\n",
    "        a = float(input(\"Enter coefficient a: \"))\n",
    "        b = float(input(\"Enter coefficient b: \"))\n",
    "        c = float(input(\"Enter constant c: \"))\n",
    "        \n",
    "        # Solve the linear equation\n",
    "        result = solve_linear_equation(a, b, c)\n",
    "        \n",
    "        # Print the result\n",
    "        print(result)\n",
    "    \n",
    "    except ValueError:\n",
    "        print(\"Invalid input. Please enter valid numerical coefficients.\")\n",
    "\n",
    "if __name__ == \"__main__\":\n",
    "    main()\n"
   ]
  },
  {
   "cell_type": "code",
   "execution_count": null,
   "id": "4ca4b1d4-568b-43ce-a894-2fb88331d4e5",
   "metadata": {},
   "outputs": [],
   "source": [
    "26. Write a program that simulates a basic quiz game with multiple-choice questions and scoring."
   ]
  },
  {
   "cell_type": "code",
   "execution_count": 85,
   "id": "fa523e41-1e1f-4dd9-9a7f-5f93ce05c29d",
   "metadata": {},
   "outputs": [
    {
     "name": "stdout",
     "output_type": "stream",
     "text": [
      "Welcome to the Quiz Game!\n",
      "What is the capital of France?\n",
      "1. Berlin\n",
      "2. Madrid\n",
      "3. Paris\n",
      "4. Rome\n"
     ]
    },
    {
     "name": "stdin",
     "output_type": "stream",
     "text": [
      "Enter the number of your choice:  1\n"
     ]
    },
    {
     "name": "stdout",
     "output_type": "stream",
     "text": [
      "Wrong!\n",
      "Which planet is known as the Red Planet?\n",
      "1. Earth\n",
      "2. Mars\n",
      "3. Jupiter\n",
      "4. Saturn\n"
     ]
    },
    {
     "name": "stdin",
     "output_type": "stream",
     "text": [
      "Enter the number of your choice:  2\n"
     ]
    },
    {
     "name": "stdout",
     "output_type": "stream",
     "text": [
      "Correct!\n",
      "What is the chemical symbol for gold?\n",
      "1. Au\n",
      "2. Ag\n",
      "3. Pb\n",
      "4. Fe\n"
     ]
    },
    {
     "name": "stdin",
     "output_type": "stream",
     "text": [
      "Enter the number of your choice:  1\n"
     ]
    },
    {
     "name": "stdout",
     "output_type": "stream",
     "text": [
      "Correct!\n",
      "\n",
      "Your final score is: 2/3\n",
      "Thank you for playing!\n"
     ]
    }
   ],
   "source": [
    "\n",
    "def ask_question(question, choices, correct_choice):\n",
    "    \"\"\"\n",
    "    Asks a multiple-choice question to the user and returns True if the answer is correct, False otherwise.\n",
    "    \n",
    "    :param question: The question to ask\n",
    "    :param choices: List of choices (should be in format [choice1, choice2, ..., choiceN])\n",
    "    :param correct_choice: The index (0-based) of the correct choice in the choices list\n",
    "    :return: True if the answer is correct, False otherwise\n",
    "    \"\"\"\n",
    "    print(question)\n",
    "    for index, choice in enumerate(choices, start=1):\n",
    "        print(f\"{index}. {choice}\")\n",
    "\n",
    "    try:\n",
    "        answer = int(input(\"Enter the number of your choice: \"))\n",
    "        if 1 <= answer <= len(choices):\n",
    "            is_correct = (answer - 1) == correct_choice\n",
    "            if is_correct:\n",
    "                print(\"Correct!\")\n",
    "            else:\n",
    "                print(\"Wrong!\")\n",
    "            return is_correct\n",
    "        else:\n",
    "            print(\"Invalid choice. Please enter a number corresponding to the choices.\")\n",
    "            return False\n",
    "    except ValueError:\n",
    "        print(\"Invalid input. Please enter a number.\")\n",
    "        return False\n",
    "\n",
    "def main():\n",
    "    questions = [\n",
    "        {\n",
    "            \"question\": \"What is the capital of France?\",\n",
    "            \"choices\": [\"Berlin\", \"Madrid\", \"Paris\", \"Rome\"],\n",
    "            \"correct_choice\": 2  # Paris is the correct answer\n",
    "        },\n",
    "        {\n",
    "            \"question\": \"Which planet is known as the Red Planet?\",\n",
    "            \"choices\": [\"Earth\", \"Mars\", \"Jupiter\", \"Saturn\"],\n",
    "            \"correct_choice\": 1  # Mars is the correct answer\n",
    "        },\n",
    "        {\n",
    "            \"question\": \"What is the chemical symbol for gold?\",\n",
    "            \"choices\": [\"Au\", \"Ag\", \"Pb\", \"Fe\"],\n",
    "            \"correct_choice\": 0  # Au is the correct answer\n",
    "        }\n",
    "    ]\n",
    "    \n",
    "    score = 0\n",
    "    \n",
    "    print(\"Welcome to the Quiz Game!\")\n",
    "    \n",
    "    for q in questions:\n",
    "        if ask_question(q[\"question\"], q[\"choices\"], q[\"correct_choice\"]):\n",
    "            score += 1\n",
    "    \n",
    "    print(f\"\\nYour final score is: {score}/{len(questions)}\")\n",
    "    print(\"Thank you for playing!\")\n",
    "\n",
    "if __name__ == \"__main__\":\n",
    "    main()\n"
   ]
  },
  {
   "cell_type": "code",
   "execution_count": null,
   "id": "9146f842-39b7-4140-a0b2-8a0356c1e506",
   "metadata": {},
   "outputs": [],
   "source": [
    "27. Develop a program that determines whether a given year is a prime number or not."
   ]
  },
  {
   "cell_type": "code",
   "execution_count": 86,
   "id": "27e09aee-2980-439a-b188-c6759ab890f0",
   "metadata": {},
   "outputs": [
    {
     "name": "stdout",
     "output_type": "stream",
     "text": [
      "Prime Year Checker\n"
     ]
    },
    {
     "name": "stdin",
     "output_type": "stream",
     "text": [
      "Enter a year:  2023\n"
     ]
    },
    {
     "name": "stdout",
     "output_type": "stream",
     "text": [
      "2023 is not a prime number.\n"
     ]
    }
   ],
   "source": [
    "def is_prime(number):\n",
    "    \"\"\"\n",
    "    Determines if a number is a prime number.\n",
    "    \n",
    "    :param number: The number to check\n",
    "    :return: True if the number is prime, False otherwise\n",
    "    \"\"\"\n",
    "    if number <= 1:\n",
    "        return False\n",
    "    if number <= 3:\n",
    "        return True\n",
    "    if number % 2 == 0 or number % 3 == 0:\n",
    "        return False\n",
    "    \n",
    "    i = 5\n",
    "    while i * i <= number:\n",
    "        if number % i == 0 or number % (i + 2) == 0:\n",
    "            return False\n",
    "        i += 6\n",
    "    \n",
    "    return True\n",
    "\n",
    "def main():\n",
    "    print(\"Prime Year Checker\")\n",
    "    \n",
    "    try:\n",
    "        year = int(input(\"Enter a year: \"))\n",
    "        \n",
    "        if is_prime(year):\n",
    "            print(f\"{year} is a prime number.\")\n",
    "        else:\n",
    "            print(f\"{year} is not a prime number.\")\n",
    "    \n",
    "    except ValueError:\n",
    "        print(\"Invalid input. Please enter a valid year.\")\n",
    "\n",
    "if __name__ == \"__main__\":\n",
    "    main()\n"
   ]
  },
  {
   "cell_type": "code",
   "execution_count": null,
   "id": "566ccca4-b83a-4495-b24e-152974bcb477",
   "metadata": {},
   "outputs": [],
   "source": [
    "28. Create a program that sorts three numbers in ascending order using conditional statements."
   ]
  },
  {
   "cell_type": "code",
   "execution_count": 87,
   "id": "5fbb07bd-9c81-437f-9a7e-3f56e0d2c5b4",
   "metadata": {},
   "outputs": [
    {
     "name": "stdout",
     "output_type": "stream",
     "text": [
      "Sorting Three Numbers\n"
     ]
    },
    {
     "name": "stdin",
     "output_type": "stream",
     "text": [
      "Enter the first number:  855\n",
      "Enter the second number:  5\n",
      "Enter the third number:  555555555555\n"
     ]
    },
    {
     "name": "stdout",
     "output_type": "stream",
     "text": [
      "The numbers in ascending order are: (5.0, 855.0, 555555555555.0)\n"
     ]
    }
   ],
   "source": [
    "def sort_three_numbers(a, b, c):\n",
    "    \"\"\"\n",
    "    Sorts three numbers in ascending order using conditional statements.\n",
    "    \n",
    "    :param a: First number\n",
    "    :param b: Second number\n",
    "    :param c: Third number\n",
    "    :return: A tuple containing the numbers in ascending order\n",
    "    \"\"\"\n",
    "    if a > b:\n",
    "        a, b = b, a\n",
    "    if a > c:\n",
    "        a, c = c, a\n",
    "    if b > c:\n",
    "        b, c = c, b\n",
    "    \n",
    "    return a, b, c\n",
    "\n",
    "def main():\n",
    "    print(\"Sorting Three Numbers\")\n",
    "    \n",
    "    try:\n",
    "        # Input three numbers from the user\n",
    "        a = float(input(\"Enter the first number: \"))\n",
    "        b = float(input(\"Enter the second number: \"))\n",
    "        c = float(input(\"Enter the third number: \"))\n",
    "        \n",
    "        # Sort the numbers\n",
    "        sorted_numbers = sort_three_numbers(a, b, c)\n",
    "        \n",
    "        # Print the sorted numbers\n",
    "        print(f\"The numbers in ascending order are: {sorted_numbers}\")\n",
    "    \n",
    "    except ValueError:\n",
    "        print(\"Invalid input. Please enter valid numbers.\")\n",
    "\n",
    "if __name__ == \"__main__\":\n",
    "    main()\n"
   ]
  },
  {
   "cell_type": "code",
   "execution_count": null,
   "id": "213c47c0-4b29-47ae-9c96-e9dd5c18d8ab",
   "metadata": {},
   "outputs": [],
   "source": [
    "29. Build a program that determines the roots of a quartic equation using numerical methods."
   ]
  },
  {
   "cell_type": "code",
   "execution_count": 89,
   "id": "bbc5a824-9907-40e2-a42e-40c49da0f5ee",
   "metadata": {},
   "outputs": [
    {
     "name": "stdout",
     "output_type": "stream",
     "text": [
      "Quartic Equation Root Finder\n",
      "Solving the equation ax^4 + bx^3 + cx^2 + dx + e = 0\n"
     ]
    },
    {
     "name": "stdin",
     "output_type": "stream",
     "text": [
      "Enter coefficient a:  4\n",
      "Enter coefficient b:  5\n",
      "Enter coefficient c:  2\n",
      "Enter coefficient d:  8\n",
      "Enter coefficient e:  4\n"
     ]
    },
    {
     "name": "stdout",
     "output_type": "stream",
     "text": [
      "The approximate roots are: [-1.5067649852533935, -0.5161475192468319]\n"
     ]
    }
   ],
   "source": [
    "import numpy as np\n",
    "\n",
    "def f(x, coefficients):\n",
    "    \"\"\"\n",
    "    Evaluate the quartic polynomial and its derivative at x.\n",
    "    \n",
    "    :param x: The point at which to evaluate the polynomial\n",
    "    :param coefficients: List of polynomial coefficients [a, b, c, d, e]\n",
    "    :return: The value of the polynomial and its derivative at x\n",
    "    \"\"\"\n",
    "    a, b, c, d, e = coefficients\n",
    "    fx = a*x**4 + b*x**3 + c*x**2 + d*x + e\n",
    "    dfx = 4*a*x**3 + 3*b*x**2 + 2*c*x + d\n",
    "    return fx, dfx\n",
    "\n",
    "def newton_raphson(coefficients, x0, tol=1e-6, max_iter=1000):\n",
    "    \"\"\"\n",
    "    Find the root of the polynomial using Newton-Raphson method.\n",
    "    \n",
    "    :param coefficients: List of polynomial coefficients [a, b, c, d, e]\n",
    "    :param x0: Initial guess for the root\n",
    "    :param tol: Tolerance for convergence\n",
    "    :param max_iter: Maximum number of iterations\n",
    "    :return: Approximate root\n",
    "    \"\"\"\n",
    "    x = x0\n",
    "    for _ in range(max_iter):\n",
    "        fx, dfx = f(x, coefficients)\n",
    "        if dfx == 0:\n",
    "            print(\"Zero derivative. No solution found.\")\n",
    "            return None\n",
    "        x_new = x - fx / dfx\n",
    "        if abs(x_new - x) < tol:\n",
    "            return x_new\n",
    "        x = x_new\n",
    "    print(\"Maximum iterations reached. No solution found.\")\n",
    "    return None\n",
    "\n",
    "def find_roots(coefficients):\n",
    "    \"\"\"\n",
    "    Find up to 4 roots of a quartic polynomial using numerical methods.\n",
    "    \n",
    "    :param coefficients: List of polynomial coefficients [a, b, c, d, e]\n",
    "    :return: List of roots\n",
    "    \"\"\"\n",
    "    roots = []\n",
    "    guesses = np.linspace(-10, 10, 10)  # Initial guesses\n",
    "    for guess in guesses:\n",
    "        root = newton_raphson(coefficients, guess)\n",
    "        if root is not None and all(np.isclose(root, r) == False for r in roots):\n",
    "            roots.append(root)\n",
    "    return roots\n",
    "\n",
    "def main():\n",
    "    print(\"Quartic Equation Root Finder\")\n",
    "    print(\"Solving the equation ax^4 + bx^3 + cx^2 + dx + e = 0\")\n",
    "    \n",
    "    try:\n",
    "        # Input coefficients of the quartic equation\n",
    "        coefficients = [float(input(f\"Enter coefficient {var}: \")) for var in 'abcde']\n",
    "        \n",
    "        # Find the roots\n",
    "        roots = find_roots(coefficients)\n",
    "        \n",
    "        # Print the roots\n",
    "        if roots:\n",
    "            print(f\"The approximate roots are: {roots}\")\n",
    "        else:\n",
    "            print(\"No roots found.\")\n",
    "    \n",
    "    except ValueError:\n",
    "        print(\"Invalid input. Please enter valid numerical coefficients.\")\n",
    "\n",
    "if __name__ == \"__main__\":\n",
    "    main()\n"
   ]
  },
  {
   "cell_type": "code",
   "execution_count": null,
   "id": "8fba0680-5ce5-4760-b59a-c2c7e4145cbe",
   "metadata": {},
   "outputs": [],
   "source": [
    "30. Write a program that calculates the BMI (Body Mass Index) and provides health recommendations based\n",
    "on the user's input."
   ]
  },
  {
   "cell_type": "code",
   "execution_count": 91,
   "id": "2167808b-55de-427d-a12c-ca0ebbf8a3bc",
   "metadata": {},
   "outputs": [
    {
     "name": "stdout",
     "output_type": "stream",
     "text": [
      "BMI Calculator\n"
     ]
    },
    {
     "name": "stdin",
     "output_type": "stream",
     "text": [
      "Enter your weight in kilograms:  70\n",
      "Enter your height in meters:  1.7\n"
     ]
    },
    {
     "name": "stdout",
     "output_type": "stream",
     "text": [
      "Your BMI is: 24.22\n",
      "Category: Normal weight\n",
      "Recommendation: Maintain a balanced diet and regular exercise.\n"
     ]
    }
   ],
   "source": [
    "def calculate_bmi(weight, height):\n",
    "    \"\"\"\n",
    "    Calculate BMI based on weight and height.\n",
    "    \n",
    "    :param weight: Weight in kilograms\n",
    "    :param height: Height in meters\n",
    "    :return: The calculated BMI\n",
    "    \"\"\"\n",
    "    return weight / (height ** 2)\n",
    "\n",
    "def get_bmi_category(bmi):\n",
    "    \"\"\"\n",
    "    Determine BMI category and provide health recommendations.\n",
    "    \n",
    "    :param bmi: The calculated BMI\n",
    "    :return: A tuple containing the BMI category and health recommendation\n",
    "    \"\"\"\n",
    "    if bmi < 18.5:\n",
    "        return \"Underweight\", \"You should consider increasing your calorie intake with a balanced diet.\"\n",
    "    elif 18.5 <= bmi < 24.9:\n",
    "        return \"Normal weight\", \"Maintain a balanced diet and regular exercise.\"\n",
    "    elif 25 <= bmi < 29.9:\n",
    "        return \"Overweight\", \"Consider a balanced diet and increased physical activity.\"\n",
    "    else:\n",
    "        return \"Obese\", \"Consult with a healthcare provider for a personalized health plan.\"\n",
    "\n",
    "def main():\n",
    "    print(\"BMI Calculator\")\n",
    "    \n",
    "    try:\n",
    "        # Input weight and height from the user\n",
    "        weight = float(input(\"Enter your weight in kilograms: \"))\n",
    "        height = float(input(\"Enter your height in meters: \"))\n",
    "        \n",
    "        # Calculate BMI\n",
    "        bmi = calculate_bmi(weight, height)\n",
    "        \n",
    "        # Get BMI category and recommendation\n",
    "        category, recommendation = get_bmi_category(bmi)\n",
    "        \n",
    "        # Print results\n",
    "        print(f\"Your BMI is: {bmi:.2f}\")\n",
    "        print(f\"Category: {category}\")\n",
    "        print(f\"Recommendation: {recommendation}\")\n",
    "    \n",
    "    except ValueError:\n",
    "        print(\"Invalid input. Please enter valid numerical values for weight and height.\")\n",
    "\n",
    "if __name__ == \"__main__\":\n",
    "    main()\n"
   ]
  },
  {
   "cell_type": "code",
   "execution_count": null,
   "id": "1bf2bb41-3f5e-4ce6-afcf-d2a059aa0fcf",
   "metadata": {},
   "outputs": [],
   "source": [
    "31. Create a program that validates a password based on complexity rules (length, characters, etc.)."
   ]
  },
  {
   "cell_type": "code",
   "execution_count": 93,
   "id": "654545a7-b7a6-44f4-9c7e-e4802a79b64a",
   "metadata": {},
   "outputs": [
    {
     "name": "stdout",
     "output_type": "stream",
     "text": [
      "Password Validator\n"
     ]
    },
    {
     "name": "stdin",
     "output_type": "stream",
     "text": [
      "Enter your password:  8558dkjdskds\n"
     ]
    },
    {
     "name": "stdout",
     "output_type": "stream",
     "text": [
      "Password must contain at least one uppercase letter.\n"
     ]
    }
   ],
   "source": [
    "import re\n",
    "\n",
    "def validate_password(password):\n",
    "    \"\"\"\n",
    "    Validate the password based on complexity rules.\n",
    "    \n",
    "    :param password: The password to validate\n",
    "    :return: A tuple containing a boolean indicating if the password is valid and a message\n",
    "    \"\"\"\n",
    "    # Define complexity rules\n",
    "    min_length = 8\n",
    "    max_length = 20\n",
    "    has_upper = re.search(r'[A-Z]', password)\n",
    "    has_lower = re.search(r'[a-z]', password)\n",
    "    has_digit = re.search(r'\\d', password)\n",
    "    has_special = re.search(r'[!@#$%^&*(),.?\":{}|<>]', password)\n",
    "    \n",
    "    if len(password) < min_length:\n",
    "        return False, f\"Password must be at least {min_length} characters long.\"\n",
    "    if len(password) > max_length:\n",
    "        return False, f\"Password must not exceed {max_length} characters.\"\n",
    "    if not has_upper:\n",
    "        return False, \"Password must contain at least one uppercase letter.\"\n",
    "    if not has_lower:\n",
    "        return False, \"Password must contain at least one lowercase letter.\"\n",
    "    if not has_digit:\n",
    "        return False, \"Password must contain at least one digit.\"\n",
    "    if not has_special:\n",
    "        return False, \"Password must contain at least one special character.\"\n",
    "    \n",
    "    return True, \"Password is valid.\"\n",
    "\n",
    "def main():\n",
    "    print(\"Password Validator\")\n",
    "    \n",
    "    password = input(\"Enter your password: \")\n",
    "    \n",
    "    is_valid, message = validate_password(password)\n",
    "    \n",
    "    print(message)\n",
    "\n",
    "if __name__ == \"__main__\":\n",
    "    main()\n"
   ]
  },
  {
   "cell_type": "code",
   "execution_count": null,
   "id": "d8047133-91d2-43aa-9ba5-7d24c0003ba0",
   "metadata": {},
   "outputs": [],
   "source": [
    "32. Develop a program that performs matrix addition and subtraction based on user input."
   ]
  },
  {
   "cell_type": "code",
   "execution_count": 94,
   "id": "3227616f-db0d-4c4d-8f3c-8cf8683e23dd",
   "metadata": {},
   "outputs": [
    {
     "name": "stdout",
     "output_type": "stream",
     "text": [
      "Matrix Addition and Subtraction\n"
     ]
    },
    {
     "name": "stdin",
     "output_type": "stream",
     "text": [
      "Enter the number of rows:  4\n",
      "Enter the number of columns:  5\n"
     ]
    },
    {
     "name": "stdout",
     "output_type": "stream",
     "text": [
      "Matrix 1:\n",
      "Enter the elements of the 4x5 matrix, row by row:\n"
     ]
    },
    {
     "name": "stdin",
     "output_type": "stream",
     "text": [
      "Row 1:  5\n",
      "Row 2:  2\n",
      "Row 3:  5\n",
      "Row 4:  3\n"
     ]
    },
    {
     "name": "stdout",
     "output_type": "stream",
     "text": [
      "Matrix 2:\n",
      "Enter the elements of the 4x5 matrix, row by row:\n"
     ]
    },
    {
     "name": "stdin",
     "output_type": "stream",
     "text": [
      "Row 1:  95\n",
      "Row 2:  2\n",
      "Row 3:  4\n",
      "Row 4:  8\n"
     ]
    },
    {
     "name": "stdout",
     "output_type": "stream",
     "text": [
      "\n",
      "Matrix 1:\n",
      "5.00\n",
      "2.00\n",
      "5.00\n",
      "3.00\n",
      "\n",
      "Matrix 2:\n",
      "95.00\n",
      "2.00\n",
      "4.00\n",
      "8.00\n",
      "\n",
      "Matrix Addition Result:\n",
      "100.00\n",
      "4.00\n",
      "9.00\n",
      "11.00\n",
      "\n",
      "Matrix Subtraction Result:\n",
      "-90.00\n",
      "0.00\n",
      "1.00\n",
      "-5.00\n"
     ]
    }
   ],
   "source": [
    "def input_matrix(rows, cols):\n",
    "    \"\"\"\n",
    "    Input a matrix from the user.\n",
    "    \n",
    "    :param rows: Number of rows in the matrix\n",
    "    :param cols: Number of columns in the matrix\n",
    "    :return: The matrix entered by the user\n",
    "    \"\"\"\n",
    "    matrix = []\n",
    "    print(f\"Enter the elements of the {rows}x{cols} matrix, row by row:\")\n",
    "    for i in range(rows):\n",
    "        row = input(f\"Row {i + 1}: \").split()\n",
    "        matrix.append([float(x) for x in row])\n",
    "    return matrix\n",
    "\n",
    "def print_matrix(matrix):\n",
    "    \"\"\"\n",
    "    Print a matrix.\n",
    "    \n",
    "    :param matrix: The matrix to print\n",
    "    \"\"\"\n",
    "    for row in matrix:\n",
    "        print(\" \".join(f\"{x:.2f}\" for x in row))\n",
    "\n",
    "def add_matrices(matrix1, matrix2):\n",
    "    \"\"\"\n",
    "    Add two matrices.\n",
    "    \n",
    "    :param matrix1: First matrix\n",
    "    :param matrix2: Second matrix\n",
    "    :return: The resulting matrix after addition\n",
    "    \"\"\"\n",
    "    rows = len(matrix1)\n",
    "    cols = len(matrix1[0])\n",
    "    result = [[matrix1[i][j] + matrix2[i][j] for j in range(cols)] for i in range(rows)]\n",
    "    return result\n",
    "\n",
    "def subtract_matrices(matrix1, matrix2):\n",
    "    \"\"\"\n",
    "    Subtract the second matrix from the first matrix.\n",
    "    \n",
    "    :param matrix1: First matrix\n",
    "    :param matrix2: Second matrix\n",
    "    :return: The resulting matrix after subtraction\n",
    "    \"\"\"\n",
    "    rows = len(matrix1)\n",
    "    cols = len(matrix1[0])\n",
    "    result = [[matrix1[i][j] - matrix2[i][j] for j in range(cols)] for i in range(rows)]\n",
    "    return result\n",
    "\n",
    "def main():\n",
    "    print(\"Matrix Addition and Subtraction\")\n",
    "    \n",
    "    try:\n",
    "        # Input dimensions for the matrices\n",
    "        rows = int(input(\"Enter the number of rows: \"))\n",
    "        cols = int(input(\"Enter the number of columns: \"))\n",
    "        \n",
    "        print(\"Matrix 1:\")\n",
    "        matrix1 = input_matrix(rows, cols)\n",
    "        \n",
    "        print(\"Matrix 2:\")\n",
    "        matrix2 = input_matrix(rows, cols)\n",
    "        \n",
    "        print(\"\\nMatrix 1:\")\n",
    "        print_matrix(matrix1)\n",
    "        \n",
    "        print(\"\\nMatrix 2:\")\n",
    "        print_matrix(matrix2)\n",
    "        \n",
    "        # Perform matrix addition and subtraction\n",
    "        matrix_sum = add_matrices(matrix1, matrix2)\n",
    "        matrix_diff = subtract_matrices(matrix1, matrix2)\n",
    "        \n",
    "        print(\"\\nMatrix Addition Result:\")\n",
    "        print_matrix(matrix_sum)\n",
    "        \n",
    "        print(\"\\nMatrix Subtraction Result:\")\n",
    "        print_matrix(matrix_diff)\n",
    "    \n",
    "    except ValueError:\n",
    "        print(\"Invalid input. Please enter numerical values for matrix elements.\")\n",
    "    except IndexError:\n",
    "        print(\"Error: Matrix dimensions do not match.\")\n",
    "\n",
    "if __name__ == \"__main__\":\n",
    "    main()\n"
   ]
  },
  {
   "cell_type": "code",
   "execution_count": null,
   "id": "01ddc6c9-09fe-42f5-b348-e84b7406fecd",
   "metadata": {},
   "outputs": [],
   "source": [
    "33. Write a program that calculates the greatest common divisor (GCD) of two numbers using the Euclidean\n",
    "algorithm."
   ]
  },
  {
   "cell_type": "code",
   "execution_count": 95,
   "id": "4b442bcf-606f-4d31-ad92-10909f473496",
   "metadata": {},
   "outputs": [
    {
     "name": "stdout",
     "output_type": "stream",
     "text": [
      "GCD Calculator\n"
     ]
    },
    {
     "name": "stdin",
     "output_type": "stream",
     "text": [
      "Enter the first number:  8\n",
      "Enter the second number:  5\n"
     ]
    },
    {
     "name": "stdout",
     "output_type": "stream",
     "text": [
      "The GCD of 8 and 5 is: 1\n"
     ]
    }
   ],
   "source": [
    "def gcd(a, b):\n",
    "    \"\"\"\n",
    "    Calculate the Greatest Common Divisor (GCD) of two numbers using the Euclidean algorithm.\n",
    "    \n",
    "    :param a: First number\n",
    "    :param b: Second number\n",
    "    :return: The GCD of the two numbers\n",
    "    \"\"\"\n",
    "    while b != 0:\n",
    "        a, b = b, a % b\n",
    "    return a\n",
    "\n",
    "def main():\n",
    "    print(\"GCD Calculator\")\n",
    "    \n",
    "    try:\n",
    "        # Input two numbers from the user\n",
    "        a = int(input(\"Enter the first number: \"))\n",
    "        b = int(input(\"Enter the second number: \"))\n",
    "        \n",
    "        # Calculate the GCD\n",
    "        result = gcd(a, b)\n",
    "        \n",
    "        # Print the result\n",
    "        print(f\"The GCD of {a} and {b} is: {result}\")\n",
    "    \n",
    "    except ValueError:\n",
    "        print(\"Invalid input. Please enter valid integers.\")\n",
    "\n",
    "if __name__ == \"__main__\":\n",
    "    main()\n"
   ]
  },
  {
   "cell_type": "code",
   "execution_count": null,
   "id": "29415491-3b58-4047-8f20-7b83daad0c3d",
   "metadata": {},
   "outputs": [],
   "source": [
    "34. Build a program that performs matrix multiplication using nested loops and conditional statements."
   ]
  },
  {
   "cell_type": "code",
   "execution_count": 97,
   "id": "95b6d242-64a2-49a6-a27b-e15fff7327ff",
   "metadata": {},
   "outputs": [
    {
     "name": "stdout",
     "output_type": "stream",
     "text": [
      "Matrix Multiplication\n"
     ]
    },
    {
     "name": "stdin",
     "output_type": "stream",
     "text": [
      "Enter the number of rows for the first matrix:  3\n",
      "Enter the number of columns for the first matrix:  554\n"
     ]
    },
    {
     "name": "stdout",
     "output_type": "stream",
     "text": [
      "Matrix 1:\n",
      "Enter the elements of the 3x554 matrix, row by row:\n"
     ]
    },
    {
     "name": "stdin",
     "output_type": "stream",
     "text": [
      "Row 1:  45\n",
      "Row 2:  54\n",
      "Row 3:  55\n",
      "Enter the number of rows for the second matrix:  2\n",
      "Enter the number of columns for the second matrix:  15\n"
     ]
    },
    {
     "name": "stdout",
     "output_type": "stream",
     "text": [
      "Matrix 2:\n",
      "Enter the elements of the 2x15 matrix, row by row:\n"
     ]
    },
    {
     "name": "stdin",
     "output_type": "stream",
     "text": [
      "Row 1:  55\n",
      "Row 2:  41\n"
     ]
    },
    {
     "name": "stdout",
     "output_type": "stream",
     "text": [
      "Error: Number of columns in the first matrix must equal number of rows in the second matrix.\n"
     ]
    }
   ],
   "source": [
    "def input_matrix(rows, cols):\n",
    "    \"\"\"\n",
    "    Input a matrix from the user.\n",
    "    \n",
    "    :param rows: Number of rows in the matrix\n",
    "    :param cols: Number of columns in the matrix\n",
    "    :return: The matrix entered by the user\n",
    "    \"\"\"\n",
    "    matrix = []\n",
    "    print(f\"Enter the elements of the {rows}x{cols} matrix, row by row:\")\n",
    "    for i in range(rows):\n",
    "        row = input(f\"Row {i + 1}: \").split()\n",
    "        matrix.append([float(x) for x in row])\n",
    "    return matrix\n",
    "\n",
    "def print_matrix(matrix):\n",
    "    \"\"\"\n",
    "    Print a matrix.\n",
    "    \n",
    "    :param matrix: The matrix to print\n",
    "    \"\"\"\n",
    "    for row in matrix:\n",
    "        print(\" \".join(f\"{x:.2f}\" for x in row))\n",
    "\n",
    "def multiply_matrices(matrix1, matrix2):\n",
    "    \"\"\"\n",
    "    Multiply two matrices.\n",
    "    \n",
    "    :param matrix1: First matrix\n",
    "    :param matrix2: Second matrix\n",
    "    :return: The resulting matrix after multiplication\n",
    "    \"\"\"\n",
    "    rows1 = len(matrix1)\n",
    "    cols1 = len(matrix1[0])\n",
    "    rows2 = len(matrix2)\n",
    "    cols2 = len(matrix2[0])\n",
    "    \n",
    "    # Check if matrices can be multiplied\n",
    "    if cols1 != rows2:\n",
    "        return None, \"Error: Number of columns in the first matrix must equal number of rows in the second matrix.\"\n",
    "    \n",
    "    # Initialize result matrix with zeros\n",
    "    result = [[0 for _ in range(cols2)] for _ in range(rows1)]\n",
    "    \n",
    "    # Perform matrix multiplication\n",
    "    for i in range(rows1):\n",
    "        for j in range(cols2):\n",
    "            for k in range(cols1):\n",
    "                result[i][j] += matrix1[i][k] * matrix2[k][j]\n",
    "    \n",
    "    return result, None\n",
    "\n",
    "def main():\n",
    "    print(\"Matrix Multiplication\")\n",
    "    \n",
    "    try:\n",
    "        # Input dimensions for the first matrix\n",
    "        rows1 = int(input(\"Enter the number of rows for the first matrix: \"))\n",
    "        cols1 = int(input(\"Enter the number of columns for the first matrix: \"))\n",
    "        \n",
    "        print(\"Matrix 1:\")\n",
    "        matrix1 = input_matrix(rows1, cols1)\n",
    "        \n",
    "        # Input dimensions for the second matrix\n",
    "        rows2 = int(input(\"Enter the number of rows for the second matrix: \"))\n",
    "        cols2 = int(input(\"Enter the number of columns for the second matrix: \"))\n",
    "        \n",
    "        print(\"Matrix 2:\")\n",
    "        matrix2 = input_matrix(rows2, cols2)\n",
    "        \n",
    "        # Multiply matrices\n",
    "        result, error = multiply_matrices(matrix1, matrix2)\n",
    "        \n",
    "        if error:\n",
    "            print(error)\n",
    "        else:\n",
    "            print(\"\\nMatrix 1:\")\n",
    "            print_matrix(matrix1)\n",
    "            \n",
    "            print(\"\\nMatrix 2:\")\n",
    "            print_matrix(matrix2)\n",
    "            \n",
    "            print(\"\\nMatrix Multiplication Result:\")\n",
    "            print_matrix(result)\n",
    "    \n",
    "    except ValueError:\n",
    "        print(\"Invalid input. Please enter valid numerical values.\")\n",
    "\n",
    "if __name__ == \"__main__\":\n",
    "    main()\n"
   ]
  },
  {
   "cell_type": "code",
   "execution_count": null,
   "id": "80727440-5825-4f57-add8-ebccf9aaa135",
   "metadata": {},
   "outputs": [],
   "source": [
    "35. Create a program that simulates a basic text-based tic-tac-toe game against the computer."
   ]
  },
  {
   "cell_type": "code",
   "execution_count": null,
   "id": "eef294a9-8ceb-4b2a-b503-2fe66bdc4de6",
   "metadata": {},
   "outputs": [],
   "source": [
    "import random\n",
    "\n",
    "def print_board(board):\n",
    "    \"\"\"\n",
    "    Print the Tic-Tac-Toe board.\n",
    "    \n",
    "    :param board: The game board\n",
    "    \"\"\"\n",
    "    print(\"\\n  1 2 3\")\n",
    "    for i in range(3):\n",
    "        print(f\"{i+1} {' '.join(board[i])}\")\n",
    "\n",
    "def check_winner(board, player):\n",
    "    \"\"\"\n",
    "    Check if the specified player has won the game.\n",
    "    \n",
    "    :param board: The game board\n",
    "    :param player: The player to check (either 'X' or 'O')\n",
    "    :return: True if the player has won, False otherwise\n",
    "    \"\"\"\n",
    "    # Check rows, columns, and diagonals\n",
    "    for i in range(3):\n",
    "        if all(board[i][j] == player for j in range(3)):  # Check row\n",
    "            return True\n",
    "        if all(board[j][i] == player for j in range(3)):  # Check column\n",
    "            return True\n",
    "    \n",
    "    if all(board[i][i] == player for i in range(3)):  # Check main diagonal\n",
    "        return True\n",
    "    if all(board[i][2-i] == player for i in range(3)):  # Check anti-diagonal\n",
    "        return True\n",
    "    \n",
    "    return False\n",
    "\n",
    "def is_board_full(board):\n",
    "    \"\"\"\n",
    "    Check if the board is full.\n",
    "    \n",
    "    :param board: The game board\n",
    "    :return: True if the board is full, False otherwise\n",
    "    \"\"\"\n",
    "    return all(board[i][j] != ' ' for i in range(3) for j in range(3))\n",
    "\n",
    "def get_computer_move(board):\n",
    "    \"\"\"\n",
    "    Get a random valid move for the computer.\n",
    "    \n",
    "    :param board: The game board\n",
    "    :return: A tuple representing the move (row, column)\n",
    "    \"\"\"\n",
    "    empty_cells = [(i, j) for i in range(3) for j in range(3) if board[i][j] == ' ']\n",
    "    return random.choice(empty_cells)\n",
    "\n",
    "def main():\n",
    "    print(\"Tic-Tac-Toe Game\")\n",
    "    \n",
    "    board = [[' ' for _ in range(3)] for _ in range(3)]\n",
    "    players = ['X', 'O']\n",
    "    turn = 0\n",
    "    \n",
    "    while True:\n",
    "        print_board(board)\n",
    "        \n",
    "        if turn % 2 == 0:  # Player's turn\n",
    "            while True:\n",
    "                try:\n",
    "                    row = int(input(\"Enter row (1-3): \")) - 1\n",
    "                    col = int(input(\"Enter column (1-3): \")) - 1\n",
    "                    if board[row][col] == ' ':\n",
    "                        board[row][col] = 'X'\n",
    "                        break\n",
    "                    else:\n",
    "                        print(\"Cell is already occupied. Choose another.\")\n",
    "                except (IndexError, ValueError):\n",
    "                    print(\"Invalid input. Enter row and column numbers between 1 and 3.\")\n",
    "        \n",
    "        else:  # Computer's turn\n",
    "            print(\"Computer's turn:\")\n",
    "            row, col = get_computer_move(board)\n",
    "            board[row][col] = 'O'\n",
    "        \n",
    "        if check_winner(board, 'X'):\n",
    "            print_board(board)\n",
    "            print(\"Congratulations! You win!\")\n",
    "            break\n",
    "        if check_winner(board, 'O'):\n",
    "            print_board(board)\n",
    "            print(\"Computer wins! Better luck next time.\")\n",
    "            break\n",
    "        if is_board_full(board):\n",
    "            print_board(board)\n",
    "            print(\"The game is a tie!\")\n",
    "            break\n",
    "        \n",
    "        turn += 1\n",
    "\n",
    "if __name__ == \"__main__\":\n",
    "    main()\n"
   ]
  },
  {
   "cell_type": "code",
   "execution_count": null,
   "id": "757c0c01-1a8a-48bb-91d8-a8040103b2bb",
   "metadata": {},
   "outputs": [],
   "source": [
    "36. Write a program that generates Fibonacci numbers up to a specified term using iterative methods."
   ]
  },
  {
   "cell_type": "code",
   "execution_count": null,
   "id": "a4091f69-bbc2-4f39-8102-6e5c9f4b5f1e",
   "metadata": {},
   "outputs": [],
   "source": [
    "def generate_fibonacci(n):\n",
    "    \"\"\"\n",
    "    Generate Fibonacci numbers up to the nth term using iterative methods.\n",
    "    \n",
    "    :param n: Number of terms to generate\n",
    "    :return: A list of Fibonacci numbers up to the nth term\n",
    "    \"\"\"\n",
    "    fibonacci_numbers = []\n",
    "    \n",
    "    # Handle special cases for n\n",
    "    if n <= 0:\n",
    "        return fibonacci_numbers\n",
    "    elif n == 1:\n",
    "        return [0]\n",
    "    elif n == 2:\n",
    "        return [0, 1]\n",
    "    \n",
    "    # Initialize the first two Fibonacci numbers\n",
    "    a, b = 0, 1\n",
    "    fibonacci_numbers.append(a)\n",
    "    fibonacci_numbers.append(b)\n",
    "    \n",
    "    # Generate the remaining Fibonacci numbers up to the nth term\n",
    "    for _ in range(2, n):\n",
    "        a, b = b, a + b\n",
    "        fibonacci_numbers.append(b)\n",
    "    \n",
    "    return fibonacci_numbers\n",
    "\n",
    "def main():\n",
    "    print(\"Fibonacci Number Generator\")\n",
    "    \n",
    "    try:\n",
    "        # Input the number of terms\n",
    "        n = int(input(\"Enter the number of terms to generate: \"))\n",
    "        \n",
    "        if n <= 0:\n",
    "            print(\"Please enter a positive integer.\")\n",
    "        else:\n",
    "            # Generate Fibonacci numbers\n",
    "            fibonacci_numbers = generate_fibonacci(n)\n",
    "            \n",
    "            # Print the results\n",
    "            print(f\"Fibonacci numbers up to term {n}:\")\n",
    "            print(fibonacci_numbers)\n",
    "    \n",
    "    except ValueError:\n",
    "        print(\"Invalid input. Please enter a valid integer.\")\n",
    "\n",
    "if __name__ == \"__main__\":\n",
    "    main()\n"
   ]
  },
  {
   "cell_type": "code",
   "execution_count": null,
   "id": "865b79b0-80e0-4e08-9389-54db976c58e4",
   "metadata": {},
   "outputs": [],
   "source": [
    "37. Develop a program that calculates the nth term of the Fibonacci sequence using memoization."
   ]
  },
  {
   "cell_type": "code",
   "execution_count": null,
   "id": "c5dd0a82-a128-497e-830a-9b75a7986b3d",
   "metadata": {},
   "outputs": [],
   "source": [
    "def fibonacci(n, memo={}):\n",
    "    \"\"\"\n",
    "    Calculate the nth term of the Fibonacci sequence using memoization.\n",
    "    \n",
    "    :param n: The term of the Fibonacci sequence to calculate\n",
    "    :param memo: A dictionary to store previously computed values\n",
    "    :return: The nth Fibonacci number\n",
    "    \"\"\"\n",
    "    # Base cases\n",
    "    if n <= 0:\n",
    "        return 0\n",
    "    elif n == 1:\n",
    "        return 1\n",
    "    \n",
    "    # Check if the value is already in the memo\n",
    "    if n in memo:\n",
    "        return memo[n]\n",
    "    \n",
    "    # Compute the nth Fibonacci number recursively and store in memo\n",
    "    memo[n] = fibonacci(n - 1, memo) + fibonacci(n - 2, memo)\n",
    "    return memo[n]\n",
    "\n",
    "def main():\n",
    "    print(\"Fibonacci Number Calculator with Memoization\")\n",
    "    \n",
    "    try:\n",
    "        # Input the term number\n",
    "        n = int(input(\"Enter the term number to calculate: \"))\n",
    "        \n",
    "        if n < 0:\n",
    "            print(\"Please enter a non-negative integer.\")\n",
    "        else:\n",
    "            # Calculate the nth Fibonacci number\n",
    "            result = fibonacci(n)\n",
    "            \n",
    "            # Print the result\n",
    "            print(f\"The {n}th Fibonacci number is: {result}\")\n",
    "    \n",
    "    except ValueError:\n",
    "        print(\"Invalid input. Please enter a valid integer.\")\n",
    "\n",
    "if __name__ == \"__main__\":\n",
    "    main()\n"
   ]
  },
  {
   "cell_type": "code",
   "execution_count": null,
   "id": "cb70e584-2038-43ab-9a03-109ea7a4f4cf",
   "metadata": {},
   "outputs": [],
   "source": [
    "38. Create a program that generates a calendar for a given month and year using conditional statements."
   ]
  },
  {
   "cell_type": "code",
   "execution_count": null,
   "id": "77896d97-face-47d0-af05-f7c91632b6ac",
   "metadata": {},
   "outputs": [],
   "source": [
    "import calendar\n",
    "\n",
    "def print_calendar(year, month):\n",
    "    \"\"\"\n",
    "    Print the calendar for the given month and year.\n",
    "    \n",
    "    :param year: The year of the calendar\n",
    "    :param month: The month of the calendar (1-12)\n",
    "    \"\"\"\n",
    "    # Check if the month and year are valid\n",
    "    if month < 1 or month > 12:\n",
    "        print(\"Invalid month. Please enter a number between 1 and 12.\")\n",
    "        return\n",
    "    if year < 1:\n",
    "        print(\"Invalid year. Please enter a positive integer.\")\n",
    "        return\n",
    "    \n",
    "    # Generate the calendar for the given month and year\n",
    "    month_calendar = calendar.monthcalendar(year, month)\n",
    "    \n",
    "    # Print the month and year header\n",
    "    print(calendar.month_name[month], year)\n",
    "    print(\"Mo Tu We Th Fr Sa Su\")\n",
    "    \n",
    "    # Print each week in the month\n",
    "    for week in month_calendar:\n",
    "        week_str = \" \".join(f\"{day if day != 0 else '  ' :2}\" for day in week)\n",
    "        print(week_str)\n",
    "\n",
    "def main():\n",
    "    print(\"Calendar Generator\")\n",
    "    \n",
    "    try:\n",
    "        # Input year and month\n",
    "        year = int(input(\"Enter the year: \"))\n",
    "        month = int(input(\"Enter the month (1-12): \"))\n",
    "        \n",
    "        # Print the calendar\n",
    "        print_calendar(year, month)\n",
    "    \n",
    "    except ValueError:\n",
    "        print(\"Invalid input. Please enter valid numerical values.\")\n",
    "\n",
    "if __name__ == \"__main__\":\n",
    "    main()\n"
   ]
  },
  {
   "cell_type": "code",
   "execution_count": null,
   "id": "cb3e8323-df50-4e88-99b8-6fcc76446c61",
   "metadata": {},
   "outputs": [],
   "source": [
    "39. Build a program that simulates a basic text-based blackjack game against the computer."
   ]
  },
  {
   "cell_type": "code",
   "execution_count": null,
   "id": "356a5518-937c-47f7-b981-da195730d3b1",
   "metadata": {},
   "outputs": [],
   "source": [
    "import random\n",
    "\n",
    "# Define card values\n",
    "card_values = {'2': 2, '3': 3, '4': 4, '5': 5, '6': 6, '7': 7, '8': 8, '9': 9, '10': 10,\n",
    "                'J': 10, 'Q': 10, 'K': 10, 'A': 11}\n",
    "\n",
    "# Define the deck of cards\n",
    "suits = ['Hearts', 'Diamonds', 'Clubs', 'Spades']\n",
    "ranks = ['2', '3', '4', '5', '6', '7', '8', '9', '10', 'J', 'Q', 'K', 'A']\n",
    "deck = [f'{rank} of {suit}' for suit in suits for rank in ranks]\n",
    "\n",
    "def shuffle_deck():\n",
    "    \"\"\"Shuffle the deck of cards.\"\"\"\n",
    "    random.shuffle(deck)\n",
    "\n",
    "def deal_card():\n",
    "    \"\"\"Deal a card from the deck.\"\"\"\n",
    "    return deck.pop()\n",
    "\n",
    "def calculate_hand_value(hand):\n",
    "    \"\"\"Calculate the value of a hand.\"\"\"\n",
    "    value = 0\n",
    "    num_aces = 0\n",
    "    for card in hand:\n",
    "        rank = card.split()[0]\n",
    "        value += card_values[rank]\n",
    "        if rank == 'A':\n",
    "            num_aces += 1\n",
    "    # Adjust for aces\n",
    "    while value > 21 and num_aces:\n",
    "        value -= 10\n",
    "        num_aces -= 1\n",
    "    return value\n",
    "\n",
    "def print_hand(name, hand):\n",
    "    \"\"\"Print the cards in hand.\"\"\"\n",
    "    print(f\"{name}'s hand: {', '.join(hand)} (Value: {calculate_hand_value(hand)})\")\n",
    "\n",
    "def main():\n",
    "    print(\"Welcome to Blackjack!\")\n",
    "    \n",
    "    # Initialize game\n",
    "    shuffle_deck()\n",
    "    \n",
    "    # Deal initial hands\n",
    "    player_hand = [deal_card(), deal_card()]\n",
    "    computer_hand = [deal_card(), deal_card()]\n",
    "    \n",
    "    # Player's turn\n",
    "    while True:\n",
    "        print_hand('Player', player_hand)\n",
    "        if calculate_hand_value(player_hand) == 21:\n",
    "            print(\"Blackjack! You win!\")\n",
    "            return\n",
    "        action = input(\"Do you want to (H)it or (S)tand? \").strip().lower()\n",
    "        if action == 'h':\n",
    "            player_hand.append(deal_card())\n",
    "            if calculate_hand_value(player_hand) > 21:\n",
    "                print_hand('Player', player_hand)\n",
    "                print(\"You bust! Computer wins.\")\n",
    "                return\n",
    "        elif action == 's':\n",
    "            break\n",
    "        else:\n",
    "            print(\"Invalid action. Please enter 'H' for hit or 'S' for stand.\")\n",
    "    \n",
    "    # Computer's turn\n",
    "    while calculate_hand_value(computer_hand) < 17:\n",
    "        computer_hand.append(deal_card())\n",
    "    \n",
    "    print_hand('Computer', computer_hand)\n",
    "    \n",
    "    # Determine the winner\n",
    "    player_value = calculate_hand_value(player_hand)\n",
    "    computer_value = calculate_hand_value(computer_hand)\n",
    "    \n",
    "    if computer_value > 21 or player_value > computer_value:\n",
    "        print(\"You win!\")\n",
    "    elif player_value < computer_value:\n",
    "        print(\"Computer wins!\")\n",
    "    else:\n",
    "        print(\"It's a tie!\")\n",
    "\n",
    "if __name__ == \"__main__\":\n",
    "    main()\n"
   ]
  },
  {
   "cell_type": "code",
   "execution_count": null,
   "id": "44d5b965-9499-4d37-ac48-8dd1118e10e1",
   "metadata": {},
   "outputs": [],
   "source": [
    "40. Write a program that generates the prime factors of a given number using trial division."
   ]
  },
  {
   "cell_type": "code",
   "execution_count": null,
   "id": "69e59ce5-2368-4303-8198-de08badb4eb6",
   "metadata": {},
   "outputs": [],
   "source": [
    "def prime_factors(n):\n",
    "    \"\"\"\n",
    "    Generate the prime factors of a given number n using trial division.\n",
    "    \n",
    "    :param n: The number to factorize\n",
    "    :return: A list of prime factors\n",
    "    \"\"\"\n",
    "    factors = []\n",
    "    \n",
    "    # Check for number of 2s\n",
    "    while n % 2 == 0:\n",
    "        factors.append(2)\n",
    "        n //= 2\n",
    "    \n",
    "    # Check for odd factors from 3 onwards\n",
    "    for i in range(3, int(n**0.5) + 1, 2):\n",
    "        while n % i == 0:\n",
    "            factors.append(i)\n",
    "            n //= i\n",
    "    \n",
    "    # If n becomes a prime number greater than 2\n",
    "    if n > 2:\n",
    "        factors.append(n)\n",
    "    \n",
    "    return factors\n",
    "\n",
    "def main():\n",
    "    print(\"Prime Factor Generator\")\n",
    "    \n",
    "    try:\n",
    "        # Input the number to factorize\n",
    "        number = int(input(\"Enter a number to factorize: \"))\n",
    "        \n",
    "        if number <= 0:\n",
    "            print(\"Please enter a positive integer.\")\n",
    "        else:\n",
    "            # Generate and print the prime factors\n",
    "            factors = prime_factors(number)\n",
    "            print(f\"The prime factors of {number} are: {', '.join(map(str, factors))}\")\n",
    "    \n",
    "    except ValueError:\n",
    "        print(\"Invalid input. Please enter a valid integer.\")\n",
    "\n",
    "if __name__ == \"__main__\":\n",
    "    main()\n"
   ]
  },
  {
   "cell_type": "code",
   "execution_count": null,
   "id": "eacf4666-b267-4311-850e-d889f593ad44",
   "metadata": {},
   "outputs": [],
   "source": []
  }
 ],
 "metadata": {
  "kernelspec": {
   "display_name": "Python 3 (ipykernel)",
   "language": "python",
   "name": "python3"
  },
  "language_info": {
   "codemirror_mode": {
    "name": "ipython",
    "version": 3
   },
   "file_extension": ".py",
   "mimetype": "text/x-python",
   "name": "python",
   "nbconvert_exporter": "python",
   "pygments_lexer": "ipython3",
   "version": "3.10.8"
  }
 },
 "nbformat": 4,
 "nbformat_minor": 5
}
