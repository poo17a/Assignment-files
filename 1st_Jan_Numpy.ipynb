{
  "nbformat": 4,
  "nbformat_minor": 0,
  "metadata": {
    "colab": {
      "provenance": []
    },
    "kernelspec": {
      "name": "python3",
      "display_name": "Python 3"
    },
    "language_info": {
      "name": "python"
    }
  },
  "cells": [
    {
      "cell_type": "markdown",
      "source": [
        "1. What is a Python library? Why do we use Python libraries?\n",
        "\n",
        "Ans: A Python library is a collection of pre-written code, functions, and modules that can be used to perform various tasks without having to write the code from scratch. These libraries provide a set of tools and functionalities that can be easily integrated into python programs, allowing to leverage existing solutions and speed up development.\n",
        "\n",
        "Python libraries are used for several reasons:\n",
        "\n",
        "Code Reusability: Libraries contain pre-written code, enabling developers to reuse existing implementations rather than writing everything from scratch. This promotes efficient and modular coding practices.\n",
        "\n",
        "Productivity: By using libraries, developers can save time and effort. They don't need to reinvent the wheel for common functionalities, allowing them to focus on solving specific problems or implementing unique features.\n",
        "\n",
        "Community Contributions: Python has a large and active community of developers who contribute to the creation and maintenance of libraries. This collaborative effort results in a wealth of resources that can benefit Python programmers.\n",
        "\n",
        "Performance Optimization: Many Python libraries are optimized for performance and written in languages like C or Cython, providing faster execution compared to equivalent pure Python code.\n",
        "\n",
        "Specialized Functionality: Python ibraries offer specialized functionality in various domains, such as data analysis, machine learning, web development, scientific computing, and more. Using these libraries allows developers to leverage domain-specific expertise.\n",
        "\n",
        "Popular Python libraries include NumPy for numerical computing, Pandas for data manipulation, Matplotlib for data visualization, TensorFlow and PyTorch for machine learning, Django and Flask for web development, and many more.\n",
        "\n",
        "In summary, Python libraries are powerful tools that simplify coding, enhance productivity, and enable developers to tackle a wide range of tasks efficiently."
      ],
      "metadata": {
        "id": "FbuGsE0svAOr"
      }
    },
    {
      "cell_type": "markdown",
      "source": [
        "2. What is the difference between Numpy array and List?\n",
        "\n",
        "Ans: In NumPy arrays, all elements must have the same data type, whereas lists can contain elements of different data types.\n",
        "\n",
        "NumPy arrays are homogeneous, providing more efficient storage and operations for numerical data.\n",
        "\n",
        "NumPy arrays are more memory-efficient than lists. They are stored in contiguous memory blocks, allowing for better performance in terms of memory access and manipulation.\n",
        "\n",
        "Lists in Python store references to objects, which results in less memory efficiency, especially when dealing with large datasets.\n",
        "\n",
        "NumPy arrays provide better performance for mathematical operations, especially when working with large datasets. This is because NumPy is implemented in C and optimized for numerical computations. Lists are more flexible but may not perform numerical operations.\n",
        "\n",
        "NumPy arrays offer a range of built-in functions and methods for array manipulation, linear algebra, statistical operations, and more. Lists provide general-purpose functionality but lack the specialized features for numerical computations available in NumPy.\n",
        "\n",
        "NumPy provides a variety of functions and methods specifically designed for numerical operations, making it more convenient for mathematical tasks.\n",
        "Lists are more versatile and can be used for a broader range of tasks but may require more explicit iterations and operations for numerical computations."
      ],
      "metadata": {
        "id": "bjVazqGwxmFW"
      }
    },
    {
      "cell_type": "markdown",
      "source": [
        "3. Find the shape, size and dimension of the following array?\n",
        "[[1, 2, 3, 4]\n",
        "[5, 6, 7, 8],\n",
        "[9, 10, 11, 12]]"
      ],
      "metadata": {
        "id": "nvxJJgwf03ml"
      }
    },
    {
      "cell_type": "code",
      "execution_count": 21,
      "metadata": {
        "colab": {
          "base_uri": "https://localhost:8080/"
        },
        "id": "TqRqYesZu140",
        "outputId": "e0e1ff98-62f7-4443-dba1-86f17e422dad"
      },
      "outputs": [
        {
          "output_type": "stream",
          "name": "stdout",
          "text": [
            "Array shape: (3, 4)\n",
            "Array Size: 12\n",
            "Array Dimension: 2\n"
          ]
        }
      ],
      "source": [
        "import numpy as np\n",
        "data = [[1, 2, 3, 4],\n",
        "[5, 6, 7, 8],\n",
        "[9, 10, 11, 12]]\n",
        "\n",
        "arr = np.array(data)\n",
        "print(f\"Array shape: {arr.shape}\")\n",
        "print(f\"Array Size: {arr.size}\")\n",
        "print(f\"Array Dimension: {arr.ndim}\")"
      ]
    },
    {
      "cell_type": "markdown",
      "source": [
        "4. Write python code to access the first row of the following array?\n",
        "[[1, 2, 3, 4]\n",
        "[5, 6, 7, 8],\n",
        "[9, 10, 11, 12]]"
      ],
      "metadata": {
        "id": "8DBPrVDs5KRc"
      }
    },
    {
      "cell_type": "code",
      "source": [
        "data = [[1, 2, 3, 4],\n",
        "[5, 6, 7, 8],\n",
        "[9, 10, 11, 12]]\n",
        "\n",
        "arr = np.array(data)\n",
        "print(f\"First row: {arr[0]}\")"
      ],
      "metadata": {
        "colab": {
          "base_uri": "https://localhost:8080/"
        },
        "id": "6JplhAUr3ipl",
        "outputId": "027ef699-03b1-418c-c85b-a21af9af7759"
      },
      "execution_count": 27,
      "outputs": [
        {
          "output_type": "stream",
          "name": "stdout",
          "text": [
            "First row: [1 2 3 4]\n"
          ]
        }
      ]
    },
    {
      "cell_type": "markdown",
      "source": [
        "5. How do you access the element at the third row and fourth column from the given numpy array?\n",
        "[[1, 2, 3, 4],\n",
        "[5, 6, 7, 8],\n",
        "[9, 10, 11, 12]]"
      ],
      "metadata": {
        "id": "MUnux6Ap6u2R"
      }
    },
    {
      "cell_type": "code",
      "source": [
        "data = [[1, 2, 3, 4],\n",
        "[5, 6, 7, 8],\n",
        "[9, 10, 11, 12]]\n",
        "\n",
        "arr = np.array(data)\n",
        "print(f\"Element at the third row and fourth column: {arr[2,3]}\")"
      ],
      "metadata": {
        "colab": {
          "base_uri": "https://localhost:8080/"
        },
        "id": "G6GbzBB33osj",
        "outputId": "003ea492-8bf9-430f-c1f9-329215e52f50"
      },
      "execution_count": 32,
      "outputs": [
        {
          "output_type": "stream",
          "name": "stdout",
          "text": [
            "Element at the third row and fourth column: 12\n"
          ]
        }
      ]
    },
    {
      "cell_type": "markdown",
      "source": [
        "6. Write code to extract all odd-indexed elements from the given numpy array?\n",
        "[[1, 2, 3, 4],\n",
        "[5, 6, 7, 8],\n",
        "[9, 10, 11, 12]]"
      ],
      "metadata": {
        "id": "p53YLeVx9La3"
      }
    },
    {
      "cell_type": "code",
      "source": [
        "data = [[1, 2, 3, 4],\n",
        "[5, 6, 7, 8],\n",
        "[9, 10, 11, 12]]\n",
        "\n",
        "arr = np.array(data)\n",
        "odd_indexed_elements = arr[: , 1::2]\n",
        "print(f\"Odd-indexed elements: {odd_indexed_elements}\")"
      ],
      "metadata": {
        "colab": {
          "base_uri": "https://localhost:8080/"
        },
        "id": "4-j0rJgT3y8R",
        "outputId": "867f7031-a55e-40bc-f374-bcb5279637f8"
      },
      "execution_count": 10,
      "outputs": [
        {
          "output_type": "stream",
          "name": "stdout",
          "text": [
            "Odd-indexed elements: [[ 2  4]\n",
            " [ 6  8]\n",
            " [10 12]]\n"
          ]
        }
      ]
    },
    {
      "cell_type": "markdown",
      "source": [
        "7. How can you generate a random 3x3 matrix with values between 0 and 1?"
      ],
      "metadata": {
        "id": "Hp_9L6Zpa2p-"
      }
    },
    {
      "cell_type": "code",
      "source": [
        "import numpy as np\n",
        "random_matrix = np.random.rand(3, 3)\n",
        "\n",
        "print(random_matrix)\n",
        "\n"
      ],
      "metadata": {
        "colab": {
          "base_uri": "https://localhost:8080/"
        },
        "id": "W6pFTs_33_4D",
        "outputId": "b12637f4-138b-439b-cee3-fdd985d77a75"
      },
      "execution_count": 19,
      "outputs": [
        {
          "output_type": "stream",
          "name": "stdout",
          "text": [
            "[[0.96447408 0.07416542 0.05283716]\n",
            " [0.55228742 0.75715394 0.74900039]\n",
            " [0.24689978 0.93140543 0.85562682]]\n"
          ]
        }
      ]
    },
    {
      "cell_type": "markdown",
      "source": [
        "8. Describe the difference between np.random.rand and np.random.randn?"
      ],
      "metadata": {
        "id": "QWGExijLhlWS"
      }
    },
    {
      "cell_type": "markdown",
      "source": [
        "np.random.rand:\n",
        "\n",
        "This function generates random numbers from a uniform distribution over the half-open interval [0.0, 1.0). In other words, it produces random values between 0 (inclusive) and 1 (exclusive). It takes dimensions as arguments, allowing to create random arrays or matrices of a specified shape.\n",
        "\n",
        "np.random.randn:\n",
        "\n",
        "This function generates random numbers from a standard normal distribution (mean = 0, standard deviation = 1). It returns samples with a bell-shaped curve centered around 0. Like np.random.rand, it also takes dimensions as arguments."
      ],
      "metadata": {
        "id": "LPyqkUpThsxx"
      }
    },
    {
      "cell_type": "markdown",
      "source": [
        "9. Write code to increase the dimension of the following array?\n",
        "[[1, 2, 3, 4],\n",
        "[5, 6, 7, 8],\n",
        "[9, 10, 11, 12]]"
      ],
      "metadata": {
        "id": "N3lCpK55wPmb"
      }
    },
    {
      "cell_type": "code",
      "source": [
        "data = [[1, 2, 3, 4],\n",
        "[5, 6, 7, 8],\n",
        "[9, 10, 11, 12]]\n",
        "\n",
        "# Method 1\n",
        "arr = np.array(data)\n",
        "reshaped_array = np.reshape(data, (2,2,3))\n",
        "print(reshaped_array)"
      ],
      "metadata": {
        "colab": {
          "base_uri": "https://localhost:8080/"
        },
        "id": "bvWwv1mt33Ge",
        "outputId": "408d6613-3e09-44ef-b2bd-21b16c89b872"
      },
      "execution_count": 39,
      "outputs": [
        {
          "output_type": "stream",
          "name": "stdout",
          "text": [
            "[[[ 1  2  3]\n",
            "  [ 4  5  6]]\n",
            "\n",
            " [[ 7  8  9]\n",
            "  [10 11 12]]]\n"
          ]
        }
      ]
    },
    {
      "cell_type": "code",
      "source": [
        "# Method 2\n",
        "arr1 = np.array(data)\n",
        "expanded_array = np.expand_dims(data, axis = 2)\n",
        "print(expanded_array)"
      ],
      "metadata": {
        "colab": {
          "base_uri": "https://localhost:8080/"
        },
        "id": "rvbwhu4C2UQn",
        "outputId": "1d7230f7-e5b4-4606-b9f9-39a3d1a2f8b5"
      },
      "execution_count": 43,
      "outputs": [
        {
          "output_type": "stream",
          "name": "stdout",
          "text": [
            "[[[ 1]\n",
            "  [ 2]\n",
            "  [ 3]\n",
            "  [ 4]]\n",
            "\n",
            " [[ 5]\n",
            "  [ 6]\n",
            "  [ 7]\n",
            "  [ 8]]\n",
            "\n",
            " [[ 9]\n",
            "  [10]\n",
            "  [11]\n",
            "  [12]]]\n"
          ]
        }
      ]
    },
    {
      "cell_type": "markdown",
      "source": [
        "10. How to transpose the following array in NumPy?\n",
        "[[1, 2, 3, 4],\n",
        "[5, 6, 7, 8],\n",
        "[9, 10, 11, 12]]"
      ],
      "metadata": {
        "id": "7vaSS8kG4yP3"
      }
    },
    {
      "cell_type": "code",
      "source": [
        "import numpy as np\n",
        "\n",
        "data = [[1, 2, 3, 4],\n",
        "[5, 6, 7, 8],\n",
        "[9, 10, 11, 12]]\n",
        "\n",
        "arr = np.array(data)\n",
        "arr_transposed = arr.T\n",
        "\n",
        "print(\"Transposed Array:\")\n",
        "print(arr_transposed)"
      ],
      "metadata": {
        "colab": {
          "base_uri": "https://localhost:8080/"
        },
        "id": "ivvm7uJv4sFs",
        "outputId": "10981246-035f-42f1-d0b3-1eb8efdd3f29"
      },
      "execution_count": 47,
      "outputs": [
        {
          "output_type": "stream",
          "name": "stdout",
          "text": [
            "Transposed Array:\n",
            "[[ 1  5  9]\n",
            " [ 2  6 10]\n",
            " [ 3  7 11]\n",
            " [ 4  8 12]]\n"
          ]
        }
      ]
    },
    {
      "cell_type": "markdown",
      "source": [
        "11. Consider the following matrix:\n",
        "Matrix A2: [[1, 2, 3, 4], [5, 6, 7, 8],[9, 10, 11, 12]]\n",
        "Matrix B2: [[1, 2, 3, 4], [5, 6, 7, 8],[9, 10, 11, 12]]\n",
        "\n",
        "Perform the following operation using Python:\n",
        "1. Index wise multiplication\n",
        "2. Matix multiplication\n",
        "3. Add both the matrics\n",
        "4. Subtact matrix B from A\n",
        "5. Divide Matrix B by A"
      ],
      "metadata": {
        "id": "hMYouHje6zqq"
      }
    },
    {
      "cell_type": "code",
      "source": [
        "A2 = np.array([[1, 2, 3, 4], [5, 6, 7, 8],[9, 10, 11, 12]])\n",
        "B2 = np.array([[1, 2, 3, 4], [5, 6, 7, 8],[9, 10, 11, 12]])\n",
        "\n",
        "# Index wise multiplication\n",
        "Index_wise_multiplication = A2*B2\n",
        "print(\"Index_wise_multiplication\")\n",
        "print(Index_wise_multiplication)\n",
        "\n",
        "# Matix multiplication\n",
        "Matix_multiplication = np.dot(A2, B2.T)\n",
        "print(\"\\nMatix multiplication\")\n",
        "print(Matix_multiplication)\n",
        "\n",
        "# Add both the matrics\n",
        "Matrix_addition = A2 + B2\n",
        "print(\"\\nMatrix addition\")\n",
        "print(Matrix_addition)\n",
        "\n",
        "# Subtact matrix B from A\n",
        "Matrix_subtraction = B2 - A2\n",
        "print(\"\\nMatrix subtraction\")\n",
        "print(Matrix_subtraction)\n",
        "\n",
        "# Divide Matrix B by A\n",
        "Matrix_division = B2/A2\n",
        "print(\"\\nMatrix division\")\n",
        "print(Matrix_division)"
      ],
      "metadata": {
        "colab": {
          "base_uri": "https://localhost:8080/"
        },
        "id": "4Z7Z4PWX67F7",
        "outputId": "88af6936-1ffc-47cb-cce8-2dfb520c388c"
      },
      "execution_count": 76,
      "outputs": [
        {
          "output_type": "stream",
          "name": "stdout",
          "text": [
            "Index_wise_multiplication\n",
            "[[  1   4   9  16]\n",
            " [ 25  36  49  64]\n",
            " [ 81 100 121 144]]\n",
            "\n",
            "Matix multiplication\n",
            "[[ 30  70 110]\n",
            " [ 70 174 278]\n",
            " [110 278 446]]\n",
            "\n",
            "Matrix addition\n",
            "[[ 2  4  6  8]\n",
            " [10 12 14 16]\n",
            " [18 20 22 24]]\n",
            "\n",
            "Matrix subtraction\n",
            "[[0 0 0 0]\n",
            " [0 0 0 0]\n",
            " [0 0 0 0]]\n",
            "\n",
            "Matrix division\n",
            "[[1. 1. 1. 1.]\n",
            " [1. 1. 1. 1.]\n",
            " [1. 1. 1. 1.]]\n"
          ]
        }
      ]
    },
    {
      "cell_type": "markdown",
      "source": [
        "12. Which function in Numpy can be used to swap the byte order of an array?\n",
        "\n",
        "The byteswap function can be used to swap the byte order of an array. This function swaps the byte order of the elements in the array, and it can be applied to arrays of different data types. The byteswap function is particularly useful when dealing with binary data and to ensure the correct byte order for compatibility with other systems."
      ],
      "metadata": {
        "id": "zDvCV36MMY2P"
      }
    },
    {
      "cell_type": "code",
      "source": [
        "# Example\n",
        "\n",
        "# Create an array with integers\n",
        "arr = np.array([1, 2, 3, 4], dtype = np.int32)\n",
        "\n",
        "# Swap the byte order\n",
        "arr_swapped = arr.byteswap()\n",
        "\n",
        "print(\"Original array:\", arr)\n",
        "print(\"Array after byte swapping:\", arr_swapped)\n"
      ],
      "metadata": {
        "colab": {
          "base_uri": "https://localhost:8080/"
        },
        "id": "CInJjbd7-SV9",
        "outputId": "2bf84f59-a770-459e-ca0a-656698905b00"
      },
      "execution_count": 70,
      "outputs": [
        {
          "output_type": "stream",
          "name": "stdout",
          "text": [
            "Original array: [1 2 3 4]\n",
            "Array after byte swapping: [16777216 33554432 50331648 67108864]\n"
          ]
        }
      ]
    },
    {
      "cell_type": "markdown",
      "source": [
        "13. What is the significance of the np.linalg.inv function?\n",
        "\n",
        "Ans: np.linalg.inv is a versatile function that plays a key role in solving linear systems, performing numerical computations, and enabling efficient matrix manipulations in various scientific and engineering applications."
      ],
      "metadata": {
        "id": "jjO3rnlWR-ST"
      }
    },
    {
      "cell_type": "markdown",
      "source": [
        "14. What does the np.reshape function do, and how is it used?\n",
        "\n",
        "The np.reshape function is used to change the shape of an array without changing its data. It returns a new array with the specified shape while preserving the original data. The function is commonly employed to manipulate the dimensions of an array to suit the requirements of different operations or to match the input shape expected by certain algorithms."
      ],
      "metadata": {
        "id": "9rqejQ72avVl"
      }
    },
    {
      "cell_type": "code",
      "source": [
        "# Create a 1D array\n",
        "original_array = np.array([1, 2, 3, 4, 5, 6])\n",
        "\n",
        "# Reshape to a 2x3 matrix\n",
        "reshaped_array = np.reshape(original_array, (2, 3))\n",
        "\n",
        "print(\"Original Array:\")\n",
        "print(original_array)\n",
        "\n",
        "print(\"\\nReshaped Array:\")\n",
        "print(reshaped_array)\n"
      ],
      "metadata": {
        "colab": {
          "base_uri": "https://localhost:8080/"
        },
        "id": "fL3uhxfFNXt_",
        "outputId": "a748e35e-5423-467a-95e5-e40d352350fe"
      },
      "execution_count": 73,
      "outputs": [
        {
          "output_type": "stream",
          "name": "stdout",
          "text": [
            "Original Array:\n",
            "[1 2 3 4 5 6]\n",
            "\n",
            "Reshaped Array:\n",
            "[[1 2 3]\n",
            " [4 5 6]]\n"
          ]
        }
      ]
    },
    {
      "cell_type": "markdown",
      "source": [
        "15. What is broadcasting in Numpy?\n",
        "\n",
        "Broadcasting is a powerful mechanism that allows arrays of different shapes and sizes to be combined, manipulated, and operated upon without the need for explicit copying or redundant code. Broadcasting simplifies the process of performing element-wise operations on arrays of different shapes by implicitly extending the smaller array to match the shape of the larger array."
      ],
      "metadata": {
        "id": "R-qj8CLycjwq"
      }
    }
  ]
}