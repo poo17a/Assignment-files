{
  "nbformat": 4,
  "nbformat_minor": 0,
  "metadata": {
    "colab": {
      "provenance": []
    },
    "kernelspec": {
      "name": "python3",
      "display_name": "Python 3"
    },
    "language_info": {
      "name": "python"
    }
  },
  "cells": [
    {
      "cell_type": "markdown",
      "source": [
        "String-Based Assignment Problems"
      ],
      "metadata": {
        "id": "KBZpo95Jti3T"
      }
    },
    {
      "cell_type": "code",
      "execution_count": null,
      "metadata": {
        "colab": {
          "base_uri": "https://localhost:8080/"
        },
        "id": "pftPyyxBSYwu",
        "outputId": "b15a8ec4-b27a-444c-ae4f-2bd79ab55780"
      },
      "outputs": [
        {
          "output_type": "stream",
          "name": "stdout",
          "text": [
            "olleh\n"
          ]
        }
      ],
      "source": [
        "# 1. Write a program to reverse a string.\n",
        "\n",
        "def reverse_string(s):\n",
        "    return s[::-1]\n",
        "print(reverse_string(\"hello\"))"
      ]
    },
    {
      "cell_type": "code",
      "source": [
        "# 2. Check if a string is a palindrome.\n",
        "\n",
        "def is_palindrome(s):\n",
        "    return s == s[::-1]\n",
        "print(is_palindrome(\"racecar\"))\n",
        "print(is_palindrome(\"hello\"))"
      ],
      "metadata": {
        "colab": {
          "base_uri": "https://localhost:8080/"
        },
        "id": "cwz17K_kSeCn",
        "outputId": "9dc22ba5-2ff6-4114-f6e7-f789fe360148"
      },
      "execution_count": null,
      "outputs": [
        {
          "output_type": "stream",
          "name": "stdout",
          "text": [
            "True\n",
            "False\n"
          ]
        }
      ]
    },
    {
      "cell_type": "code",
      "source": [
        "# 3. Convert a string to uppercase.\n",
        "\n",
        "def to_uppercase(s):\n",
        "    return s.upper()\n",
        "print(to_uppercase(\"hello\"))"
      ],
      "metadata": {
        "colab": {
          "base_uri": "https://localhost:8080/"
        },
        "id": "NEeVCOipSeFs",
        "outputId": "61c75a23-f6fc-4876-ea4a-9fac45eef166"
      },
      "execution_count": null,
      "outputs": [
        {
          "output_type": "stream",
          "name": "stdout",
          "text": [
            "HELLO\n"
          ]
        }
      ]
    },
    {
      "cell_type": "code",
      "source": [
        "# 4. Convert a string to lowercase.\n",
        "\n",
        "def to_lowercase(s):\n",
        "    return s.lower()\n",
        "print(to_lowercase(\"HELLO\"))"
      ],
      "metadata": {
        "colab": {
          "base_uri": "https://localhost:8080/"
        },
        "id": "0lcUFHkXSeIY",
        "outputId": "dd944758-e891-43c8-a643-bfcd2ef7b5fc"
      },
      "execution_count": null,
      "outputs": [
        {
          "output_type": "stream",
          "name": "stdout",
          "text": [
            "hello\n"
          ]
        }
      ]
    },
    {
      "cell_type": "code",
      "source": [
        "# 5. Count the number of vowels in a string.\n",
        "\n",
        "def count_vowels(s):\n",
        "    vowels = \"aeiouAEIOU\"\n",
        "    return sum(1 for char in s if char in vowels)\n",
        "print(count_vowels(\"hello\"))"
      ],
      "metadata": {
        "colab": {
          "base_uri": "https://localhost:8080/"
        },
        "id": "vEBMJP0GSeK7",
        "outputId": "4de7ed14-e062-43eb-d712-1a40c5b9d9ea"
      },
      "execution_count": null,
      "outputs": [
        {
          "output_type": "stream",
          "name": "stdout",
          "text": [
            "2\n"
          ]
        }
      ]
    },
    {
      "cell_type": "code",
      "source": [
        "# 6. Count the number of consonants in a string.\n",
        "\n",
        "def count_consonants(s):\n",
        "    vowels = \"aeiouAEIOU\"\n",
        "    return sum(1 for char in s if char.isalpha() and char not in vowels)\n",
        "print(count_consonants(\"hello\"))"
      ],
      "metadata": {
        "colab": {
          "base_uri": "https://localhost:8080/"
        },
        "id": "8y43LDouSeNS",
        "outputId": "3b90bab2-b890-4083-945c-6ab4857cdbb4"
      },
      "execution_count": null,
      "outputs": [
        {
          "output_type": "stream",
          "name": "stdout",
          "text": [
            "3\n"
          ]
        }
      ]
    },
    {
      "cell_type": "code",
      "source": [
        "# 7. Remove all whitespaces from a string.\n",
        "\n",
        "def remove_whitespaces(s):\n",
        "    return s.replace(\" \", \"\")\n",
        "print(remove_whitespaces(\"hello world\"))"
      ],
      "metadata": {
        "colab": {
          "base_uri": "https://localhost:8080/"
        },
        "id": "03ax80NISeQC",
        "outputId": "d5bd5ffc-ac60-432c-a2cb-3c3fb3b242f4"
      },
      "execution_count": null,
      "outputs": [
        {
          "output_type": "stream",
          "name": "stdout",
          "text": [
            "helloworld\n"
          ]
        }
      ]
    },
    {
      "cell_type": "code",
      "source": [
        "# 8. Find the length of a string without using the len() function.\n",
        "\n",
        "def string_length(s):\n",
        "    count = 0\n",
        "    for _ in s:\n",
        "        count += 1\n",
        "    return count\n",
        "print(string_length(\"hello\"))"
      ],
      "metadata": {
        "colab": {
          "base_uri": "https://localhost:8080/"
        },
        "id": "GFdLQ8fASeSO",
        "outputId": "ecef0e55-ee80-4109-fefe-da4748d7d7e1"
      },
      "execution_count": null,
      "outputs": [
        {
          "output_type": "stream",
          "name": "stdout",
          "text": [
            "5\n"
          ]
        }
      ]
    },
    {
      "cell_type": "code",
      "source": [
        "# 9. Check if a string contains a specific word.\n",
        "\n",
        "def contains_word(s, word):\n",
        "    return word in s\n",
        "print(contains_word(\"hello world\", \"world\"))\n",
        "print(contains_word(\"hello world\", \"python\"))"
      ],
      "metadata": {
        "colab": {
          "base_uri": "https://localhost:8080/"
        },
        "id": "_g1e-083SeUI",
        "outputId": "311288f3-77e5-4f47-b441-4f34ac59c847"
      },
      "execution_count": null,
      "outputs": [
        {
          "output_type": "stream",
          "name": "stdout",
          "text": [
            "True\n",
            "False\n"
          ]
        }
      ]
    },
    {
      "cell_type": "code",
      "source": [
        "# 10. Replace a word in a string with another word.\n",
        "\n",
        "def replace_word(s, old_word, new_word):\n",
        "    return s.replace(old_word, new_word)\n",
        "print(replace_word(\"hello world\", \"world\", \"python\"))"
      ],
      "metadata": {
        "id": "Z9qFF4-ZSeWH"
      },
      "execution_count": null,
      "outputs": []
    },
    {
      "cell_type": "code",
      "source": [
        "# 11. Count the occurrences of a word in a string.\n",
        "\n",
        "def count_word_occurrences(s, word):\n",
        "    return s.split().count(word)\n",
        "print(count_word_occurrences(\"hello world hello\", \"hello\"))"
      ],
      "metadata": {
        "colab": {
          "base_uri": "https://localhost:8080/"
        },
        "id": "3DaqS4tvSeZW",
        "outputId": "a12e683b-73d0-4bfc-b82c-f62c233156e5"
      },
      "execution_count": null,
      "outputs": [
        {
          "output_type": "stream",
          "name": "stdout",
          "text": [
            "2\n"
          ]
        }
      ]
    },
    {
      "cell_type": "code",
      "source": [
        "# 12. Find the first occurrence of a word in a string.\n",
        "\n",
        "def find_first_occurrence(s, word):\n",
        "    return s.find(word)\n",
        "print(find_first_occurrence(\"hello world\", \"world\"))\n",
        "print(find_first_occurrence(\"hello world\", \"python\"))"
      ],
      "metadata": {
        "colab": {
          "base_uri": "https://localhost:8080/"
        },
        "id": "Qm3pvyo7Sebg",
        "outputId": "52229687-b80e-4ec8-e280-205e41cf27f8"
      },
      "execution_count": null,
      "outputs": [
        {
          "output_type": "stream",
          "name": "stdout",
          "text": [
            "6\n",
            "-1\n"
          ]
        }
      ]
    },
    {
      "cell_type": "code",
      "source": [
        "# 13. Find the last occurrence of a word in a string.\n",
        "\n",
        "def find_last_occurrence(s, word):\n",
        "    return s.rfind(word)\n",
        "print(find_last_occurrence(\"hello world hello\", \"hello\"))\n",
        "print(find_last_occurrence(\"hello world\", \"python\"))"
      ],
      "metadata": {
        "colab": {
          "base_uri": "https://localhost:8080/"
        },
        "id": "7F6aSbarSedz",
        "outputId": "fea1dbb4-0df6-40b5-e683-b1c80cb30fc8"
      },
      "execution_count": null,
      "outputs": [
        {
          "output_type": "stream",
          "name": "stdout",
          "text": [
            "12\n",
            "-1\n"
          ]
        }
      ]
    },
    {
      "cell_type": "code",
      "source": [
        "# 14. Split a string into a list of words.\n",
        "\n",
        "def split_into_words(s):\n",
        "    return s.split()\n",
        "print(split_into_words(\"hello world\"))\n"
      ],
      "metadata": {
        "colab": {
          "base_uri": "https://localhost:8080/"
        },
        "id": "st64JgXoSegj",
        "outputId": "d24a1875-4ea7-4bb5-ff11-485c499b8ae4"
      },
      "execution_count": null,
      "outputs": [
        {
          "output_type": "stream",
          "name": "stdout",
          "text": [
            "['hello', 'world']\n"
          ]
        }
      ]
    },
    {
      "cell_type": "code",
      "source": [
        "# 15. Join a list of words into a string.\n",
        "\n",
        "def join_words(words):\n",
        "    return \" \".join(words)\n",
        "print(join_words([\"hello\", \"world\"]))"
      ],
      "metadata": {
        "colab": {
          "base_uri": "https://localhost:8080/"
        },
        "id": "9xysKqNYSeja",
        "outputId": "ca69439a-d87d-4523-80ff-271b49d9b379"
      },
      "execution_count": null,
      "outputs": [
        {
          "output_type": "stream",
          "name": "stdout",
          "text": [
            "hello world\n"
          ]
        }
      ]
    },
    {
      "cell_type": "code",
      "source": [
        "# 16. Convert a string where words are separated by spaces to one where words are separated by underscores.\n",
        "\n",
        "def convert_spaces_to_underscores(s):\n",
        "    return s.replace(\" \", \"_\")\n",
        "print(convert_spaces_to_underscores(\"hello world\"))"
      ],
      "metadata": {
        "colab": {
          "base_uri": "https://localhost:8080/"
        },
        "id": "0w_WjTpASelu",
        "outputId": "ed1bceda-abf4-408c-f06c-a77c4f116f4b"
      },
      "execution_count": null,
      "outputs": [
        {
          "output_type": "stream",
          "name": "stdout",
          "text": [
            "hello_world\n"
          ]
        }
      ]
    },
    {
      "cell_type": "code",
      "source": [
        "# 17. Check if a string starts with a specific word or phrase.\n",
        "\n",
        "def starts_with(s, prefix):\n",
        "    return s.startswith(prefix)\n",
        "print(starts_with(\"hello world\", \"hello\"))\n",
        "print(starts_with(\"hello world\", \"world\"))"
      ],
      "metadata": {
        "colab": {
          "base_uri": "https://localhost:8080/"
        },
        "id": "37Xs5WiVSeoI",
        "outputId": "6816db36-7a3c-47a8-ec85-709fc6691848"
      },
      "execution_count": null,
      "outputs": [
        {
          "output_type": "stream",
          "name": "stdout",
          "text": [
            "True\n",
            "False\n"
          ]
        }
      ]
    },
    {
      "cell_type": "code",
      "source": [
        "# 18. Check if a string ends with a specific word or phrase.\n",
        "\n",
        "def ends_with(s, suffix):\n",
        "    return s.endswith(suffix)\n",
        "print(ends_with(\"hello world\", \"world\"))\n",
        "print(ends_with(\"hello world\", \"hello\"))"
      ],
      "metadata": {
        "colab": {
          "base_uri": "https://localhost:8080/"
        },
        "id": "WNGhUBbpSeqy",
        "outputId": "2d3756e4-c6b0-4e60-d234-8e441d11d620"
      },
      "execution_count": null,
      "outputs": [
        {
          "output_type": "stream",
          "name": "stdout",
          "text": [
            "True\n",
            "False\n"
          ]
        }
      ]
    },
    {
      "cell_type": "code",
      "source": [
        "# 19. Convert a string to title case (e.g., \"hello world\" to \"Hello World\").\n",
        "\n",
        "def to_title_case(s):\n",
        "    return s.title()\n",
        "print(to_title_case(\"hello world\"))"
      ],
      "metadata": {
        "colab": {
          "base_uri": "https://localhost:8080/"
        },
        "id": "B90bXk9cSet1",
        "outputId": "973394be-464a-49ec-ea7b-061e5dfd8499"
      },
      "execution_count": null,
      "outputs": [
        {
          "output_type": "stream",
          "name": "stdout",
          "text": [
            "Hello World\n"
          ]
        }
      ]
    },
    {
      "cell_type": "code",
      "source": [
        "# 20. Find the longest word in a string.\n",
        "\n",
        "def longest_word(s):\n",
        "    words = s.split()\n",
        "    return max(words, key=len)\n",
        "print(longest_word(\"hello wonderful world\"))\n"
      ],
      "metadata": {
        "colab": {
          "base_uri": "https://localhost:8080/"
        },
        "id": "6iQJo9uJSewR",
        "outputId": "0e1878c7-d66f-423c-c1a4-6122175ff8fc"
      },
      "execution_count": null,
      "outputs": [
        {
          "output_type": "stream",
          "name": "stdout",
          "text": [
            "wonderful\n"
          ]
        }
      ]
    },
    {
      "cell_type": "code",
      "source": [
        "# 21. Find the shortest word in a string.\n",
        "\n",
        "def shortest_word(s):\n",
        "    words = s.split()\n",
        "    return min(words, key=len)\n",
        "\n",
        "# Example usage\n",
        "print(shortest_word(\"hello wonderful world\"))"
      ],
      "metadata": {
        "colab": {
          "base_uri": "https://localhost:8080/"
        },
        "id": "zSN6kXKgSey-",
        "outputId": "94d13450-63de-4b0a-c1c8-9ef39ca515dd"
      },
      "execution_count": null,
      "outputs": [
        {
          "output_type": "stream",
          "name": "stdout",
          "text": [
            "hello\n"
          ]
        }
      ]
    },
    {
      "cell_type": "code",
      "source": [
        "# 22. Reverse the order of words in a string.\n",
        "\n",
        "def reverse_words_order(s):\n",
        "    words = s.split()\n",
        "    return \" \".join(reversed(words))\n",
        "print(reverse_words_order(\"hello world\"))\n"
      ],
      "metadata": {
        "colab": {
          "base_uri": "https://localhost:8080/"
        },
        "id": "vRfTN0VDSe19",
        "outputId": "7e5a53f2-4d55-4a5c-f69c-ef6eaf499179"
      },
      "execution_count": null,
      "outputs": [
        {
          "output_type": "stream",
          "name": "stdout",
          "text": [
            "world hello\n"
          ]
        }
      ]
    },
    {
      "cell_type": "code",
      "source": [
        "# 23. Check if a string is alphanumeric.\n",
        "\n",
        "def is_alphanumeric(s):\n",
        "    return s.isalnum()\n",
        "print(is_alphanumeric(\"hello123\"))\n",
        "print(is_alphanumeric(\"hello 123\"))"
      ],
      "metadata": {
        "colab": {
          "base_uri": "https://localhost:8080/"
        },
        "id": "RtDNSrdcZb6P",
        "outputId": "39f69aad-380b-4d38-c78b-eafeebc746a3"
      },
      "execution_count": null,
      "outputs": [
        {
          "output_type": "stream",
          "name": "stdout",
          "text": [
            "True\n",
            "False\n"
          ]
        }
      ]
    },
    {
      "cell_type": "code",
      "source": [
        "# 24. Extract all digits from a string.\n",
        "\n",
        "def extract_digits(s):\n",
        "    return \"\".join(filter(str.isdigit, s))\n",
        "print(extract_digits(\"hello123world456\"))"
      ],
      "metadata": {
        "colab": {
          "base_uri": "https://localhost:8080/"
        },
        "id": "_OMnJnV9Zb3A",
        "outputId": "40b4cc67-2608-41c2-a87f-e47eb7eced39"
      },
      "execution_count": null,
      "outputs": [
        {
          "output_type": "stream",
          "name": "stdout",
          "text": [
            "123456\n"
          ]
        }
      ]
    },
    {
      "cell_type": "code",
      "source": [
        "# 25. Extract all alphabets from a string.\n",
        "\n",
        "def extract_alphabets(s):\n",
        "    return \"\".join(filter(str.isalpha, s))\n",
        "print(extract_alphabets(\"hello123world456\"))"
      ],
      "metadata": {
        "colab": {
          "base_uri": "https://localhost:8080/"
        },
        "id": "ogxmJ8tqZb0Q",
        "outputId": "957a693d-692c-4213-cc5c-360172a1503b"
      },
      "execution_count": null,
      "outputs": [
        {
          "output_type": "stream",
          "name": "stdout",
          "text": [
            "helloworld\n"
          ]
        }
      ]
    },
    {
      "cell_type": "code",
      "source": [
        "# 26. Count the number of uppercase letters in a string.\n",
        "\n",
        "def count_uppercase(s):\n",
        "    return sum(1 for char in s if char.isupper())\n",
        "print(count_uppercase(\"Hello World\"))"
      ],
      "metadata": {
        "colab": {
          "base_uri": "https://localhost:8080/"
        },
        "id": "vVf0pe-OZbxO",
        "outputId": "ef706fe4-4ec1-4d5d-ffeb-58cba0195dd9"
      },
      "execution_count": null,
      "outputs": [
        {
          "output_type": "stream",
          "name": "stdout",
          "text": [
            "2\n"
          ]
        }
      ]
    },
    {
      "cell_type": "code",
      "source": [
        "# 27. Count the number of lowercase letters in a string.\n",
        "\n",
        "def count_lowercase(s):\n",
        "    return sum(1 for char in s if char.islower())\n",
        "print(count_lowercase(\"Hello World\"))"
      ],
      "metadata": {
        "colab": {
          "base_uri": "https://localhost:8080/"
        },
        "id": "kQUHvEBvZbuC",
        "outputId": "05dcf2fe-b8a1-4d12-c735-61933adf528e"
      },
      "execution_count": null,
      "outputs": [
        {
          "output_type": "stream",
          "name": "stdout",
          "text": [
            "8\n"
          ]
        }
      ]
    },
    {
      "cell_type": "code",
      "source": [
        "# 28. Swap the case of each character in a string.\n",
        "\n",
        "def swap_case(s):\n",
        "    return s.swapcase()\n",
        "print(swap_case(\"Hello World\"))\n"
      ],
      "metadata": {
        "id": "GlJiQB_cZbq6"
      },
      "execution_count": null,
      "outputs": []
    },
    {
      "cell_type": "code",
      "source": [
        "# 29. Remove a specific word from a string.\n",
        "\n",
        "def remove_word(s, word_to_remove):\n",
        "    return s.replace(word_to_remove, \"\")\n",
        "print(remove_word(\"hello world\", \"world\"))"
      ],
      "metadata": {
        "colab": {
          "base_uri": "https://localhost:8080/"
        },
        "id": "NCVjNFfmZboQ",
        "outputId": "1842f5db-0f8d-4e23-c0bc-0a79f7bbdedc"
      },
      "execution_count": null,
      "outputs": [
        {
          "output_type": "stream",
          "name": "stdout",
          "text": [
            "hello \n"
          ]
        }
      ]
    },
    {
      "cell_type": "code",
      "source": [
        "# 30. Check if a string is a valid email address.\n",
        "\n",
        "import re\n",
        "\n",
        "def is_valid_email(s):\n",
        "    pattern = r\"^[\\w\\.-]+@[\\w\\.-]+\\.\\w+$\"\n",
        "    return bool(re.match(pattern, s))\n",
        "print(is_valid_email(\"test@example.com\"))\n",
        "print(is_valid_email(\"test@com\"))"
      ],
      "metadata": {
        "colab": {
          "base_uri": "https://localhost:8080/"
        },
        "id": "94kB5O9NZblG",
        "outputId": "9fbd8592-a6f6-4ce1-b063-802871217d63"
      },
      "execution_count": null,
      "outputs": [
        {
          "output_type": "stream",
          "name": "stdout",
          "text": [
            "True\n",
            "False\n"
          ]
        }
      ]
    },
    {
      "cell_type": "code",
      "source": [
        "# 31. Extract the username from an email address string.\n",
        "\n",
        "def extract_username(email):\n",
        "    return email.split('@')[0]\n",
        "print(extract_username(\"test@example.com\"))"
      ],
      "metadata": {
        "colab": {
          "base_uri": "https://localhost:8080/"
        },
        "id": "JVkbB1ZnZbiC",
        "outputId": "ee5ae129-8036-4164-f021-5f05fcaa3561"
      },
      "execution_count": null,
      "outputs": [
        {
          "output_type": "stream",
          "name": "stdout",
          "text": [
            "test\n"
          ]
        }
      ]
    },
    {
      "cell_type": "code",
      "source": [
        "# 32. Extract the domain name from an email address string.\n",
        "\n",
        "def extract_domain(email):\n",
        "    return email.split('@')[1]\n",
        "print(extract_domain(\"test@example.com\"))"
      ],
      "metadata": {
        "colab": {
          "base_uri": "https://localhost:8080/"
        },
        "id": "mx7LDzl7Zbe0",
        "outputId": "a2b88f86-f91e-4567-af5e-15495fd0b91c"
      },
      "execution_count": null,
      "outputs": [
        {
          "output_type": "stream",
          "name": "stdout",
          "text": [
            "example.com\n"
          ]
        }
      ]
    },
    {
      "cell_type": "code",
      "source": [
        "# 33. Replace multiple spaces in a string with a single space.\n",
        "\n",
        "def replace_multiple_spaces(s):\n",
        "    return \" \".join(s.split())\n",
        "print(replace_multiple_spaces(\"hello    world\"))"
      ],
      "metadata": {
        "colab": {
          "base_uri": "https://localhost:8080/"
        },
        "id": "IK7QjOlhZbb2",
        "outputId": "17e6dbb4-4f27-4671-e494-f8d69072d524"
      },
      "execution_count": null,
      "outputs": [
        {
          "output_type": "stream",
          "name": "stdout",
          "text": [
            "hello world\n"
          ]
        }
      ]
    },
    {
      "cell_type": "code",
      "source": [
        "# 34. Check if a string is a valid URL.\n",
        "\n",
        "import re\n",
        "\n",
        "def is_valid_url(s):\n",
        "    pattern = r\"^(http|https)://[a-zA-Z0-9-]+(\\.[a-zA-Z0-9-]+)+([/?].*)?$\"\n",
        "    return bool(re.match(pattern, s))\n",
        "print(is_valid_url(\"https://example.com\"))\n",
        "print(is_valid_url(\"invalid_url\"))"
      ],
      "metadata": {
        "colab": {
          "base_uri": "https://localhost:8080/"
        },
        "id": "dwbLa2_wZbZB",
        "outputId": "c3f90a4a-928c-433a-afc1-06cf44e0d784"
      },
      "execution_count": null,
      "outputs": [
        {
          "output_type": "stream",
          "name": "stdout",
          "text": [
            "True\n",
            "False\n"
          ]
        }
      ]
    },
    {
      "cell_type": "code",
      "source": [
        "# 35. Extract the protocol (http or https) from a URL string.\n",
        "\n",
        "def extract_protocol(url):\n",
        "    return url.split(\"://\")[0]\n",
        "print(extract_protocol(\"https://example.com\"))\n",
        "print(extract_protocol(\"http://example.com\"))"
      ],
      "metadata": {
        "colab": {
          "base_uri": "https://localhost:8080/"
        },
        "id": "ibN83-nJZbVr",
        "outputId": "0a9f09d6-33dd-464a-a6f2-8024ee7d4fbf"
      },
      "execution_count": null,
      "outputs": [
        {
          "output_type": "stream",
          "name": "stdout",
          "text": [
            "https\n",
            "http\n"
          ]
        }
      ]
    },
    {
      "cell_type": "code",
      "source": [
        "# 36. Find the frequency of each character in a string.\n",
        "\n",
        "from collections import Counter\n",
        "\n",
        "def character_frequency(s):\n",
        "    return dict(Counter(s))\n",
        "print(character_frequency(\"hello world\"))"
      ],
      "metadata": {
        "colab": {
          "base_uri": "https://localhost:8080/"
        },
        "id": "eqjEfR8iZbS5",
        "outputId": "89114c58-d79a-4a8f-fbed-934c1073ba15"
      },
      "execution_count": null,
      "outputs": [
        {
          "output_type": "stream",
          "name": "stdout",
          "text": [
            "{'h': 1, 'e': 1, 'l': 3, 'o': 2, ' ': 1, 'w': 1, 'r': 1, 'd': 1}\n"
          ]
        }
      ]
    },
    {
      "cell_type": "code",
      "source": [
        "# 37. Remove all punctuation from a string.\n",
        "\n",
        "import string\n",
        "\n",
        "def remove_punctuation(s):\n",
        "    return s.translate(str.maketrans(\"\", \"\", string.punctuation))\n",
        "print(remove_punctuation(\"hello, world!\"))"
      ],
      "metadata": {
        "colab": {
          "base_uri": "https://localhost:8080/"
        },
        "id": "Xs1OaYOKe43O",
        "outputId": "a5dad4b9-44ab-4d9d-ba60-1a48081155bd"
      },
      "execution_count": null,
      "outputs": [
        {
          "output_type": "stream",
          "name": "stdout",
          "text": [
            "hello world\n"
          ]
        }
      ]
    },
    {
      "cell_type": "code",
      "source": [
        "# 38. Check if a string contains only digits.\n",
        "\n",
        "def contains_only_digits(s):\n",
        "    return s.isdigit()\n",
        "print(contains_only_digits(\"12345\"))\n",
        "print(contains_only_digits(\"123a5\"))"
      ],
      "metadata": {
        "colab": {
          "base_uri": "https://localhost:8080/"
        },
        "id": "oQ6blpa9e4zz",
        "outputId": "3a90c84a-5a20-41a6-e870-c3448ff27340"
      },
      "execution_count": null,
      "outputs": [
        {
          "output_type": "stream",
          "name": "stdout",
          "text": [
            "True\n",
            "False\n"
          ]
        }
      ]
    },
    {
      "cell_type": "code",
      "source": [
        "# 39. Check if a string contains only alphabets.\n",
        "\n",
        "def contains_only_alphabets(s):\n",
        "    return s.isalpha()\n",
        "print(contains_only_alphabets(\"hello\"))\n",
        "print(contains_only_alphabets(\"hello123\"))"
      ],
      "metadata": {
        "colab": {
          "base_uri": "https://localhost:8080/"
        },
        "id": "hNkPCjNke4xG",
        "outputId": "122d0434-7cd2-4072-ef05-7a0f43c7d14f"
      },
      "execution_count": null,
      "outputs": [
        {
          "output_type": "stream",
          "name": "stdout",
          "text": [
            "True\n",
            "False\n"
          ]
        }
      ]
    },
    {
      "cell_type": "code",
      "source": [
        "# 40. Convert a string to a list of characters.\n",
        "\n",
        "def string_to_list_of_characters(s):\n",
        "    return list(s)\n",
        "print(string_to_list_of_characters(\"hello\"))"
      ],
      "metadata": {
        "colab": {
          "base_uri": "https://localhost:8080/"
        },
        "id": "yPGisdCHe4uf",
        "outputId": "56d2e180-1076-4a87-a58c-fb3d3d6d99aa"
      },
      "execution_count": null,
      "outputs": [
        {
          "output_type": "stream",
          "name": "stdout",
          "text": [
            "['h', 'e', 'l', 'l', 'o']\n"
          ]
        }
      ]
    },
    {
      "cell_type": "code",
      "source": [
        "# 41. Check if two strings are anagrams.\n",
        "\n",
        "def are_anagrams(s1, s2):\n",
        "    return sorted(s1) == sorted(s2)\n",
        "print(are_anagrams(\"listen\", \"silent\"))\n",
        "print(are_anagrams(\"hello\", \"world\"))\n"
      ],
      "metadata": {
        "colab": {
          "base_uri": "https://localhost:8080/"
        },
        "id": "0fvVjCfme4rf",
        "outputId": "64df3ef8-5526-4081-f28c-4d132d1cf098"
      },
      "execution_count": null,
      "outputs": [
        {
          "output_type": "stream",
          "name": "stdout",
          "text": [
            "True\n",
            "False\n"
          ]
        }
      ]
    },
    {
      "cell_type": "code",
      "source": [
        "# 42. Encode a string using a Caesar cipher.\n",
        "\n",
        "def caesar_cipher_encode(s, shift):\n",
        "    result = \"\"\n",
        "    for char in s:\n",
        "        if char.isalpha():\n",
        "            shift_base = 65 if char.isupper() else 97\n",
        "            result += chr((ord(char) - shift_base + shift) % 26 + shift_base)\n",
        "        else:\n",
        "            result += char\n",
        "    return result\n",
        "\n",
        "print(caesar_cipher_encode(\"hello\", 3))"
      ],
      "metadata": {
        "colab": {
          "base_uri": "https://localhost:8080/"
        },
        "id": "xGpO6jmLe4oU",
        "outputId": "3bcf1ca2-3290-43f8-d74c-744135df344e"
      },
      "execution_count": null,
      "outputs": [
        {
          "output_type": "stream",
          "name": "stdout",
          "text": [
            "khoor\n"
          ]
        }
      ]
    },
    {
      "cell_type": "code",
      "source": [
        "# 43. Decode a Caesar cipher encoded string.\n",
        "\n",
        "def caesar_cipher_decode(s, shift):\n",
        "    return caesar_cipher_encode(s, -shift)\n",
        "print(caesar_cipher_decode(\"khoor\", 3))"
      ],
      "metadata": {
        "colab": {
          "base_uri": "https://localhost:8080/"
        },
        "id": "M6JighSge4lE",
        "outputId": "cad3f3e1-cd93-4d19-ae59-e7ffc301fde2"
      },
      "execution_count": null,
      "outputs": [
        {
          "output_type": "stream",
          "name": "stdout",
          "text": [
            "hello\n"
          ]
        }
      ]
    },
    {
      "cell_type": "code",
      "source": [
        "# 44. Find the most frequent word in a string.\n",
        "\n",
        "from collections import Counter\n",
        "\n",
        "def most_frequent_word(s):\n",
        "    words = s.split()\n",
        "    word_counts = Counter(words)\n",
        "    most_common_word, _ = word_counts.most_common(1)[0]\n",
        "    return most_common_word\n",
        "print(most_frequent_word(\"hello world hello\"))"
      ],
      "metadata": {
        "colab": {
          "base_uri": "https://localhost:8080/"
        },
        "id": "BnvW-wNzhO6v",
        "outputId": "b40cf559-eb92-4b1c-e4f5-cad636e925b6"
      },
      "execution_count": null,
      "outputs": [
        {
          "output_type": "stream",
          "name": "stdout",
          "text": [
            "hello\n"
          ]
        }
      ]
    },
    {
      "cell_type": "code",
      "source": [
        "# 45. Find all unique words in a string.\n",
        "\n",
        "def unique_words(s):\n",
        "    words = s.split()\n",
        "    return set(words)\n",
        "print(unique_words(\"hello world hello\"))"
      ],
      "metadata": {
        "colab": {
          "base_uri": "https://localhost:8080/"
        },
        "id": "xSgOqfN_hO26",
        "outputId": "d54e675b-0612-4026-9bd4-34fe4cd8419e"
      },
      "execution_count": null,
      "outputs": [
        {
          "output_type": "stream",
          "name": "stdout",
          "text": [
            "{'world', 'hello'}\n"
          ]
        }
      ]
    },
    {
      "cell_type": "code",
      "source": [
        "# 46. Count the number of syllables in a string.\n",
        "\n",
        "import re\n",
        "\n",
        "def count_syllables(s):\n",
        "    words = s.split()\n",
        "    syllable_count = 0\n",
        "    for word in words:\n",
        "        syllables = re.findall(r'[aeiouyAEIOUY]+', word)\n",
        "        syllable_count += len(syllables)\n",
        "    return syllable_count\n",
        "print(count_syllables(\"hello world\"))"
      ],
      "metadata": {
        "colab": {
          "base_uri": "https://localhost:8080/"
        },
        "id": "lI722t5VhOzP",
        "outputId": "23dfb330-531e-4644-8a1c-aba105b85b49"
      },
      "execution_count": null,
      "outputs": [
        {
          "output_type": "stream",
          "name": "stdout",
          "text": [
            "3\n"
          ]
        }
      ]
    },
    {
      "cell_type": "code",
      "source": [
        "# 47. Check if a string contains any special characters.\n",
        "\n",
        "import re\n",
        "\n",
        "def contains_special_characters(s):\n",
        "    pattern = r\"[^a-zA-Z0-9\\s]\"\n",
        "    return bool(re.search(pattern, s))\n",
        "\n",
        "print(contains_special_characters(\"hello@world\"))\n",
        "print(contains_special_characters(\"hello world\"))"
      ],
      "metadata": {
        "colab": {
          "base_uri": "https://localhost:8080/"
        },
        "id": "tDV1vEdihOv8",
        "outputId": "be9d18b9-e681-4b9e-b4d3-9a98510dc00d"
      },
      "execution_count": null,
      "outputs": [
        {
          "output_type": "stream",
          "name": "stdout",
          "text": [
            "True\n",
            "False\n"
          ]
        }
      ]
    },
    {
      "cell_type": "code",
      "source": [
        "# 48. Remove the nth word from a string.\n",
        "\n",
        "def remove_nth_word(s, n):\n",
        "    words = s.split()\n",
        "    if 0 <= n < len(words):\n",
        "        del words[n]\n",
        "    return \" \".join(words)\n",
        "\n",
        "print(remove_nth_word(\"hello wonderful world\", 1))\n",
        "print(remove_nth_word(\"hello world\", 2))"
      ],
      "metadata": {
        "colab": {
          "base_uri": "https://localhost:8080/"
        },
        "id": "NuMQvHXfhOsu",
        "outputId": "c1dfd983-080c-4f1c-fb34-aec7976e106c"
      },
      "execution_count": null,
      "outputs": [
        {
          "output_type": "stream",
          "name": "stdout",
          "text": [
            "hello world\n",
            "hello world\n"
          ]
        }
      ]
    },
    {
      "cell_type": "code",
      "source": [
        "# 49. Insert a word at the nth position in a string.\n",
        "\n",
        "def insert_word_at_nth_position(s, word, n):\n",
        "    words = s.split()\n",
        "    if 0 <= n <= len(words):\n",
        "        words.insert(n, word)\n",
        "    return \" \".join(words)\n",
        "\n",
        "print(insert_word_at_nth_position(\"hello world\", \"wonderful\", 1))\n",
        "print(insert_word_at_nth_position(\"hello world\", \"amazing\", 0))"
      ],
      "metadata": {
        "colab": {
          "base_uri": "https://localhost:8080/"
        },
        "id": "JFhNtp7phOpP",
        "outputId": "ca3ce464-cdad-49ec-9eeb-beaf6e8052b5"
      },
      "execution_count": null,
      "outputs": [
        {
          "output_type": "stream",
          "name": "stdout",
          "text": [
            "hello wonderful world\n",
            "amazing hello world\n"
          ]
        }
      ]
    },
    {
      "cell_type": "code",
      "source": [
        "# 50. Convert a CSV string to a list of lists.\n",
        "\n",
        "def csv_to_list_of_lists(csv_string):\n",
        "    lines = csv_string.strip().split(\"\\n\")\n",
        "    return [line.split(\",\") for line in lines]\n",
        "\n",
        "csv_data = \"name,age,city\\nJohn,25,New York\\nJane,30,Los Angeles\"\n",
        "print(csv_to_list_of_lists(csv_data))"
      ],
      "metadata": {
        "colab": {
          "base_uri": "https://localhost:8080/"
        },
        "id": "06SEg3-ihOl2",
        "outputId": "0bc0ac3d-2fd4-4bad-adda-3433f2be6eb2"
      },
      "execution_count": null,
      "outputs": [
        {
          "output_type": "stream",
          "name": "stdout",
          "text": [
            "[['name', 'age', 'city'], ['John', '25', 'New York'], ['Jane', '30', 'Los Angeles']]\n"
          ]
        }
      ]
    },
    {
      "cell_type": "markdown",
      "source": [
        "List Based Practice Problem"
      ],
      "metadata": {
        "id": "X2fGecnytsPC"
      }
    },
    {
      "cell_type": "code",
      "source": [
        "# 1. Create a list with integers from 1 to 10.\n",
        "\n",
        "my_list = list(range(1, 11))\n",
        "print(my_list)"
      ],
      "metadata": {
        "colab": {
          "base_uri": "https://localhost:8080/"
        },
        "id": "NCRFtvZVhOiy",
        "outputId": "0df04294-01ab-4471-c02f-ecd258a2022c"
      },
      "execution_count": null,
      "outputs": [
        {
          "output_type": "stream",
          "name": "stdout",
          "text": [
            "[1, 2, 3, 4, 5, 6, 7, 8, 9, 10]\n"
          ]
        }
      ]
    },
    {
      "cell_type": "code",
      "source": [
        "# 2. Find the length of a list without using the `len()` function.\n",
        "\n",
        "def list_length(lst):\n",
        "    count = 0\n",
        "    for _ in lst:\n",
        "        count += 1\n",
        "    return count\n",
        "my_list = [1, 2, 3, 4, 5]\n",
        "print(list_length(my_list))"
      ],
      "metadata": {
        "colab": {
          "base_uri": "https://localhost:8080/"
        },
        "id": "p6rOhHGjt3Qi",
        "outputId": "77e888ab-287f-412f-b964-06a508623d24"
      },
      "execution_count": null,
      "outputs": [
        {
          "output_type": "stream",
          "name": "stdout",
          "text": [
            "5\n"
          ]
        }
      ]
    },
    {
      "cell_type": "code",
      "source": [
        "# 3. Append an element to the end of a list.\n",
        "\n",
        "my_list = [1, 2, 3, 4, 5]\n",
        "my_list.append(6)\n",
        "print(my_list)"
      ],
      "metadata": {
        "colab": {
          "base_uri": "https://localhost:8080/"
        },
        "id": "_QL8l3fKt3VP",
        "outputId": "777c36f7-5eaa-475e-891e-1ed57f4b5d54"
      },
      "execution_count": null,
      "outputs": [
        {
          "output_type": "stream",
          "name": "stdout",
          "text": [
            "[1, 2, 3, 4, 5, 6]\n"
          ]
        }
      ]
    },
    {
      "cell_type": "code",
      "source": [
        "# 4. Insert an element at a specific index in a list.\n",
        "\n",
        "my_list = [1, 2, 4, 5]\n",
        "my_list.insert(2, 3)  # Insert 3 at index 2\n",
        "print(my_list)"
      ],
      "metadata": {
        "colab": {
          "base_uri": "https://localhost:8080/"
        },
        "id": "zhVDqlJCt3Y3",
        "outputId": "34d0c8c8-4933-4018-8f38-a34e9aefa769"
      },
      "execution_count": null,
      "outputs": [
        {
          "output_type": "stream",
          "name": "stdout",
          "text": [
            "[1, 2, 3, 4, 5]\n"
          ]
        }
      ]
    },
    {
      "cell_type": "code",
      "source": [
        "# 5. Remove an element from a list by its value.\n",
        "\n",
        "my_list = [1, 2, 3, 4, 5]\n",
        "my_list.remove(3)  # Remove element with value 3\n",
        "print(my_list)"
      ],
      "metadata": {
        "colab": {
          "base_uri": "https://localhost:8080/"
        },
        "id": "JhRinkFzt3c-",
        "outputId": "8f7f6661-3579-4138-9a29-dfd9a951c7e4"
      },
      "execution_count": null,
      "outputs": [
        {
          "output_type": "stream",
          "name": "stdout",
          "text": [
            "[1, 2, 4, 5]\n"
          ]
        }
      ]
    },
    {
      "cell_type": "code",
      "source": [
        "# 6. Remove an element from a list by its index.\n",
        "\n",
        "my_list = [1, 2, 3, 4, 5]\n",
        "del my_list[2]  # Remove element at index 2\n",
        "print(my_list)"
      ],
      "metadata": {
        "colab": {
          "base_uri": "https://localhost:8080/"
        },
        "id": "Y9MWihitt3h_",
        "outputId": "114c8c3e-e588-49f6-88b5-7d53d678007e"
      },
      "execution_count": null,
      "outputs": [
        {
          "output_type": "stream",
          "name": "stdout",
          "text": [
            "[1, 2, 4, 5]\n"
          ]
        }
      ]
    },
    {
      "cell_type": "code",
      "source": [
        "# 7. Check if an element exists in a list.\n",
        "\n",
        "my_list = [1, 2, 3, 4, 5]\n",
        "element = 3\n",
        "if element in my_list:\n",
        "    print(f\"{element} exists in the list.\")\n",
        "else:\n",
        "    print(f\"{element} does not exist in the list.\")\n"
      ],
      "metadata": {
        "colab": {
          "base_uri": "https://localhost:8080/"
        },
        "id": "sCsxoNnUt3lT",
        "outputId": "1cd8dca6-6ff2-4ae3-fd91-8efe6850cae4"
      },
      "execution_count": null,
      "outputs": [
        {
          "output_type": "stream",
          "name": "stdout",
          "text": [
            "3 exists in the list.\n"
          ]
        }
      ]
    },
    {
      "cell_type": "code",
      "source": [
        "# 8. Find the index of the first occurrence of an element in a list.\n",
        "\n",
        "my_list = [10, 20, 30, 20, 40]\n",
        "element = 20\n",
        "index = my_list.index(element)\n",
        "print(\"Index of the first occurrence:\", index)"
      ],
      "metadata": {
        "colab": {
          "base_uri": "https://localhost:8080/"
        },
        "id": "OJB9WW-Wt3tp",
        "outputId": "884b5c31-71c1-47eb-ca77-b52162e1f27f"
      },
      "execution_count": null,
      "outputs": [
        {
          "output_type": "stream",
          "name": "stdout",
          "text": [
            "Index of the first occurrence: 1\n"
          ]
        }
      ]
    },
    {
      "cell_type": "code",
      "source": [
        "# 9. Count the occurrences of an element in a list.\n",
        "\n",
        "my_list = [10, 20, 30, 20, 40, 20]\n",
        "element = 20\n",
        "count = my_list.count(element)\n",
        "print(\"Number of occurrences:\", count)"
      ],
      "metadata": {
        "colab": {
          "base_uri": "https://localhost:8080/"
        },
        "id": "UXAeoFeOt3xV",
        "outputId": "18f96aaf-c724-404b-e805-24b33b0fb986"
      },
      "execution_count": null,
      "outputs": [
        {
          "output_type": "stream",
          "name": "stdout",
          "text": [
            "Number of occurrences: 3\n"
          ]
        }
      ]
    },
    {
      "cell_type": "code",
      "source": [
        "# 10. Reverse the order of elements in a list.\n",
        "\n",
        "# Using reverse() method\n",
        "my_list = [10, 20, 30, 40]\n",
        "my_list.reverse()\n",
        "print(\"Reversed list:\", my_list)\n",
        "\n",
        "# Using slicing\n",
        "my_list = [10, 20, 30, 40]\n",
        "reversed_list = my_list[::-1]\n",
        "print(\"Reversed list:\", reversed_list)\n"
      ],
      "metadata": {
        "colab": {
          "base_uri": "https://localhost:8080/"
        },
        "id": "Bh1Cmetet31O",
        "outputId": "e8409cc7-c5ae-4be5-fbd6-16d51f9ce8f8"
      },
      "execution_count": null,
      "outputs": [
        {
          "output_type": "stream",
          "name": "stdout",
          "text": [
            "Reversed list: [40, 30, 20, 10]\n",
            "Reversed list: [40, 30, 20, 10]\n"
          ]
        }
      ]
    },
    {
      "cell_type": "code",
      "source": [
        "# 11. Sort a list in ascending order.\n",
        "\n",
        "my_list = [30, 10, 20, 40]\n",
        "my_list.sort()\n",
        "print(\"Sorted list in ascending order:\", my_list)\n",
        "\n",
        "# Or using sorted()\n",
        "sorted_list = sorted(my_list)\n",
        "print(\"Sorted list in ascending order:\", sorted_list)\n"
      ],
      "metadata": {
        "colab": {
          "base_uri": "https://localhost:8080/"
        },
        "id": "hleCqZuxt35R",
        "outputId": "7d3dc8cc-c007-4682-bcbf-2732d08ef25f"
      },
      "execution_count": null,
      "outputs": [
        {
          "output_type": "stream",
          "name": "stdout",
          "text": [
            "Sorted list in ascending order: [10, 20, 30, 40]\n",
            "Sorted list in ascending order: [10, 20, 30, 40]\n"
          ]
        }
      ]
    },
    {
      "cell_type": "code",
      "source": [
        "# 12. Sort a list in descending order.\n",
        "\n",
        "my_list = [30, 10, 20, 40]\n",
        "my_list.sort(reverse=True)\n",
        "print(\"Sorted list in descending order:\", my_list)\n",
        "\n",
        "# Or using sorted()\n",
        "sorted_list = sorted(my_list, reverse=True)\n",
        "print(\"Sorted list in descending order:\", sorted_list)\n"
      ],
      "metadata": {
        "colab": {
          "base_uri": "https://localhost:8080/"
        },
        "id": "m5JopJVxt39R",
        "outputId": "ee319930-6437-4483-87ba-01de20336e24"
      },
      "execution_count": null,
      "outputs": [
        {
          "output_type": "stream",
          "name": "stdout",
          "text": [
            "Sorted list in descending order: [40, 30, 20, 10]\n",
            "Sorted list in descending order: [40, 30, 20, 10]\n"
          ]
        }
      ]
    },
    {
      "cell_type": "code",
      "source": [
        "# 13. Create a list of even numbers from 1 to 20.\n",
        "\n",
        "even_numbers = [x for x in range(1, 21) if x % 2 == 0]\n",
        "print(\"List of even numbers from 1 to 20:\", even_numbers)\n"
      ],
      "metadata": {
        "colab": {
          "base_uri": "https://localhost:8080/"
        },
        "id": "HnvrR7z6t4A5",
        "outputId": "3d544932-2bb3-4b8c-e7f0-6914664dd0f8"
      },
      "execution_count": null,
      "outputs": [
        {
          "output_type": "stream",
          "name": "stdout",
          "text": [
            "List of even numbers from 1 to 20: [2, 4, 6, 8, 10, 12, 14, 16, 18, 20]\n"
          ]
        }
      ]
    },
    {
      "cell_type": "code",
      "source": [
        "# 14. Create a list of odd numbers from 1 to 20.\n",
        "\n",
        "odd_numbers = [x for x in range(1, 21) if x % 2 != 0]\n",
        "print(\"List of odd numbers from 1 to 20:\", odd_numbers)\n"
      ],
      "metadata": {
        "colab": {
          "base_uri": "https://localhost:8080/"
        },
        "id": "dSpYUML6t4DQ",
        "outputId": "2f463da0-1554-46f0-cf56-dcbf2e523a65"
      },
      "execution_count": null,
      "outputs": [
        {
          "output_type": "stream",
          "name": "stdout",
          "text": [
            "List of odd numbers from 1 to 20: [1, 3, 5, 7, 9, 11, 13, 15, 17, 19]\n"
          ]
        }
      ]
    },
    {
      "cell_type": "code",
      "source": [
        "# 15. Find the sum of all elements in a list.\n",
        "\n",
        "my_list = [10, 20, 30, 40]\n",
        "total_sum = sum(my_list)\n",
        "print(\"Sum of all elements in the list:\", total_sum)\n"
      ],
      "metadata": {
        "colab": {
          "base_uri": "https://localhost:8080/"
        },
        "id": "hl3Ctb6At4G3",
        "outputId": "8b8ebb88-7a9e-4166-9e63-129f316c7255"
      },
      "execution_count": null,
      "outputs": [
        {
          "output_type": "stream",
          "name": "stdout",
          "text": [
            "Sum of all elements in the list: 100\n"
          ]
        }
      ]
    },
    {
      "cell_type": "code",
      "source": [
        "# 16. Find the maximum value in a list.\n",
        "\n",
        "my_list = [10, 20, 30, 40]\n",
        "max_value = max(my_list)\n",
        "print(\"Maximum value in the list:\", max_value)\n"
      ],
      "metadata": {
        "colab": {
          "base_uri": "https://localhost:8080/"
        },
        "id": "obAH5tp-t4Kv",
        "outputId": "d29c44d6-4b9e-4843-9deb-4d757d4d035f"
      },
      "execution_count": null,
      "outputs": [
        {
          "output_type": "stream",
          "name": "stdout",
          "text": [
            "Maximum value in the list: 40\n"
          ]
        }
      ]
    },
    {
      "cell_type": "code",
      "source": [
        "# 17. Find the minimum value in a list.\n",
        "\n",
        "my_list = [10, 20, 30, 40]\n",
        "min_value = min(my_list)\n",
        "print(\"Minimum value in the list:\", min_value)\n"
      ],
      "metadata": {
        "colab": {
          "base_uri": "https://localhost:8080/"
        },
        "id": "oWcOs34Lt4YO",
        "outputId": "343207f4-6c75-487a-e489-286550af6890"
      },
      "execution_count": null,
      "outputs": [
        {
          "output_type": "stream",
          "name": "stdout",
          "text": [
            "Minimum value in the list: 10\n"
          ]
        }
      ]
    },
    {
      "cell_type": "code",
      "source": [
        "# 18. Create a list of squares of numbers from 1 to 10.\n",
        "\n",
        "squares = [x**2 for x in range(1, 11)]\n",
        "print(\"List of squares from 1 to 10:\", squares)\n"
      ],
      "metadata": {
        "colab": {
          "base_uri": "https://localhost:8080/"
        },
        "id": "J4-QU1r-t4dG",
        "outputId": "ab8ca7fc-79b1-4e84-aca3-da9bed1aaa65"
      },
      "execution_count": null,
      "outputs": [
        {
          "output_type": "stream",
          "name": "stdout",
          "text": [
            "List of squares from 1 to 10: [1, 4, 9, 16, 25, 36, 49, 64, 81, 100]\n"
          ]
        }
      ]
    },
    {
      "cell_type": "code",
      "source": [
        "# 19. Create a list of random numbers.\n",
        "\n",
        "import random\n",
        "random_numbers = [random.randint(1, 100) for _ in range(10)]\n",
        "print(\"List of random numbers:\", random_numbers)\n"
      ],
      "metadata": {
        "colab": {
          "base_uri": "https://localhost:8080/"
        },
        "id": "e3tIu5hdt4hc",
        "outputId": "1eabb628-cc22-4873-a027-970d02fa4731"
      },
      "execution_count": null,
      "outputs": [
        {
          "output_type": "stream",
          "name": "stdout",
          "text": [
            "List of random numbers: [5, 46, 97, 63, 65, 84, 10, 12, 79, 52]\n"
          ]
        }
      ]
    },
    {
      "cell_type": "code",
      "source": [
        "# 20. Remove duplicates from a list.\n",
        "\n",
        "my_list = [10, 20, 30, 20, 40, 10]\n",
        "unique_list = list(set(my_list))\n",
        "print(\"List after removing duplicates:\", unique_list)\n"
      ],
      "metadata": {
        "colab": {
          "base_uri": "https://localhost:8080/"
        },
        "id": "OzyFT8Q6t4lH",
        "outputId": "e2f33c5b-665a-4b46-8740-1b0a08a89624"
      },
      "execution_count": null,
      "outputs": [
        {
          "output_type": "stream",
          "name": "stdout",
          "text": [
            "List after removing duplicates: [40, 10, 20, 30]\n"
          ]
        }
      ]
    },
    {
      "cell_type": "code",
      "source": [
        "# 21. Find the common elements between two lists.\n",
        "\n",
        "list1 = [10, 20, 30, 40]\n",
        "list2 = [30, 40, 50, 60]\n",
        "common_elements = list(set(list1) & set(list2))\n",
        "print(\"Common elements between two lists:\", common_elements)\n"
      ],
      "metadata": {
        "colab": {
          "base_uri": "https://localhost:8080/"
        },
        "id": "R0T0pJLWt4pz",
        "outputId": "b364e4cb-aee3-4942-dea0-1469e6fc9ea9"
      },
      "execution_count": null,
      "outputs": [
        {
          "output_type": "stream",
          "name": "stdout",
          "text": [
            "Common elements between two lists: [40, 30]\n"
          ]
        }
      ]
    },
    {
      "cell_type": "code",
      "source": [
        "# 22. Find the difference between two lists.\n",
        "\n",
        "list1 = [10, 20, 30, 40]\n",
        "list2 = [30, 40, 50, 60]\n",
        "difference = list(set(list1) - set(list2))\n",
        "print(\"Difference between two lists:\", difference)\n"
      ],
      "metadata": {
        "colab": {
          "base_uri": "https://localhost:8080/"
        },
        "id": "kJGSyacdt4yn",
        "outputId": "581d1521-da7d-42b0-ff05-1e8d793126dd"
      },
      "execution_count": null,
      "outputs": [
        {
          "output_type": "stream",
          "name": "stdout",
          "text": [
            "Difference between two lists: [10, 20]\n"
          ]
        }
      ]
    },
    {
      "cell_type": "code",
      "source": [
        "# 23. Merge two lists.\n",
        "\n",
        "list1 = [10, 20, 30]\n",
        "list2 = [40, 50, 60]\n",
        "merged_list = list1 + list2\n",
        "print(\"Merged list:\", merged_list)\n"
      ],
      "metadata": {
        "colab": {
          "base_uri": "https://localhost:8080/"
        },
        "id": "T-EMftrXt42F",
        "outputId": "b7b9928f-c47b-43f9-d46f-1d9dfd51f02c"
      },
      "execution_count": null,
      "outputs": [
        {
          "output_type": "stream",
          "name": "stdout",
          "text": [
            "Merged list: [10, 20, 30, 40, 50, 60]\n"
          ]
        }
      ]
    },
    {
      "cell_type": "code",
      "source": [
        "# 24. Multiply all elements in a list by 2.\n",
        "\n",
        "my_list = [10, 20, 30, 40]\n",
        "multiplied_list = [x * 2 for x in my_list]\n",
        "print(\"List after multiplying all elements by 2:\", multiplied_list)\n"
      ],
      "metadata": {
        "colab": {
          "base_uri": "https://localhost:8080/"
        },
        "id": "0Q8eSdSDt461",
        "outputId": "d8d08f01-be67-4a3f-b048-d3100dc947b6"
      },
      "execution_count": null,
      "outputs": [
        {
          "output_type": "stream",
          "name": "stdout",
          "text": [
            "List after multiplying all elements by 2: [20, 40, 60, 80]\n"
          ]
        }
      ]
    },
    {
      "cell_type": "code",
      "source": [
        "# 25. Filter out all even numbers from a list.\n",
        "\n",
        "my_list = [10, 15, 20, 25, 30, 35]\n",
        "filtered_list = [x for x in my_list if x % 2 != 0]\n",
        "print(\"List after filtering out even numbers:\", filtered_list)\n"
      ],
      "metadata": {
        "colab": {
          "base_uri": "https://localhost:8080/"
        },
        "id": "XBszOdu7hOe0",
        "outputId": "d9d10fb2-4a4c-45f6-f1d3-7e999f0c0b22"
      },
      "execution_count": null,
      "outputs": [
        {
          "output_type": "stream",
          "name": "stdout",
          "text": [
            "List after filtering out even numbers: [15, 25, 35]\n"
          ]
        }
      ]
    },
    {
      "cell_type": "code",
      "source": [
        "# 26. Convert a list of strings to a list of integers.\n",
        "\n",
        "str_list = [\"1\", \"2\", \"3\", \"4\"]\n",
        "int_list = [int(x) for x in str_list]\n",
        "print(\"List of integers:\", int_list)\n"
      ],
      "metadata": {
        "colab": {
          "base_uri": "https://localhost:8080/"
        },
        "id": "ApbXzy2CzRSB",
        "outputId": "1c40995b-852a-4801-c162-8f95077bfb7e"
      },
      "execution_count": null,
      "outputs": [
        {
          "output_type": "stream",
          "name": "stdout",
          "text": [
            "List of integers: [1, 2, 3, 4]\n"
          ]
        }
      ]
    },
    {
      "cell_type": "code",
      "source": [
        "# 27. Convert a list of integers to a list of strings.\n",
        "\n",
        "int_list = [1, 2, 3, 4]\n",
        "str_list = [str(x) for x in int_list]\n",
        "print(\"List of strings:\", str_list)\n"
      ],
      "metadata": {
        "colab": {
          "base_uri": "https://localhost:8080/"
        },
        "id": "DLPlqpAyzRNC",
        "outputId": "9b9761c4-4690-4678-9958-0344999a9818"
      },
      "execution_count": null,
      "outputs": [
        {
          "output_type": "stream",
          "name": "stdout",
          "text": [
            "List of strings: ['1', '2', '3', '4']\n"
          ]
        }
      ]
    },
    {
      "cell_type": "code",
      "source": [
        "# 28. Flatten a nested list.\n",
        "\n",
        "nested_list = [[1, 2], [3, 4], [5, 6]]\n",
        "flattened_list = [item for sublist in nested_list for item in sublist]\n",
        "print(\"Flattened list:\", flattened_list)\n"
      ],
      "metadata": {
        "colab": {
          "base_uri": "https://localhost:8080/"
        },
        "id": "kvwEiyzmzRHU",
        "outputId": "c4ef2ef9-6980-4bdb-df5d-decf3f18cff4"
      },
      "execution_count": null,
      "outputs": [
        {
          "output_type": "stream",
          "name": "stdout",
          "text": [
            "Flattened list: [1, 2, 3, 4, 5, 6]\n"
          ]
        }
      ]
    },
    {
      "cell_type": "code",
      "source": [
        "# 29. Create a list of the first 10 Fibonacci numbers\n",
        "\n",
        "fibonacci = [0, 1]\n",
        "for _ in range(8):  # We already have 2 numbers, so loop for 8 more\n",
        "    fibonacci.append(fibonacci[-1] + fibonacci[-2])\n",
        "print(\"First 10 Fibonacci numbers:\", fibonacci)\n"
      ],
      "metadata": {
        "colab": {
          "base_uri": "https://localhost:8080/"
        },
        "id": "Sg81upK5zRCg",
        "outputId": "7543752f-2236-4bd9-faea-e046b2ee4c2d"
      },
      "execution_count": null,
      "outputs": [
        {
          "output_type": "stream",
          "name": "stdout",
          "text": [
            "First 10 Fibonacci numbers: [0, 1, 1, 2, 3, 5, 8, 13, 21, 34]\n"
          ]
        }
      ]
    },
    {
      "cell_type": "code",
      "source": [
        "# 30. Check if a list is sorted.\n",
        "\n",
        "my_list = [10, 20, 30, 40]\n",
        "is_sorted = my_list == sorted(my_list)\n",
        "print(\"Is the list sorted?\", is_sorted)\n"
      ],
      "metadata": {
        "colab": {
          "base_uri": "https://localhost:8080/"
        },
        "id": "G7ma8ldHzQ9s",
        "outputId": "5dad9fc2-73cc-4fa1-b281-5a5664e673de"
      },
      "execution_count": null,
      "outputs": [
        {
          "output_type": "stream",
          "name": "stdout",
          "text": [
            "Is the list sorted? True\n"
          ]
        }
      ]
    },
    {
      "cell_type": "code",
      "source": [
        "# 31. Rotate a list to the left by n positions.\n",
        "\n",
        "my_list = [1, 2, 3, 4, 5]\n",
        "n = 2\n",
        "rotated_list = my_list[n:] + my_list[:n]\n",
        "print(\"List rotated to the left by 2 positions:\", rotated_list)\n"
      ],
      "metadata": {
        "colab": {
          "base_uri": "https://localhost:8080/"
        },
        "id": "i316YQzEzQ4y",
        "outputId": "d96fe963-64c4-401e-ee74-c4e6f8d5c16b"
      },
      "execution_count": null,
      "outputs": [
        {
          "output_type": "stream",
          "name": "stdout",
          "text": [
            "List rotated to the left by 2 positions: [3, 4, 5, 1, 2]\n"
          ]
        }
      ]
    },
    {
      "cell_type": "code",
      "source": [
        "# 32. Rotate a list to the right by n positions.\n",
        "\n",
        "my_list = [1, 2, 3, 4, 5]\n",
        "n = 2\n",
        "rotated_list = my_list[-n:] + my_list[:-n]\n",
        "print(\"List rotated to the right by 2 positions:\", rotated_list)\n"
      ],
      "metadata": {
        "colab": {
          "base_uri": "https://localhost:8080/"
        },
        "id": "E0_nOvZHzQ0U",
        "outputId": "2ac785c5-6e89-457a-bfe5-c984f2159923"
      },
      "execution_count": null,
      "outputs": [
        {
          "output_type": "stream",
          "name": "stdout",
          "text": [
            "List rotated to the right by 2 positions: [4, 5, 1, 2, 3]\n"
          ]
        }
      ]
    },
    {
      "cell_type": "code",
      "source": [
        "# 33. Create a list of prime numbers up to 50.\n",
        "\n",
        "def is_prime(num):\n",
        "    if num < 2:\n",
        "        return False\n",
        "    for i in range(2, int(num**0.5) + 1):\n",
        "        if num % i == 0:\n",
        "            return False\n",
        "    return True\n",
        "\n",
        "prime_numbers = [x for x in range(2, 51) if is_prime(x)]\n",
        "print(\"List of prime numbers up to 50:\", prime_numbers)\n"
      ],
      "metadata": {
        "colab": {
          "base_uri": "https://localhost:8080/"
        },
        "id": "gAkxyY5mzQvw",
        "outputId": "22b85f47-97a8-4666-b52f-c1a5b11c4962"
      },
      "execution_count": null,
      "outputs": [
        {
          "output_type": "stream",
          "name": "stdout",
          "text": [
            "List of prime numbers up to 50: [2, 3, 5, 7, 11, 13, 17, 19, 23, 29, 31, 37, 41, 43, 47]\n"
          ]
        }
      ]
    },
    {
      "cell_type": "code",
      "source": [
        "# 34. Split a list into chunks of size n.\n",
        "\n",
        "my_list = [1, 2, 3, 4, 5, 6, 7, 8]\n",
        "n = 3\n",
        "chunks = [my_list[i:i + n] for i in range(0, len(my_list), n)]\n",
        "print(\"List split into chunks of size 3:\", chunks)\n"
      ],
      "metadata": {
        "colab": {
          "base_uri": "https://localhost:8080/"
        },
        "id": "P3GJpS5szQqw",
        "outputId": "9ca0b7ad-d2c1-483d-d039-252330ead31c"
      },
      "execution_count": null,
      "outputs": [
        {
          "output_type": "stream",
          "name": "stdout",
          "text": [
            "List split into chunks of size 3: [[1, 2, 3], [4, 5, 6], [7, 8]]\n"
          ]
        }
      ]
    },
    {
      "cell_type": "code",
      "source": [
        "# 35. Find the second largest number in a list\n",
        "\n",
        "my_list = [10, 20, 4, 45, 99]\n",
        "unique_sorted_list = sorted(set(my_list))\n",
        "second_largest = unique_sorted_list[-2]\n",
        "print(\"Second largest number:\", second_largest)\n"
      ],
      "metadata": {
        "colab": {
          "base_uri": "https://localhost:8080/"
        },
        "id": "q3drL53ZzQg6",
        "outputId": "4073068e-04e2-4c8f-fb37-b6a2ff84bf01"
      },
      "execution_count": null,
      "outputs": [
        {
          "output_type": "stream",
          "name": "stdout",
          "text": [
            "Second largest number: 45\n"
          ]
        }
      ]
    },
    {
      "cell_type": "code",
      "source": [
        "# 36. Replace every element in a list with its square.\n",
        "\n",
        "my_list = [1, 2, 3, 4]\n",
        "squared_list = [x**2 for x in my_list]\n",
        "print(\"List with each element squared:\", squared_list)\n"
      ],
      "metadata": {
        "colab": {
          "base_uri": "https://localhost:8080/"
        },
        "id": "EU3hyGu-zQcg",
        "outputId": "2f2ed1f6-3d71-41b6-eab4-77e247b3cbd6"
      },
      "execution_count": null,
      "outputs": [
        {
          "output_type": "stream",
          "name": "stdout",
          "text": [
            "List with each element squared: [1, 4, 9, 16]\n"
          ]
        }
      ]
    },
    {
      "cell_type": "code",
      "source": [
        "# 37. Convert a list to a dictionary where list elements become keys and their indices become values.\n",
        "\n",
        "my_list = ['a', 'b', 'c']\n",
        "index_dict = {element: index for index, element in enumerate(my_list)}\n",
        "print(\"Dictionary with elements as keys and indices as values:\", index_dict)\n"
      ],
      "metadata": {
        "colab": {
          "base_uri": "https://localhost:8080/"
        },
        "id": "iGKwx8UgzQXo",
        "outputId": "77a4363c-d61f-4cb3-9ac2-ca0f1ea757c5"
      },
      "execution_count": null,
      "outputs": [
        {
          "output_type": "stream",
          "name": "stdout",
          "text": [
            "Dictionary with elements as keys and indices as values: {'a': 0, 'b': 1, 'c': 2}\n"
          ]
        }
      ]
    },
    {
      "cell_type": "code",
      "source": [
        "# 38. Shuffle the elements of a list randomly\n",
        "\n",
        "import random\n",
        "my_list = [1, 2, 3, 4, 5]\n",
        "random.shuffle(my_list)\n",
        "print(\"Shuffled list:\", my_list)\n"
      ],
      "metadata": {
        "colab": {
          "base_uri": "https://localhost:8080/"
        },
        "id": "cR6lHs7HzQSj",
        "outputId": "0f4bcf6d-1b2a-4cc3-f9df-c0a2c10a8627"
      },
      "execution_count": null,
      "outputs": [
        {
          "output_type": "stream",
          "name": "stdout",
          "text": [
            "Shuffled list: [4, 2, 3, 5, 1]\n"
          ]
        }
      ]
    },
    {
      "cell_type": "code",
      "source": [
        "# 39. Create a list of the first 10 factorial numbers\n",
        "\n",
        "import math\n",
        "factorial_list = [math.factorial(i) for i in range(1, 11)]\n",
        "print(\"First 10 factorial numbers:\", factorial_list)\n"
      ],
      "metadata": {
        "colab": {
          "base_uri": "https://localhost:8080/"
        },
        "id": "37KWkau9zQNq",
        "outputId": "d377daf7-eb00-4e50-e6a9-b64c713deb87"
      },
      "execution_count": null,
      "outputs": [
        {
          "output_type": "stream",
          "name": "stdout",
          "text": [
            "First 10 factorial numbers: [1, 2, 6, 24, 120, 720, 5040, 40320, 362880, 3628800]\n"
          ]
        }
      ]
    },
    {
      "cell_type": "code",
      "source": [
        "# 40. Check if two lists have at least one element in common.\n",
        "\n",
        "list1 = [1, 2, 3, 4]\n",
        "list2 = [3, 4, 5, 6]\n",
        "common_elements = set(list1) & set(list2)\n",
        "has_common = len(common_elements) > 0\n",
        "print(\"Do the lists have at least one element in common?\", has_common)\n"
      ],
      "metadata": {
        "colab": {
          "base_uri": "https://localhost:8080/"
        },
        "id": "KQY1afIAzQIw",
        "outputId": "7c65746c-94a3-4099-914d-51ddd5864de8"
      },
      "execution_count": null,
      "outputs": [
        {
          "output_type": "stream",
          "name": "stdout",
          "text": [
            "Do the lists have at least one element in common? True\n"
          ]
        }
      ]
    },
    {
      "cell_type": "code",
      "source": [
        "# 41. Remove all elements from a list.\n",
        "\n",
        "my_list = [1, 2, 3, 4]\n",
        "my_list.clear()\n",
        "print(\"List after removing all elements:\", my_list)\n",
        "\n",
        "# Or\n",
        "my_list = [1, 2, 3, 4]\n",
        "my_list = []\n",
        "print(\"List after removing all elements:\", my_list)\n"
      ],
      "metadata": {
        "colab": {
          "base_uri": "https://localhost:8080/"
        },
        "id": "R77gSbGZzQEl",
        "outputId": "2fe6773f-038e-4f8f-8cb2-c29f084993a1"
      },
      "execution_count": null,
      "outputs": [
        {
          "output_type": "stream",
          "name": "stdout",
          "text": [
            "List after removing all elements: []\n",
            "List after removing all elements: []\n"
          ]
        }
      ]
    },
    {
      "cell_type": "code",
      "source": [
        "# 42. Replace negative numbers in a list with 0.\n",
        "\n",
        "my_list = [10, -5, 20, -3, 30]\n",
        "replaced_list = [x if x >= 0 else 0 for x in my_list]\n",
        "print(\"List after replacing negative numbers with 0:\", replaced_list)\n"
      ],
      "metadata": {
        "colab": {
          "base_uri": "https://localhost:8080/"
        },
        "id": "Hr1sNUg4zP_-",
        "outputId": "bb322130-239d-4c08-ccd7-402b5732077f"
      },
      "execution_count": null,
      "outputs": [
        {
          "output_type": "stream",
          "name": "stdout",
          "text": [
            "List after replacing negative numbers with 0: [10, 0, 20, 0, 30]\n"
          ]
        }
      ]
    },
    {
      "cell_type": "code",
      "source": [
        "# 43. Convert a string into a list of words.\n",
        "\n",
        "my_string = \"This is a sample string\"\n",
        "words_list = my_string.split()\n",
        "print(\"List of words:\", words_list)"
      ],
      "metadata": {
        "colab": {
          "base_uri": "https://localhost:8080/"
        },
        "id": "JMKlLXrwzP7s",
        "outputId": "534dded7-4f8a-465e-c7dd-3d8ed483bc52"
      },
      "execution_count": null,
      "outputs": [
        {
          "output_type": "stream",
          "name": "stdout",
          "text": [
            "List of words: ['This', 'is', 'a', 'sample', 'string']\n"
          ]
        }
      ]
    },
    {
      "cell_type": "code",
      "source": [
        "# 44. Convert a list of words into a string.\n",
        "\n",
        "words_list = [\"This\", \"is\", \"a\", \"sample\", \"string\"]\n",
        "my_string = \" \".join(words_list)\n",
        "print(\"String:\", my_string)\n"
      ],
      "metadata": {
        "colab": {
          "base_uri": "https://localhost:8080/"
        },
        "id": "jzceiRExCJ0H",
        "outputId": "31ac3265-cf19-49ff-a0c2-5a1e270bf4fd"
      },
      "execution_count": null,
      "outputs": [
        {
          "output_type": "stream",
          "name": "stdout",
          "text": [
            "String: This is a sample string\n"
          ]
        }
      ]
    },
    {
      "cell_type": "code",
      "source": [
        "# 45. Create a list of the first n powers of 2\n",
        "\n",
        "n = 10\n",
        "powers_of_2 = [2**i for i in range(n)]\n",
        "print(\"First 10 powers of 2:\", powers_of_2)\n"
      ],
      "metadata": {
        "colab": {
          "base_uri": "https://localhost:8080/"
        },
        "id": "P34Fi4uWCJjE",
        "outputId": "b870a142-3dcc-47ab-e05d-3909c8565388"
      },
      "execution_count": null,
      "outputs": [
        {
          "output_type": "stream",
          "name": "stdout",
          "text": [
            "First 10 powers of 2: [1, 2, 4, 8, 16, 32, 64, 128, 256, 512]\n"
          ]
        }
      ]
    },
    {
      "cell_type": "code",
      "source": [
        "# 46. Find the longest string in a list of strings.\n",
        "\n",
        "strings = [\"apple\", \"banana\", \"cherry\", \"date\"]\n",
        "longest_string = max(strings, key=len)\n",
        "print(\"Longest string in the list:\", longest_string)\n"
      ],
      "metadata": {
        "colab": {
          "base_uri": "https://localhost:8080/"
        },
        "id": "fnXFcAn5CJes",
        "outputId": "21702efe-ea11-439e-e062-b1aab59368e7"
      },
      "execution_count": null,
      "outputs": [
        {
          "output_type": "stream",
          "name": "stdout",
          "text": [
            "Longest string in the list: banana\n"
          ]
        }
      ]
    },
    {
      "cell_type": "code",
      "source": [
        "# 47. strings = [\"apple\", \"banana\", \"cherry\", \"date\"]\n",
        "shortest_string = min(strings, key=len)\n",
        "print(\"Shortest string in the list:\", shortest_string)"
      ],
      "metadata": {
        "colab": {
          "base_uri": "https://localhost:8080/"
        },
        "id": "co-AZy3bCJZq",
        "outputId": "9ab208a6-c92c-49bb-d9d7-99855f637049"
      },
      "execution_count": null,
      "outputs": [
        {
          "output_type": "stream",
          "name": "stdout",
          "text": [
            "Shortest string in the list: date\n"
          ]
        }
      ]
    },
    {
      "cell_type": "code",
      "source": [
        "# Create a list of the first n triangular numbers.\n",
        "\n",
        "n = 10\n",
        "triangular_numbers = [(i*(i+1))//2 for i in range(1, n+1)]\n",
        "print(\"First 10 triangular numbers:\", triangular_numbers)\n"
      ],
      "metadata": {
        "colab": {
          "base_uri": "https://localhost:8080/"
        },
        "id": "VKFQYWItCJVx",
        "outputId": "50b4bdeb-d781-4a62-c955-eee1db8e0025"
      },
      "execution_count": null,
      "outputs": [
        {
          "output_type": "stream",
          "name": "stdout",
          "text": [
            "First 10 triangular numbers: [1, 3, 6, 10, 15, 21, 28, 36, 45, 55]\n"
          ]
        }
      ]
    },
    {
      "cell_type": "code",
      "source": [
        "# 49. Check if a list contains another list as a subsequence\n",
        "\n",
        "def is_subsequence(list1, list2):\n",
        "    it = iter(list2)\n",
        "    return all(item in it for item in list1)\n",
        "\n",
        "list1 = [1, 3]\n",
        "list2 = [1, 2, 3, 4]\n",
        "result = is_subsequence(list1, list2)\n",
        "print(\"Is the first list a subsequence of the second?\", result)\n"
      ],
      "metadata": {
        "colab": {
          "base_uri": "https://localhost:8080/"
        },
        "id": "Xqybru0xCJRo",
        "outputId": "696bbe1c-e08d-421d-f581-c16635287dd9"
      },
      "execution_count": null,
      "outputs": [
        {
          "output_type": "stream",
          "name": "stdout",
          "text": [
            "Is the first list a subsequence of the second? True\n"
          ]
        }
      ]
    },
    {
      "cell_type": "code",
      "source": [
        "# 50. Swap two elements in a list by their indices.\n",
        "\n",
        "my_list = [10, 20, 30, 40]\n",
        "index1, index2 = 1, 3\n",
        "my_list[index1], my_list[index2] = my_list[index2], my_list[index1]\n",
        "print(\"List after swapping elements at indices 1 and 3:\", my_list)\n"
      ],
      "metadata": {
        "colab": {
          "base_uri": "https://localhost:8080/"
        },
        "id": "3XJg7NpICJNk",
        "outputId": "3957c726-9445-407d-e1a7-d337f8dab14d"
      },
      "execution_count": null,
      "outputs": [
        {
          "output_type": "stream",
          "name": "stdout",
          "text": [
            "List after swapping elements at indices 1 and 3: [10, 40, 30, 20]\n"
          ]
        }
      ]
    },
    {
      "cell_type": "markdown",
      "source": [
        "**Tuple Based Practice Problem**"
      ],
      "metadata": {
        "id": "phw4HfZaUbQU"
      }
    },
    {
      "cell_type": "code",
      "source": [
        "# Create a tuple with integers from 1 to 5\n",
        "\n",
        "my_tuple = (1, 2, 3, 4, 5)\n",
        "print(my_tuple)\n"
      ],
      "metadata": {
        "colab": {
          "base_uri": "https://localhost:8080/"
        },
        "id": "Et9kEfH-U1UE",
        "outputId": "57fdec08-a353-4ad0-fd11-217e826c832d"
      },
      "execution_count": 1,
      "outputs": [
        {
          "output_type": "stream",
          "name": "stdout",
          "text": [
            "(1, 2, 3, 4, 5)\n"
          ]
        }
      ]
    },
    {
      "cell_type": "code",
      "source": [
        "# Access the third element of a tuple\n",
        "\n",
        "third_element = my_tuple[2]  # Indexing starts at 0, so the third element is at index 2.\n",
        "print(f\"The third element is: {third_element}\")\n"
      ],
      "metadata": {
        "colab": {
          "base_uri": "https://localhost:8080/"
        },
        "id": "CX-Hz2iVXdwb",
        "outputId": "ae3b061d-5512-4fed-ed6b-c8e4eb64c378"
      },
      "execution_count": 2,
      "outputs": [
        {
          "output_type": "stream",
          "name": "stdout",
          "text": [
            "The third element is: 3\n"
          ]
        }
      ]
    },
    {
      "cell_type": "code",
      "source": [
        "# Find the length of a tuple without using the len() function\n",
        "\n",
        "# Using a simple for loop to count the number of elements in the tuple\n",
        "count = 0\n",
        "for _ in my_tuple:\n",
        "    count += 1\n",
        "\n",
        "print(f\"The length of the tuple is: {count}\")\n"
      ],
      "metadata": {
        "colab": {
          "base_uri": "https://localhost:8080/"
        },
        "id": "1urBGJMaXduC",
        "outputId": "86cdca12-eb0e-4f00-c291-0883ff12eb6d"
      },
      "execution_count": 3,
      "outputs": [
        {
          "output_type": "stream",
          "name": "stdout",
          "text": [
            "The length of the tuple is: 5\n"
          ]
        }
      ]
    },
    {
      "cell_type": "code",
      "source": [
        "# Count the occurrences of an element in a tuple\n",
        "\n",
        "# Using the count method to find occurrences of an element\n",
        "element = 3  # For example, counting occurrences of the element '3'\n",
        "occurrences = my_tuple.count(element)\n",
        "\n",
        "print(f\"The element {element} occurs {occurrences} times in the tuple.\")\n"
      ],
      "metadata": {
        "colab": {
          "base_uri": "https://localhost:8080/"
        },
        "id": "pvm0iWSqXdmD",
        "outputId": "dca2a538-49aa-4037-8b3e-83efbee86c04"
      },
      "execution_count": 4,
      "outputs": [
        {
          "output_type": "stream",
          "name": "stdout",
          "text": [
            "The element 3 occurs 1 times in the tuple.\n"
          ]
        }
      ]
    },
    {
      "cell_type": "code",
      "source": [
        "# 5. Find the index of the first occurrence of an element in a tuple\n",
        "\n",
        "my_tuple = (1, 2, 3, 4, 3, 5)\n",
        "index = my_tuple.index(3)  # Finds the index of the first occurrence of 3\n",
        "print(f\"First occurrence of 3 is at index: {index}\")\n"
      ],
      "metadata": {
        "colab": {
          "base_uri": "https://localhost:8080/"
        },
        "id": "FDsHlJroXdio",
        "outputId": "50dc781d-b5b2-4f30-8641-dbae16372e19"
      },
      "execution_count": 5,
      "outputs": [
        {
          "output_type": "stream",
          "name": "stdout",
          "text": [
            "First occurrence of 3 is at index: 2\n"
          ]
        }
      ]
    },
    {
      "cell_type": "code",
      "source": [
        "# 6. Check if an element exists in a tuple\n",
        "\n",
        "element_exists = 3 in my_tuple  # Checks if 3 exists in the tuple\n",
        "print(f\"Does 3 exist in the tuple? {element_exists}\")\n"
      ],
      "metadata": {
        "colab": {
          "base_uri": "https://localhost:8080/"
        },
        "id": "g5K8G3TYXdgp",
        "outputId": "3f77da69-24ae-4492-8064-6e2ac2eb2006"
      },
      "execution_count": 6,
      "outputs": [
        {
          "output_type": "stream",
          "name": "stdout",
          "text": [
            "Does 3 exist in the tuple? True\n"
          ]
        }
      ]
    },
    {
      "cell_type": "code",
      "source": [
        "# 7. Convert a tuple to a list\n",
        "\n",
        "my_list = list(my_tuple)  # Converts the tuple to a list\n",
        "print(f\"Converted to list: {my_list}\")\n"
      ],
      "metadata": {
        "colab": {
          "base_uri": "https://localhost:8080/"
        },
        "id": "67gHyq7zXddx",
        "outputId": "35d1f0fd-dcdb-4891-8923-983f7476e221"
      },
      "execution_count": 7,
      "outputs": [
        {
          "output_type": "stream",
          "name": "stdout",
          "text": [
            "Converted to list: [1, 2, 3, 4, 3, 5]\n"
          ]
        }
      ]
    },
    {
      "cell_type": "code",
      "source": [
        "# 8. Convert a list to a tuple\n",
        "\n",
        "my_new_list = [10, 20, 30]\n",
        "my_new_tuple = tuple(my_new_list)  # Converts the list to a tuple\n",
        "print(f\"Converted to tuple: {my_new_tuple}\")\n"
      ],
      "metadata": {
        "colab": {
          "base_uri": "https://localhost:8080/"
        },
        "id": "tZxbNQq4XdZh",
        "outputId": "86d2929a-739c-4445-8000-badb656b7c6e"
      },
      "execution_count": 8,
      "outputs": [
        {
          "output_type": "stream",
          "name": "stdout",
          "text": [
            "Converted to tuple: (10, 20, 30)\n"
          ]
        }
      ]
    },
    {
      "cell_type": "code",
      "source": [
        "# 9. Unpack the elements of a tuple into variables\n",
        "\n",
        "a, b, c, d, e, f = my_tuple  # Unpacks the tuple into individual variables\n",
        "print(f\"Unpacked values: {a}, {b}, {c}, {d}, {e}, {f}\")\n"
      ],
      "metadata": {
        "colab": {
          "base_uri": "https://localhost:8080/"
        },
        "id": "55klzp38XdV7",
        "outputId": "14ad732e-7495-4f06-b5e6-63fa7348bddc"
      },
      "execution_count": 9,
      "outputs": [
        {
          "output_type": "stream",
          "name": "stdout",
          "text": [
            "Unpacked values: 1, 2, 3, 4, 3, 5\n"
          ]
        }
      ]
    },
    {
      "cell_type": "code",
      "source": [
        "# 10. Create a tuple of even numbers from 1 to 10\n",
        "\n",
        "even_numbers = tuple(i for i in range(1, 11) if i % 2 == 0)\n",
        "print(f\"Even numbers tuple: {even_numbers}\")\n"
      ],
      "metadata": {
        "colab": {
          "base_uri": "https://localhost:8080/"
        },
        "id": "QHZg03qWXdSX",
        "outputId": "1e187e8b-f94e-4ad1-c4c8-4550f9b85fc3"
      },
      "execution_count": 10,
      "outputs": [
        {
          "output_type": "stream",
          "name": "stdout",
          "text": [
            "Even numbers tuple: (2, 4, 6, 8, 10)\n"
          ]
        }
      ]
    },
    {
      "cell_type": "code",
      "source": [
        "# 11. Create a tuple of odd numbers from 1 to 10\n",
        "\n",
        "odd_numbers = tuple(i for i in range(1, 11) if i % 2 != 0)\n",
        "print(f\"Odd numbers tuple: {odd_numbers}\")\n"
      ],
      "metadata": {
        "colab": {
          "base_uri": "https://localhost:8080/"
        },
        "id": "qutiWMJCXdON",
        "outputId": "ac0206a7-684d-41ec-ceb0-ce27db924ed2"
      },
      "execution_count": 11,
      "outputs": [
        {
          "output_type": "stream",
          "name": "stdout",
          "text": [
            "Odd numbers tuple: (1, 3, 5, 7, 9)\n"
          ]
        }
      ]
    },
    {
      "cell_type": "code",
      "source": [
        "# 12. Concatenate two tuples\n",
        "\n",
        "tuple1 = (1, 2, 3)\n",
        "tuple2 = (4, 5, 6)\n",
        "concatenated_tuple = tuple1 + tuple2  # Concatenates tuple1 and tuple2\n",
        "print(f\"Concatenated tuple: {concatenated_tuple}\")\n"
      ],
      "metadata": {
        "colab": {
          "base_uri": "https://localhost:8080/"
        },
        "id": "-4-t4SjFXdJb",
        "outputId": "03153f80-dca6-45d9-c820-3a724180cf7d"
      },
      "execution_count": 12,
      "outputs": [
        {
          "output_type": "stream",
          "name": "stdout",
          "text": [
            "Concatenated tuple: (1, 2, 3, 4, 5, 6)\n"
          ]
        }
      ]
    },
    {
      "cell_type": "code",
      "source": [
        "# 13. Repeat a tuple three times\n",
        "\n",
        "repeated_tuple = tuple1 * 3  # Repeats tuple1 three times\n",
        "print(f\"Repeated tuple: {repeated_tuple}\")\n"
      ],
      "metadata": {
        "colab": {
          "base_uri": "https://localhost:8080/"
        },
        "id": "-2boLazfZF81",
        "outputId": "32b68d21-a3bf-4424-993a-3bc98c0d946d"
      },
      "execution_count": 13,
      "outputs": [
        {
          "output_type": "stream",
          "name": "stdout",
          "text": [
            "Repeated tuple: (1, 2, 3, 1, 2, 3, 1, 2, 3)\n"
          ]
        }
      ]
    },
    {
      "cell_type": "code",
      "source": [
        "# 14. Check if a tuple is empty\n",
        "\n",
        "empty_tuple = ()\n",
        "is_empty = len(empty_tuple) == 0  # Checks if the tuple is empty\n",
        "print(f\"Is the tuple empty? {is_empty}\")\n"
      ],
      "metadata": {
        "colab": {
          "base_uri": "https://localhost:8080/"
        },
        "id": "C5lAGH7XZF52",
        "outputId": "90891604-62ca-4d5b-f88d-ea00230a67c2"
      },
      "execution_count": 14,
      "outputs": [
        {
          "output_type": "stream",
          "name": "stdout",
          "text": [
            "Is the tuple empty? True\n"
          ]
        }
      ]
    },
    {
      "cell_type": "code",
      "source": [
        "# 15. Create a nested tuple\n",
        "\n",
        "nested_tuple = (1, (2, 3), (4, 5, 6))\n",
        "print(f\"Nested tuple: {nested_tuple}\")\n"
      ],
      "metadata": {
        "colab": {
          "base_uri": "https://localhost:8080/"
        },
        "id": "UyupvZHsZF2t",
        "outputId": "ea3693e0-d550-4608-d6f9-0cf477e1f586"
      },
      "execution_count": 15,
      "outputs": [
        {
          "output_type": "stream",
          "name": "stdout",
          "text": [
            "Nested tuple: (1, (2, 3), (4, 5, 6))\n"
          ]
        }
      ]
    },
    {
      "cell_type": "code",
      "source": [
        "# 16. Access the first element of a nested tuple\n",
        "\n",
        "first_element_nested = nested_tuple[1][0]  # Accesses the first element of the second tuple inside the nested tuple\n",
        "print(f\"First element of nested tuple: {first_element_nested}\")\n"
      ],
      "metadata": {
        "colab": {
          "base_uri": "https://localhost:8080/"
        },
        "id": "dkD2hnWOZFre",
        "outputId": "54e8a682-8540-49f4-c909-1347eb69dda0"
      },
      "execution_count": 16,
      "outputs": [
        {
          "output_type": "stream",
          "name": "stdout",
          "text": [
            "First element of nested tuple: 2\n"
          ]
        }
      ]
    },
    {
      "cell_type": "code",
      "source": [
        "# 17. Create a tuple with a single element\n",
        "\n",
        "single_element_tuple = (10,)  # A comma is necessary for a single element tuple\n",
        "print(f\"Single element tuple: {single_element_tuple}\")\n"
      ],
      "metadata": {
        "colab": {
          "base_uri": "https://localhost:8080/"
        },
        "id": "m8bntoZvZFmR",
        "outputId": "35b6a8d5-8805-4496-8652-974ab620cd4b"
      },
      "execution_count": 17,
      "outputs": [
        {
          "output_type": "stream",
          "name": "stdout",
          "text": [
            "Single element tuple: (10,)\n"
          ]
        }
      ]
    },
    {
      "cell_type": "code",
      "source": [
        "# 18. Compare two tuple\n",
        "\n",
        "tuple_a = (1, 2, 3)\n",
        "tuple_b = (1, 2, 3)\n",
        "comparison = tuple_a == tuple_b  # Compares if two tuples are equal\n",
        "print(f\"Are the two tuples equal? {comparison}\")\n"
      ],
      "metadata": {
        "colab": {
          "base_uri": "https://localhost:8080/"
        },
        "id": "LNlp2PefbTBJ",
        "outputId": "fd4996fd-d196-4e7d-decd-b03d1e1851a0"
      },
      "execution_count": 18,
      "outputs": [
        {
          "output_type": "stream",
          "name": "stdout",
          "text": [
            "Are the two tuples equal? True\n"
          ]
        }
      ]
    },
    {
      "cell_type": "code",
      "source": [
        "# 19. Delete a tuple\n",
        "\n",
        "del my_tuple  # Deletes the tuple entirely\n",
        "# print(my_tuple)  # This would raise an error because the tuple no longer exists\n"
      ],
      "metadata": {
        "id": "sUHfamS4bS9v"
      },
      "execution_count": 19,
      "outputs": []
    },
    {
      "cell_type": "code",
      "source": [
        "# 20. Slice a tuple\n",
        "\n",
        "sliced_tuple = tuple1[1:3]  # Slices the tuple to get elements from index 1 to 2 (exclusive of index 3)\n",
        "print(f\"Sliced tuple: {sliced_tuple}\")\n"
      ],
      "metadata": {
        "colab": {
          "base_uri": "https://localhost:8080/"
        },
        "id": "ce9VXRiGbS6q",
        "outputId": "c567c455-5284-457e-e7a2-0fd0e483fc16"
      },
      "execution_count": 20,
      "outputs": [
        {
          "output_type": "stream",
          "name": "stdout",
          "text": [
            "Sliced tuple: (2, 3)\n"
          ]
        }
      ]
    },
    {
      "cell_type": "code",
      "source": [
        "# 21. Find the maximum value in a tuple\n",
        "\n",
        "my_tuple = (1, 2, 3, 4, 5)\n",
        "max_value = max(my_tuple)  # Finds the maximum value\n",
        "print(f\"Maximum value: {max_value}\")\n"
      ],
      "metadata": {
        "colab": {
          "base_uri": "https://localhost:8080/"
        },
        "id": "7I2CuE9kbu7U",
        "outputId": "c446a7cd-2fc9-44fb-e6d4-4a443f6d93e5"
      },
      "execution_count": 21,
      "outputs": [
        {
          "output_type": "stream",
          "name": "stdout",
          "text": [
            "Maximum value: 5\n"
          ]
        }
      ]
    },
    {
      "cell_type": "code",
      "source": [
        "# 22. Find the minimum value in a tuple\n",
        "\n",
        "min_value = min(my_tuple)  # Finds the minimum value\n",
        "print(f\"Minimum value: {min_value}\")\n"
      ],
      "metadata": {
        "colab": {
          "base_uri": "https://localhost:8080/"
        },
        "id": "N3Nji8pubu3J",
        "outputId": "bfa5c81b-626e-4b56-92b6-b11933703fd0"
      },
      "execution_count": 22,
      "outputs": [
        {
          "output_type": "stream",
          "name": "stdout",
          "text": [
            "Minimum value: 1\n"
          ]
        }
      ]
    },
    {
      "cell_type": "code",
      "source": [
        "# 23. Convert a string to a tuple of characters\n",
        "\n",
        "my_string = \"hello\"\n",
        "char_tuple = tuple(my_string)  # Converts string to tuple of characters\n",
        "print(f\"Tuple of characters: {char_tuple}\")\n"
      ],
      "metadata": {
        "colab": {
          "base_uri": "https://localhost:8080/"
        },
        "id": "utH8qWTJbusE",
        "outputId": "c55d079a-c1c1-4457-fcfd-042dccfe70af"
      },
      "execution_count": 23,
      "outputs": [
        {
          "output_type": "stream",
          "name": "stdout",
          "text": [
            "Tuple of characters: ('h', 'e', 'l', 'l', 'o')\n"
          ]
        }
      ]
    },
    {
      "cell_type": "code",
      "source": [
        "# 24. Convert a tuple of characters to a string\n",
        "\n",
        "char_tuple = ('h', 'e', 'l', 'l', 'o')\n",
        "my_string = ''.join(char_tuple)  # Converts tuple of characters to a string\n",
        "print(f\"Converted string: {my_string}\")\n"
      ],
      "metadata": {
        "colab": {
          "base_uri": "https://localhost:8080/"
        },
        "id": "aZRdMjj2buog",
        "outputId": "3e0c4aa6-f729-4197-a0e6-28f9a9f513bd"
      },
      "execution_count": 24,
      "outputs": [
        {
          "output_type": "stream",
          "name": "stdout",
          "text": [
            "Converted string: hello\n"
          ]
        }
      ]
    },
    {
      "cell_type": "code",
      "source": [
        "# 25. Create a tuple from multiple data types\n",
        "\n",
        "mixed_tuple = (1, \"apple\", True, 3.14)\n",
        "print(f\"Tuple with mixed data types: {mixed_tuple}\")\n"
      ],
      "metadata": {
        "colab": {
          "base_uri": "https://localhost:8080/"
        },
        "id": "tNgwQ1Mbbujz",
        "outputId": "3a9190e6-3360-47f3-fbb2-863bd97dbf6a"
      },
      "execution_count": 25,
      "outputs": [
        {
          "output_type": "stream",
          "name": "stdout",
          "text": [
            "Tuple with mixed data types: (1, 'apple', True, 3.14)\n"
          ]
        }
      ]
    },
    {
      "cell_type": "code",
      "source": [
        "# 26. Check if two tuples are identical\n",
        "\n",
        "tuple_a = (1, 2, 3)\n",
        "tuple_b = (1, 2, 3)\n",
        "are_identical = tuple_a == tuple_b  # Compares if two tuples are identical\n",
        "print(f\"Are the tuples identical? {are_identical}\")\n"
      ],
      "metadata": {
        "colab": {
          "base_uri": "https://localhost:8080/"
        },
        "id": "xNjty8hMbugS",
        "outputId": "b0009f13-d93f-4525-bc00-533c26f5ebda"
      },
      "execution_count": 26,
      "outputs": [
        {
          "output_type": "stream",
          "name": "stdout",
          "text": [
            "Are the tuples identical? True\n"
          ]
        }
      ]
    },
    {
      "cell_type": "code",
      "source": [
        "# 27. Sort the elements of a tuple\n",
        "\n",
        "unsorted_tuple = (5, 3, 1, 4, 2)\n",
        "sorted_tuple = tuple(sorted(unsorted_tuple))  # Sorts the tuple\n",
        "print(f\"Sorted tuple: {sorted_tuple}\")\n"
      ],
      "metadata": {
        "colab": {
          "base_uri": "https://localhost:8080/"
        },
        "id": "wGRyzYRic-uK",
        "outputId": "34ace1ed-624b-4fd9-f08a-f9d2d0aaebe6"
      },
      "execution_count": 27,
      "outputs": [
        {
          "output_type": "stream",
          "name": "stdout",
          "text": [
            "Sorted tuple: (1, 2, 3, 4, 5)\n"
          ]
        }
      ]
    },
    {
      "cell_type": "code",
      "source": [
        "# 28. Convert a tuple of integers to a tuple of strings\n",
        "\n",
        "int_tuple = (1, 2, 3)\n",
        "str_tuple = tuple(str(i) for i in int_tuple)  # Converts integers to strings\n",
        "print(f\"Tuple of strings: {str_tuple}\")\n"
      ],
      "metadata": {
        "colab": {
          "base_uri": "https://localhost:8080/"
        },
        "id": "h9mm2w4zc-qD",
        "outputId": "d904b48f-0a0c-4d3f-f1d9-371b378cb156"
      },
      "execution_count": 28,
      "outputs": [
        {
          "output_type": "stream",
          "name": "stdout",
          "text": [
            "Tuple of strings: ('1', '2', '3')\n"
          ]
        }
      ]
    },
    {
      "cell_type": "code",
      "source": [
        "# 29. Convert a tuple of strings to a tuple of integers\n",
        "\n",
        "str_tuple = ('1', '2', '3')\n",
        "int_tuple = tuple(int(i) for i in str_tuple)  # Converts strings to integers\n",
        "print(f\"Tuple of integers: {int_tuple}\")\n"
      ],
      "metadata": {
        "colab": {
          "base_uri": "https://localhost:8080/"
        },
        "id": "y7PDTbirc-lr",
        "outputId": "f6cda5b2-8d57-4988-c42b-b097e7d572ea"
      },
      "execution_count": 29,
      "outputs": [
        {
          "output_type": "stream",
          "name": "stdout",
          "text": [
            "Tuple of integers: (1, 2, 3)\n"
          ]
        }
      ]
    },
    {
      "cell_type": "code",
      "source": [
        "# 30. Merge two tuples\n",
        "\n",
        "tuple1 = (1, 2)\n",
        "tuple2 = (3, 4)\n",
        "merged_tuple = tuple1 + tuple2  # Merges two tuples\n",
        "print(f\"Merged tuple: {merged_tuple}\")\n"
      ],
      "metadata": {
        "colab": {
          "base_uri": "https://localhost:8080/"
        },
        "id": "aPq1ZPpxc-ik",
        "outputId": "63517531-9838-47cc-d0a9-7e99b0c1d0f0"
      },
      "execution_count": 30,
      "outputs": [
        {
          "output_type": "stream",
          "name": "stdout",
          "text": [
            "Merged tuple: (1, 2, 3, 4)\n"
          ]
        }
      ]
    },
    {
      "cell_type": "code",
      "source": [
        "# 31. Flatten a nested tuple\n",
        "\n",
        "nested_tuple = (1, (2, 3), (4, 5))\n",
        "flattened_tuple = tuple(i for sublist in nested_tuple for i in (sublist if isinstance(sublist, tuple) else (sublist,)))\n",
        "print(f\"Flattened tuple: {flattened_tuple}\")\n"
      ],
      "metadata": {
        "colab": {
          "base_uri": "https://localhost:8080/"
        },
        "id": "omdLoQvOc-ec",
        "outputId": "e013611f-edaf-4674-cfa3-1c3db8041045"
      },
      "execution_count": 31,
      "outputs": [
        {
          "output_type": "stream",
          "name": "stdout",
          "text": [
            "Flattened tuple: (1, 2, 3, 4, 5)\n"
          ]
        }
      ]
    },
    {
      "cell_type": "code",
      "source": [
        "# 32. Create a tuple of the first 5 prime numbers\n",
        "\n",
        "prime_numbers = (2, 3, 5, 7, 11)\n",
        "print(f\"First 5 prime numbers: {prime_numbers}\")\n"
      ],
      "metadata": {
        "colab": {
          "base_uri": "https://localhost:8080/"
        },
        "id": "4St7fOyic-aD",
        "outputId": "5e17ebde-27b5-4552-f769-df61705fc370"
      },
      "execution_count": 32,
      "outputs": [
        {
          "output_type": "stream",
          "name": "stdout",
          "text": [
            "First 5 prime numbers: (2, 3, 5, 7, 11)\n"
          ]
        }
      ]
    },
    {
      "cell_type": "code",
      "source": [
        "# 33. Check if a tuple is a palindrome\n",
        "\n",
        "palindrome_tuple = (1, 2, 3, 2, 1)\n",
        "is_palindrome = palindrome_tuple == palindrome_tuple[::-1]  # Checks if the tuple is a palindrome\n",
        "print(f\"Is the tuple a palindrome? {is_palindrome}\")\n"
      ],
      "metadata": {
        "colab": {
          "base_uri": "https://localhost:8080/"
        },
        "id": "eBh-hv_Lc-VW",
        "outputId": "554dcfaa-8c6e-4108-aa40-962d18e60ed2"
      },
      "execution_count": 33,
      "outputs": [
        {
          "output_type": "stream",
          "name": "stdout",
          "text": [
            "Is the tuple a palindrome? True\n"
          ]
        }
      ]
    },
    {
      "cell_type": "code",
      "source": [
        "# 34. Create a tuple of squares of numbers from 1 to 5\n",
        "\n",
        "squares_tuple = tuple(i ** 2 for i in range(1, 6))\n",
        "print(f\"Squares tuple: {squares_tuple}\")\n"
      ],
      "metadata": {
        "colab": {
          "base_uri": "https://localhost:8080/"
        },
        "id": "SkGA5JEXc-Rj",
        "outputId": "72dc18b6-3b4a-4a84-c32e-525f599e5292"
      },
      "execution_count": 34,
      "outputs": [
        {
          "output_type": "stream",
          "name": "stdout",
          "text": [
            "Squares tuple: (1, 4, 9, 16, 25)\n"
          ]
        }
      ]
    },
    {
      "cell_type": "code",
      "source": [
        "# 35. Filter out all even numbers from a tuple\n",
        "\n",
        "numbers_tuple = (1, 2, 3, 4, 5, 6)\n",
        "odd_numbers_tuple = tuple(i for i in numbers_tuple if i % 2 != 0)  # Filters out even numbers\n",
        "print(f\"Tuple with only odd numbers: {odd_numbers_tuple}\")\n"
      ],
      "metadata": {
        "colab": {
          "base_uri": "https://localhost:8080/"
        },
        "id": "vR7--RpLeOex",
        "outputId": "df744774-1436-476d-d8c3-95fc98817d63"
      },
      "execution_count": 35,
      "outputs": [
        {
          "output_type": "stream",
          "name": "stdout",
          "text": [
            "Tuple with only odd numbers: (1, 3, 5)\n"
          ]
        }
      ]
    },
    {
      "cell_type": "code",
      "source": [
        "# 36. Multiply all elements in a tuple by 2\n",
        "\n",
        "multiplied_tuple = tuple(i * 2 for i in numbers_tuple)  # Multiplies all elements by 2\n",
        "print(f\"Multiplied tuple: {multiplied_tuple}\")\n"
      ],
      "metadata": {
        "colab": {
          "base_uri": "https://localhost:8080/"
        },
        "id": "yz5ZcE55eObM",
        "outputId": "1e2d095b-32f5-467d-9665-2afd046c197c"
      },
      "execution_count": 36,
      "outputs": [
        {
          "output_type": "stream",
          "name": "stdout",
          "text": [
            "Multiplied tuple: (2, 4, 6, 8, 10, 12)\n"
          ]
        }
      ]
    },
    {
      "cell_type": "code",
      "source": [
        "# 37. Create a tuple of random numbers\n",
        "\n",
        "import random\n",
        "random_numbers_tuple = tuple(random.randint(1, 100) for _ in range(5))  # Tuple of 5 random numbers between 1 and 100\n",
        "print(f\"Random numbers tuple: {random_numbers_tuple}\")\n"
      ],
      "metadata": {
        "colab": {
          "base_uri": "https://localhost:8080/"
        },
        "id": "3jCMXHLjeOXt",
        "outputId": "a5baac70-b6fa-4bf4-f6f2-cfaff450f214"
      },
      "execution_count": 37,
      "outputs": [
        {
          "output_type": "stream",
          "name": "stdout",
          "text": [
            "Random numbers tuple: (29, 62, 74, 44, 91)\n"
          ]
        }
      ]
    },
    {
      "cell_type": "code",
      "source": [
        "# 38. Check if a tuple is sorted\n",
        "\n",
        "my_tuple = (1, 2, 3, 4, 5)\n",
        "is_sorted = my_tuple == tuple(sorted(my_tuple))  # Checks if the tuple is sorted\n",
        "print(f\"Is the tuple sorted? {is_sorted}\")\n"
      ],
      "metadata": {
        "colab": {
          "base_uri": "https://localhost:8080/"
        },
        "id": "fx96AOaVeOTg",
        "outputId": "ff4b6bd7-ceeb-4993-b289-db59c2b73b66"
      },
      "execution_count": 38,
      "outputs": [
        {
          "output_type": "stream",
          "name": "stdout",
          "text": [
            "Is the tuple sorted? True\n"
          ]
        }
      ]
    },
    {
      "cell_type": "code",
      "source": [
        "# 39. Rotate a tuple to the left by n positions\n",
        "\n",
        "def rotate_left(t, n):\n",
        "    return t[n:] + t[:n]\n",
        "\n",
        "my_tuple = (1, 2, 3, 4, 5)\n",
        "rotated_tuple_left = rotate_left(my_tuple, 2)  # Rotates the tuple left by 2 positions\n",
        "print(f\"Tuple rotated left: {rotated_tuple_left}\")\n"
      ],
      "metadata": {
        "colab": {
          "base_uri": "https://localhost:8080/"
        },
        "id": "av_r24j5eOQH",
        "outputId": "0de80ef2-b717-4191-c8f7-06b8f62e15db"
      },
      "execution_count": 39,
      "outputs": [
        {
          "output_type": "stream",
          "name": "stdout",
          "text": [
            "Tuple rotated left: (3, 4, 5, 1, 2)\n"
          ]
        }
      ]
    },
    {
      "cell_type": "code",
      "source": [
        "# 40. Rotate a tuple to the right by n positions\n",
        "\n",
        "def rotate_right(t, n):\n",
        "    return t[-n:] + t[:-n]\n",
        "\n",
        "rotated_tuple_right = rotate_right(my_tuple, 2)  # Rotates the tuple right by 2 positions\n",
        "print(f\"Tuple rotated right: {rotated_tuple_right}\")\n"
      ],
      "metadata": {
        "colab": {
          "base_uri": "https://localhost:8080/"
        },
        "id": "Tvc8k8rqfRyb",
        "outputId": "4c65af53-a31d-4b7b-cbc2-4d9989bc5ece"
      },
      "execution_count": 40,
      "outputs": [
        {
          "output_type": "stream",
          "name": "stdout",
          "text": [
            "Tuple rotated right: (4, 5, 1, 2, 3)\n"
          ]
        }
      ]
    },
    {
      "cell_type": "code",
      "source": [
        "# 41. Create a tuple of the first 5 Fibonacci numbers\n",
        "\n",
        "def fibonacci(n):\n",
        "    fib_sequence = [0, 1]\n",
        "    while len(fib_sequence) < n:\n",
        "        fib_sequence.append(fib_sequence[-1] + fib_sequence[-2])\n",
        "    return tuple(fib_sequence[:n])\n",
        "\n",
        "fibonacci_tuple = fibonacci(5)\n",
        "print(f\"Fibonacci tuple: {fibonacci_tuple}\")\n"
      ],
      "metadata": {
        "colab": {
          "base_uri": "https://localhost:8080/"
        },
        "id": "uQ2UR9jCfRtw",
        "outputId": "c904a30a-a5c4-4a04-ef74-666cd659213d"
      },
      "execution_count": 41,
      "outputs": [
        {
          "output_type": "stream",
          "name": "stdout",
          "text": [
            "Fibonacci tuple: (0, 1, 1, 2, 3)\n"
          ]
        }
      ]
    },
    {
      "cell_type": "code",
      "source": [
        "# 42. Create a tuple from user input\n",
        "\n",
        "user_input = input(\"Enter numbers separated by spaces: \")\n",
        "user_tuple = tuple(map(int, user_input.split()))  # Converts input to a tuple of integers\n",
        "print(f\"Tuple from user input: {user_tuple}\")\n"
      ],
      "metadata": {
        "colab": {
          "base_uri": "https://localhost:8080/"
        },
        "id": "8QeVKORXfRmo",
        "outputId": "30454f70-5d7f-40a8-a041-7c149d494684"
      },
      "execution_count": 42,
      "outputs": [
        {
          "output_type": "stream",
          "name": "stdout",
          "text": [
            "Enter numbers separated by spaces: 16\n",
            "Tuple from user input: (16,)\n"
          ]
        }
      ]
    },
    {
      "cell_type": "code",
      "source": [
        "# 43. Swap two elements in a tuple\n",
        "\n",
        "def swap_elements(t, i, j):\n",
        "    temp_list = list(t)\n",
        "    temp_list[i], temp_list[j] = temp_list[j], temp_list[i]\n",
        "    return tuple(temp_list)\n",
        "\n",
        "swapped_tuple = swap_elements(my_tuple, 1, 3)  # Swaps elements at index 1 and 3\n",
        "print(f\"Tuple with swapped elements: {swapped_tuple}\")\n"
      ],
      "metadata": {
        "colab": {
          "base_uri": "https://localhost:8080/"
        },
        "id": "fjBZONqCfRjC",
        "outputId": "1b9c4106-7b47-4644-8315-c6884fb098d9"
      },
      "execution_count": 43,
      "outputs": [
        {
          "output_type": "stream",
          "name": "stdout",
          "text": [
            "Tuple with swapped elements: (1, 4, 3, 2, 5)\n"
          ]
        }
      ]
    },
    {
      "cell_type": "code",
      "source": [
        "# 44. Reverse the elements of a tuple\n",
        "\n",
        "reversed_tuple = my_tuple[::-1]  # Reverses the tuple\n",
        "print(f\"Reversed tuple: {reversed_tuple}\")\n"
      ],
      "metadata": {
        "colab": {
          "base_uri": "https://localhost:8080/"
        },
        "id": "6_oZVLpzfRep",
        "outputId": "5661468b-b560-4e35-812c-15338dccc66c"
      },
      "execution_count": 44,
      "outputs": [
        {
          "output_type": "stream",
          "name": "stdout",
          "text": [
            "Reversed tuple: (5, 4, 3, 2, 1)\n"
          ]
        }
      ]
    },
    {
      "cell_type": "code",
      "source": [
        "# 45. Create a tuple of the first n powers of 2\n",
        "\n",
        "n = 5\n",
        "powers_of_two = tuple(2 ** i for i in range(n))  # Creates a tuple of the first 5 powers of 2\n",
        "print(f\"Powers of 2 tuple: {powers_of_two}\")\n"
      ],
      "metadata": {
        "colab": {
          "base_uri": "https://localhost:8080/"
        },
        "id": "w0Z1MJzifRbD",
        "outputId": "208aec47-2c79-455b-a872-b87b0d6ef53e"
      },
      "execution_count": 45,
      "outputs": [
        {
          "output_type": "stream",
          "name": "stdout",
          "text": [
            "Powers of 2 tuple: (1, 2, 4, 8, 16)\n"
          ]
        }
      ]
    },
    {
      "cell_type": "code",
      "source": [
        "# 46. Find the longest string in a tuple of strings\n",
        "\n",
        "string_tuple = (\"apple\", \"banana\", \"cherry\", \"date\")\n",
        "longest_string = max(string_tuple, key=len)  # Finds the longest string\n",
        "print(f\"Longest string: {longest_string}\")\n"
      ],
      "metadata": {
        "colab": {
          "base_uri": "https://localhost:8080/"
        },
        "id": "ySZKlZ4FgO6b",
        "outputId": "97658220-c3d6-422c-bc29-8b654cc94ec1"
      },
      "execution_count": 46,
      "outputs": [
        {
          "output_type": "stream",
          "name": "stdout",
          "text": [
            "Longest string: banana\n"
          ]
        }
      ]
    },
    {
      "cell_type": "code",
      "source": [
        "# 47. Find the shortest string in a tuple of strings\n",
        "\n",
        "shortest_string = min(string_tuple, key=len)  # Finds the shortest string\n",
        "print(f\"Shortest string: {shortest_string}\")\n"
      ],
      "metadata": {
        "colab": {
          "base_uri": "https://localhost:8080/"
        },
        "id": "JjqAcanOgO2H",
        "outputId": "d1302f85-d6d8-4e76-a83b-bc0422980ffe"
      },
      "execution_count": 47,
      "outputs": [
        {
          "output_type": "stream",
          "name": "stdout",
          "text": [
            "Shortest string: date\n"
          ]
        }
      ]
    },
    {
      "cell_type": "code",
      "source": [
        "# 48. Create a tuple of the first n triangular numbers\n",
        "\n",
        "def triangular_numbers(n):\n",
        "    return tuple(int(i * (i + 1) / 2) for i in range(1, n + 1))\n",
        "\n",
        "triangular_tuple = triangular_numbers(5)  # Creates a tuple of the first 5 triangular numbers\n",
        "print(f\"Triangular numbers tuple: {triangular_tuple}\")\n"
      ],
      "metadata": {
        "colab": {
          "base_uri": "https://localhost:8080/"
        },
        "id": "NR_o6z7zgq1-",
        "outputId": "7965ce88-4f08-4aae-9a8e-20e57c6723b4"
      },
      "execution_count": 48,
      "outputs": [
        {
          "output_type": "stream",
          "name": "stdout",
          "text": [
            "Triangular numbers tuple: (1, 3, 6, 10, 15)\n"
          ]
        }
      ]
    },
    {
      "cell_type": "code",
      "source": [
        "# 49. Check if a tuple contains another tuple as a subsequence\n",
        "\n",
        "def is_subsequence(t1, t2):\n",
        "    return any(t2 == t1[i:i+len(t2)] for i in range(len(t1) - len(t2) + 1))\n",
        "\n",
        "main_tuple = (1, 2, 3, 4, 5)\n",
        "sub_tuple = (3, 4)\n",
        "is_sub = is_subsequence(main_tuple, sub_tuple)  # Checks if sub_tuple is a subsequence of main_tuple\n",
        "print(f\"Is the sub-tuple a subsequence? {is_sub}\")\n"
      ],
      "metadata": {
        "colab": {
          "base_uri": "https://localhost:8080/"
        },
        "id": "X8PB5fTsgqyG",
        "outputId": "1c88960c-73e4-492a-f4df-2146a6def0f1"
      },
      "execution_count": 49,
      "outputs": [
        {
          "output_type": "stream",
          "name": "stdout",
          "text": [
            "Is the sub-tuple a subsequence? True\n"
          ]
        }
      ]
    },
    {
      "cell_type": "code",
      "source": [
        "# 50. Create a tuple of alternating 1s and 0s of length n\n",
        "\n",
        "n = 6\n",
        "alternating_tuple = tuple(1 if i % 2 == 0 else 0 for i in range(n))  # Creates a tuple of alternating 1s and 0s\n",
        "print(f\"Alternating 1s and 0s tuple: {alternating_tuple}\")\n"
      ],
      "metadata": {
        "colab": {
          "base_uri": "https://localhost:8080/"
        },
        "id": "cLTUyt-1gqt7",
        "outputId": "cb62890b-5d64-46fe-e828-712b3c5804a9"
      },
      "execution_count": 50,
      "outputs": [
        {
          "output_type": "stream",
          "name": "stdout",
          "text": [
            "Alternating 1s and 0s tuple: (1, 0, 1, 0, 1, 0)\n"
          ]
        }
      ]
    },
    {
      "cell_type": "markdown",
      "source": [
        "Set Based Practice Problem"
      ],
      "metadata": {
        "id": "N9Y05Soz6uGH"
      }
    },
    {
      "cell_type": "code",
      "source": [
        "# 1. Create a set with integers from 1 to 5\n",
        "\n",
        "my_set = {1, 2, 3, 4, 5}\n",
        "print(f\"Set: {my_set}\")\n"
      ],
      "metadata": {
        "colab": {
          "base_uri": "https://localhost:8080/"
        },
        "id": "zbjFKa8T8q82",
        "outputId": "d752a4fd-5a95-4895-f252-66170a0a4d6a"
      },
      "execution_count": 1,
      "outputs": [
        {
          "output_type": "stream",
          "name": "stdout",
          "text": [
            "Set: {1, 2, 3, 4, 5}\n"
          ]
        }
      ]
    },
    {
      "cell_type": "code",
      "source": [
        "# 2. Add an element to a set\n",
        "\n",
        "my_set.add(6)  # Adds the element 6 to the set\n",
        "print(f\"Set after adding 6: {my_set}\")\n"
      ],
      "metadata": {
        "colab": {
          "base_uri": "https://localhost:8080/"
        },
        "id": "7RuIYibo8r59",
        "outputId": "e4253331-c9e3-415b-9a29-9afafdc9e156"
      },
      "execution_count": 2,
      "outputs": [
        {
          "output_type": "stream",
          "name": "stdout",
          "text": [
            "Set after adding 6: {1, 2, 3, 4, 5, 6}\n"
          ]
        }
      ]
    },
    {
      "cell_type": "code",
      "source": [
        "# 3. Remove an element from a set\n",
        "\n",
        "my_set.remove(3)  # Removes the element 3 from the set\n",
        "print(f\"Set after removing 3: {my_set}\")\n"
      ],
      "metadata": {
        "colab": {
          "base_uri": "https://localhost:8080/"
        },
        "id": "KzVoly7h8r0u",
        "outputId": "4f87a0bf-b331-42e5-890d-107190715779"
      },
      "execution_count": 3,
      "outputs": [
        {
          "output_type": "stream",
          "name": "stdout",
          "text": [
            "Set after removing 3: {1, 2, 4, 5, 6}\n"
          ]
        }
      ]
    },
    {
      "cell_type": "code",
      "source": [
        "# 4. Check if an element exists in a set\n",
        "\n",
        "exists = 4 in my_set  # Checks if the element 4 exists in the set\n",
        "print(f\"Does 4 exist in the set? {exists}\")\n"
      ],
      "metadata": {
        "colab": {
          "base_uri": "https://localhost:8080/"
        },
        "id": "4JJ6_L6c8rwL",
        "outputId": "b2ce4b9f-0d09-4631-85fc-dc09c9d85f59"
      },
      "execution_count": 4,
      "outputs": [
        {
          "output_type": "stream",
          "name": "stdout",
          "text": [
            "Does 4 exist in the set? True\n"
          ]
        }
      ]
    },
    {
      "cell_type": "code",
      "source": [
        "# 5. Find the length of a set without using the len() function\n",
        "\n",
        "count = 0\n",
        "for _ in my_set:\n",
        "    count += 1\n",
        "print(f\"Length of the set: {count}\")\n"
      ],
      "metadata": {
        "colab": {
          "base_uri": "https://localhost:8080/"
        },
        "id": "ryZJMV0r8rqm",
        "outputId": "44b88b98-086c-4fd6-e451-9b2c132f1e30"
      },
      "execution_count": 5,
      "outputs": [
        {
          "output_type": "stream",
          "name": "stdout",
          "text": [
            "Length of the set: 5\n"
          ]
        }
      ]
    },
    {
      "cell_type": "code",
      "source": [
        "# 6. Clear all elements from a set\n",
        "\n",
        "my_set.clear()  # Clears all elements from the set\n",
        "print(f\"Set after clearing: {my_set}\")"
      ],
      "metadata": {
        "colab": {
          "base_uri": "https://localhost:8080/"
        },
        "id": "lTq91Txj8rl3",
        "outputId": "bf99abbf-858c-4d7f-977a-4555028546f6"
      },
      "execution_count": 6,
      "outputs": [
        {
          "output_type": "stream",
          "name": "stdout",
          "text": [
            "Set after clearing: set()\n"
          ]
        }
      ]
    },
    {
      "cell_type": "code",
      "source": [
        "# 7. Create a set of even numbers from 1 to 10\n",
        "\n",
        "even_set = {i for i in range(1, 11) if i % 2 == 0}\n",
        "print(f\"Even numbers set: {even_set}\")\n"
      ],
      "metadata": {
        "colab": {
          "base_uri": "https://localhost:8080/"
        },
        "id": "SR9woK3Z8rhL",
        "outputId": "ac73222e-7106-46b7-992f-a5149e088a10"
      },
      "execution_count": 7,
      "outputs": [
        {
          "output_type": "stream",
          "name": "stdout",
          "text": [
            "Even numbers set: {2, 4, 6, 8, 10}\n"
          ]
        }
      ]
    },
    {
      "cell_type": "code",
      "source": [
        "# 8. Create a set of odd numbers from 1 to 10\n",
        "\n",
        "odd_set = {i for i in range(1, 11) if i % 2 != 0}\n",
        "print(f\"Odd numbers set: {odd_set}\")\n"
      ],
      "metadata": {
        "colab": {
          "base_uri": "https://localhost:8080/"
        },
        "id": "cL8AgmgS8rcn",
        "outputId": "c6cd6abf-63a3-4ddb-f7e1-dd9744fab2b7"
      },
      "execution_count": 8,
      "outputs": [
        {
          "output_type": "stream",
          "name": "stdout",
          "text": [
            "Odd numbers set: {1, 3, 5, 7, 9}\n"
          ]
        }
      ]
    },
    {
      "cell_type": "code",
      "source": [
        "# 9. Find the union of two sets\n",
        "\n",
        "set1 = {1, 2, 3}\n",
        "set2 = {3, 4, 5}\n",
        "union_set = set1.union(set2)  # Union of set1 and set2\n",
        "print(f\"Union of sets: {union_set}\")\n"
      ],
      "metadata": {
        "colab": {
          "base_uri": "https://localhost:8080/"
        },
        "id": "lmIAdmd88rYN",
        "outputId": "383788e1-4245-4cc0-b064-661f5fc3e415"
      },
      "execution_count": 9,
      "outputs": [
        {
          "output_type": "stream",
          "name": "stdout",
          "text": [
            "Union of sets: {1, 2, 3, 4, 5}\n"
          ]
        }
      ]
    },
    {
      "cell_type": "code",
      "source": [
        "# 10. Find the intersection of two sets\n",
        "\n",
        "intersection_set = set1.intersection(set2)  # Intersection of set1 and set2\n",
        "print(f\"Intersection of sets: {intersection_set}\")\n"
      ],
      "metadata": {
        "colab": {
          "base_uri": "https://localhost:8080/"
        },
        "id": "vxhPaHaC8rTo",
        "outputId": "d5722972-7365-49a8-92f8-b36d7ef151cb"
      },
      "execution_count": 10,
      "outputs": [
        {
          "output_type": "stream",
          "name": "stdout",
          "text": [
            "Intersection of sets: {3}\n"
          ]
        }
      ]
    },
    {
      "cell_type": "code",
      "source": [
        "# 11. Find the difference between two sets\n",
        "\n",
        "difference_set = set1.difference(set2)  # Elements in set1 but not in set2\n",
        "print(f\"Difference between sets: {difference_set}\")\n"
      ],
      "metadata": {
        "colab": {
          "base_uri": "https://localhost:8080/"
        },
        "id": "UAExa0uv8rOr",
        "outputId": "323b1b35-85ec-4e1a-dd5f-6691add56fef"
      },
      "execution_count": 11,
      "outputs": [
        {
          "output_type": "stream",
          "name": "stdout",
          "text": [
            "Difference between sets: {1, 2}\n"
          ]
        }
      ]
    },
    {
      "cell_type": "code",
      "source": [
        "# 12. Check if a set is a subset of another set\n",
        "\n",
        "is_subset = {1, 2}.issubset(set1)  # Checks if {1, 2} is a subset of set1\n",
        "print(f\"Is {1, 2} a subset of set1? {is_subset}\")\n"
      ],
      "metadata": {
        "colab": {
          "base_uri": "https://localhost:8080/"
        },
        "id": "UQredmqM-N4d",
        "outputId": "f306e813-55c7-494b-f29d-cd6fdefaddf0"
      },
      "execution_count": 12,
      "outputs": [
        {
          "output_type": "stream",
          "name": "stdout",
          "text": [
            "Is (1, 2) a subset of set1? True\n"
          ]
        }
      ]
    },
    {
      "cell_type": "code",
      "source": [
        "# 13. Check if a set is a superset of another set\n",
        "\n",
        "is_superset = set1.issuperset({1, 2})  # Checks if set1 is a superset of {1, 2}\n",
        "print(f\"Is set1 a superset of {1, 2}? {is_superset}\")\n"
      ],
      "metadata": {
        "colab": {
          "base_uri": "https://localhost:8080/"
        },
        "id": "sEgdbi_1-RnN",
        "outputId": "c9b34b98-5c9e-47e7-bba7-e1c6e1f8c5d2"
      },
      "execution_count": 13,
      "outputs": [
        {
          "output_type": "stream",
          "name": "stdout",
          "text": [
            "Is set1 a superset of (1, 2)? True\n"
          ]
        }
      ]
    },
    {
      "cell_type": "code",
      "source": [
        "# 14. Create a set from a list\n",
        "\n",
        "my_list = [1, 2, 3, 4, 4, 5]\n",
        "set_from_list = set(my_list)  # Creates a set from the list\n",
        "print(f\"Set from list: {set_from_list}\")\n"
      ],
      "metadata": {
        "colab": {
          "base_uri": "https://localhost:8080/"
        },
        "id": "drP7w_Cp-RiT",
        "outputId": "22b5f01a-5592-4345-8938-b282e51cba9a"
      },
      "execution_count": 14,
      "outputs": [
        {
          "output_type": "stream",
          "name": "stdout",
          "text": [
            "Set from list: {1, 2, 3, 4, 5}\n"
          ]
        }
      ]
    },
    {
      "cell_type": "code",
      "source": [
        "# 15. Convert a set to a list\n",
        "\n",
        "list_from_set = list(set_from_list)  # Converts the set to a list\n",
        "print(f\"List from set: {list_from_set}\")\n"
      ],
      "metadata": {
        "colab": {
          "base_uri": "https://localhost:8080/"
        },
        "id": "G5EcWuzs-RdZ",
        "outputId": "072afdbc-d018-4df4-c055-374e524412b8"
      },
      "execution_count": 15,
      "outputs": [
        {
          "output_type": "stream",
          "name": "stdout",
          "text": [
            "List from set: [1, 2, 3, 4, 5]\n"
          ]
        }
      ]
    },
    {
      "cell_type": "code",
      "source": [
        "# 16. Remove a random element from a set\n",
        "\n",
        "import random\n",
        "my_set = {1, 2, 3, 4, 5}\n",
        "random_element = random.choice(list(my_set))  # Selects a random element\n",
        "my_set.remove(random_element)  # Removes the randomly selected element\n",
        "print(f\"Set after removing random element {random_element}: {my_set}\")\n"
      ],
      "metadata": {
        "colab": {
          "base_uri": "https://localhost:8080/"
        },
        "id": "RY58cklM-RZ7",
        "outputId": "8186b359-d366-46fb-b1a8-e270f6de4cd8"
      },
      "execution_count": 16,
      "outputs": [
        {
          "output_type": "stream",
          "name": "stdout",
          "text": [
            "Set after removing random element 3: {1, 2, 4, 5}\n"
          ]
        }
      ]
    },
    {
      "cell_type": "code",
      "source": [
        "# 17. Pop an element from a set\n",
        "\n",
        "popped_element = my_set.pop()  # Pops a random element (since sets are unordered)\n",
        "print(f\"Popped element: {popped_element}\")\n",
        "print(f\"Set after popping: {my_set}\")\n"
      ],
      "metadata": {
        "colab": {
          "base_uri": "https://localhost:8080/"
        },
        "id": "spptoy0E-ROs",
        "outputId": "978dfea1-af67-4680-b785-d9a4a7cf11cb"
      },
      "execution_count": 17,
      "outputs": [
        {
          "output_type": "stream",
          "name": "stdout",
          "text": [
            "Popped element: 1\n",
            "Set after popping: {2, 4, 5}\n"
          ]
        }
      ]
    },
    {
      "cell_type": "code",
      "source": [
        "# 18. Check if two sets have no elements in common\n",
        "\n",
        "set1 = {1, 2, 3}\n",
        "set2 = {4, 5, 6}\n",
        "are_disjoint = set1.isdisjoint(set2)  # Checks if the sets have no elements in common\n",
        "print(f\"Do set1 and set2 have no elements in common? {are_disjoint}\")\n"
      ],
      "metadata": {
        "colab": {
          "base_uri": "https://localhost:8080/"
        },
        "id": "wZwG4twJ-_6p",
        "outputId": "bd37dd69-5895-47c0-fa0a-0c205f7aa3e6"
      },
      "execution_count": 18,
      "outputs": [
        {
          "output_type": "stream",
          "name": "stdout",
          "text": [
            "Do set1 and set2 have no elements in common? True\n"
          ]
        }
      ]
    },
    {
      "cell_type": "code",
      "source": [
        "# 19. Find the symmetric difference between two sets\n",
        "\n",
        "symmetric_diff = set1.symmetric_difference(set2)  # Elements that are in either set1 or set2 but not both\n",
        "print(f\"Symmetric difference: {symmetric_diff}\")\n"
      ],
      "metadata": {
        "colab": {
          "base_uri": "https://localhost:8080/"
        },
        "id": "_0FR37m7-_2Y",
        "outputId": "ada40adf-c5e4-4e36-b0ba-d0aba1652883"
      },
      "execution_count": 19,
      "outputs": [
        {
          "output_type": "stream",
          "name": "stdout",
          "text": [
            "Symmetric difference: {1, 2, 3, 4, 5, 6}\n"
          ]
        }
      ]
    },
    {
      "cell_type": "code",
      "source": [
        "# 20. Update a set with elements from another set\n",
        "\n",
        "set1.update(set2)  # Updates set1 with elements from set2\n",
        "print(f\"Set1 after updating with set2: {set1}\")\n"
      ],
      "metadata": {
        "colab": {
          "base_uri": "https://localhost:8080/"
        },
        "id": "SlH0kxjM-_yA",
        "outputId": "613949dc-7c3d-4b8c-86dd-d8968537a475"
      },
      "execution_count": 20,
      "outputs": [
        {
          "output_type": "stream",
          "name": "stdout",
          "text": [
            "Set1 after updating with set2: {1, 2, 3, 4, 5, 6}\n"
          ]
        }
      ]
    },
    {
      "cell_type": "code",
      "source": [
        "# 21. Create a set of the first 5 prime numbers\n",
        "\n",
        "prime_set = {2, 3, 5, 7, 11}\n",
        "print(f\"Set of first 5 prime numbers: {prime_set}\")\n"
      ],
      "metadata": {
        "colab": {
          "base_uri": "https://localhost:8080/"
        },
        "id": "pO8HXeW_-_uD",
        "outputId": "2139a8da-1599-4707-ff86-0b0029fefcab"
      },
      "execution_count": 21,
      "outputs": [
        {
          "output_type": "stream",
          "name": "stdout",
          "text": [
            "Set of first 5 prime numbers: {2, 3, 5, 7, 11}\n"
          ]
        }
      ]
    },
    {
      "cell_type": "code",
      "source": [
        "# 22. Check if two sets are identical\n",
        "\n",
        "set3 = {2, 3, 5, 7, 11}\n",
        "are_identical = prime_set == set3  # Checks if both sets are identical\n",
        "print(f\"Are the sets identical? {are_identical}\")\n"
      ],
      "metadata": {
        "colab": {
          "base_uri": "https://localhost:8080/"
        },
        "id": "8zjkjhgF-_nu",
        "outputId": "6743233f-7e63-46c5-f86f-0a213207725e"
      },
      "execution_count": 22,
      "outputs": [
        {
          "output_type": "stream",
          "name": "stdout",
          "text": [
            "Are the sets identical? True\n"
          ]
        }
      ]
    },
    {
      "cell_type": "code",
      "source": [
        "# 23. Create a frozen set\n",
        "\n",
        "frozen_set = frozenset([1, 2, 3, 4, 5])  # Creates an immutable set (frozenset)\n",
        "print(f\"Frozen set: {frozen_set}\")\n"
      ],
      "metadata": {
        "colab": {
          "base_uri": "https://localhost:8080/"
        },
        "id": "BVvpMIITAG8E",
        "outputId": "03c5554f-3085-44b0-a243-b0a9a5135cc7"
      },
      "execution_count": 23,
      "outputs": [
        {
          "output_type": "stream",
          "name": "stdout",
          "text": [
            "Frozen set: frozenset({1, 2, 3, 4, 5})\n"
          ]
        }
      ]
    },
    {
      "cell_type": "code",
      "source": [
        "# 24. Check if a set is disjoint with another set\n",
        "\n",
        "is_disjoint = set1.isdisjoint(set2)  # Checks if the sets have no common elements\n",
        "print(f\"Are the sets disjoint? {is_disjoint}\")\n"
      ],
      "metadata": {
        "colab": {
          "base_uri": "https://localhost:8080/"
        },
        "id": "mbSPWYViAG3s",
        "outputId": "04da39de-835c-4e50-c2f5-52d4aa7d4f3b"
      },
      "execution_count": 24,
      "outputs": [
        {
          "output_type": "stream",
          "name": "stdout",
          "text": [
            "Are the sets disjoint? False\n"
          ]
        }
      ]
    },
    {
      "cell_type": "code",
      "source": [
        "# 25. Create a set of squares of numbers from 1 to 5\n",
        "\n",
        "squares_set = {i ** 2 for i in range(1, 6)}  # Creates a set of squares\n",
        "print(f\"Set of squares: {squares_set}\")\n",
        "\n"
      ],
      "metadata": {
        "colab": {
          "base_uri": "https://localhost:8080/"
        },
        "id": "egwHZwL7AGzS",
        "outputId": "284e5053-e7ec-422b-d60d-81f01da398ed"
      },
      "execution_count": 25,
      "outputs": [
        {
          "output_type": "stream",
          "name": "stdout",
          "text": [
            "Set of squares: {1, 4, 9, 16, 25}\n"
          ]
        }
      ]
    },
    {
      "cell_type": "code",
      "source": [
        "# 26. Filter out all even numbers from a set\n",
        "\n",
        "numbers_set = {1, 2, 3, 4, 5, 6}\n",
        "odd_numbers_set = {i for i in numbers_set if i % 2 != 0}  # Filters out even numbers\n",
        "print(f\"Set with only odd numbers: {odd_numbers_set}\")\n"
      ],
      "metadata": {
        "colab": {
          "base_uri": "https://localhost:8080/"
        },
        "id": "W1X3-EHVAGu-",
        "outputId": "be9f1ec9-0662-4e82-8ef7-b78b81cfd653"
      },
      "execution_count": 26,
      "outputs": [
        {
          "output_type": "stream",
          "name": "stdout",
          "text": [
            "Set with only odd numbers: {1, 3, 5}\n"
          ]
        }
      ]
    },
    {
      "cell_type": "code",
      "source": [
        "# 27. Multiply all elements in a set by 2\n",
        "\n",
        "multiplied_set = {i * 2 for i in numbers_set}  # Multiplies all elements by 2\n",
        "print(f\"Set with elements multiplied by 2: {multiplied_set}\")\n"
      ],
      "metadata": {
        "colab": {
          "base_uri": "https://localhost:8080/"
        },
        "id": "7apoqiz4AGrZ",
        "outputId": "0fca42df-ba03-4085-f509-0323ad9a4a0a"
      },
      "execution_count": 27,
      "outputs": [
        {
          "output_type": "stream",
          "name": "stdout",
          "text": [
            "Set with elements multiplied by 2: {2, 4, 6, 8, 10, 12}\n"
          ]
        }
      ]
    },
    {
      "cell_type": "code",
      "source": [
        "# 28. Create a set of random numbers\n",
        "\n",
        "random_set = {random.randint(1, 100) for _ in range(5)}  # Creates a set of 5 random numbers\n",
        "print(f\"Set of random numbers: {random_set}\")\n"
      ],
      "metadata": {
        "colab": {
          "base_uri": "https://localhost:8080/"
        },
        "id": "KD-Gc8M7AGnG",
        "outputId": "faf22692-2609-47f3-9df9-62ec388d17ec"
      },
      "execution_count": 28,
      "outputs": [
        {
          "output_type": "stream",
          "name": "stdout",
          "text": [
            "Set of random numbers: {71, 80, 50, 53, 85}\n"
          ]
        }
      ]
    },
    {
      "cell_type": "code",
      "source": [
        "# 29. Check if a set is empty\n",
        "\n",
        "empty_set = set()\n",
        "is_empty = len(empty_set) == 0  # Checks if the set is empty\n",
        "print(f\"Is the set empty? {is_empty}\")\n"
      ],
      "metadata": {
        "colab": {
          "base_uri": "https://localhost:8080/"
        },
        "id": "XSFP5m3aAGhT",
        "outputId": "31cebb08-bb44-448b-fd24-b1c5e6915cae"
      },
      "execution_count": 29,
      "outputs": [
        {
          "output_type": "stream",
          "name": "stdout",
          "text": [
            "Is the set empty? True\n"
          ]
        }
      ]
    },
    {
      "cell_type": "code",
      "source": [
        "# 30. Create a nested set (hint: use frozenset)\n",
        "\n",
        "nested_set = {frozenset([1, 2]), frozenset([3, 4])}  # Creates a set of frozensets (immutable sets)\n",
        "print(f\"Nested set: {nested_set}\")\n"
      ],
      "metadata": {
        "colab": {
          "base_uri": "https://localhost:8080/"
        },
        "id": "oGar3BhOBSLB",
        "outputId": "5de191ff-9b0f-4eff-b549-190331858105"
      },
      "execution_count": 30,
      "outputs": [
        {
          "output_type": "stream",
          "name": "stdout",
          "text": [
            "Nested set: {frozenset({3, 4}), frozenset({1, 2})}\n"
          ]
        }
      ]
    },
    {
      "cell_type": "code",
      "source": [
        "# 31. Remove an element from a set using the discard method\n",
        "\n",
        "my_set = {1, 2, 3, 4, 5}\n",
        "my_set.discard(3)  # Removes element 3, no error if the element doesn't exist\n",
        "print(f\"Set after discarding 3: {my_set}\")\n"
      ],
      "metadata": {
        "colab": {
          "base_uri": "https://localhost:8080/"
        },
        "id": "t3p2g457BSGa",
        "outputId": "72b40664-3a7a-4305-8b97-9cc1843ced62"
      },
      "execution_count": 31,
      "outputs": [
        {
          "output_type": "stream",
          "name": "stdout",
          "text": [
            "Set after discarding 3: {1, 2, 4, 5}\n"
          ]
        }
      ]
    },
    {
      "cell_type": "code",
      "source": [
        "# 32. Compare two sets\n",
        "\n",
        "set1 = {1, 2, 3}\n",
        "set2 = {3, 4, 5}\n",
        "comparison = set1 == set2  # Compares if the two sets are equal\n",
        "print(f\"Are the two sets equal? {comparison}\")\n"
      ],
      "metadata": {
        "colab": {
          "base_uri": "https://localhost:8080/"
        },
        "id": "4XU4qjVABSB5",
        "outputId": "624c93a3-c16a-4388-a190-955592bd83f2"
      },
      "execution_count": 32,
      "outputs": [
        {
          "output_type": "stream",
          "name": "stdout",
          "text": [
            "Are the two sets equal? False\n"
          ]
        }
      ]
    },
    {
      "cell_type": "code",
      "source": [
        "# 33. Create a set from a string\n",
        "\n",
        "my_string = \"hello\"\n",
        "string_set = set(my_string)  # Creates a set of unique characters from the string\n",
        "print(f\"Set from string: {string_set}\")\n"
      ],
      "metadata": {
        "colab": {
          "base_uri": "https://localhost:8080/"
        },
        "id": "JzbonFsxBR8V",
        "outputId": "ef884786-663b-403d-9ffc-a1b8e9cf5826"
      },
      "execution_count": 33,
      "outputs": [
        {
          "output_type": "stream",
          "name": "stdout",
          "text": [
            "Set from string: {'o', 'e', 'l', 'h'}\n"
          ]
        }
      ]
    },
    {
      "cell_type": "code",
      "source": [
        "# 34. Convert a set of strings to a set of integers\n",
        "\n",
        "string_set = {\"1\", \"2\", \"3\"}\n",
        "int_set = {int(i) for i in string_set}  # Converts set of strings to integers\n",
        "print(f\"Set of integers: {int_set}\")\n"
      ],
      "metadata": {
        "colab": {
          "base_uri": "https://localhost:8080/"
        },
        "id": "fFhDzjItCIKs",
        "outputId": "e24f4aae-d3da-41a6-e607-77d5c964b5c5"
      },
      "execution_count": 35,
      "outputs": [
        {
          "output_type": "stream",
          "name": "stdout",
          "text": [
            "Set of integers: {1, 2, 3}\n"
          ]
        }
      ]
    },
    {
      "cell_type": "code",
      "source": [
        "# 35. Convert a set of integers to a set of strings\n",
        "\n",
        "int_set = {1, 2, 3}\n",
        "string_set = {str(i) for i in int_set}  # Converts set of integers to strings\n",
        "print(f\"Set of strings: {string_set}\")\n"
      ],
      "metadata": {
        "colab": {
          "base_uri": "https://localhost:8080/"
        },
        "id": "s-2KmN1BCIE3",
        "outputId": "956dacb1-8d33-4005-8632-5fd7b6a0411c"
      },
      "execution_count": 36,
      "outputs": [
        {
          "output_type": "stream",
          "name": "stdout",
          "text": [
            "Set of strings: {'3', '1', '2'}\n"
          ]
        }
      ]
    },
    {
      "cell_type": "code",
      "source": [
        "# 36. Create a set from a tuple\n",
        "\n",
        "my_tuple = (1, 2, 3, 4)\n",
        "tuple_set = set(my_tuple)  # Converts a tuple to a set\n",
        "print(f\"Set from tuple: {tuple_set}\")\n"
      ],
      "metadata": {
        "colab": {
          "base_uri": "https://localhost:8080/"
        },
        "id": "TnSgFXhFCIAE",
        "outputId": "4f1966ca-27c4-4b3b-8e3f-71bf7c7f2ea2"
      },
      "execution_count": 1,
      "outputs": [
        {
          "output_type": "stream",
          "name": "stdout",
          "text": [
            "Set from tuple: {1, 2, 3, 4}\n"
          ]
        }
      ]
    },
    {
      "cell_type": "code",
      "source": [
        "# 37. Convert a set to a tuple\n",
        "\n",
        "set_to_tuple = tuple(tuple_set)  # Converts a set to a tuple\n",
        "print(f\"Tuple from set: {set_to_tuple}\")\n"
      ],
      "metadata": {
        "colab": {
          "base_uri": "https://localhost:8080/"
        },
        "id": "_5pv5IIZCH7M",
        "outputId": "16674f86-e741-4993-eb59-3bc1de6723b4"
      },
      "execution_count": 2,
      "outputs": [
        {
          "output_type": "stream",
          "name": "stdout",
          "text": [
            "Tuple from set: (1, 2, 3, 4)\n"
          ]
        }
      ]
    },
    {
      "cell_type": "code",
      "source": [
        "# 38. Find the maximum value in a set\n",
        "\n",
        "max_value = max(tuple_set)  # Finds the maximum value in the set\n",
        "print(f\"Maximum value: {max_value}\")\n"
      ],
      "metadata": {
        "colab": {
          "base_uri": "https://localhost:8080/"
        },
        "id": "GgPca2JYCH0U",
        "outputId": "9c161b2b-d607-494a-edb7-040efd8d5624"
      },
      "execution_count": 3,
      "outputs": [
        {
          "output_type": "stream",
          "name": "stdout",
          "text": [
            "Maximum value: 4\n"
          ]
        }
      ]
    },
    {
      "cell_type": "code",
      "source": [
        "# 39. Find the minimum value in a set\n",
        "\n",
        "min_value = min(tuple_set)  # Finds the minimum value in the set\n",
        "print(f\"Minimum value: {min_value}\")\n"
      ],
      "metadata": {
        "colab": {
          "base_uri": "https://localhost:8080/"
        },
        "id": "oBofVXnu2y5v",
        "outputId": "9cd8dad3-40bc-4c71-88c0-9f56fda2b8a1"
      },
      "execution_count": 4,
      "outputs": [
        {
          "output_type": "stream",
          "name": "stdout",
          "text": [
            "Minimum value: 1\n"
          ]
        }
      ]
    },
    {
      "cell_type": "code",
      "source": [
        "# 40. Create a set from user input\n",
        "\n",
        "user_input = input(\"Enter values separated by spaces: \")\n",
        "user_set = set(user_input.split())  # Creates a set from the user input\n",
        "print(f\"Set from user input: {user_set}\")\n"
      ],
      "metadata": {
        "colab": {
          "base_uri": "https://localhost:8080/"
        },
        "id": "V0o9mHUv2y0s",
        "outputId": "33e48bd6-abc5-4ae1-b56d-115c73b66787"
      },
      "execution_count": 5,
      "outputs": [
        {
          "output_type": "stream",
          "name": "stdout",
          "text": [
            "Enter values separated by spaces: 55\n",
            "Set from user input: {'55'}\n"
          ]
        }
      ]
    },
    {
      "cell_type": "code",
      "source": [
        "# 41. Check if the intersection of two sets is empty\n",
        "\n",
        "set1 = {1, 2, 3}\n",
        "set2 = {4, 5, 6}\n",
        "intersection_empty = set1.isdisjoint(set2)  # Checks if the intersection is empty\n",
        "print(f\"Is the intersection empty? {intersection_empty}\")\n"
      ],
      "metadata": {
        "colab": {
          "base_uri": "https://localhost:8080/"
        },
        "id": "GrqoiPtK2yv9",
        "outputId": "69eb99b9-24c7-467b-93ae-f93eb9f44737"
      },
      "execution_count": 6,
      "outputs": [
        {
          "output_type": "stream",
          "name": "stdout",
          "text": [
            "Is the intersection empty? True\n"
          ]
        }
      ]
    },
    {
      "cell_type": "code",
      "source": [
        "# 42. Create a set of the first 5 Fibonacci numbers\n",
        "\n",
        "def fibonacci(n):\n",
        "    fib_seq = [0, 1]\n",
        "    while len(fib_seq) < n:\n",
        "        fib_seq.append(fib_seq[-1] + fib_seq[-2])\n",
        "    return set(fib_seq[:n])\n",
        "\n",
        "fibonacci_set = fibonacci(5)\n",
        "print(f\"Fibonacci set: {fibonacci_set}\")\n"
      ],
      "metadata": {
        "colab": {
          "base_uri": "https://localhost:8080/"
        },
        "id": "8GK1VrO-2yrp",
        "outputId": "7520b9fe-d0dc-4d6b-fa3c-576794b9224d"
      },
      "execution_count": 7,
      "outputs": [
        {
          "output_type": "stream",
          "name": "stdout",
          "text": [
            "Fibonacci set: {0, 1, 2, 3}\n"
          ]
        }
      ]
    },
    {
      "cell_type": "code",
      "source": [
        "# 43. Remove duplicates from a list using sets\n",
        "\n",
        "my_list = [1, 2, 2, 3, 4, 4, 5]\n",
        "unique_list = list(set(my_list))  # Removes duplicates by converting to a set and back to a list\n",
        "print(f\"List without duplicates: {unique_list}\")\n"
      ],
      "metadata": {
        "colab": {
          "base_uri": "https://localhost:8080/"
        },
        "id": "zBw4ET3b2ynL",
        "outputId": "5a8e1a36-9f0e-4bbd-dede-3fa7132bc6f5"
      },
      "execution_count": 8,
      "outputs": [
        {
          "output_type": "stream",
          "name": "stdout",
          "text": [
            "List without duplicates: [1, 2, 3, 4, 5]\n"
          ]
        }
      ]
    },
    {
      "cell_type": "code",
      "source": [
        "# 44. Check if two sets have the same elements, regardless of their count\n",
        "\n",
        "set1 = {1, 2, 3}\n",
        "set2 = {3, 1, 2}\n",
        "are_identical = set1 == set2  # Compares if the sets have the same elements\n",
        "print(f\"Do the sets have the same elements? {are_identical}\")\n"
      ],
      "metadata": {
        "colab": {
          "base_uri": "https://localhost:8080/"
        },
        "id": "-SaSEg9D2yiw",
        "outputId": "80e7b4a8-96fc-46ec-d034-545f37110fd9"
      },
      "execution_count": 9,
      "outputs": [
        {
          "output_type": "stream",
          "name": "stdout",
          "text": [
            "Do the sets have the same elements? True\n"
          ]
        }
      ]
    },
    {
      "cell_type": "code",
      "source": [
        "# 45. Create a set of the first n powers of 2\n",
        "\n",
        "n = 5\n",
        "powers_of_two_set = {2 ** i for i in range(n)}\n",
        "print(f\"Set of powers of 2: {powers_of_two_set}\")\n"
      ],
      "metadata": {
        "colab": {
          "base_uri": "https://localhost:8080/"
        },
        "id": "k3zZF8Mo31ZP",
        "outputId": "4ae10cd3-2025-4269-99fd-02cd323c0b6e"
      },
      "execution_count": 10,
      "outputs": [
        {
          "output_type": "stream",
          "name": "stdout",
          "text": [
            "Set of powers of 2: {1, 2, 4, 8, 16}\n"
          ]
        }
      ]
    },
    {
      "cell_type": "code",
      "source": [
        "# 46. Find the common elements between a set and a list\n",
        "\n",
        "my_list = [1, 2, 6, 7]\n",
        "my_set = {2, 3, 4, 5}\n",
        "common_elements = my_set.intersection(my_list)  # Finds common elements between the set and list\n",
        "print(f\"Common elements: {common_elements}\")\n"
      ],
      "metadata": {
        "colab": {
          "base_uri": "https://localhost:8080/"
        },
        "id": "DGRkXuNS31U3",
        "outputId": "03d7447e-fa1f-431a-96f8-59a1a8c40910"
      },
      "execution_count": 11,
      "outputs": [
        {
          "output_type": "stream",
          "name": "stdout",
          "text": [
            "Common elements: {2}\n"
          ]
        }
      ]
    },
    {
      "cell_type": "code",
      "source": [
        "# 47. Create a set of the first n triangular numbers\n",
        "\n",
        "def triangular_numbers(n):\n",
        "    return {int(i * (i + 1) / 2) for i in range(1, n + 1)}\n",
        "\n",
        "triangular_set = triangular_numbers(5)\n",
        "print(f\"Set of triangular numbers: {triangular_set}\")\n"
      ],
      "metadata": {
        "colab": {
          "base_uri": "https://localhost:8080/"
        },
        "id": "pBiMMbGP31P9",
        "outputId": "2435b373-72ea-4567-da05-cf58454b169b"
      },
      "execution_count": 12,
      "outputs": [
        {
          "output_type": "stream",
          "name": "stdout",
          "text": [
            "Set of triangular numbers: {1, 3, 6, 10, 15}\n"
          ]
        }
      ]
    },
    {
      "cell_type": "code",
      "source": [
        "# 48. Check if a set contains another set as a subset\n",
        "\n",
        "set1 = {1, 2, 3, 4, 5}\n",
        "subset = {2, 3}\n",
        "is_subset = subset.issubset(set1)  # Checks if `subset` is a subset of `set1`\n",
        "print(f\"Is subset a subset of set1? {is_subset}\")\n"
      ],
      "metadata": {
        "colab": {
          "base_uri": "https://localhost:8080/"
        },
        "id": "ZFlFip164kxK",
        "outputId": "b54090cc-b201-44eb-e829-31c3eb21bf09"
      },
      "execution_count": 13,
      "outputs": [
        {
          "output_type": "stream",
          "name": "stdout",
          "text": [
            "Is subset a subset of set1? True\n"
          ]
        }
      ]
    },
    {
      "cell_type": "code",
      "source": [
        "# 49. Create a set of alternating 1s and 0s of length n\n",
        "\n",
        "n = 6\n",
        "alternating_set = {1 if i % 2 == 0 else 0 for i in range(n)}  # Creates a set with alternating 1s and 0s\n",
        "print(f\"Set of alternating 1s and 0s: {alternating_set}\")\n"
      ],
      "metadata": {
        "colab": {
          "base_uri": "https://localhost:8080/"
        },
        "id": "S_5yd6KY4krt",
        "outputId": "ce3489b7-9a7e-4400-d5e3-62687982fb87"
      },
      "execution_count": 14,
      "outputs": [
        {
          "output_type": "stream",
          "name": "stdout",
          "text": [
            "Set of alternating 1s and 0s: {0, 1}\n"
          ]
        }
      ]
    },
    {
      "cell_type": "code",
      "source": [
        "# 50. Merge multiple sets into one\n",
        "\n",
        "set1 = {1, 2, 3}\n",
        "set2 = {4, 5, 6}\n",
        "set3 = {7, 8, 9}\n",
        "merged_set = set1.union(set2, set3)  # Merges multiple sets into one\n",
        "print(f\"Merged set: {merged_set}\")\n"
      ],
      "metadata": {
        "colab": {
          "base_uri": "https://localhost:8080/"
        },
        "id": "E9xzN6C-4klM",
        "outputId": "7981312f-05b0-4493-ed60-52ec64218a20"
      },
      "execution_count": 15,
      "outputs": [
        {
          "output_type": "stream",
          "name": "stdout",
          "text": [
            "Merged set: {1, 2, 3, 4, 5, 6, 7, 8, 9}\n"
          ]
        }
      ]
    }
  ]
}