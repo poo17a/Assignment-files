{
 "cells": [
  {
   "cell_type": "code",
   "execution_count": 2,
   "id": "4b944f55-2e2b-4bfe-b455-cc335d540c9e",
   "metadata": {},
   "outputs": [
    {
     "data": {
      "text/plain": [
       "(2, True)"
      ]
     },
     "execution_count": 2,
     "metadata": {},
     "output_type": "execute_result"
    }
   ],
   "source": [
    "# 1. Given an array, check if it contains any duplicates or not.\n",
    "# Output = True\n",
    "\n",
    "arr = [1, 2, 4, 2, 5, 9]\n",
    "\n",
    "def findDuplicates(arr):\n",
    "  i = 0\n",
    "  while i<len(arr):\n",
    "    j = i+1\n",
    "    while j<len(arr):\n",
    "      if arr[i]==arr[j]:\n",
    "        return arr[i], True  \n",
    "      else:\n",
    "        j = j+1\n",
    "    i = i+1\n",
    "findDuplicates(arr)\n"
   ]
  },
  {
   "cell_type": "code",
   "execution_count": 6,
   "id": "5212abbf-b49b-4d65-b19c-01f5ae4b4707",
   "metadata": {},
   "outputs": [
    {
     "name": "stdout",
     "output_type": "stream",
     "text": [
      "5\n",
      "6\n",
      "7\n",
      "1\n",
      "2\n",
      "3\n",
      "4\n"
     ]
    }
   ],
   "source": [
    "# 2. Given an array and an integer k, rotate the array to the right by k steps.\n",
    "# Output = [5, 6, 7, 1, 2, 3, 4]\n",
    "\n",
    "arr = [1, 2, 3, 4, 5, 6, 7] \n",
    "k = 3\n",
    "for i in range(0, k):  \n",
    "    last = arr[len(arr)-1]  \n",
    "      \n",
    "    for j in range(len(arr)-1, 0, -1):   \n",
    "        arr[j] = arr[j-1]  \n",
    "  \n",
    "    arr[0] = last \n",
    "\n",
    "for i in range(0, len(arr)):\n",
    "    print(arr[i])"
   ]
  },
  {
   "cell_type": "code",
   "execution_count": 7,
   "id": "252b88c5-67fb-4dad-904e-8f5796a45595",
   "metadata": {},
   "outputs": [
    {
     "name": "stdout",
     "output_type": "stream",
     "text": [
      "[12, 9, 7, 5, 4, 2]\n"
     ]
    }
   ],
   "source": [
    "# 3. Reverse the given array in-place, means without using any extra data structure.\n",
    "# Output = [12, 9, 7, 5, 4, 2]\n",
    "\n",
    "arr = [2, 4, 5, 7, 9, 12]\n",
    "\n",
    "arr = [2, 4, 5, 7, 9, 12]\n",
    "n = len(arr)\n",
    "def reversearr(arr, n):\n",
    "    s = 0\n",
    "    e = (n-1)\n",
    "    while s<e:\n",
    "        arr[s], arr[e] = arr[e], arr[s]\n",
    "        s = s+1\n",
    "        e = e-1\n",
    "    return arr\n",
    "print(reversearr(arr, n))"
   ]
  },
  {
   "cell_type": "code",
   "execution_count": 8,
   "id": "5e9d675c-4106-4854-a7f4-2e44cdc54b1a",
   "metadata": {},
   "outputs": [
    {
     "name": "stdout",
     "output_type": "stream",
     "text": [
      "20\n"
     ]
    }
   ],
   "source": [
    "# 4. Given an array of integers, find the maximum element in an array\n",
    "# Output = 20\n",
    "\n",
    "arr = [10, 5, 20, 8, 15]\n",
    "max = arr[0]\n",
    "def maxnumber(arr):\n",
    "  for i in range(len(arr)):\n",
    "    if arr[i]>max:\n",
    "      return arr[i]\n",
    "print(maxnumber(arr))"
   ]
  },
  {
   "cell_type": "code",
   "execution_count": 9,
   "id": "d2943d56-3530-45e6-9332-1776d7786e69",
   "metadata": {},
   "outputs": [
    {
     "name": "stdout",
     "output_type": "stream",
     "text": [
      "[1, 2, 3, 4, 5]\n"
     ]
    }
   ],
   "source": [
    "# 5. Given a sorted array, remove the duplicate element without using any extra data structure.\n",
    "# Output = [1, 2, 3, 4, 5]\n",
    "\n",
    "arr = [1, 1, 2, 2, 2, 3, 3, 4, 4, 4, 5, 5]\n",
    "arr1 = []\n",
    "\n",
    "def remove_duplicates(arr):\n",
    "    i = 0\n",
    "    while i < len(arr):\n",
    "        j = i + 1\n",
    "        while j < len(arr):\n",
    "            if arr[i] == arr[j]:\n",
    "                arr.pop(j)\n",
    "            else:\n",
    "                j += 1\n",
    "        arr1.append(arr[i])\n",
    "        i += 1\n",
    "\n",
    "remove_duplicates(arr)\n",
    "print(arr1)"
   ]
  }
 ],
 "metadata": {
  "kernelspec": {
   "display_name": "Python 3 (ipykernel)",
   "language": "python",
   "name": "python3"
  },
  "language_info": {
   "codemirror_mode": {
    "name": "ipython",
    "version": 3
   },
   "file_extension": ".py",
   "mimetype": "text/x-python",
   "name": "python",
   "nbconvert_exporter": "python",
   "pygments_lexer": "ipython3",
   "version": "3.10.8"
  }
 },
 "nbformat": 4,
 "nbformat_minor": 5
}
