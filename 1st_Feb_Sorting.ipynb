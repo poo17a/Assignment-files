{
  "nbformat": 4,
  "nbformat_minor": 0,
  "metadata": {
    "colab": {
      "provenance": []
    },
    "kernelspec": {
      "name": "python3",
      "display_name": "Python 3"
    },
    "language_info": {
      "name": "python"
    }
  },
  "cells": [
    {
      "cell_type": "markdown",
      "source": [
        "Problem 1.Given an array of n numbers, give an algorithm which gives the element appearing maximum\n",
        "number of times?"
      ],
      "metadata": {
        "id": "VKiSGDTFZZjV"
      }
    },
    {
      "cell_type": "code",
      "source": [
        "import math as mt\n",
        "\n",
        "arr = [1,2,5,3,5,6,8,5,5,6,5]\n",
        "\n",
        "def frequent_element(arr):\n",
        "  # Insert all elements in Hash\n",
        "  Hash = dict()\n",
        "  for i in range(len(arr)):\n",
        "    if arr[i] in Hash.keys():\n",
        "      Hash[arr[i]] += 1\n",
        "    else:\n",
        "      Hash[arr[i]] = 1\n",
        "\n",
        "  # Find the max frequency\n",
        "  max_count = 0\n",
        "  element_having_max_freq = 0\n",
        "  for i in Hash:\n",
        "    if Hash[i] > max_count:\n",
        "      max_count = Hash[i]\n",
        "      element_having_max_freq = i\n",
        "  return element_having_max_freq"
      ],
      "metadata": {
        "id": "Fv_uY06OZax0"
      },
      "execution_count": 1,
      "outputs": []
    },
    {
      "cell_type": "code",
      "source": [
        "frequent_element(arr)"
      ],
      "metadata": {
        "colab": {
          "base_uri": "https://localhost:8080/"
        },
        "id": "jyeuX3f1wsRt",
        "outputId": "b030cca8-a9b1-483c-d2a5-a3ce8062aa48"
      },
      "execution_count": 2,
      "outputs": [
        {
          "output_type": "execute_result",
          "data": {
            "text/plain": [
              "5"
            ]
          },
          "metadata": {},
          "execution_count": 2
        }
      ]
    },
    {
      "cell_type": "markdown",
      "source": [
        "Problem 2 : We are given a list of n-1 integers and these integers are in the range of 1 to n . There are no duplicates in the list. One of the integers is missing in the list. Give an algorithm to find that element Ex:[1,2,4,6,3,7,8] 5 is the missing num.\n"
      ],
      "metadata": {
        "id": "izPOy2mOn6Ni"
      }
    },
    {
      "cell_type": "code",
      "source": [
        "def missing_num(input_arr):\n",
        "  n = len(input_arr)+1\n",
        "  actual_sum = sum(input_arr)\n",
        "  expected_sum = n*(n+1)//2\n",
        "  return expected_sum - actual_sum\n",
        "\n",
        "# Driver code:\n",
        "input_arr = [1,2,4,6,3,7,8]\n",
        "missing_num =  missing_num(input_arr)\n",
        "print(f\"The missing Number in the array is {missing_num}.\")"
      ],
      "metadata": {
        "id": "uqwcuioJssw0",
        "colab": {
          "base_uri": "https://localhost:8080/"
        },
        "outputId": "2919641d-6044-4f90-e2da-e2062925d220"
      },
      "execution_count": 3,
      "outputs": [
        {
          "output_type": "stream",
          "name": "stdout",
          "text": [
            "The missing Number in the array is 5.\n"
          ]
        }
      ]
    },
    {
      "cell_type": "markdown",
      "source": [
        "Problem 3 : Given an array of n positive numbers. All numbers occurs even number of times except 1 which occurs odd number of times. Find that number in O(n) time and O(1) space. Ex: [1,2,3,2,3,1,3]. 3 is repeats odd times."
      ],
      "metadata": {
        "id": "iDvq0EJlojYW"
      }
    },
    {
      "cell_type": "code",
      "source": [
        "import math as mt\n",
        "\n",
        "def element_occurence_odd_times(arr):\n",
        "  # Insert all elements in Hash\n",
        "  Hash = dict()\n",
        "  for i in range(len(arr)):\n",
        "    if arr[i] in Hash.keys():\n",
        "      Hash[arr[i]] += 1\n",
        "    else:\n",
        "      Hash[arr[i]] = 1\n",
        "\n",
        "  # Find the element with odd frequency\n",
        "\n",
        "  for i in Hash:\n",
        "    if Hash[i]%2 != 0:\n",
        "      return i\n",
        "  return -1\n",
        "\n",
        "# Driver code:\n",
        "arr = [1,2,3,2,3,1,3]\n",
        "result = element_occurence_odd_times(arr)\n",
        "print(f\"Number {result} repeats odd number of times.\")"
      ],
      "metadata": {
        "colab": {
          "base_uri": "https://localhost:8080/"
        },
        "id": "gX2EHYONb5UC",
        "outputId": "889a2756-7754-4277-99a6-9d3e2aa537ee"
      },
      "execution_count": 4,
      "outputs": [
        {
          "output_type": "stream",
          "name": "stdout",
          "text": [
            "Number 3 repeats odd number of times.\n"
          ]
        }
      ]
    },
    {
      "cell_type": "markdown",
      "source": [
        "Problem 4 : Given an array of n elements. Find two elements in the array such that their sum is equal to given element K."
      ],
      "metadata": {
        "id": "8Gfuvp_ApB0C"
      }
    },
    {
      "cell_type": "code",
      "source": [
        "def find_pair_with_sum_k(arr, k):\n",
        "  arr.sort()\n",
        "  left = 0\n",
        "  right = len(arr) - 1\n",
        "  while left < right:\n",
        "    if arr[left] + arr[right] > k:\n",
        "      right -= 1\n",
        "    elif arr[left] + arr[right] < k:\n",
        "      left += 1\n",
        "    else:\n",
        "      print(f\"Values of pair are {arr[left]} and {arr[right]}\")\n",
        "      left += 1\n",
        "      right -= 1\n",
        "\n",
        "# Driver Code:\n",
        "arr = [5, 4, 7, 2, 3, 6]\n",
        "k = 13\n",
        "find_pair_with_sum_k(arr, k)"
      ],
      "metadata": {
        "id": "3ge5X6Fijtvr",
        "colab": {
          "base_uri": "https://localhost:8080/"
        },
        "outputId": "0a71db5d-d00b-4580-a02d-e909e8de1e68"
      },
      "execution_count": 5,
      "outputs": [
        {
          "output_type": "stream",
          "name": "stdout",
          "text": [
            "Values of pair are 6 and 7\n"
          ]
        }
      ]
    },
    {
      "cell_type": "markdown",
      "source": [
        "Problem 5 : Given an array of both positive and negative numbers, find two\n",
        "numbers such that their sum is closest to 0. Ex: [ 1 ,60 ,-10, 70, -80,85]. Ans : -80,85."
      ],
      "metadata": {
        "id": "18-sLbqcpRH0"
      }
    },
    {
      "cell_type": "code",
      "source": [
        "def closest_to_zero_pair(arr):\n",
        "    arr.sort()\n",
        "\n",
        "    left, right = 0, len(arr) - 1\n",
        "    min_sum = float('inf')\n",
        "    result_pair = ()\n",
        "\n",
        "    while left < right:\n",
        "        current_sum = arr[left] + arr[right]\n",
        "\n",
        "        # Update the result if the current pair has a closer sum to zero\n",
        "        if abs(current_sum) < abs(min_sum):\n",
        "            min_sum = current_sum\n",
        "            result_pair = (arr[left], arr[right])\n",
        "\n",
        "        if current_sum < 0:\n",
        "            left += 1\n",
        "        elif current_sum > 0:\n",
        "            right -= 1\n",
        "        else:\n",
        "            return result_pair  # If the sum is exactly zero, return the pair\n",
        "\n",
        "    return result_pair\n",
        "\n",
        "# Example Usage:\n",
        "arr = [1, 60, -10, 70, -80, 85]\n",
        "result = closest_to_zero_pair(arr)\n",
        "print(\"Closest pair to zero:\", result)\n"
      ],
      "metadata": {
        "id": "tW6PEiRjjwWz",
        "colab": {
          "base_uri": "https://localhost:8080/"
        },
        "outputId": "ffa1e718-de42-4000-92c7-e3c54f75fc30"
      },
      "execution_count": 11,
      "outputs": [
        {
          "output_type": "stream",
          "name": "stdout",
          "text": [
            "Closest pair to zero: (-80, 85)\n"
          ]
        }
      ]
    },
    {
      "cell_type": "markdown",
      "source": [
        "Problem 6 : Given an array of n elements. Find three elements such that their sum is equal to the given number."
      ],
      "metadata": {
        "id": "FkDyltrkp0P4"
      }
    },
    {
      "cell_type": "code",
      "source": [
        "def triplet_sum_to_k(arr):\n",
        "  arr.sort()\n",
        "\n",
        "  for i in range(0, len(arr)-2):\n",
        "    left = i+1\n",
        "    right = len(arr)-1\n",
        "    while left < right:\n",
        "      if arr[i] + arr[left] + arr[right] == k:\n",
        "        return arr[i], arr[left], arr[right]\n",
        "      elif arr[i] + arr[left] + arr[right] > k:\n",
        "        right -= 1\n",
        "      else:\n",
        "        left += 1\n",
        "  return()\n",
        "\n",
        "\n",
        "# Driver Code:\n",
        "arr = [47,6,3,8,12,10]\n",
        "k = 28\n",
        "res = triplet_sum_to_k(arr)\n",
        "print(f\"Elements with sum equal to k: {res}\")"
      ],
      "metadata": {
        "colab": {
          "base_uri": "https://localhost:8080/"
        },
        "id": "Qy0IdtnjzHxM",
        "outputId": "3db968ed-7a67-486b-9624-4dbffd5c9ed9"
      },
      "execution_count": 6,
      "outputs": [
        {
          "output_type": "stream",
          "name": "stdout",
          "text": [
            "Elements with sum equal to k: (6, 10, 12)\n"
          ]
        }
      ]
    },
    {
      "cell_type": "markdown",
      "source": [
        "Problem 7 : Given an array of n elements . Find three elements i, j, k in the array such that i * i + j * j = k*k."
      ],
      "metadata": {
        "id": "8ldl5ffZqPC9"
      }
    },
    {
      "cell_type": "code",
      "source": [
        "def find_elements(arr):\n",
        "  arr.sort()\n",
        "\n",
        "  for k in range(len(arr)-1, 1, -1):\n",
        "    j = k-1\n",
        "    i = 0\n",
        "    while (i<j):\n",
        "      sum_of_squares = arr[i]*arr[i] + arr[j]*arr[j]\n",
        "      if sum_of_squares == arr[k]*arr[k]:\n",
        "        return arr[i], arr[j], arr[k]\n",
        "      elif sum_of_squares < arr[k]*arr[k]:\n",
        "        i += 1\n",
        "      else:\n",
        "        j -= 1\n",
        "  return()\n",
        "\n",
        "\n",
        "# Driver Code:\n",
        "arr = [0, 9, 12, 15, 18]\n",
        "res = find_elements(arr)\n",
        "if res:\n",
        "  print(f\"Pythagorean triplet found: {res}\")\n",
        "else:\n",
        "  print(\"No Pythagorean triplet found\")"
      ],
      "metadata": {
        "id": "_M4c6duz5RLg",
        "colab": {
          "base_uri": "https://localhost:8080/"
        },
        "outputId": "0bee47f0-a378-4afc-d9c0-0bcac3402761"
      },
      "execution_count": 7,
      "outputs": [
        {
          "output_type": "stream",
          "name": "stdout",
          "text": [
            "Pythagorean triplet found: (9, 12, 15)\n"
          ]
        }
      ]
    },
    {
      "cell_type": "markdown",
      "source": [
        "Problem 8 : An element is a majority if it appears more than n/2 times. Give an algorithm takes an array of n element as argument and identifies a majority (if it exists)."
      ],
      "metadata": {
        "id": "_z2h659dqkqO"
      }
    },
    {
      "cell_type": "code",
      "source": [
        "def majority_element(arr):\n",
        "  arr.sort()\n",
        "  count = 1\n",
        "  element_in_majority = arr[0]\n",
        "  for i in range(1, len(arr)):\n",
        "    if arr[i] == arr[i-1]:\n",
        "      count += 1\n",
        "      if count > len(arr)//2:\n",
        "        element_in_majority = arr[i]\n",
        "        return element_in_majority\n",
        "    else:\n",
        "      count = 1\n",
        "  return None\n",
        "\n",
        "# Driver code:\n",
        "arr = [5, 7, 7, 5, 7, 5, 7, 7]\n",
        "res = majority_element(arr)\n",
        "print(res)\n",
        "\n",
        "if res:\n",
        "  print(f\"Majority element: {res}\")\n",
        "else:\n",
        "  print(\"No majority element found\")"
      ],
      "metadata": {
        "colab": {
          "base_uri": "https://localhost:8080/"
        },
        "id": "VOe-1LrL5koy",
        "outputId": "173e306a-4b37-422e-e78e-46e587bde4d0"
      },
      "execution_count": 8,
      "outputs": [
        {
          "output_type": "stream",
          "name": "stdout",
          "text": [
            "7\n",
            "Majority element: 7\n"
          ]
        }
      ]
    },
    {
      "cell_type": "markdown",
      "source": [
        "Problem 9 : Given n × n matrix, and in each row all 1’s are followed by 0’s. Find the row with the maximum number of 0’s."
      ],
      "metadata": {
        "id": "Bj0OkxRUq6xX"
      }
    },
    {
      "cell_type": "code",
      "source": [
        "N = 4\n",
        "\n",
        "def findMax (arr):\n",
        "\trow = 0\n",
        "\tj = N - 1\n",
        "\tfor i in range(0,N): # For row\n",
        "\t\twhile (arr[i][j] == 1\n",
        "\t\t\t\t\tand j >= 0):\n",
        "\t\t\trow = i\n",
        "\t\t\tj -= 1\n",
        "\n",
        "\tprint(\"Row number = \" , row + 1,\n",
        "\t\t\", MaxCount = \", N - 1 - j)\n",
        "\n",
        "# driver program\n",
        "arr = [ [0, 0, 0, 1],\n",
        "\t\t[0, 0, 0, 1],\n",
        "\t\t[0, 0, 0, 0],\n",
        "\t\t[0, 1, 1, 1] ]\n",
        "\n",
        "findMax(arr)\n"
      ],
      "metadata": {
        "colab": {
          "base_uri": "https://localhost:8080/"
        },
        "id": "bbGO6veLrDvm",
        "outputId": "8d68a191-8df6-46d3-82ab-4fecc3d8abcf"
      },
      "execution_count": 9,
      "outputs": [
        {
          "output_type": "stream",
          "name": "stdout",
          "text": [
            "Row number =  4 , MaxCount =  3\n"
          ]
        }
      ]
    },
    {
      "cell_type": "markdown",
      "source": [
        "Problem 10 : Sort an array of 0’s, 1’s and 2’s [or R’s, G’s and B’s]: Given an array A[] consisting of 0’s, 1’s and2’s, give an algorithm for sorting A[].The algorithm should put all 0’s first, then all 1’s and finally all 2’s at the\n",
        "end. Example Input = {0,1,1,0,1,2,1,2,0,0,0,1}, Output = {0,0,0,0,0,1,1,1,1,1,2,2}"
      ],
      "metadata": {
        "id": "XkYPym4brTmL"
      }
    },
    {
      "cell_type": "code",
      "source": [
        "def sort012(arr):\n",
        "    low, mid, high = 0, 0, len(arr) - 1\n",
        "\n",
        "    while mid <= high:\n",
        "        if arr[mid] == 0:\n",
        "            arr[low], arr[mid] = arr[mid], arr[low]\n",
        "            low += 1\n",
        "            mid += 1\n",
        "        elif arr[mid] == 1:\n",
        "            mid += 1\n",
        "        else:\n",
        "            arr[mid], arr[high] = arr[high], arr[mid]\n",
        "            high -= 1\n",
        "\n",
        "# Example Usage:\n",
        "arr = [0, 1, 1, 0, 1, 2, 1, 2, 0, 0, 0, 1]\n",
        "sort012(arr)\n",
        "print(\"Sorted Array:\", arr)\n"
      ],
      "metadata": {
        "colab": {
          "base_uri": "https://localhost:8080/"
        },
        "id": "9YgRMYzvrYLa",
        "outputId": "c6189e91-d218-481d-d058-8bd8741b0501"
      },
      "execution_count": 10,
      "outputs": [
        {
          "output_type": "stream",
          "name": "stdout",
          "text": [
            "Sorted Array: [0, 0, 0, 0, 0, 1, 1, 1, 1, 1, 2, 2]\n"
          ]
        }
      ]
    },
    {
      "cell_type": "code",
      "source": [
        "arr = [1, 60, -10, 70, -80, 85]\n",
        "arr.sort()"
      ],
      "metadata": {
        "id": "7pTf2PIcwwDP"
      },
      "execution_count": 12,
      "outputs": []
    },
    {
      "cell_type": "code",
      "source": [
        "arr"
      ],
      "metadata": {
        "colab": {
          "base_uri": "https://localhost:8080/"
        },
        "id": "fzZY7maZxB13",
        "outputId": "2b6c0175-8894-4ab2-9324-96f75e7b3e95"
      },
      "execution_count": 13,
      "outputs": [
        {
          "output_type": "execute_result",
          "data": {
            "text/plain": [
              "[-80, -10, 1, 60, 70, 85]"
            ]
          },
          "metadata": {},
          "execution_count": 13
        }
      ]
    }
  ]
}